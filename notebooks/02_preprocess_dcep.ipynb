{
 "cells": [
  {
   "cell_type": "markdown",
   "metadata": {},
   "source": [
    "## Here, we generate the input data for the neural network\n",
    "* word-level tokenize train, dev and test set with sacremoses\n",
    "* bpe all files with subword-nmt"
   ]
  },
  {
   "cell_type": "markdown",
   "metadata": {},
   "source": [
    "### word-level tokenize L1, L2 and L3 splits"
   ]
  },
  {
   "cell_type": "code",
   "execution_count": 1,
   "metadata": {},
   "outputs": [
    {
     "name": "stdout",
     "output_type": "stream",
     "text": [
      "100%|█████████████████████████████████| 570034/570034 [01:53<00:00, 5024.00it/s]\n",
      "100%|█████████████████████████████████| 570034/570034 [01:42<00:00, 5545.72it/s]\n",
      "100%|██████████████████████████████████████| 2000/2000 [00:02<00:00, 788.88it/s]\n",
      "100%|██████████████████████████████████████| 2000/2000 [00:02<00:00, 885.44it/s]\n",
      "100%|██████████████████████████████████████| 2000/2000 [00:02<00:00, 716.39it/s]\n",
      "100%|██████████████████████████████████████| 2000/2000 [00:02<00:00, 857.26it/s]\n"
     ]
    }
   ],
   "source": [
    "L2_train_en= \"../data/DCEP/01-intermediate/L2_strong/L2_train.en\"\n",
    "L2_train_ro= \"../data/DCEP/01-intermediate/L2_strong/L2_train.ro\"\n",
    "L2_train_en_tok = L2_train_en+\".tok\"\n",
    "L2_train_ro_tok = L2_train_ro+\".tok\"\n",
    "\n",
    "L2_test_en= \"../data/DCEP/01-intermediate/L2_strong/L2_test.en\"\n",
    "L2_test_ro= \"../data/DCEP/01-intermediate/L2_strong/L2_test.ro\"\n",
    "L2_test_en_tok = L2_test_en+\".tok\"\n",
    "L2_test_ro_tok=L2_test_ro+\".tok\"\n",
    "\n",
    "L2_dev_en= \"../data/DCEP/01-intermediate/L2_strong/L2_dev.en\"\n",
    "L2_dev_ro= \"../data/DCEP/01-intermediate/L2_strong/L2_dev.ro\"\n",
    "L2_dev_en_tok = L2_dev_en+\".tok\"\n",
    "L2_dev_ro_tok = L2_dev_ro+\".tok\"\n",
    "\n",
    "! sacremoses -l \"en\" -j 8 tokenize < $L2_train_en > $L2_train_en_tok\n",
    "! sacremoses -l \"ro\" -j 8 tokenize < $L2_train_ro > $L2_train_ro_tok\n",
    "\n",
    "! sacremoses -l \"en\" -j 8 tokenize < $L2_test_en > $L2_test_en_tok\n",
    "! sacremoses -l \"ro\" -j 8 tokenize < $L2_test_ro > $L2_test_ro_tok\n",
    "\n",
    "! sacremoses -l \"en\" -j 8 tokenize < $L2_dev_en > $L2_dev_en_tok\n",
    "! sacremoses -l \"ro\" -j 8 tokenize < $L2_dev_ro > $L2_dev_ro_tok"
   ]
  },
  {
   "cell_type": "code",
   "execution_count": 2,
   "metadata": {},
   "outputs": [
    {
     "name": "stdout",
     "output_type": "stream",
     "text": [
      "100%|█████████████████████████████████| 783895/783895 [02:20<00:00, 5591.07it/s]\n",
      "100%|█████████████████████████████████| 783895/783895 [02:11<00:00, 5974.96it/s]\n"
     ]
    }
   ],
   "source": [
    "L1_train_en= \"../data/DCEP/01-intermediate/L1_basic/L1_train.en\"\n",
    "L1_train_ro= \"../data/DCEP/01-intermediate/L1_basic/L1_train.ro\"\n",
    "\n",
    "L1_train_en_tok = L1_train_en+\".tok\"\n",
    "L1_train_ro_tok = L1_train_ro+\".tok\"\n",
    "\n",
    "! sacremoses -l \"en\" -j 8 tokenize < $L1_train_en > $L1_train_en_tok\n",
    "! sacremoses -l \"ro\" -j 8 tokenize < $L1_train_ro > $L1_train_ro_tok"
   ]
  },
  {
   "cell_type": "code",
   "execution_count": 3,
   "metadata": {},
   "outputs": [
    {
     "name": "stdout",
     "output_type": "stream",
     "text": [
      "100%|█████████████████████████████████| 610480/610480 [01:57<00:00, 5198.60it/s]\n",
      "100%|█████████████████████████████████| 610480/610480 [01:46<00:00, 5730.19it/s]\n"
     ]
    }
   ],
   "source": [
    "L3_train_en= \"../data/DCEP/01-intermediate/L3_intermediate/L3_train.en\"\n",
    "L3_train_ro= \"../data/DCEP/01-intermediate/L3_intermediate/L3_train.ro\"\n",
    "\n",
    "L3_train_en_tok = L3_train_en+\".tok\"\n",
    "L3_train_ro_tok = L3_train_ro+\".tok\"\n",
    "\n",
    "! sacremoses -l \"en\" -j 8 tokenize < $L3_train_en > $L3_train_en_tok\n",
    "! sacremoses -l \"ro\" -j 8 tokenize < $L3_train_ro > $L3_train_ro_tok"
   ]
  },
  {
   "cell_type": "code",
   "execution_count": 4,
   "metadata": {},
   "outputs": [
    {
     "name": "stdout",
     "output_type": "stream",
     "text": [
      "-rw-r----- 1 bernadeta aglandgraf 104717926 29. Aug 23:03 ../data/DCEP/01-intermediate/L3_intermediate/L3_train.en\n",
      "-rw-r----- 1 bernadeta aglandgraf 113034202 29. Aug 23:15 ../data/DCEP/01-intermediate/L3_intermediate/L3_train.en.tok\n",
      "-rw-r----- 1 bernadeta aglandgraf 119346848 29. Aug 23:03 ../data/DCEP/01-intermediate/L3_intermediate/L3_train.ro\n",
      "-rw-r----- 1 bernadeta aglandgraf 126821826 29. Aug 23:16 ../data/DCEP/01-intermediate/L3_intermediate/L3_train.ro.tok\n",
      "   610480 ../data/DCEP/01-intermediate/L3_intermediate/L3_train.en\n",
      "   610480 ../data/DCEP/01-intermediate/L3_intermediate/L3_train.en.tok\n",
      "   610480 ../data/DCEP/01-intermediate/L3_intermediate/L3_train.ro\n",
      "   610480 ../data/DCEP/01-intermediate/L3_intermediate/L3_train.ro.tok\n",
      "  2441920 insgesamt\n",
      "==> ../data/DCEP/01-intermediate/L3_intermediate/L3_train.en <==\n",
      "ORAL QUESTION H-0336/07\n",
      "for Question Time at the part-session in May 2007\n",
      "pursuant to Rule 109 of the Rules of Procedure\n",
      "by\n",
      "to the Council\n",
      "Subject: More active EU involvement in settling unresolved conflicts and measures proposed for 2007\n",
      "\"In the context of the recent exchange of views, held at the March part-session, with High Representative Javier Solana on the priorities for the Union's common foreign and defence policies, a large number of Members stressed, as a major priority for 2007, the need to deal with the problems of security and stability in the Union's eastern neighbourhood, especially via a more active involvement in settling unresolved conflicts and eliminating their consequences.\"\n",
      "What concrete measures will the Council take for the consolidation and further development of the existing efforts in this direction in 2007?\n",
      "\"In this connection, how will the Council take account of the recent Commission communication on Black Sea synergy, which makes direct reference to 'a more active EU role through increased political involvement in ongoing efforts to address the conflicts'?\"\n",
      "ORAL QUESTION H-0431/07\n",
      "\n",
      "==> ../data/DCEP/01-intermediate/L3_intermediate/L3_train.en.tok <==\n",
      "ORAL QUESTION H-0336 / 07\n",
      "for Question Time at the part-session in May 2007\n",
      "pursuant to Rule 109 of the Rules of Procedure\n",
      "by\n",
      "to the Council\n",
      "Subject : More active EU involvement in settling unresolved conflicts and measures proposed for 2007\n",
      "&quot; In the context of the recent exchange of views , held at the March part-session , with High Representative Javier Solana on the priorities for the Union &apos;s common foreign and defence policies , a large number of Members stressed , as a major priority for 2007 , the need to deal with the problems of security and stability in the Union &apos;s eastern neighbourhood , especially via a more active involvement in settling unresolved conflicts and eliminating their consequences . &quot;\n",
      "What concrete measures will the Council take for the consolidation and further development of the existing efforts in this direction in 2007 ?\n",
      "&quot; In this connection , how will the Council take account of the recent Commission communication on Black Sea synergy , which makes direct reference to &apos; a more active EU role through increased political involvement in ongoing efforts to address the conflicts &apos; ? &quot;\n",
      "ORAL QUESTION H-0431 / 07\n",
      "\n",
      "==> ../data/DCEP/01-intermediate/L3_intermediate/L3_train.ro <==\n",
      "ÎNTREBARE ORALĂ H-0336/07\n",
      "pentru timpul afectat întrebărilor din perioada de sesiune mai 2007\n",
      "în conformitate cu articolul 109 din Regulamentul de procedură\n",
      "de\n",
      "Consiliului\n",
      "Subiect: Implicarea mai activă a UE în soluţionarea conflictelor îngheţate şi măsurile prevăzute pentru 2007\n",
      "\"În cadrul recentului schimb de opinii cu Înaltul Reprezentant Javier Solana cu privire la priorităţile Politicii Externe şi de Apărare Comune a UE pentru anul 2007, care a avut loc la şedinţa plenară din martie, necesitatea de a aborda problema securităţii şi stabilităţii în vecinătatea de est a UE, mai ales prin implicarea mai activă în soluţionarea conflictelor îngheţate şi eliminarea consecinţelor acestora, a fost subliniată de către mai mulţi deputaţi ca prioritate majoră pentru 2007.\"\n",
      "Care sunt măsurile concrete pe care Consiliul intenţionează să le întreprindă pentru a consolida şi dezvolta mai departe eforturile în această direcţie în 2007?\n",
      "\"\"\"În acelaşi sens, cum intenţionează Consiliul să ia în considerare Comunicarea recentă a Comisiei Europene despre Sinergia în cadrul Mării Negre, care face referinţă directă la \"\"\"\"implicarea politică sporită a UE în eforturile actuale de abordare a problemei conflictelor\"\"\"\"?\"\"\"\n",
      "ÎNTREBARE ORALĂ H-0431/07\n",
      "\n",
      "==> ../data/DCEP/01-intermediate/L3_intermediate/L3_train.ro.tok <==\n",
      "ÎNTREBARE ORALĂ H-0336 / 07\n",
      "pentru timpul afectat întrebărilor din perioada de sesiune mai 2007\n",
      "în conformitate cu articolul 109 din Regulamentul de procedură\n",
      "de\n",
      "Consiliului\n",
      "Subiect : Implicarea mai activă a UE în soluţionarea conflictelor îngheţate şi măsurile prevăzute pentru 2007\n",
      "&quot; În cadrul recentului schimb de opinii cu Înaltul Reprezentant Javier Solana cu privire la priorităţile Politicii Externe şi de Apărare Comune a UE pentru anul 2007 , care a avut loc la şedinţa plenară din martie , necesitatea de a aborda problema securităţii şi stabilităţii în vecinătatea de est a UE , mai ales prin implicarea mai activă în soluţionarea conflictelor îngheţate şi eliminarea consecinţelor acestora , a fost subliniată de către mai mulţi deputaţi ca prioritate majoră pentru 2007 . &quot;\n",
      "Care sunt măsurile concrete pe care Consiliul intenţionează să le întreprindă pentru a consolida şi dezvolta mai departe eforturile în această direcţie în 2007 ?\n",
      "&quot; &quot; &quot; În acelaşi sens , cum intenţionează Consiliul să ia în considerare Comunicarea recentă a Comisiei Europene despre Sinergia în cadrul Mării Negre , care face referinţă directă la &quot; &quot; &quot; &quot; implicarea politică sporită a UE în eforturile actuale de abordare a problemei conflictelor &quot; &quot; &quot; &quot; ? &quot; &quot; &quot;\n",
      "ÎNTREBARE ORALĂ H-0431 / 07\n"
     ]
    }
   ],
   "source": [
    "!ls -l ../data/DCEP/01-intermediate/L3_intermediate/*\n",
    "!wc -l ../data/DCEP/01-intermediate/L3_intermediate/*\n",
    "!head ../data/DCEP/01-intermediate/L3_intermediate/*\n",
    " "
   ]
  },
  {
   "cell_type": "markdown",
   "metadata": {},
   "source": [
    "###  Learn and apply subword tokenization with subword-nmt, an implementation of byte-pair-encoding for subword splitting"
   ]
  },
  {
   "cell_type": "code",
   "execution_count": 5,
   "metadata": {
    "colab": {
     "base_uri": "https://localhost:8080/"
    },
    "id": "xNnmuetQWx4d",
    "outputId": "f11e2776-df3b-43e1-b924-3bcfa4f6b205"
   },
   "outputs": [],
   "source": [
    "#this bpe_size is recommended for small to medium sized datasets (30K-1.3M)\n",
    "bpe_size=8000\n",
    "\n",
    "#learn the vocab from the bigger training files resulted after basic cleaning\n",
    "#the problem with this approach is that the L1 dataset contains wrong languages, which makes it possible to have wrong translations\n",
    "! subword-nmt learn-joint-bpe-and-vocab --input $L1_train_en_tok $L1_train_ro_tok -s $bpe_size -o bpe.codes.$bpe_size --write-vocabulary vocab.en vocab.ro\n",
    "\n",
    "#apply BPE\n",
    "! subword-nmt apply-bpe -c bpe.codes.$bpe_size --vocabulary vocab.en --vocabulary-threshold 50 < $L1_train_en_tok > L1_train_tok.bpe.en\n",
    "! subword-nmt apply-bpe -c bpe.codes.$bpe_size --vocabulary vocab.ro --vocabulary-threshold 50 < $L1_train_ro_tok > L1_train_tok.bpe.ro\n",
    "\n",
    "! subword-nmt apply-bpe -c bpe.codes.$bpe_size --vocabulary vocab.en --vocabulary-threshold 50 < $L3_train_en_tok > L3_train_tok.bpe.en\n",
    "! subword-nmt apply-bpe -c bpe.codes.$bpe_size --vocabulary vocab.ro --vocabulary-threshold 50 < $L3_train_ro_tok > L3_train_tok.bpe.ro\n",
    "\n",
    "! subword-nmt apply-bpe -c bpe.codes.$bpe_size --vocabulary vocab.en --vocabulary-threshold 50 < $L2_train_en_tok > L2_train_tok.bpe.en\n",
    "! subword-nmt apply-bpe -c bpe.codes.$bpe_size --vocabulary vocab.ro --vocabulary-threshold 50 < $L2_train_ro_tok > L2_train_tok.bpe.ro\n",
    "\n",
    "! subword-nmt apply-bpe -c bpe.codes.$bpe_size --vocabulary vocab.en --vocabulary-threshold 50 < $L2_dev_en_tok > L2_dev_tok.bpe.en\n",
    "! subword-nmt apply-bpe -c bpe.codes.$bpe_size --vocabulary vocab.ro --vocabulary-threshold 50 < $L2_dev_ro_tok > L2_dev_tok.bpe.ro\n",
    "\n",
    "! subword-nmt apply-bpe -c bpe.codes.$bpe_size --vocabulary vocab.en --vocabulary-threshold 50 < $L2_test_en_tok > L2_test_tok.bpe.en\n",
    "! subword-nmt apply-bpe -c bpe.codes.$bpe_size --vocabulary vocab.ro --vocabulary-threshold 50 < $L2_test_ro_tok > L2_test_tok.bpe.ro\n"
   ]
  },
  {
   "cell_type": "code",
   "execution_count": 6,
   "metadata": {
    "colab": {
     "base_uri": "https://localhost:8080/"
    },
    "id": "m9SWFHa0eZky",
    "outputId": "4cebc0e6-81cc-421d-84ce-d7d35e441e53"
   },
   "outputs": [
    {
     "name": "stdout",
     "output_type": "stream",
     "text": [
      "--2021-08-29 23:23:06--  https://raw.githubusercontent.com/joeynmt/joeynmt/master/scripts/build_vocab.py\n",
      "Auflösen des Hostnamen »raw.githubusercontent.com (raw.githubusercontent.com)«... 185.199.109.133, 185.199.111.133, 185.199.110.133, ...\n",
      "Verbindungsaufbau zu raw.githubusercontent.com (raw.githubusercontent.com)|185.199.109.133|:443... verbunden.\n",
      "HTTP-Anforderung gesendet, warte auf Antwort... 200 OK\n",
      "Länge: 2034 (2,0K) [text/plain]\n",
      "In »»build_vocab.py«« speichern.\n",
      "\n",
      "100%[======================================>] 2.034       --.-K/s   in 0s      \n",
      "\n",
      "2021-08-29 23:23:06 (25,8 MB/s) - »»build_vocab.py«« gespeichert [2034/2034]\n",
      "\n"
     ]
    }
   ],
   "source": [
    "! wget https://raw.githubusercontent.com/joeynmt/joeynmt/master/scripts/build_vocab.py\n",
    "\n",
    "! python build_vocab.py L1_train_tok.bpe.en L1_train_tok.bpe.ro --output_path vocab.txt\n"
   ]
  },
  {
   "cell_type": "code",
   "execution_count": 7,
   "metadata": {},
   "outputs": [],
   "source": [
    "from pathlib import Path\n",
    "path_preprocessed=Path(\"../data/DCEP/02-preprocessed/\")\n",
    "path_preprocessed.mkdir(parents=True, exist_ok=True)\n",
    "\n",
    "#move all files to the right destination: in DCEP/02-preporcessed/\n",
    "!mv bpe.codes.8000 ../data/DCEP/02-preprocessed/\n",
    "!mv vocab.en ../data/DCEP/02-preprocessed/\n",
    "!mv vocab.ro ../data/DCEP/02-preprocessed/\n",
    "!mv vocab.txt ../data/DCEP/02-preprocessed/\n",
    "!mv build_vocab.py ../data/DCEP/02-preprocessed/\n",
    "\n",
    "path_preprocessed_L1=Path(\"../data/DCEP/02-preprocessed/L1_basic\")\n",
    "path_preprocessed_L1.mkdir(parents=True, exist_ok=True)\n",
    "\n",
    "!mv L1_train_tok.bpe.en ../data/DCEP/02-preprocessed/L1_basic/\n",
    "!mv L1_train_tok.bpe.ro ../data/DCEP/02-preprocessed/L1_basic/\n",
    "\n",
    "path_preprocessed_L3=Path(\"../data/DCEP/02-preprocessed/L3_intermediate\")\n",
    "path_preprocessed_L3.mkdir(parents=True, exist_ok=True)\n",
    "\n",
    "!mv L3_train_tok.bpe.en ../data/DCEP/02-preprocessed/L3_intermediate/\n",
    "!mv L3_train_tok.bpe.ro ../data/DCEP/02-preprocessed/L3_intermediate/\n",
    "\n",
    "path_preprocessed_L2=Path(\"../data/DCEP/02-preprocessed/L2_strong\")\n",
    "path_preprocessed_L2.mkdir(parents=True, exist_ok=True)\n",
    "\n",
    "!mv L2_train_tok.bpe.en ../data/DCEP/02-preprocessed/L2_strong/\n",
    "!mv L2_train_tok.bpe.ro ../data/DCEP/02-preprocessed/L2_strong/\n",
    "\n",
    "!mv L2_dev_tok.bpe.en ../data/DCEP/02-preprocessed/L2_strong/\n",
    "!mv L2_dev_tok.bpe.ro ../data/DCEP/02-preprocessed/L2_strong/\n",
    "\n",
    "!mv L2_test_tok.bpe.en ../data/DCEP/02-preprocessed/L2_strong/\n",
    "!mv L2_test_tok.bpe.ro ../data/DCEP/02-preprocessed/L2_strong/"
   ]
  },
  {
   "cell_type": "code",
   "execution_count": 8,
   "metadata": {},
   "outputs": [
    {
     "name": "stdout",
     "output_type": "stream",
     "text": [
      "-rw-r----- 1 bernadeta aglandgraf 126775201 29. Aug 23:21 ../data/DCEP/02-preprocessed/L3_intermediate/L3_train_tok.bpe.en\n",
      "-rw-r----- 1 bernadeta aglandgraf 146754756 29. Aug 23:22 ../data/DCEP/02-preprocessed/L3_intermediate/L3_train_tok.bpe.ro\n",
      "   610480 ../data/DCEP/02-preprocessed/L3_intermediate/L3_train_tok.bpe.en\n",
      "   610480 ../data/DCEP/02-preprocessed/L3_intermediate/L3_train_tok.bpe.ro\n",
      "  1220960 insgesamt\n",
      "==> ../data/DCEP/02-preprocessed/L3_intermediate/L3_train_tok.bpe.en <==\n",
      "O@@ RA@@ L QUESTION H-0@@ 3@@ 36 / 07\n",
      "for Question Tim@@ e at the part@@ -@@ session in May 2007\n",
      "pursuant to Rule 10@@ 9 of the Rules of Procedure\n",
      "by\n",
      "to the Council\n",
      "Subject : M@@ ore active EU involvement in sett@@ ling un@@ res@@ ol@@ ved conflic@@ ts and measures proposed for 2007\n",
      "&quot; In the context of the recent exchange of views , held at the March part@@ -@@ session , with High Representative J@@ avi@@ er S@@ ol@@ ana on the priorities for the Union &apos;s common foreign and defence policies , a large number of Members stres@@ sed , as a major priority for 2007 , the need to deal with the problems of security and stability in the Union &apos;s e@@ astern neigh@@ bourhood , especially via a more active involvement in sett@@ ling un@@ res@@ ol@@ ved conflic@@ ts and elimin@@ ating their consequences . &quot;\n",
      "What concrete measures will the Council take for the consolid@@ ation and further development of the existing efforts in this direc@@ tion in 2007 ?\n",
      "&quot; In this connection , how will the Council take account of the recent Commission communication on B@@ lack Sea sy@@ nerg@@ y , which makes direct reference to &apos; a more active EU role through increased political involvement in ongoing efforts to address the conflic@@ ts &apos; ? &quot;\n",
      "O@@ RA@@ L QUESTION H-0@@ 4@@ 31 / 07\n",
      "\n",
      "==> ../data/DCEP/02-preprocessed/L3_intermediate/L3_train_tok.bpe.ro <==\n",
      "ÎNTREBARE OR@@ AL@@ Ă H-0@@ 3@@ 36 / 07\n",
      "pentru timpul afectat întreb@@ ărilor din perioada de sesi@@ une mai 2007\n",
      "în conformitate cu articolul 10@@ 9 din Regulamentul de procedură\n",
      "de\n",
      "Consiliului\n",
      "Subiect : Im@@ plic@@ area mai activă a UE în solu@@ ţion@@ area conflic@@ telor în@@ gh@@ e@@ ţ@@ ate şi măsurile prevăzute pentru 2007\n",
      "&quot; În cadrul rec@@ entului schimb de opinii cu Înal@@ tul Reprezentant J@@ avi@@ er S@@ ol@@ ana cu privire la priori@@ tăţile Poli@@ tici@@ i Extern@@ e şi de A@@ păr@@ are Com@@ une a UE pentru anul 2007 , care a avut loc la şed@@ inţa plen@@ ară din martie , necesitatea de a abord@@ a problema securi@@ tăţii şi stabili@@ tăţii în vecin@@ ă@@ tatea de est a UE , mai ales prin implic@@ area mai activă în solu@@ ţion@@ area conflic@@ telor în@@ gh@@ e@@ ţ@@ ate şi eliminarea consecin@@ ţelor acestora , a fost sublini@@ ată de către mai mul@@ ţi deput@@ aţi ca prioritate major@@ ă pentru 2007 . &quot;\n",
      "C@@ are sunt măsurile concrete pe care Consiliul inten@@ ţion@@ ează să le întreprin@@ dă pentru a consolida şi dezvolt@@ a mai de@@ parte eforturile în această direc@@ ţie în 2007 ?\n",
      "&quot; &quot; &quot; În acelaşi sens , cum inten@@ ţion@@ ează Consiliul să ia în considerare Comunicarea rec@@ entă a Comisiei Europene despre Sin@@ er@@ g@@ ia în cadrul M@@ ării N@@ eg@@ re , care face refer@@ inţă direc@@ tă la &quot; &quot; &quot; &quot; implic@@ area politică spori@@ tă a UE în eforturile actuale de abordare a problem@@ ei conflic@@ telor &quot; &quot; &quot; &quot; ? &quot; &quot; &quot;\n",
      "ÎNTREBARE OR@@ AL@@ Ă H-0@@ 4@@ 31 / 07\n"
     ]
    }
   ],
   "source": [
    "!ls -l ../data/DCEP/02-preprocessed/L3_intermediate/*\n",
    "!wc -l ../data/DCEP/02-preprocessed/L3_intermediate/*\n",
    "!head ../data/DCEP/02-preprocessed/L3_intermediate/*"
   ]
  },
  {
   "cell_type": "code",
   "execution_count": null,
   "metadata": {},
   "outputs": [],
   "source": []
  }
 ],
 "metadata": {
  "colab": {
   "name": "prepare_dcep_new.ipynb",
   "provenance": []
  },
  "interpreter": {
   "hash": "a4916cd12ee39cb2350b6989a6656d6368d271ce25ea714d6ddb0152fb90db1c"
  },
  "kernelspec": {
   "display_name": "ba-env-python3.8",
   "language": "python",
   "name": "ba-env-python3.8"
  },
  "language_info": {
   "codemirror_mode": {
    "name": "ipython",
    "version": 3
   },
   "file_extension": ".py",
   "mimetype": "text/x-python",
   "name": "python",
   "nbconvert_exporter": "python",
   "pygments_lexer": "ipython3",
   "version": "3.8.6"
  }
 },
 "nbformat": 4,
 "nbformat_minor": 1
}
