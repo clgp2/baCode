{
 "cells": [
  {
   "cell_type": "code",
   "execution_count": 8,
   "id": "83fde620",
   "metadata": {},
   "outputs": [
    {
     "name": "stdout",
     "output_type": "stream",
     "text": [
      "sacreBLEU: Found 6 systems.\n",
      "╒══════════════════════════════════════════════════════════════════════════════╤════════╤═════════╤═══════╕\n",
      "│                                                                       \u001b[36mSystem\u001b[0m │  \u001b[36mBLEU\u001b[0m  │  \u001b[36mchrF2\u001b[0m  │  \u001b[36mTER\u001b[0m  │\n",
      "╞══════════════════════════════════════════════════════════════════════════════╪════════╪═════════╪═══════╡\n",
      "│ ../outputs_and_refs_detok/outputs_and_refs_detok_leftout/L1_len140.detok.dev │ 47.31  │  68.39  │ 49.55 │\n",
      "├──────────────────────────────────────────────────────────────────────────────┼────────┼─────────┼───────┤\n",
      "│ ../outputs_and_refs_detok/outputs_and_refs_detok_leftout/L1_len300.detok.dev │ 47.04  │  68.14  │ 50.20 │\n",
      "├──────────────────────────────────────────────────────────────────────────────┼────────┼─────────┼───────┤\n",
      "│ ../outputs_and_refs_detok/outputs_and_refs_detok_leftout/L2_len140.detok.dev │ 51.50  │  72.36  │ 44.97 │\n",
      "├──────────────────────────────────────────────────────────────────────────────┼────────┼─────────┼───────┤\n",
      "│ ../outputs_and_refs_detok/outputs_and_refs_detok_leftout/L2_len300.detok.dev │ 52.09  │  72.89  │ 44.24 │\n",
      "├──────────────────────────────────────────────────────────────────────────────┼────────┼─────────┼───────┤\n",
      "│ ../outputs_and_refs_detok/outputs_and_refs_detok_leftout/L3_len140.detok.dev │ 52.04  │  72.65  │ 44.43 │\n",
      "├──────────────────────────────────────────────────────────────────────────────┼────────┼─────────┼───────┤\n",
      "│ ../outputs_and_refs_detok/outputs_and_refs_detok_leftout/L3_len300.detok.dev │ 52.73  │  73.33  │ 43.82 │\n",
      "╘══════════════════════════════════════════════════════════════════════════════╧════════╧═════════╧═══════╛\n",
      "\n",
      "-----------------\n",
      "Metric signatures\n",
      "-----------------\n",
      " - BLEU       nrefs:1|case:mixed|eff:no|tok:13a|smooth:exp|version:2.0.0\n",
      " - chrF2      nrefs:1|case:mixed|eff:yes|nc:6|nw:0|space:no|version:2.0.0\n",
      " - TER        nrefs:1|case:lc|tok:tercom|norm:no|punct:yes|asian:no|version:2.0.0\n",
      "\u001b[0m"
     ]
    }
   ],
   "source": [
    "!sacrebleu ../outputs_and_refs_detok/outputs_and_refs_detok_leftout/L2_dev_detok_reference.ro -i ../outputs_and_refs_detok/outputs_and_refs_detok_leftout/*.dev -w 2 -m bleu chrf ter"
   ]
  },
  {
   "cell_type": "code",
   "execution_count": 9,
   "id": "1b9e4940",
   "metadata": {},
   "outputs": [
    {
     "name": "stdout",
     "output_type": "stream",
     "text": [
      "sacreBLEU: Found 6 systems.\n",
      "╒═══════════════════════════════════════════════════════════════════════════════╤════════╤═════════╤═══════╕\n",
      "│                                                                        \u001b[36mSystem\u001b[0m │  \u001b[36mBLEU\u001b[0m  │  \u001b[36mchrF2\u001b[0m  │  \u001b[36mTER\u001b[0m  │\n",
      "╞═══════════════════════════════════════════════════════════════════════════════╪════════╪═════════╪═══════╡\n",
      "│ ../outputs_and_refs_detok/outputs_and_refs_detok_leftout/L1_len140.detok.test │ 47.56  │  68.31  │ 49.91 │\n",
      "├───────────────────────────────────────────────────────────────────────────────┼────────┼─────────┼───────┤\n",
      "│ ../outputs_and_refs_detok/outputs_and_refs_detok_leftout/L1_len300.detok.test │ 48.35  │  68.92  │ 49.32 │\n",
      "├───────────────────────────────────────────────────────────────────────────────┼────────┼─────────┼───────┤\n",
      "│ ../outputs_and_refs_detok/outputs_and_refs_detok_leftout/L2_len140.detok.test │ 52.06  │  72.68  │ 44.73 │\n",
      "├───────────────────────────────────────────────────────────────────────────────┼────────┼─────────┼───────┤\n",
      "│ ../outputs_and_refs_detok/outputs_and_refs_detok_leftout/L2_len300.detok.test │ 53.65  │  73.86  │ 43.00 │\n",
      "├───────────────────────────────────────────────────────────────────────────────┼────────┼─────────┼───────┤\n",
      "│ ../outputs_and_refs_detok/outputs_and_refs_detok_leftout/L3_len140.detok.test │ 52.65  │  72.99  │ 44.23 │\n",
      "├───────────────────────────────────────────────────────────────────────────────┼────────┼─────────┼───────┤\n",
      "│ ../outputs_and_refs_detok/outputs_and_refs_detok_leftout/L3_len300.detok.test │ 53.74  │  73.92  │ 43.04 │\n",
      "╘═══════════════════════════════════════════════════════════════════════════════╧════════╧═════════╧═══════╛\n",
      "\n",
      "-----------------\n",
      "Metric signatures\n",
      "-----------------\n",
      " - BLEU       nrefs:1|case:mixed|eff:no|tok:13a|smooth:exp|version:2.0.0\n",
      " - chrF2      nrefs:1|case:mixed|eff:yes|nc:6|nw:0|space:no|version:2.0.0\n",
      " - TER        nrefs:1|case:lc|tok:tercom|norm:no|punct:yes|asian:no|version:2.0.0\n",
      "\u001b[0m"
     ]
    }
   ],
   "source": [
    "!sacrebleu ../outputs_and_refs_detok/outputs_and_refs_detok_leftout/L2_test_detok_reference.ro -i ../outputs_and_refs_detok/outputs_and_refs_detok_leftout/*.test -w 2 -m bleu chrf ter"
   ]
  },
  {
   "cell_type": "code",
   "execution_count": null,
   "id": "c25db375",
   "metadata": {},
   "outputs": [],
   "source": []
  }
 ],
 "metadata": {
  "kernelspec": {
   "display_name": "ba-env-python3.8",
   "language": "python",
   "name": "ba-env-python3.8"
  },
  "language_info": {
   "codemirror_mode": {
    "name": "ipython",
    "version": 3
   },
   "file_extension": ".py",
   "mimetype": "text/x-python",
   "name": "python",
   "nbconvert_exporter": "python",
   "pygments_lexer": "ipython3",
   "version": "3.8.6"
  }
 },
 "nbformat": 4,
 "nbformat_minor": 5
}
