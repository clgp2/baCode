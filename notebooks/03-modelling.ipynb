{
  "cells": [
    {
      "cell_type": "markdown",
      "metadata": {},
      "source": [
        "### POC train and test the model with JoeyNMT"
      ]
    },
    {
      "cell_type": "code",
      "execution_count": 1,
      "metadata": {},
      "outputs": [],
      "source": [
        "import os\n",
        "from pathlib import Path"
      ]
    },
    {
      "cell_type": "code",
      "execution_count": 13,
      "metadata": {},
      "outputs": [],
      "source": [
        "#chnage the config file and the model directory\n",
        "path_to_config_file= \"../JoeyYamlFiles/L2_0308_300.yaml\"\n",
        "path_to_model_dir= \"../models/L2_0308_300/\""
      ]
    },
    {
      "cell_type": "code",
      "execution_count": 15,
      "metadata": {},
      "outputs": [
        {
          "name": "stdout",
          "output_type": "stream",
          "text": [
            "--- Training on CPU ---\n",
            "Traceback (most recent call last):\n",
            "  File \"/usr/lib64/python3.6/runpy.py\", line 193, in _run_module_as_main\n",
            "    \"__main__\", mod_spec)\n",
            "  File \"/usr/lib64/python3.6/runpy.py\", line 85, in _run_code\n",
            "    exec(code, run_globals)\n",
            "  File \"/home/bernadeta/python-venvs/jupyternb-python3.6/lib64/python3.6/site-packages/joeynmt/__main__.py\", line 41, in <module>\n",
            "    main()\n",
            "  File \"/home/bernadeta/python-venvs/jupyternb-python3.6/lib64/python3.6/site-packages/joeynmt/__main__.py\", line 29, in main\n",
            "    train(cfg_file=args.config_path)\n",
            "  File \"/home/bernadeta/python-venvs/jupyternb-python3.6/lib64/python3.6/site-packages/joeynmt/training.py\", line 713, in train\n",
            "    overwrite=cfg[\"training\"].get(\"overwrite\", False))\n",
            "  File \"/home/bernadeta/python-venvs/jupyternb-python3.6/lib64/python3.6/site-packages/joeynmt/helpers.py\", line 42, in make_model_dir\n",
            "    \"Model directory exists and overwriting is disabled.\")\n",
            "FileExistsError: Model directory exists and overwriting is disabled.\n"
          ]
        }
      ],
      "source": [
        "import yaml\n",
        "import torch\n",
        "\n",
        "# Die Konfiguration wird geladen\n",
        "with open(os.path.join(os.pardir,\"JoeyYamlFiles/L2_0308_300.yaml\"), 'r') as file:\n",
        "  config = yaml.safe_load(file)\n",
        "\n",
        "# if GPU available, train on GPU\n",
        "if config[\"training\"][\"use_cuda\"] == True and torch.cuda.is_available() == True:\n",
        "  print(\"--- Training on GPU ---\")\n",
        "  !python -m joeynmt train {path_to_config_file}\n",
        "\n",
        "# no GPU available, switch to CPU\n",
        "else:\n",
        "  config[\"training\"][\"use_cuda\"] = False\n",
        "  with open(os.path.join(os.pardir,\"JoeyYamlFiles/L2_0308_300.yaml\"), 'w') as file:\n",
        "    yaml.dump(config, file)\n",
        "  print(\"--- Training on CPU ---\")\n",
        "  !python -m joeynmt train {path_to_config_file}"
      ]
    },
    {
      "cell_type": "code",
      "execution_count": null,
      "metadata": {},
      "outputs": [],
      "source": [
        "#start predicting with the trained model, predictions are being saved in the models directory\n",
        "!python3 -m joeynmt test {path_to_config_file} --output_path {path_to_model_dir}\n"
      ]
    }
  ],
  "metadata": {
    "colab": {
      "collapsed_sections": [],
      "name": "JoeyNMT_Experiments_DCEP.ipynb",
      "provenance": []
    },
    "interpreter": {
      "hash": "305ba4c0bfa6c4950b3150d2f746463903fc63f82610b86c55e079496940dbc3"
    },
    "kernelspec": {
      "display_name": "Python 3.6.8 64-bit ('jupyternb-python3.6': venv)",
      "name": "python3"
    },
    "language_info": {
      "codemirror_mode": {
        "name": "ipython",
        "version": 3
      },
      "file_extension": ".py",
      "mimetype": "text/x-python",
      "name": "python",
      "nbconvert_exporter": "python",
      "pygments_lexer": "ipython3",
      "version": "3.6.8"
    }
  },
  "nbformat": 4,
  "nbformat_minor": 0
}