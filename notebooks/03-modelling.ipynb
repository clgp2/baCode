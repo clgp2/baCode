{
  "nbformat": 4,
  "nbformat_minor": 0,
  "metadata": {
    "colab": {
      "name": "JoeyNMT_Experiments_DCEP.ipynb",
      "provenance": [],
      "collapsed_sections": []
    },
    "kernelspec": {
      "display_name": "Python 3",
      "name": "python3"
    }
  },
  "cells": [
    {
      "cell_type": "code",
      "metadata": {
        "colab": {
          "base_uri": "https://localhost:8080/"
        },
        "id": "PBeCTqYaXYzo",
        "outputId": "b5a4dfc2-a21a-42ed-88ce-b2abd3dca89b"
      },
      "source": [
        "! git clone https://github.com/joeynmt/joeynmt.git"
      ],
      "execution_count": null,
      "outputs": [
        {
          "output_type": "stream",
          "text": [
            "Cloning into 'joeynmt'...\n",
            "remote: Enumerating objects: 3116, done.\u001b[K\n",
            "remote: Counting objects: 100% (165/165), done.\u001b[K\n",
            "remote: Compressing objects: 100% (79/79), done.\u001b[K\n",
            "remote: Total 3116 (delta 94), reused 135 (delta 86), pack-reused 2951\u001b[K\n",
            "Receiving objects: 100% (3116/3116), 8.09 MiB | 22.14 MiB/s, done.\n",
            "Resolving deltas: 100% (2123/2123), done.\n"
          ],
          "name": "stdout"
        }
      ]
    },
    {
      "cell_type": "code",
      "metadata": {
        "colab": {
          "base_uri": "https://localhost:8080/"
        },
        "id": "_t3E_1Fwug7F",
        "outputId": "f82a874e-0ab8-43cd-c860-c6e273ad17d0"
      },
      "source": [
        "% cd joeynmt/"
      ],
      "execution_count": null,
      "outputs": [
        {
          "output_type": "stream",
          "text": [
            "/content/joeynmt\n"
          ],
          "name": "stdout"
        }
      ]
    },
    {
      "cell_type": "code",
      "metadata": {
        "id": "ZXBPBi6F2RbY"
      },
      "source": [
        "!pip3 install ."
      ],
      "execution_count": null,
      "outputs": []
    },
    {
      "cell_type": "code",
      "metadata": {
        "id": "DGwK90jd2UF1"
      },
      "source": [
        "!pip install torch==1.8.0+cu111 torchvision==0.9.0+cu111 torchaudio==0.8.0 -f https://download.pytorch.org/whl/torch_stable.html"
      ],
      "execution_count": null,
      "outputs": []
    },
    {
      "cell_type": "code",
      "metadata": {
        "colab": {
          "base_uri": "https://localhost:8080/"
        },
        "id": "5BCgw-m63hVi",
        "outputId": "04b2d41a-5825-4dda-a846-e3bfec94ca73"
      },
      "source": [
        "!nvcc --version"
      ],
      "execution_count": null,
      "outputs": [
        {
          "output_type": "stream",
          "text": [
            "nvcc: NVIDIA (R) Cuda compiler driver\n",
            "Copyright (c) 2005-2020 NVIDIA Corporation\n",
            "Built on Wed_Jul_22_19:09:09_PDT_2020\n",
            "Cuda compilation tools, release 11.0, V11.0.221\n",
            "Build cuda_11.0_bu.TC445_37.28845127_0\n"
          ],
          "name": "stdout"
        }
      ]
    },
    {
      "cell_type": "code",
      "metadata": {
        "id": "zPgSA84rkRTS"
      },
      "source": [
        "# create config file for JoeyNMT\n",
        "import time\n",
        "from datetime import datetime\n",
        "t = datetime.now().strftime('%Y-%m-%d %H:%M:%S')\n",
        "\n",
        "name= 'enro'\n",
        "date= t\n",
        "\n",
        "#gdrive_path= os.environ[\"gdrive_path\"]\n",
        "\n",
        "#create the config\n",
        "config = \"\"\"\n",
        "name: \"{name}_transformer\"\n",
        "\n",
        "\n",
        "data:\n",
        "    src: \"en\"\n",
        "    trg: \"ro\"\n",
        "    train: \"/content/drive/MyDrive/data_en_ro/DCEP_EN_RO/clean_train.bpe\"\n",
        "    dev:   \"/content/drive/MyDrive/data_en_ro/DCEP_EN_RO/clean_dev.bpe\"\n",
        "    test:  \"/content/drive/MyDrive/data_en_ro/DCEP_EN_RO/clean_test.bpe\"\n",
        "    level: \"bpe\"\n",
        "    lowercase: False\n",
        "    max_sent_length: 100\n",
        "    src_vocab: \"/content/drive/MyDrive/data_en_ro/DCEP_EN_RO/clean_vocab.txt\"\n",
        "    trg_vocab: \"/content/drive/MyDrive/data_en_ro/DCEP_EN_RO/clean_vocab.txt\"\n",
        "\n",
        "testing:\n",
        "    beam_size: 5\n",
        "    alpha: 1.0\n",
        "\n",
        "training:\n",
        "    load_model: \"/content/drive/MyDrive/Colab Notebooks/BA_Colab_Notebooks/models/enro_dcep_transformer_2021-05-16 18:43:22/best.ckpt\"\n",
        "    random_seed: 42\n",
        "    optimizer: \"adam\"\n",
        "    normalization: \"tokens\"\n",
        "    adam_betas: [0.9, 0.999]\n",
        "    scheduling: \"plateau\"\n",
        "    patience: 8\n",
        "    decrease_factor: 0.7\n",
        "    loss: \"crossentropy\"\n",
        "    learning_rate: 0.0002\n",
        "    learning_rate_min: 0.00000001\n",
        "    weight_decay: 0.0\n",
        "    label_smoothing: 0.1\n",
        "    batch_size: 4096\n",
        "    batch_type: \"token\"\n",
        "    eval_batch_size: 3600\n",
        "    eval_batch_type: \"token\"\n",
        "    batch_multiplier: 1\n",
        "    early_stopping_metric: \"ppl\"\n",
        "    epochs: 100\n",
        "    validation_freq: 1000\n",
        "    logging_freq: 100\n",
        "    eval_metric: \"bleu\"\n",
        "    model_dir: \"/content/drive/MyDrive/Colab\\ Notebooks/BA_Colab_Notebooks/models/{name}_dcep_transformer_{date}/\"\n",
        "    #model_dir: \"/content/drive/MyDrive/Colab Notebooks/BA_Colab_Notebooks/models/enro_dcep_transformer_1\"\n",
        "    overwrite: False\n",
        "    shuffle: True\n",
        "    use_cuda: True\n",
        "    max_output_length: 100\n",
        "    print_valid_sents: [0, 1, 2, 3]\n",
        "    keep_last_ckpts: 5\n",
        "    save_latest_ckpt: True\n",
        "\n",
        "model:\n",
        "    initializer: \"xavier\"\n",
        "    bias_initializer: \"zeros\"\n",
        "    init_gain: 1.0\n",
        "    embed_initializer: \"xavier\"\n",
        "    embed_init_gain: 1.0\n",
        "    tied_embeddings: True\n",
        "    tied_softmax: True\n",
        "    encoder:\n",
        "        type: \"transformer\"\n",
        "        num_layers: 6\n",
        "        num_heads: 8\n",
        "        embeddings:\n",
        "            embedding_dim: 512\n",
        "            scale: True\n",
        "            dropout: 0.\n",
        "        # typically ff_size = 4 x hidden_size\n",
        "        hidden_size: 512\n",
        "        ff_size: 2048\n",
        "        dropout: 0.1\n",
        "    decoder:\n",
        "        type: \"transformer\"\n",
        "        num_layers: 6\n",
        "        num_heads: 8\n",
        "        embeddings:\n",
        "            embedding_dim: 512\n",
        "            scale: True\n",
        "            dropout: 0.\n",
        "        # typically ff_size = 4 x hidden_size\n",
        "        hidden_size: 512\n",
        "        ff_size: 2048\n",
        "        dropout: 0.1\n",
        "\n",
        "\n",
        "\n",
        "\"\"\".format(name=name, date=date)\n",
        "with open(\"/content/joeynmt/configs/transformer_enro_dcep.yaml\", 'w') as f:\n",
        "  f.write(config)"
      ],
      "execution_count": null,
      "outputs": []
    },
    {
      "cell_type": "code",
      "metadata": {
        "id": "P2dg2KTubNrp"
      },
      "source": [
        "# create config file for JoeyNMT\n",
        "import time\n",
        "from datetime import datetime\n",
        "t = datetime.now().strftime('%Y-%m-%d %H:%M:%S')\n",
        "\n",
        "name= 'enro'\n",
        "date= t\n",
        "\n",
        "#gdrive_path= os.environ[\"gdrive_path\"]\n",
        "\n",
        "#create the config\n",
        "config = \"\"\"\n",
        "name: \"bahdanau_dcep_enro\"\n",
        "\n",
        "data:\n",
        "    src: \"en\"\n",
        "    trg: \"ro\"\n",
        "    train: \"/content/drive/MyDrive/data_en_ro/DCEP_EN_RO/clean_train.bpe\"\n",
        "    dev:   \"/content/drive/MyDrive/data_en_ro/DCEP_EN_RO/clean_dev.bpe\"\n",
        "    test:  \"/content/drive/MyDrive/data_en_ro/DCEP_EN_RO/clean_test.bpe\"\n",
        "    level: \"bpe\"\n",
        "    lowercase: False\n",
        "    max_sent_length: 100\n",
        "    src_vocab: \"/content/drive/MyDrive/data_en_ro/DCEP_EN_RO/clean_vocab.txt\"\n",
        "    trg_vocab: \"/content/drive/MyDrive/data_en_ro/DCEP_EN_RO/clean_vocab.txt\"\n",
        "   \n",
        "testing:\n",
        "    beam_size: 10\n",
        "    alpha: 1.0\n",
        "\n",
        "training:\n",
        "    random_seed: 42\n",
        "    optimizer: \"adam\"\n",
        "    learning_rate: 0.001\n",
        "    learning_rate_min: 0.00005\n",
        "    batch_size: 64\n",
        "    scheduling: \"plateau\"\n",
        "    patience: 0\n",
        "    decrease_factor: 0.5\n",
        "    early_stopping_metric: \"ppl\"\n",
        "    epochs: 100\n",
        "    validation_freq: 2359\n",
        "    logging_freq: 500\n",
        "    eval_metric: \"bleu\"\n",
        "    model_dir: \"/content/drive/MyDrive/Colab\\ Notebooks/BA_Colab_Notebooks/models/{name}_{date}/\"\n",
        "    overwrite: False\n",
        "    shuffle: True\n",
        "    use_cuda: True\n",
        "    max_output_length: 100\n",
        "    print_valid_sents: [0, 1, 2]\n",
        "\n",
        "model:\n",
        "    encoder:\n",
        "        rnn_type: \"lstm\"\n",
        "        embeddings: \n",
        "            embedding_dim: 256\n",
        "            scale: False\n",
        "        hidden_size: 256\n",
        "        bidirectional: True\n",
        "        dropout: 0.0\n",
        "        num_layers: 1\n",
        "    decoder:\n",
        "        rnn_type: \"lstm\"\n",
        "        embeddings:\n",
        "            embedding_dim: 256\n",
        "            scale: False\n",
        "        emb_scale: False\n",
        "        hidden_size: 256\n",
        "        dropout: 0.2\n",
        "        hidden_dropout: 0.2\n",
        "        num_layers: 1\n",
        "        input_feeding: True\n",
        "        init_hidden: \"last\"\n",
        "        attention: \"luong\"\n",
        "\n",
        "\n",
        "\"\"\".format(name=name, date=date)\n",
        "with open(\"/content/joeynmt/configs/bahdanau_enro_dcep.yaml\", 'w') as f:\n",
        "  f.write(config)"
      ],
      "execution_count": null,
      "outputs": []
    },
    {
      "cell_type": "code",
      "metadata": {
        "colab": {
          "base_uri": "https://localhost:8080/"
        },
        "id": "Pj1HzX2bIYHd",
        "outputId": "29af7ff3-8554-4f81-a47d-4440c995700d"
      },
      "source": [
        "!python -m joeynmt train /content/joeynmt/configs/bahdanau_enro_dcep.yaml"
      ],
      "execution_count": null,
      "outputs": [
        {
          "output_type": "stream",
          "text": [
            "2021-05-20 16:04:02,391 - INFO - root - Hello! This is Joey-NMT (version 1.3).\n",
            "2021-05-20 16:04:02,422 - INFO - joeynmt.data - Loading training data...\n",
            "2021-05-20 16:04:18,446 - INFO - joeynmt.data - Building vocabulary...\n",
            "2021-05-20 16:04:46,116 - INFO - joeynmt.data - Loading dev data...\n",
            "2021-05-20 16:04:46,353 - INFO - joeynmt.data - Loading test data...\n",
            "2021-05-20 16:04:50,898 - INFO - joeynmt.data - Data loaded.\n",
            "2021-05-20 16:04:50,898 - INFO - joeynmt.model - Building an encoder-decoder model...\n",
            "2021-05-20 16:04:51,571 - INFO - joeynmt.model - Enc-dec model built.\n",
            "2021-05-20 16:04:51.699420: I tensorflow/stream_executor/platform/default/dso_loader.cc:49] Successfully opened dynamic library libcudart.so.11.0\n",
            "2021-05-20 16:04:53,067 - INFO - joeynmt.training - Total params: 32574208\n",
            "2021-05-20 16:04:55,810 - INFO - joeynmt.helpers - cfg.name                           : bahdanau_dcep_enro\n",
            "2021-05-20 16:04:55,811 - INFO - joeynmt.helpers - cfg.data.src                       : en\n",
            "2021-05-20 16:04:55,811 - INFO - joeynmt.helpers - cfg.data.trg                       : ro\n",
            "2021-05-20 16:04:55,811 - INFO - joeynmt.helpers - cfg.data.train                     : /content/drive/MyDrive/data_en_ro/DCEP_EN_RO/clean_train.bpe\n",
            "2021-05-20 16:04:55,811 - INFO - joeynmt.helpers - cfg.data.dev                       : /content/drive/MyDrive/data_en_ro/DCEP_EN_RO/clean_dev.bpe\n",
            "2021-05-20 16:04:55,811 - INFO - joeynmt.helpers - cfg.data.test                      : /content/drive/MyDrive/data_en_ro/DCEP_EN_RO/clean_test.bpe\n",
            "2021-05-20 16:04:55,812 - INFO - joeynmt.helpers - cfg.data.level                     : bpe\n",
            "2021-05-20 16:04:55,812 - INFO - joeynmt.helpers - cfg.data.lowercase                 : False\n",
            "2021-05-20 16:04:55,812 - INFO - joeynmt.helpers - cfg.data.max_sent_length           : 100\n",
            "2021-05-20 16:04:55,813 - INFO - joeynmt.helpers - cfg.data.src_vocab                 : /content/drive/MyDrive/data_en_ro/DCEP_EN_RO/clean_vocab.txt\n",
            "2021-05-20 16:04:55,813 - INFO - joeynmt.helpers - cfg.data.trg_vocab                 : /content/drive/MyDrive/data_en_ro/DCEP_EN_RO/clean_vocab.txt\n",
            "2021-05-20 16:04:55,813 - INFO - joeynmt.helpers - cfg.testing.beam_size              : 10\n",
            "2021-05-20 16:04:55,813 - INFO - joeynmt.helpers - cfg.testing.alpha                  : 1.0\n",
            "2021-05-20 16:04:55,813 - INFO - joeynmt.helpers - cfg.training.random_seed           : 42\n",
            "2021-05-20 16:04:55,814 - INFO - joeynmt.helpers - cfg.training.optimizer             : adam\n",
            "2021-05-20 16:04:55,814 - INFO - joeynmt.helpers - cfg.training.learning_rate         : 0.001\n",
            "2021-05-20 16:04:55,814 - INFO - joeynmt.helpers - cfg.training.learning_rate_min     : 5e-05\n",
            "2021-05-20 16:04:55,814 - INFO - joeynmt.helpers - cfg.training.batch_size            : 64\n",
            "2021-05-20 16:04:55,815 - INFO - joeynmt.helpers - cfg.training.scheduling            : plateau\n",
            "2021-05-20 16:04:55,815 - INFO - joeynmt.helpers - cfg.training.patience              : 0\n",
            "2021-05-20 16:04:55,815 - INFO - joeynmt.helpers - cfg.training.decrease_factor       : 0.5\n",
            "2021-05-20 16:04:55,815 - INFO - joeynmt.helpers - cfg.training.early_stopping_metric : ppl\n",
            "2021-05-20 16:04:55,816 - INFO - joeynmt.helpers - cfg.training.epochs                : 100\n",
            "2021-05-20 16:04:55,816 - INFO - joeynmt.helpers - cfg.training.validation_freq       : 2359\n",
            "2021-05-20 16:04:55,816 - INFO - joeynmt.helpers - cfg.training.logging_freq          : 500\n",
            "2021-05-20 16:04:55,816 - INFO - joeynmt.helpers - cfg.training.eval_metric           : bleu\n",
            "2021-05-20 16:04:55,817 - INFO - joeynmt.helpers - cfg.training.model_dir             : /content/drive/MyDrive/Colab Notebooks/BA_Colab_Notebooks/models/enro_2021-05-20 16:03:58/\n",
            "2021-05-20 16:04:55,817 - INFO - joeynmt.helpers - cfg.training.overwrite             : False\n",
            "2021-05-20 16:04:55,817 - INFO - joeynmt.helpers - cfg.training.shuffle               : True\n",
            "2021-05-20 16:04:55,817 - INFO - joeynmt.helpers - cfg.training.use_cuda              : True\n",
            "2021-05-20 16:04:55,817 - INFO - joeynmt.helpers - cfg.training.max_output_length     : 100\n",
            "2021-05-20 16:04:55,818 - INFO - joeynmt.helpers - cfg.training.print_valid_sents     : [0, 1, 2]\n",
            "2021-05-20 16:04:55,818 - INFO - joeynmt.helpers - cfg.model.encoder.rnn_type         : lstm\n",
            "2021-05-20 16:04:55,818 - INFO - joeynmt.helpers - cfg.model.encoder.embeddings.embedding_dim : 256\n",
            "2021-05-20 16:04:55,818 - INFO - joeynmt.helpers - cfg.model.encoder.embeddings.scale : False\n",
            "2021-05-20 16:04:55,819 - INFO - joeynmt.helpers - cfg.model.encoder.hidden_size      : 256\n",
            "2021-05-20 16:04:55,819 - INFO - joeynmt.helpers - cfg.model.encoder.bidirectional    : True\n",
            "2021-05-20 16:04:55,819 - INFO - joeynmt.helpers - cfg.model.encoder.dropout          : 0.0\n",
            "2021-05-20 16:04:55,819 - INFO - joeynmt.helpers - cfg.model.encoder.num_layers       : 1\n",
            "2021-05-20 16:04:55,820 - INFO - joeynmt.helpers - cfg.model.decoder.rnn_type         : lstm\n",
            "2021-05-20 16:04:55,820 - INFO - joeynmt.helpers - cfg.model.decoder.embeddings.embedding_dim : 256\n",
            "2021-05-20 16:04:55,820 - INFO - joeynmt.helpers - cfg.model.decoder.embeddings.scale : False\n",
            "2021-05-20 16:04:55,820 - INFO - joeynmt.helpers - cfg.model.decoder.emb_scale        : False\n",
            "2021-05-20 16:04:55,821 - INFO - joeynmt.helpers - cfg.model.decoder.hidden_size      : 256\n",
            "2021-05-20 16:04:55,821 - INFO - joeynmt.helpers - cfg.model.decoder.dropout          : 0.2\n",
            "2021-05-20 16:04:55,821 - INFO - joeynmt.helpers - cfg.model.decoder.hidden_dropout   : 0.2\n",
            "2021-05-20 16:04:55,822 - INFO - joeynmt.helpers - cfg.model.decoder.num_layers       : 1\n",
            "2021-05-20 16:04:55,822 - INFO - joeynmt.helpers - cfg.model.decoder.input_feeding    : True\n",
            "2021-05-20 16:04:55,822 - INFO - joeynmt.helpers - cfg.model.decoder.init_hidden      : last\n",
            "2021-05-20 16:04:55,822 - INFO - joeynmt.helpers - cfg.model.decoder.attention        : luong\n",
            "2021-05-20 16:04:55,823 - INFO - joeynmt.helpers - Data set sizes: \n",
            "\ttrain 606056,\n",
            "\tvalid 8000,\n",
            "\ttest 157579\n",
            "2021-05-20 16:04:55,823 - INFO - joeynmt.helpers - First training example:\n",
            "\t[SRC] &quot; having regard to the European Central Bank &apos;s Annual Report 2006 , Chapter IV : Financial Stability and Integration , &quot;\n",
            "\t[TRG] &quot; având în vedere raportul anual 2006 al Băncii Centrale Europene , capitolul IV : St@@ abilitatea şi integrarea financiară , &quot;\n",
            "2021-05-20 16:04:55,823 - INFO - joeynmt.helpers - First 10 words (src): (0) <unk> (1) <pad> (2) <s> (3) </s> (4) , (5) &quot; (6) the (7) de (8) of (9) a\n",
            "2021-05-20 16:04:55,824 - INFO - joeynmt.helpers - First 10 words (trg): (0) <unk> (1) <pad> (2) <s> (3) </s> (4) , (5) &quot; (6) the (7) de (8) of (9) a\n",
            "2021-05-20 16:04:55,824 - INFO - joeynmt.helpers - Number of Src words (types): 39590\n",
            "2021-05-20 16:04:55,824 - INFO - joeynmt.helpers - Number of Trg words (types): 39590\n",
            "2021-05-20 16:04:55,825 - INFO - joeynmt.training - Model(\n",
            "\tencoder=RecurrentEncoder(LSTM(256, 256, batch_first=True, bidirectional=True)),\n",
            "\tdecoder=RecurrentDecoder(rnn=LSTM(512, 256, batch_first=True), attention=LuongAttention),\n",
            "\tsrc_embed=Embeddings(embedding_dim=256, vocab_size=39590),\n",
            "\ttrg_embed=Embeddings(embedding_dim=256, vocab_size=39590))\n",
            "2021-05-20 16:04:55,872 - INFO - joeynmt.training - Train stats:\n",
            "\tdevice: cuda\n",
            "\tn_gpu: 1\n",
            "\t16-bits training: False\n",
            "\tgradient accumulation: 1\n",
            "\tbatch size per device: 64\n",
            "\ttotal batch size (w. parallel & accumulation): 64\n",
            "2021-05-20 16:04:55,872 - INFO - joeynmt.training - EPOCH 1\n",
            "2021-05-20 16:07:30,162 - INFO - joeynmt.training - Epoch   1, Step:      500, Batch Loss:   276.147949, Tokens per Sec:     5994, Lr: 0.001000\n",
            "2021-05-20 16:10:02,900 - INFO - joeynmt.training - Epoch   1, Step:     1000, Batch Loss:    28.164711, Tokens per Sec:     6052, Lr: 0.001000\n",
            "2021-05-20 16:12:35,757 - INFO - joeynmt.training - Epoch   1, Step:     1500, Batch Loss:   209.289368, Tokens per Sec:     6090, Lr: 0.001000\n",
            "2021-05-20 16:15:07,641 - INFO - joeynmt.training - Epoch   1, Step:     2000, Batch Loss:    63.470013, Tokens per Sec:     6028, Lr: 0.001000\n",
            "Traceback (most recent call last):\n",
            "  File \"/usr/lib/python3.7/runpy.py\", line 193, in _run_module_as_main\n",
            "    \"__main__\", mod_spec)\n",
            "  File \"/usr/lib/python3.7/runpy.py\", line 85, in _run_code\n",
            "    exec(code, run_globals)\n",
            "  File \"/content/joeynmt/joeynmt/__main__.py\", line 48, in <module>\n",
            "    main()\n",
            "  File \"/content/joeynmt/joeynmt/__main__.py\", line 35, in main\n",
            "    train(cfg_file=args.config_path, skip_test=args.skip_test)\n",
            "  File \"/content/joeynmt/joeynmt/training.py\", line 805, in train\n",
            "    trainer.train_and_validate(train_data=train_data, valid_data=dev_data)\n",
            "  File \"/content/joeynmt/joeynmt/training.py\", line 475, in train_and_validate\n",
            "    valid_duration = self._validate(valid_data, epoch_no)\n",
            "  File \"/content/joeynmt/joeynmt/training.py\", line 563, in _validate\n",
            "    n_gpu=self.n_gpu\n",
            "  File \"/content/joeynmt/joeynmt/prediction.py\", line 114, in validate_on_data\n",
            "    batch_loss, _, _, _ = model(return_type=\"loss\", **vars(batch))\n",
            "  File \"/usr/local/lib/python3.7/dist-packages/torch/nn/modules/module.py\", line 889, in _call_impl\n",
            "    result = self.forward(*input, **kwargs)\n",
            "  File \"/content/joeynmt/joeynmt/model.py\", line 85, in forward\n",
            "    out, _, _, _ = self._encode_decode(**kwargs)\n",
            "  File \"/content/joeynmt/joeynmt/model.py\", line 137, in _encode_decode\n",
            "    trg_mask=trg_mask, **kwargs)\n",
            "  File \"/content/joeynmt/joeynmt/model.py\", line 178, in _decode\n",
            "    **_kwargs)\n",
            "  File \"/usr/local/lib/python3.7/dist-packages/torch/nn/modules/module.py\", line 889, in _call_impl\n",
            "    result = self.forward(*input, **kwargs)\n",
            "  File \"/content/joeynmt/joeynmt/decoders.py\", line 389, in forward\n",
            "    outputs = self.output_layer(att_vectors)\n",
            "  File \"/usr/local/lib/python3.7/dist-packages/torch/nn/modules/module.py\", line 889, in _call_impl\n",
            "    result = self.forward(*input, **kwargs)\n",
            "  File \"/usr/local/lib/python3.7/dist-packages/torch/nn/modules/linear.py\", line 94, in forward\n",
            "    return F.linear(input, self.weight, self.bias)\n",
            "  File \"/usr/local/lib/python3.7/dist-packages/torch/nn/functional.py\", line 1753, in linear\n",
            "    return torch._C._nn.linear(input, weight, bias)\n",
            "RuntimeError: CUDA out of memory. Tried to allocate 13.89 GiB (GPU 0; 11.17 GiB total capacity; 1.45 GiB already allocated; 8.32 GiB free; 2.27 GiB reserved in total by PyTorch)\n"
          ],
          "name": "stdout"
        }
      ]
    },
    {
      "cell_type": "code",
      "metadata": {
        "colab": {
          "base_uri": "https://localhost:8080/"
        },
        "id": "QG2bN4uwYCJV",
        "outputId": "e24d8ca2-3469-4a0d-a717-5f561836b9c1"
      },
      "source": [
        "!head -n 30 /content/drive/MyDrive/data_en_ro/DCEP_EN_RO/clean_dev.bpe.ro"
      ],
      "execution_count": null,
      "outputs": [
        {
          "output_type": "stream",
          "text": [
            "/ oeil / Fin@@ d@@ B@@ y@@ Proc@@ num@@ .do ? lang = 2 &amp; proc@@ n@@ um = COD / 2008 / 0221\n",
            "Articolul 3 litera ( id ) ( nouă )\n",
            "fezabilitatea depozit@@ ării geologice\n",
            "13 . ’\n",
            "&quot; ( 7 ) Prin urmare , măsurile prevăzute de prezentul regulament trebuie să faciliteze comercializarea blăn@@ urilor şi a articolelor din blană provenind de la alte specii decât pisi@@ ci şi câ@@ ini şi să pre@@ întâmp@@ ine , în general , orice perturb@@ are a pieţei interne de blănuri şi articole din blană . &quot;\n",
            "&quot; având în vedere rezoluția sa din 5 iunie 2008 privind punerea în aplicare a Strategiei europene de securitate și a PESA Texte adoptate , P6 _ TA ( 2008 ) 0255 . &quot;\n",
            "&quot; exploatează , între@@ țin și dezvoltă , în condiții economice , instalații de transport , depozitare și / sau de GNL sigure , fiabile și eficiente &quot;\n",
            "&quot; subliniază faptul că revizuirea Strategiei Europene pentru ocuparea forţei de muncă ( SE@@ O@@ FM ) şi orientările integrate pentru următorul ciclu ( 2008-2010 ) ar trebui să se bazeze nu pe conceptul de flexic@@ uri@@ tate al Comisiei , ci pe promovarea locurilor de muncă în care lucrătorii beneficiază de drep@@ turi@@ . solicită statelor membre , Comisiei şi Consiliului să ia măsuri eficace pentru a respecta standardele sociale şi a garanta locuri de muncă decente , asigurând astfel lucrătorilor , şi mai ales femeilor , venituri decente , precum şi dreptul la sănătate şi siguranţă la locul de muncă , protecţie socială şi libertatea sindicatelor , şi să încurajeze eliminarea tuturor formelor de discriminare la locul de muncă între bărbaţi şi femei , urmărind deop@@ otri@@ vă şi ambiţi@@ os@@ ul obiectiv de reducere a numărului lucrătorilor săraci din Europa ; &quot;\n",
            "&quot; În mod efectiv , rapoartele Curţii trebuie să fie corecte , fiabile şi să includă recomandări şi răspunsuri ale organismelor supuse auditului , pentru a asista în mod cât mai eficient Comisia pentru control bugetar în îndeplinirea atribuţiilor şi obiectivelor sale . &quot;\n",
            "( a ) diminuarea valorii bunurilor primite în temeiul contractului care a fost cauzată de inspec@@ tare ș i testare ;\n",
            "&quot; În consecință , acordul nu ar trebui să se întemei@@ eze pe articolul 82 alineatul ( 1 ) litera ( d ) și articolul 87 alineatul ( 2 ) litera ( a ) , ci pe articolul 16 din TFUE . &quot;\n",
            "&quot; În ultimii ani , Parlamentul a obţinut puteri legislative considerabil sporite în aceste domenii . &quot;\n",
            "Suntem convin@@ și că la nivelul Comisiei Europene se fac demersuri și eforturi pentru a identifica soluții de menținere a nivelului actual de finanțare a acestei scheme .\n",
            "The completion of the single market in the postal sector will only cease to represent a threat to social and territorial cohesion if appropriate measures are taken to guarantee the universal service in the long term together with flan@@ king measures to restore fair competition .\n",
            "&quot; Descărcarea de gestiune 2009 : bugetul general al UE , Curtea de Justiţie &quot;\n",
            "&quot; Refer@@ indu-se la condamn@@ atul la moarte Tro@@ y Davis din Statele Unite , care este prot@@ agon@@ ist@@ ul unei companii împotriva sent@@ inței capitale , în numele Parlamentului European , președintele a declarat : &quot; &quot; F@@ ac apel la statul federal Georgia să transforme sent@@ ința capitală în închisoare pe viață &quot; &quot; . &quot;\n",
            "8. încurajează statele membre să utilizeze reuniunile planificate pentru a se famili@@ ar@@ iza cu posibilitățile și oportunitățile oferite de FEG pentru lucrătorii aflați în situații de concedieri colective și să utilizeze fondurile disponibile pentru sprijinirea lucrătorilor afectați ;\n",
            "&quot; ( 1b ) în conformitate cu articolul 33 din Convenţia de la Geneva din 28 iulie 1951 privind statutul refugiaţilor , statele membre nu vor expul@@ za sau retur@@ na , în niciun fel , un refugiat peste frontierele statelor sau teritoriilor unde viaţa sau libertatea sa ar fi ameninţ@@ ate . &quot;\n",
            "&quot; Atunci i-@@ am lăsat să intre , le-@@ am arătat radio@@ ul , şi au fost nevo@@ iţi să se întoarcă , deoarece nu aveau autorizaţie de se@@ jur . &quot;\n",
            "&quot; De asemenea , ar trebui ca fiecare stat membru să stabilească în legislația sa internă dacă autoritatea emitentă poate implica alte organisme competente în procesul de emit@@ ere , de exemplu organisme competente să primească declarații solem@@ ne în loc de jur@@ ământ . &quot;\n",
            "&quot; Astrid LU@@ LL@@ ING ( PPE-DE , Luxemburg ) : 298 voturi &quot;\n",
            "&quot; Dacă se alege , totuşi , o directivă în locul unui regulament , ar fi recomandat ca aceasta să conţină cerinţe de armonizare maxime şi nu standarde minime . &quot;\n",
            "( 2010 / 2@@ 123 ( IMM ) )\n",
            "să ofere oportunități de a acum@@ ula experiență de lucru pentru tinerii care au o calificare dar nu au găsit un loc de muncă .\n",
            "&quot; cooperarea , informarea și transmiterea datelor , după cum este stipul@@ at la articolele 23 și 24 ; &quot;\n",
            "&quot; These changes , which should apply throughout the text , seek to take account of the different administrative systems and allocation of functions within each Member State . &quot;\n",
            "&quot; întrucât reziden@@ ții orașului H@@ oms , aflat sub as@@ edi@@ u , se confruntă cu un bomb@@ ard@@ ament ma@@ siv continuu și se tem că regimul se pregătește să lanseze un as@@ alt tere@@ stru final devastat@@ or ; întrucât la 12 februarie 2012 mass-media arabă au raportat că arti@@ l@@ er@@ ia și tan@@ curile siriene au lansat un bomb@@ ard@@ ament intens al orașului H@@ ama , cu@@ plat cu as@@ al@@ turi continue ale orașului H@@ oms ; întrucât , în același timp , autoritățile siriene insistă asupra faptului că se confruntă cu „ grupuri teroriste ” și că va continua până la restabilirea „ ordinii ” ; &quot;\n",
            "&quot; Raportoarea își exprimă convingerea că modelele sociale europene , având ca obiective dezvoltarea durabilă , ocuparea integrală a forței de muncă , progresul social , bunăstarea și protecția socială , vor putea ajuta Uniunea Europeană și statele membre ale acesteia să depășească criza . &quot;\n",
            "&quot; F. întrucât cadrul de reglementare , standardele și evaluarea conformității în Japonia sunt considerate ca principalele obstacole în calea accesului la piața j@@ ap@@ on@@ eză , crescând complexitatea și ne@@ siguranța pentru operatorii economici ; &quot;\n",
            "FdR 6@@ 28@@ 5@@ 05\n"
          ],
          "name": "stdout"
        }
      ]
    },
    {
      "cell_type": "code",
      "metadata": {
        "colab": {
          "base_uri": "https://localhost:8080/"
        },
        "id": "HqAdq5SQn8OW",
        "outputId": "d44ce98b-3ca8-413d-ed01-88cd0a9cecd0"
      },
      "source": [
        "!python3 -m joeynmt test /content/joeynmt/configs/transformer_enro_dcep.yaml --output_path \"/content/drive/MyDrive/Colab Notebooks/BA_Colab_Notebooks/models/enro_dcep_transformer_2021-05-16 18:43:22/out.\"\n"
      ],
      "execution_count": null,
      "outputs": [
        {
          "output_type": "stream",
          "text": [
            "Traceback (most recent call last):\n",
            "  File \"/usr/lib/python3.7/runpy.py\", line 193, in _run_module_as_main\n",
            "    \"__main__\", mod_spec)\n",
            "  File \"/usr/lib/python3.7/runpy.py\", line 85, in _run_code\n",
            "    exec(code, run_globals)\n",
            "  File \"/content/joeynmt/joeynmt/__main__.py\", line 3, in <module>\n",
            "    from joeynmt.training import train\n",
            "  File \"/content/joeynmt/joeynmt/training.py\", line 17, in <module>\n",
            "    import torch\n",
            "  File \"/usr/local/lib/python3.7/dist-packages/torch/__init__.py\", line 196, in <module>\n",
            "    from torch._C import *\n",
            "RuntimeError: KeyboardInterrupt: \n"
          ],
          "name": "stdout"
        }
      ]
    },
    {
      "cell_type": "code",
      "metadata": {
        "id": "d8Cfi_vP7UKj"
      },
      "source": [
        "! head -n 10 /content/drive/MyDrive/data_en_ro/DCEP_EN_RO/clean_train.bpe.ro >> /content/drive/MyDrive/data_en_ro/DCEP_EN_RO/very_small_clean_train.bpe.ro"
      ],
      "execution_count": null,
      "outputs": []
    },
    {
      "cell_type": "code",
      "metadata": {
        "colab": {
          "base_uri": "https://localhost:8080/"
        },
        "id": "1BCZ7fET81Uj",
        "outputId": "e1e667af-1403-41fd-9b24-c19d97723aab"
      },
      "source": [
        "!wc -l /content/drive/MyDrive/data_en_ro/DCEP_EN_RO/very_small_clean_train.bpe.ro"
      ],
      "execution_count": null,
      "outputs": [
        {
          "output_type": "stream",
          "text": [
            "10 /content/drive/MyDrive/data_en_ro/DCEP_EN_RO/very_small_clean_train.bpe.ro\n"
          ],
          "name": "stdout"
        }
      ]
    },
    {
      "cell_type": "code",
      "metadata": {
        "colab": {
          "base_uri": "https://localhost:8080/"
        },
        "id": "7hFo8-fM6Iz9",
        "outputId": "bf09d051-dcf3-40cf-cd29-6f3f774b0ac6"
      },
      "source": [
        "!python3 -m joeynmt translate /content/joeynmt/configs/transformer_enro_dcep.yaml < /content/drive/MyDrive/data_en_ro/DCEP_EN_RO/very_small_clean_train.bpe.ro> out."
      ],
      "execution_count": null,
      "outputs": [
        {
          "output_type": "stream",
          "text": [
            "2021-05-17 10:53:16,340 - INFO - root - Hello! This is Joey-NMT (version 1.3).\n",
            "2021-05-17 10:53:43,170 - INFO - joeynmt.model - Building an encoder-decoder model...\n",
            "2021-05-17 10:53:44,461 - INFO - joeynmt.model - Enc-dec model built.\n"
          ],
          "name": "stdout"
        }
      ]
    },
    {
      "cell_type": "code",
      "metadata": {
        "id": "hqg0kV3t-Cdo",
        "colab": {
          "base_uri": "https://localhost:8080/"
        },
        "outputId": "54e99bad-85ec-4bf8-cec4-cdd21dfb26a7"
      },
      "source": [
        "!ls"
      ],
      "execution_count": null,
      "outputs": [
        {
          "output_type": "stream",
          "text": [
            "benchmarks.md\t    joey_demo.ipynb  out.\t       setup.py\n",
            "CODE_OF_CONDUCT.md  joeynmt\t     README.md\t       small_clean_train.bpe.ro\n",
            "configs\t\t    joey-small.png   requirements.txt  test\n",
            "docs\t\t    LICENSE\t     scripts\n"
          ],
          "name": "stdout"
        }
      ]
    },
    {
      "cell_type": "markdown",
      "metadata": {
        "id": "kyuqPcQpoOHx"
      },
      "source": [
        "\n",
        "\n",
        "*   detokenize output\n",
        "*   tensorboard\n",
        "*   language detection\n",
        "\n"
      ]
    },
    {
      "cell_type": "code",
      "metadata": {
        "colab": {
          "base_uri": "https://localhost:8080/"
        },
        "id": "kAwjB0dwhrww",
        "outputId": "0ea8da12-5065-4ebd-e5a8-6ad666ce9226"
      },
      "source": [
        "#!head -n 1 \"/content/drive/MyDrive/Colab Notebooks/BA_Colab_Notebooks/models/enro_dcep_transformer_2021-05-16 06:54:30/out..dev\"\n",
        "!tail -n 30 \"/content/drive/MyDrive/data_en_ro/DCEP_EN_RO/clean_dcep.ro-en.ro.txt\"\n"
      ],
      "execution_count": null,
      "outputs": [
        {
          "output_type": "stream",
          "text": [
            "\"solicită VP/ÎR să se asigure că guvernul din Bahrain își respectă promisiunile de a respecta drepturile omului, de a implementa reformele necesare, de a iniția anchete independente ale cazurilor de încălcare a drepturilor omului și de a se asigura că cei responsabili sunt trași la răspundere; îndeamnă guvernul din Bahrain să renunțe la acuzațiile împotriva medicilor și cadrelor medicale și să-i elibereze pe toți cei aflați în arest pentru participarea la proteste pașnice pro-democrație;\"\n",
            "\"solicită autorităților din Bahrain să reinstaureze și să respecte drepturile omului și libertățile fundamentale, inclusiv libertatea de exprimare, atât online, cât și offline, libertatea de întrunire, libertatea religioasă, drepturile femeilor și egalitatea de gen, pentru a combate discriminarea și pentru a pune capăt tuturor restricțiilor în ceea ce privește accesul la tehnologiile de informare și comunicare; solicită autorităților din Bahrain să suspende toate restricțiile în ceea ce privește accesul în țară al jurnaliștilor străini și al organizațiilor internaționale pentru drepturile omului și să permită monitorizarea anchetelor independente ale cazurilor de încălcare a drepturilor omului prevăzute și implementarea reformelor anunțate;\"\n",
            "\"salută suspendarea de către Statele Unite a exportului de armament, arme și alte instrumente care pot fi utilizate pentru represiunea violentă a cetățenilor și pentru încălcarea drepturilor omului și solicită, de asemenea, statelor membre să asigure respectarea Poziției comune a Consiliului European care stabilește standardele comune care guvernează controlul exporturilor de tehnologie și echipament militar;\"\n",
            "își reiterează opoziția față de utilizarea pedepsei cu moartea și îndeamnă autoritățile din Bahrain să instaureze fără întârziere un moratoriu;\n",
            "P7_DCL(2011)0045\n",
            "\"având în vedere Obiectivele de dezvoltare ale mileniului, care identifică rolul esențial pe care îl au știința și tehnologia pentru transformarea socio-economică,\"\n",
            "\"recunoscând valoarea pe care o au infrastructurile de cercetare pentru facilitarea cooperării cu Africa, pentru promovarea dezvoltării capitalului uman și pentru abordarea provocărilor sociale, astfel cum s-a precizat în inițiativa „O Uniune a inovării” și în strategia Europa 2020,\"\n",
            "\"recunoscând avantajul competitiv unic al Africii în studiul radioastronomiei, reflectat în vastele proiecte din domeniul radioastronomiei care există în Africa (PAPER, rețeaua VLBI, MeerKAT etc.),\"\n",
            "\"recunoscând faptul că o implicare suplimentară a Europei în radioastronomia africană poate deveni un puternic factor antrenant al creșterii socio-economice în Africa și poate crea o nouă serie de oportunități de piață pentru ambele continente,\"\n",
            "\"îndeamnă Comisia, Consiliul și parlamentele statelor membre:\"\n",
            "\"să sprijine dezvoltarea capacității științifice în Africa prin sporirea investițiilor în infrastructurile de cercetare, cu accent mai ales pe proiectele de radioastronomie,\"\n",
            "\"să promoveze știința radioastronomiei și potențialul de inovare și cercetare al inițiativelor de radioastronomie în cadrul viitoarelor parteneriate Africa-UE,\"\n",
            "\"să mobilizeze mecanismele de finanțare ale UE, inclusiv programele-cadru și Instrumentul de cooperare pentru dezvoltare, în vederea sprijinirii acestor obiective;\"\n",
            "\"încredințează Președintelui sarcina de a transmite prezenta declarație, însoțită de numele semnatarilor Lista semnatarilor este publicată în anexa 1 la procesul-verbal din 15 martie 2012 ( P7_PV-PROV(2012)03-15(ANN1) ).\"\n",
            "P7_DCL(2011)0049\n",
            "\"având în vedere articolul 13 din Tratatul privind Funcţionarea Uniunii Europene,\"\n",
            "\"având în vederea Rezoluția Parlamentului European din 5 mai 2010 referitoare la evaluarea și analizarea planului de acțiune pentru bunăstarea animalelor 2006-2010 JO C 81 E, 15.3.2011, p.\"\n",
            "\"observă că petiția 8hours.eu, prin care se solicită stabilirea unei limite maxime de 8 ore pentru călătoria animalelor destinate sacrificării, este susținută de aproape un milion de europeni;\"\n",
            "\"încredințează Președintelui sarcina de a transmite prezenta declarație, însoțită de numele semnatarilor Lista semnatarilor este publicată în anexa 2 la procesul-verbal din 15 martie 2012 ( P7_PV-PROV(2012)03-15(ANN2) ).\"\n",
            "P7_DCL(2011)0050\n",
            "\"având în vedere articolele 6 și 165 din Tratatul privind funcționarea Uniunii Europene,\"\n",
            "\"întrucât Tratatul privind funcționarea Uniunii Europene prevede, la articolul 6, că sportul se numără printre domeniile în care „Uniunea este competentă să desfășoare acțiuni de sprijinire, de coordonare sau completare a acțiunilor statelor membre”;\"\n",
            "\"întrucât șahul este un sport accesibil pentru copiii din toate grupurile sociale și poate sprijini coeziunea socială și contribui la obiectivele politicilor, cum ar fi integrarea socială, combaterea discriminării, reducerea ratelor criminalității și chiar combaterea diferitelor dependențe;\"\n",
            "\"întrucât, indiferent de vârsta copiilor, șahul poate ameliora concentrarea, răbdarea și persistența acestora și poate dezvolta în ei simțul creativității, al intuiției, al memoriei, precum și abilități analitice și decizionale; întrucât șahul dezvoltă și hotărârea, motivația și fairplay-ul,\"\n",
            "invită Comisia și statele membre să încurajeze introducerea programului „șahul în instituțiile de învățământ” în sistemele educaționale din statele membre;\n",
            "\"invită Comisia ca, în viitoarea sa comunicare privind sportul, să acorde atenția cuvenită programului „șahul în instituțiile de învățământ” și să asigure finanțarea suficientă a acestuia începând din 2012;\"\n",
            "\"invită Comisia să ia în considerare rezultatele studiilor disponibile, referitoare la efectele acestui program asupra dezvoltării copiilor;\"\n",
            "\"încredințează Președintelui sarcina de a transmite prezenta declarație, însoțită de numele semnatarilor Lista semnatarilor este publicată în anexa 3 la procesul-verbal din 15 martie 2012 ( P7_PV-PROV(2012)03-15(ANN3) ).\"\n",
            "\"\"\"Săptămâna\"\" : 01-01-2004(s)\"\n",
            "\"\"\"Săptămâna\"\" : 01-01-2005(s)\"\n"
          ],
          "name": "stdout"
        }
      ]
    },
    {
      "cell_type": "code",
      "metadata": {
        "id": "CpwL5pdl5MJl",
        "colab": {
          "base_uri": "https://localhost:8080/"
        },
        "outputId": "1cc318ba-c7a4-4255-f07a-7bd7d9884215"
      },
      "source": [
        "#%load_ext tensorboard\n",
        "#! tensorboard --logdir model_dir/tensorboard\n",
        "!tensorboard dev upload \\\n",
        "  --logdir '/content/drive/MyDrive/Colab Notebooks/BA_Colab_Notebooks/models/enro_dcep_transformer_1' \\\n",
        "  --name \"(optional) My latest experiment\" \\\n",
        "  --description \"(optional) Simple comparison of several hyperparameters\" \\\n"
      ],
      "execution_count": null,
      "outputs": [
        {
          "output_type": "stream",
          "text": [
            "2021-05-16 09:56:09.617974: I tensorflow/stream_executor/platform/default/dso_loader.cc:49] Successfully opened dynamic library libcudart.so.11.0\n",
            "Data for the \"text\" plugin is now uploaded to TensorBoard.dev! Note that uploaded data is public. If you do not want to upload data for this plugin, use the \"--plugins\" command line argument.\n",
            "Upload started and will continue reading any new data as it's added to the logdir.\n",
            "\n",
            "To stop uploading, press Ctrl-C.\n",
            "\n",
            "New experiment created. View your TensorBoard at: https://tensorboard.dev/experiment/nY5ZM9OLT6Kb0soKLO7lmA/\n",
            "\n",
            "\u001b[1m[2021-05-16T09:56:11]\u001b[0m Started scanning logdir.\n",
            "\u001b[1m[2021-05-16T09:56:12]\u001b[0m Total uploaded: 19 scalars, 0 tensors, 0 binary objects\n"
          ],
          "name": "stdout"
        }
      ]
    },
    {
      "cell_type": "code",
      "metadata": {
        "id": "2uUhrj7f90nl"
      },
      "source": [
        "! python3 /content/joeynmt/scripts/plot_validations.py /content/drive/MyDrive/Colab\\ Notebooks/BA_Colab_Notebooks/models/enro_transformer_2/ --plot_values bleu PPL --output_path /content/drive/MyDrive/Colab\\ Notebooks/BA_Colab_Notebooks/models/enro_transformer_2/my_plot.pdf"
      ],
      "execution_count": null,
      "outputs": []
    }
  ]
}