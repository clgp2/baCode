{
 "cells": [
  {
   "cell_type": "markdown",
   "metadata": {},
   "source": [
    "## Preprocess wmt16 data newsdev and newstest to try trained models on it"
   ]
  },
  {
   "cell_type": "code",
   "execution_count": null,
   "metadata": {},
   "outputs": [],
   "source": [
    "from bs4 import BeautifulSoup\n",
    "\n",
    "with open(\"/home/bernadeta/BA_code/data/newstest2016-enro-ref.ro.sgm\") as new1_ro, open(\"newstest_ro_strip.txt\", \"w\") as new_ro:\n",
    "    soup=BeautifulSoup(new1_ro, 'html.parser')\n",
    "    new_ro.write(soup.get_text())\n",
    "\n",
    "with open(\"/home/bernadeta/BA_code/data/newstest2016-enro-src.en.sgm\") as new1_en, open(\"newstest_en_strip.txt\", \"w\") as new_en:\n",
    "    soup=BeautifulSoup(new1_en, 'html.parser')\n",
    "    new_en.write(soup.get_text())"
   ]
  },
  {
   "cell_type": "code",
   "execution_count": 1,
   "metadata": {},
   "outputs": [
    {
     "name": "stdout",
     "output_type": "stream",
     "text": [
      "/home/bernadeta/BA_code/data/02-preprocessed/newsdev2016\n"
     ]
    },
    {
     "name": "stderr",
     "output_type": "stream",
     "text": [
      "/home/bernadeta/python-venvs/ba-env/lib64/python3.6/site-packages/ipykernel_launcher.py:7: ParserWarning: Falling back to the 'python' engine because the 'c' engine does not support regex separators (separators > 1 char and different from '\\s+' are interpreted as regex); you can avoid this warning by specifying engine='python'.\n",
      "  import sys\n"
     ]
    }
   ],
   "source": [
    "%cd /home/bernadeta/BA_code/data/02-preprocessed/newsdev2016\n",
    "import pandas as pd\n",
    "\n",
    "df_ro=pd.read_csv(\"newsdev_ro_strip.txt\", sep=\"\\n\")\n",
    "df_ro.to_csv(\"newsdev_ro.txt\", index=False)\n",
    "\n",
    "df_en=pd.read_csv(\"newsdev_en_strip.txt\", sep=\"\\n+\", skip_blank_lines=True)\n",
    "df_en.to_csv(\"newsdev_en.txt\", index=False)"
   ]
  },
  {
   "cell_type": "code",
   "execution_count": 2,
   "metadata": {},
   "outputs": [],
   "source": [
    "newstest_both=pd.concat([df_en, df_ro], axis=1)"
   ]
  },
  {
   "cell_type": "code",
   "execution_count": 3,
   "metadata": {},
   "outputs": [
    {
     "data": {
      "text/html": [
       "<div>\n",
       "<style scoped>\n",
       "    .dataframe tbody tr th:only-of-type {\n",
       "        vertical-align: middle;\n",
       "    }\n",
       "\n",
       "    .dataframe tbody tr th {\n",
       "        vertical-align: top;\n",
       "    }\n",
       "\n",
       "    .dataframe thead th {\n",
       "        text-align: right;\n",
       "    }\n",
       "</style>\n",
       "<table border=\"1\" class=\"dataframe\">\n",
       "  <thead>\n",
       "    <tr style=\"text-align: right;\">\n",
       "      <th></th>\n",
       "      <th>Brazil's Former Presidential Chief-of-Staff to Stand Trial</th>\n",
       "      <th>Fostul șef al cabinetului prezidențial brazilian este adus în fața instanței</th>\n",
       "    </tr>\n",
       "  </thead>\n",
       "  <tbody>\n",
       "    <tr>\n",
       "      <th>0</th>\n",
       "      <td>A federal judge on Tuesday accepted the charges filed against Brazil's former presidential chief of staff for his alleged involvement in a massive corruption scheme at state-owned oil company Petrobras.</td>\n",
       "      <td>Marți, un judecător federal a acceptat acuzațiile aduse împotriva fostului șef al cabinetului prezidențial brazilian pentru presupusa implicare a acestuia într-o schemă masivă de corupție privind compania petrolieră de stat Petrobras.</td>\n",
       "    </tr>\n",
       "    <tr>\n",
       "      <th>1</th>\n",
       "      <td>The federal prosecutor's office said Jose Dirceu will face trial on the corruption, racketeering and money laundering charges filed earlier this month.</td>\n",
       "      <td>Biroul procurorului federal a declarat că Jose Dirceu va fi trimis în judecată pentru acuzațiile de corupție, înșelătorie și spălare de bani aduse în această lună.</td>\n",
       "    </tr>\n",
       "    <tr>\n",
       "      <th>2</th>\n",
       "      <td>Fourteen other people will also be tried, including Joao Vaccari Neto, the former treasurer of Brazil's governing Workers' Party and Renato de Souza Duque, Petrobras' former head of corporate services.</td>\n",
       "      <td>Alte paisprezece persoane vor fi judecate, printre acestea numărându-se Joao Vaccari Neto, fostul trezorier al Partidului Muncitorilor, aflat la putere în Brazilia, și Renato de Souza Duque, fostul președinte al serviciilor pentru întreprinderi ale Petrobras.</td>\n",
       "    </tr>\n",
       "    <tr>\n",
       "      <th>3</th>\n",
       "      <td>Dirceu is the most senior member of the ruling Workers' Party to be taken into custody in connection with the scheme.</td>\n",
       "      <td>Dirceu este cel mai vechi membru al Partidului Muncitorilor aflat la guvernare luat în custodie pentru legăturile cu această schemă.</td>\n",
       "    </tr>\n",
       "    <tr>\n",
       "      <th>4</th>\n",
       "      <td>Dirceu served as former President Luiz Inacio Lula da Silva's chief of staff between 2003 and 2005.</td>\n",
       "      <td>Dirceu a servit ca șef de cabinet al fostului președinte Luiz Inacio Lula da Silva între 2003 și 2005.</td>\n",
       "    </tr>\n",
       "    <tr>\n",
       "      <th>...</th>\n",
       "      <td>...</td>\n",
       "      <td>...</td>\n",
       "    </tr>\n",
       "    <tr>\n",
       "      <th>1993</th>\n",
       "      <td>Other winners were Adrian Dragan (Dacia Cup) and Vlad Cosma (Suzuki Cup).</td>\n",
       "      <td>Alți câștigători au fost Adrian Drăgan (Cupa Dacia) și Vlad Cosma (Cupa Suzuki).</td>\n",
       "    </tr>\n",
       "    <tr>\n",
       "      <th>1994</th>\n",
       "      <td>The crew from Iasi composed by Dan Iamandi - Răzvan Subțirelu abandoned the race during the eighth race.</td>\n",
       "      <td>Echipajul ieșean Dan Iamandi - Răzvan Subțirelu a abandonat în timpul specialei a opta.</td>\n",
       "    </tr>\n",
       "    <tr>\n",
       "      <th>1995</th>\n",
       "      <td>We went through the whole range of emotions during this period.</td>\n",
       "      <td>Am trecut prin toată gama de trăiri în această perioadă.</td>\n",
       "    </tr>\n",
       "    <tr>\n",
       "      <th>1996</th>\n",
       "      <td>\"The positive reaction of pilots and Federation officials makes me hope that this year we will be organizing champions again\", said rally manager, Dan Codreanu.</td>\n",
       "      <td>Reacția pozitivă a piloților și oficialilor Federației mă face să sper că vom fi și în acest an campion la organizare, a spus managerul raliului, Dan Codreanu.</td>\n",
       "    </tr>\n",
       "    <tr>\n",
       "      <th>1997</th>\n",
       "      <td>The Cotnari Iasi Rally was organized by XS Motorsport (manager, Dan Codreanu) in partnership with Cotnari, Iasi City Hall, Hotel International, Ford Iasi - ATI Motors Holding, supported by the Iasi Forestry Department, the County Gendarmerie Inspectorate, the Inspectorate for Emergency Situations, the Ambulance Service, the County Council and the Iasi Prefecture.</td>\n",
       "      <td>Raliul Iașului Cotnari a fost organizat de XS Motorsport (manager, Dan Codreanu) în parteneriat cu Compania Cotnari, Primaria Municipiului Iași, Hotel Internațional, Ford Iași - ATI Motors Holding, cu sprijinul Direcției Silvice Iași, Inspectoratul Județean de Politie, Inspectoratul Județean de Jandarmi, Inspectoratul pentru Situații de Urgență, Serviciul de Ambulanță Consiliul Județean și, Prefectura Județului Iași.</td>\n",
       "    </tr>\n",
       "  </tbody>\n",
       "</table>\n",
       "<p>1998 rows × 2 columns</p>\n",
       "</div>"
      ],
      "text/plain": [
       "                                                                                                                                                                                                                                                                                                                         Brazil's Former Presidential Chief-of-Staff to Stand Trial  \\\n",
       "0                                                                                                                                                                        A federal judge on Tuesday accepted the charges filed against Brazil's former presidential chief of staff for his alleged involvement in a massive corruption scheme at state-owned oil company Petrobras.   \n",
       "1                                                                                                                                                                                                                           The federal prosecutor's office said Jose Dirceu will face trial on the corruption, racketeering and money laundering charges filed earlier this month.   \n",
       "2                                                                                                                                                                         Fourteen other people will also be tried, including Joao Vaccari Neto, the former treasurer of Brazil's governing Workers' Party and Renato de Souza Duque, Petrobras' former head of corporate services.   \n",
       "3                                                                                                                                                                                                                                                             Dirceu is the most senior member of the ruling Workers' Party to be taken into custody in connection with the scheme.   \n",
       "4                                                                                                                                                                                                                                                                               Dirceu served as former President Luiz Inacio Lula da Silva's chief of staff between 2003 and 2005.   \n",
       "...                                                                                                                                                                                                                                                                                                                                                                             ...   \n",
       "1993                                                                                                                                                                                                                                                                                                      Other winners were Adrian Dragan (Dacia Cup) and Vlad Cosma (Suzuki Cup).   \n",
       "1994                                                                                                                                                                                                                                                                       The crew from Iasi composed by Dan Iamandi - Răzvan Subțirelu abandoned the race during the eighth race.   \n",
       "1995                                                                                                                                                                                                                                                                                                                We went through the whole range of emotions during this period.   \n",
       "1996                                                                                                                                                                                                               \"The positive reaction of pilots and Federation officials makes me hope that this year we will be organizing champions again\", said rally manager, Dan Codreanu.   \n",
       "1997  The Cotnari Iasi Rally was organized by XS Motorsport (manager, Dan Codreanu) in partnership with Cotnari, Iasi City Hall, Hotel International, Ford Iasi - ATI Motors Holding, supported by the Iasi Forestry Department, the County Gendarmerie Inspectorate, the Inspectorate for Emergency Situations, the Ambulance Service, the County Council and the Iasi Prefecture.   \n",
       "\n",
       "                                                                                                                                                                                                                                                                                                                                                              Fostul șef al cabinetului prezidențial brazilian este adus în fața instanței  \n",
       "0                                                                                                                                                                                               Marți, un judecător federal a acceptat acuzațiile aduse împotriva fostului șef al cabinetului prezidențial brazilian pentru presupusa implicare a acestuia într-o schemă masivă de corupție privind compania petrolieră de stat Petrobras.  \n",
       "1                                                                                                                                                                                                                                                                      Biroul procurorului federal a declarat că Jose Dirceu va fi trimis în judecată pentru acuzațiile de corupție, înșelătorie și spălare de bani aduse în această lună.  \n",
       "2                                                                                                                                                                      Alte paisprezece persoane vor fi judecate, printre acestea numărându-se Joao Vaccari Neto, fostul trezorier al Partidului Muncitorilor, aflat la putere în Brazilia, și Renato de Souza Duque, fostul președinte al serviciilor pentru întreprinderi ale Petrobras.  \n",
       "3                                                                                                                                                                                                                                                                                                     Dirceu este cel mai vechi membru al Partidului Muncitorilor aflat la guvernare luat în custodie pentru legăturile cu această schemă.  \n",
       "4                                                                                                                                                                                                                                                                                                                                   Dirceu a servit ca șef de cabinet al fostului președinte Luiz Inacio Lula da Silva între 2003 și 2005.  \n",
       "...                                                                                                                                                                                                                                                                                                                                                                                                                                    ...  \n",
       "1993                                                                                                                                                                                                                                                                                                                                                      Alți câștigători au fost Adrian Drăgan (Cupa Dacia) și Vlad Cosma (Cupa Suzuki).  \n",
       "1994                                                                                                                                                                                                                                                                                                                                               Echipajul ieșean Dan Iamandi - Răzvan Subțirelu a abandonat în timpul specialei a opta.  \n",
       "1995                                                                                                                                                                                                                                                                                                                                                                              Am trecut prin toată gama de trăiri în această perioadă.  \n",
       "1996                                                                                                                                                                                                                                                                       Reacția pozitivă a piloților și oficialilor Federației mă face să sper că vom fi și în acest an campion la organizare, a spus managerul raliului, Dan Codreanu.  \n",
       "1997  Raliul Iașului Cotnari a fost organizat de XS Motorsport (manager, Dan Codreanu) în parteneriat cu Compania Cotnari, Primaria Municipiului Iași, Hotel Internațional, Ford Iași - ATI Motors Holding, cu sprijinul Direcției Silvice Iași, Inspectoratul Județean de Politie, Inspectoratul Județean de Jandarmi, Inspectoratul pentru Situații de Urgență, Serviciul de Ambulanță Consiliul Județean și, Prefectura Județului Iași.  \n",
       "\n",
       "[1998 rows x 2 columns]"
      ]
     },
     "execution_count": 3,
     "metadata": {},
     "output_type": "execute_result"
    }
   ],
   "source": [
    "pd.set_option('display.max_colwidth', None)\n",
    "newstest_both"
   ]
  },
  {
   "cell_type": "code",
   "execution_count": 4,
   "metadata": {},
   "outputs": [
    {
     "name": "stdout",
     "output_type": "stream",
     "text": [
      "Requirement already satisfied: sacremoses in /home/bernadeta/python-venvs/ba-env/lib/python3.6/site-packages (0.0.45)\n",
      "Requirement already satisfied: regex in /home/bernadeta/python-venvs/ba-env/lib/python3.6/site-packages (from sacremoses) (2021.4.4)\n",
      "Requirement already satisfied: six in /home/bernadeta/python-venvs/ba-env/lib/python3.6/site-packages (from sacremoses) (1.16.0)\n",
      "Requirement already satisfied: tqdm in /home/bernadeta/python-venvs/ba-env/lib/python3.6/site-packages (from sacremoses) (4.61.1)\n",
      "Requirement already satisfied: click in /home/bernadeta/python-venvs/ba-env/lib/python3.6/site-packages (from sacremoses) (8.0.1)\n",
      "Requirement already satisfied: joblib in /home/bernadeta/python-venvs/ba-env/lib/python3.6/site-packages (from sacremoses) (1.0.1)\n",
      "Requirement already satisfied: importlib-metadata in /home/bernadeta/python-venvs/ba-env/lib/python3.6/site-packages (from click->sacremoses) (4.6.0)\n",
      "Requirement already satisfied: typing-extensions>=3.6.4 in /home/bernadeta/python-venvs/ba-env/lib/python3.6/site-packages (from importlib-metadata->click->sacremoses) (3.10.0.0)\n",
      "Requirement already satisfied: zipp>=0.5 in /home/bernadeta/python-venvs/ba-env/lib/python3.6/site-packages (from importlib-metadata->click->sacremoses) (3.4.1)\n",
      "100%|█████████████████████████████████████| 1999/1999 [00:01<00:00, 1929.04it/s]\n",
      "100%|█████████████████████████████████████| 1999/1999 [00:00<00:00, 2472.07it/s]\n"
     ]
    }
   ],
   "source": [
    "! pip install -U sacremoses\n",
    "\n",
    "! sacremoses -l \"en\" -j 8 tokenize < newsdev_en.txt > tok_newsdev.en\n",
    "! sacremoses -l \"ro\" -j 8 tokenize < newsdev_ro.txt > tok_newsdev.ro"
   ]
  },
  {
   "cell_type": "code",
   "execution_count": 9,
   "metadata": {},
   "outputs": [
    {
     "name": "stdout",
     "output_type": "stream",
     "text": [
      "/home/bernadeta/BA_code/data/02-preprocessed/02-02-bicleaner-preprocessed\n"
     ]
    }
   ],
   "source": [
    "%cd /home/bernadeta/BA_code/data/02-preprocessed/02-02-bicleaner-preprocessed"
   ]
  },
  {
   "cell_type": "code",
   "execution_count": 11,
   "metadata": {},
   "outputs": [],
   "source": [
    "! subword-nmt apply-bpe -c /home/bernadeta/BA_code/data/02-preprocessed/bpe.codes.8000 < /home/bernadeta/BA_code/data/02-preprocessed/newsdev2016/tok_newsdev.en > tok_newsdev.bpe.en\n",
    "! subword-nmt apply-bpe -c /home/bernadeta/BA_code/data/02-preprocessed/bpe.codes.8000 < /home/bernadeta/BA_code/data/02-preprocessed/newsdev2016/tok_newsdev.ro > tok_newsdev.bpe.ro"
   ]
  },
  {
   "cell_type": "code",
   "execution_count": null,
   "metadata": {},
   "outputs": [],
   "source": [
    "!wc -l tok_newstest*"
   ]
  },
  {
   "cell_type": "code",
   "execution_count": null,
   "metadata": {},
   "outputs": [],
   "source": [
    "!head tok_newstest*"
   ]
  }
 ],
 "metadata": {
  "interpreter": {
   "hash": "a4916cd12ee39cb2350b6989a6656d6368d271ce25ea714d6ddb0152fb90db1c"
  },
  "kernelspec": {
   "display_name": "Python 3.6.8 64-bit ('ba-env': venv)",
   "name": "python3"
  },
  "language_info": {
   "codemirror_mode": {
    "name": "ipython",
    "version": 3
   },
   "file_extension": ".py",
   "mimetype": "text/x-python",
   "name": "python",
   "nbconvert_exporter": "python",
   "pygments_lexer": "ipython3",
   "version": "3.6.8"
  },
  "orig_nbformat": 4
 },
 "nbformat": 4,
 "nbformat_minor": 2
}