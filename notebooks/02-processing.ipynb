{
  "nbformat": 4,
  "nbformat_minor": 0,
  "metadata": {
    "colab": {
      "name": "prepare_dcep_new.ipynb",
      "provenance": []
    },
    "kernelspec": {
      "name": "python3",
      "display_name": "Python 3.6.8 64-bit ('ba-env': venv)"
    },
    "language_info": {
      "name": "python",
      "version": "3.6.8"
    },
    "interpreter": {
      "hash": "3a49f9c478bb8acf79e8d4394dd772c4b6effd3dc1bcc10da60d89375c51c795"
    }
  },
  "cells": [
    {
      "cell_type": "code",
      "metadata": {
        "id": "V1nYIcKJbJRC"
      },
      "source": [
        "%cd /content/\n",
        "! git clone https://github.com/joeynmt/joeynmt.git"
      ],
      "execution_count": null,
      "outputs": []
    },
    {
      "cell_type": "code",
      "metadata": {
        "id": "m4lAdp55bOnF"
      },
      "source": [
        "% cd joeynmt/\n",
        "!pip3 install ."
      ],
      "execution_count": null,
      "outputs": []
    },
    {
      "cell_type": "code",
      "metadata": {
        "id": "_hTm6NeVbSUu"
      },
      "source": [
        "!pip install torch==1.8.0+cu111 torchvision==0.9.0+cu111 torchaudio==0.8.0 -f https://download.pytorch.org/whl/torch_stable.html"
      ],
      "execution_count": null,
      "outputs": []
    },
    {
      "cell_type": "code",
      "metadata": {
        "colab": {
          "base_uri": "https://localhost:8080/"
        },
        "id": "x5Gvg1yYdEyG",
        "outputId": "d668403b-eaef-43af-fc71-ea57781c1e78"
      },
      "source": [
        "#preprocessing the data into subword tokens\n",
        "%cd /content/drive/MyDrive/data_en_ro/dcep_training_files\n",
        "\n",
        "#learn bpe on the training data\n",
        "#! cat vocab.$src\n",
        "! subword-nmt learn-joint-bpe-and-vocab --input train.en train.ro -s 30000 -o bpe.codes.30000 --write-vocabulary vocab.en vocab.ro\n",
        "\n",
        "#apply BPE splits to the dev and test data\n",
        "! subword-nmt apply-bpe -c bpe.codes.30000 --vocabulary vocab.en < train.en > train.bpe.en\n",
        "! subword-nmt apply-bpe -c bpe.codes.30000 --vocabulary vocab.ro < train.ro > train.bpe.ro\n",
        "\n",
        "! subword-nmt apply-bpe -c bpe.codes.30000 --vocabulary vocab.en < val.en > val.bpe.en\n",
        "! subword-nmt apply-bpe -c bpe.codes.30000 --vocabulary vocab.ro < val.ro > val.bpe.ro\n",
        "\n",
        "! subword-nmt apply-bpe -c bpe.codes.30000 --vocabulary vocab.en < test.en > test.bpe.en\n",
        "! subword-nmt apply-bpe -c bpe.codes.30000 --vocabulary vocab.ro < test.ro > test.bpe.ro"
      ],
      "execution_count": null,
      "outputs": [
        {
          "output_type": "stream",
          "text": [
            "/content/drive/MyDrive/data_en_ro/dcep_training_files\n"
          ],
          "name": "stdout"
        }
      ]
    },
    {
      "cell_type": "code",
      "metadata": {
        "colab": {
          "base_uri": "https://localhost:8080/"
        },
        "id": "mqFAIGAGTD_v",
        "outputId": "3a3f6a76-554a-4b6f-de7b-e66c284fad7e"
      },
      "source": [
        "! pip install -U sacremoses\n",
        "\n",
        "! sacremoses -l \"en\" -j 8 tokenize < train.en > tok_train.en\n",
        "! sacremoses -l \"ro\" -j 8 tokenize < train.ro > tok_train.ro\n",
        "\n",
        "! sacremoses -l \"en\" -j 8 tokenize < val.en > tok_val.en\n",
        "! sacremoses -l \"ro\" -j 8 tokenize < val.ro > tok_val.ro\n",
        "\n",
        "! sacremoses -l \"en\" -j 8 tokenize < test.en > tok_test.en\n",
        "! sacremoses -l \"ro\" -j 8 tokenize < test.ro > tok_test.ro\n"
      ],
      "execution_count": null,
      "outputs": [
        {
          "output_type": "stream",
          "text": [
            "Requirement already up-to-date: sacremoses in /usr/local/lib/python3.7/dist-packages (0.0.45)\n",
            "Requirement already satisfied, skipping upgrade: joblib in /usr/local/lib/python3.7/dist-packages (from sacremoses) (1.0.1)\n",
            "Requirement already satisfied, skipping upgrade: regex in /usr/local/lib/python3.7/dist-packages (from sacremoses) (2019.12.20)\n",
            "Requirement already satisfied, skipping upgrade: tqdm in /usr/local/lib/python3.7/dist-packages (from sacremoses) (4.41.1)\n",
            "Requirement already satisfied, skipping upgrade: click in /usr/local/lib/python3.7/dist-packages (from sacremoses) (7.1.2)\n",
            "Requirement already satisfied, skipping upgrade: six in /usr/local/lib/python3.7/dist-packages (from sacremoses) (1.12.0)\n",
            "100% 783896/783896 [02:43<00:00, 4805.20it/s]\n",
            "100% 783896/783896 [02:04<00:00, 6292.90it/s]\n",
            "100% 2000/2000 [00:03<00:00, 608.97it/s]\n",
            "100% 2000/2000 [00:02<00:00, 768.00it/s]\n",
            "100% 2000/2000 [00:03<00:00, 617.02it/s]\n",
            "100% 2000/2000 [00:02<00:00, 844.84it/s]\n"
          ],
          "name": "stdout"
        }
      ]
    },
    {
      "cell_type": "code",
      "metadata": {
        "colab": {
          "base_uri": "https://localhost:8080/"
        },
        "id": "xNnmuetQWx4d",
        "outputId": "f11e2776-df3b-43e1-b924-3bcfa4f6b205"
      },
      "source": [
        "%cd /content/drive/MyDrive/data_en_ro/dcep_training_files/splitted_tokenization/\n",
        "\n",
        "! subword-nmt learn-joint-bpe-and-vocab --input tok_train.en tok_train.ro -s 30000 -o bpe.codes.30000 --write-vocabulary vocab.en vocab.ro\n",
        "\n",
        "#apply BPE splits to the dev and test data\n",
        "! subword-nmt apply-bpe -c bpe.codes.30000 --vocabulary vocab.en < tok_train.en > tok_train.bpe.en\n",
        "! subword-nmt apply-bpe -c bpe.codes.30000 --vocabulary vocab.ro < tok_train.ro > tok_train.bpe.ro\n",
        "\n",
        "! subword-nmt apply-bpe -c bpe.codes.30000 --vocabulary vocab.en < tok_val.en > tok_val.bpe.en\n",
        "! subword-nmt apply-bpe -c bpe.codes.30000 --vocabulary vocab.ro < tok_val.ro > tok_val.bpe.ro\n",
        "\n",
        "! subword-nmt apply-bpe -c bpe.codes.30000 --vocabulary vocab.en < tok_test.en > tok_test.bpe.en\n",
        "! subword-nmt apply-bpe -c bpe.codes.30000 --vocabulary vocab.ro < tok_test.ro > tok_test.bpe.ro"
      ],
      "execution_count": null,
      "outputs": [
        {
          "output_type": "stream",
          "text": [
            "/content/drive/MyDrive/data_en_ro/dcep_training_files/splitted_tokenization\n"
          ],
          "name": "stdout"
        }
      ]
    },
    {
      "cell_type": "code",
      "metadata": {
        "colab": {
          "base_uri": "https://localhost:8080/"
        },
        "id": "Uy7ECrsvZUCH",
        "outputId": "e27c9571-103e-4ad7-8f93-e585a731012b"
      },
      "source": [
        "%cd /content/drive/MyDrive/data_en_ro/dcep_training_files/splitted_BPE/\n",
        "!wc -l *"
      ],
      "execution_count": null,
      "outputs": [
        {
          "output_type": "stream",
          "text": [
            "/content/drive/MyDrive/data_en_ro/dcep_training_files/splitted_BPE\n",
            "    30001 bpe.codes.30000\n",
            "     2000 test.bpe.en\n",
            "     2000 test.bpe.ro\n",
            "   783896 train.bpe.en\n",
            "   783896 train.bpe.ro\n",
            "     2000 val.bpe.en\n",
            "     2000 val.bpe.ro\n",
            "    21712 vocab.en\n",
            "    30206 vocab.ro\n",
            "  1657711 total\n"
          ],
          "name": "stdout"
        }
      ]
    },
    {
      "cell_type": "code",
      "metadata": {
        "colab": {
          "base_uri": "https://localhost:8080/"
        },
        "id": "8lJX5XIMExbu",
        "outputId": "22300808-381f-43bd-a1cb-e1a5c9f599fa"
      },
      "source": [
        "!head /content/drive/MyDrive/data_en_ro/dcep_full/clean_vocab.txt"
      ],
      "execution_count": null,
      "outputs": [
        {
          "output_type": "stream",
          "text": [
            ",\n",
            "&quot;\n",
            "the\n",
            "de\n",
            "of\n",
            "a\n",
            "and\n",
            ".\n",
            "to\n",
            "în\n"
          ],
          "name": "stdout"
        }
      ]
    },
    {
      "cell_type": "code",
      "metadata": {
        "colab": {
          "base_uri": "https://localhost:8080/"
        },
        "id": "yJCkrxLYeRr8",
        "outputId": "99797b5b-141f-4c67-a088-536a9c6dae84"
      },
      "source": [
        "!wc -l /content/drive/MyDrive/data_en_ro/dcep_full/*.bpe.*"
      ],
      "execution_count": null,
      "outputs": [
        {
          "output_type": "stream",
          "text": [
            "    10000 /content/drive/MyDrive/data_en_ro/dcep_full/clean_dev.bpe.en\n",
            "    10000 /content/drive/MyDrive/data_en_ro/dcep_full/clean_dev.bpe.ro\n",
            "   157580 /content/drive/MyDrive/data_en_ro/dcep_full/clean_test.bpe.en\n",
            "   157580 /content/drive/MyDrive/data_en_ro/dcep_full/clean_test.bpe.ro\n",
            "   620316 /content/drive/MyDrive/data_en_ro/dcep_full/clean_train.bpe.en\n",
            "   620316 /content/drive/MyDrive/data_en_ro/dcep_full/clean_train.bpe.ro\n",
            "  1575792 total\n"
          ],
          "name": "stdout"
        }
      ]
    },
    {
      "cell_type": "code",
      "metadata": {
        "colab": {
          "base_uri": "https://localhost:8080/"
        },
        "id": "k8_VVRytgBya",
        "outputId": "6d93e71b-4623-49c9-e3dc-81d55072db5b"
      },
      "source": [
        "%cd /content/drive/MyDrive/data_en_ro/dcep_training_files/splitted_BPE"
      ],
      "execution_count": null,
      "outputs": [
        {
          "output_type": "stream",
          "text": [
            "/content/drive/MyDrive/data_en_ro/dcep_training_files/splitted_BPE\n"
          ],
          "name": "stdout"
        }
      ]
    },
    {
      "cell_type": "code",
      "metadata": {
        "colab": {
          "base_uri": "https://localhost:8080/"
        },
        "id": "m9SWFHa0eZky",
        "outputId": "4cebc0e6-81cc-421d-84ce-d7d35e441e53"
      },
      "source": [
        "! sudo chmod 777 /content/joeynmt/scripts/build_vocab.py\n",
        "! /content/joeynmt/scripts/build_vocab.py train.bpe.en train.bpe.ro --output_path vocab.txt\n",
        "\n",
        "\n",
        "#some output\n",
        "! echo \"BPE Sentences english\"\n",
        "! head -n 5 /content/drive/MyDrive/data_en_ro/dcep_training_files/splitted_BPE/test.bpe.en\n",
        "\n",
        "! echo \"BPE Sentences ro\"\n",
        "! head -n 5 /content/drive/MyDrive/data_en_ro/dcep_training_files/splitted_BPE/test.bpe.ro\n",
        "\n",
        "! echo \"Combined BPE Vocab\"\n",
        "! head -n 10 /content/drive/MyDrive/data_en_ro/dcep_training_files/splitted_BPE/vocab.txt"
      ],
      "execution_count": null,
      "outputs": [
        {
          "output_type": "stream",
          "text": [
            "BPE Sentences english\n",
            "Considers the Agency to be a source of important environmental information for all EU institutions and policy-@@ mak@@ ing; notes with satisfaction that the Agency has been able to trans@@ form some complic@@ ated data into clear conclusions and to communicate them to the public, such as the Agency's environmental statement 2006 and specific reports on bi@@ o energy and greenhouse gas emission trends and pro@@ jec@@ tions in Europe;\n",
            "00@@ 02@@ /2009 )\n",
            "Urges all the institutions to cooperate construc@@ tively with the Ombudsman at all stages of the procedure, to ab@@ ide by am@@ ic@@ able sett@@ lement@@ s, to follow up his critical remarks and to apply his draft recommend@@ ations;\n",
            "having regard to its resolution of 14 December 2006 on A European strategy for sustainable, competitive and secure energy − Green paper Texts adopted, P6_TA(2006)0@@ 60@@ 3 .\n",
            "These pap@@ ers began to be submitted to ACP parliaments at the end of 2007 and it is important for the Committee on Development and the JPA to monitor the situation to ensure that this instrument of parliamentary control works effectiv@@ ely.\n",
            "BPE Sentences ro\n",
            "33@@ . consideră că agenția este o sursă importantă de informații privind mediul pentru toate instituțiile UE și pentru procesul decizion@@ al; observă cu satisfacție că agenția a reușit să trans@@ forme informații complic@@ ate în concluzii clare și să le comunice public@@ ului; printre acestea se afl@@ ă: declarația de mediu a agenției din 2006 și anumite rapoarte privind bio@@ energia și tend@@ ințele și estimările referitoare la emisiile de gaze cu efect de seră în Europa;\n",
            "00@@ 02@@ /2009 )\n",
            "îndeamnă toate instituţiile să coopereze în mod constructiv cu Ombudsmanul în toate etapele proced@@ urii, să accepte solu@@ ţiile ami@@ abile, să dea curs observ@@ aţiilor critice şi să pună în aplicare proiectele de recomand@@ are;\n",
            "având în vedere Rezoluţia sa din 14 decembrie 2006 privind strategia europeană pentru energia durabilă, competitivă şi sigură – Cartea verde Texte adoptate, P6_TA(2006)0@@ 60@@ 3 .\n",
            "C@@ es documents commen@@ cent à être so@@ um@@ is aux par@@ lements ACP depu@@ is fin 2007 et il est important qu'@@ un su@@ iv@@ i so@@ it effect@@ u@@ é par la commission du développement et l'@@ APP pour s'@@ assu@@ rer du bon fon@@ c@@ tion@@ n@@ ement de ce@@ t instrument de contr@@ ôle par@@ lement@@ ai@@ re.\n",
            "Combined BPE Vocab\n",
            "the\n",
            "de\n",
            "of\n",
            "a\n",
            "and\n",
            "to\n",
            "în\n",
            "in\n",
            "și\n",
            "la\n"
          ],
          "name": "stdout"
        }
      ]
    },
    {
      "cell_type": "code",
      "metadata": {
        "colab": {
          "base_uri": "https://localhost:8080/"
        },
        "id": "Wy1kxQGWdAzN",
        "outputId": "2c6860ad-a855-463b-b496-fce2b140ad45"
      },
      "source": [
        "%cd /content/drive/MyDrive/data_en_ro/dcep_full/"
      ],
      "execution_count": null,
      "outputs": [
        {
          "output_type": "stream",
          "text": [
            "/content/drive/MyDrive/data_en_ro/dcep_full\n"
          ],
          "name": "stdout"
        }
      ]
    },
    {
      "cell_type": "code",
      "metadata": {
        "colab": {
          "base_uri": "https://localhost:8080/"
        },
        "id": "0IT5MRVrgQnr",
        "outputId": "aa89d21a-771c-43d9-d25b-0dbd41b6fd09"
      },
      "source": [
        "!wc -l /home/bernadeta/BA_code/data/00-raw/EN-RO-bisentences.txt"
      ],
      "execution_count": null,
      "outputs": [
        {
          "output_type": "stream",
          "text": [
            "25055 clean_vocab.txt\n"
          ],
          "name": "stdout"
        }
      ]
    },
    {
      "cell_type": "code",
      "metadata": {
        "id": "ZVXUGh2GdJp_"
      },
      "source": [
        "from bs4 import BeautifulSoup\n",
        "\n",
        "with open(\"/home/bernadeta/BA_code/data/newstest2016-enro-ref.ro.sgm\") as new1_ro, open(\"newstest_ro_strip.txt\", \"w\") as new_ro:\n",
        "    soup=BeautifulSoup(new1_ro, 'html.parser')\n",
        "    new_ro.write(soup.get_text())\n",
        "\n",
        "with open(\"/home/bernadeta/BA_code/data/newstest2016-enro-src.en.sgm\") as new1_en, open(\"newstest_en_strip.txt\", \"w\") as new_en:\n",
        "    soup=BeautifulSoup(new1_en, 'html.parser')\n",
        "    new_en.write(soup.get_text())"
      ],
      "execution_count": 33,
      "outputs": []
    },
    {
      "cell_type": "code",
      "execution_count": 36,
      "metadata": {},
      "outputs": [],
      "source": [
        "import pandas as pd\n",
        "\n",
        "df_ro=pd.read_csv(\"newstest_ro_strip.txt\", sep=\"\\n\")\n",
        "df_ro.to_csv(\"newstest_ro.txt\", index=False)\n",
        "\n",
        "df_en=pd.read_csv(\"newstest_en_strip.txt\", sep=\"\\n+\", skip_blank_lines=True)\n",
        "df_en.to_csv(\"newstest_en.txt\", index=False)\n"
      ]
    },
    {
      "cell_type": "code",
      "execution_count": 74,
      "metadata": {},
      "outputs": [],
      "source": [
        "newstest_both=pd.concat([df_en, df_ro], axis=1)"
      ]
    },
    {
      "cell_type": "code",
      "execution_count": 75,
      "metadata": {},
      "outputs": [
        {
          "output_type": "execute_result",
          "data": {
            "text/plain": [
              "                                                                                                                                                                                                                           UN Chief Says There Is No Military Solution in Syria  \\\n",
              "0                  Secretary-General Ban Ki-moon says his response to Russia's stepped up military support for Syria is that \"there is no military solution\" to the nearly five-year conflict and more weapons will only worsen the violence and misery for millions of people.   \n",
              "1                                                                                                                The U.N. chief again urged all parties, including the divided U.N. Security Council, to unite and support inclusive negotiations to find a political solution.   \n",
              "2     Ban told a news conference Wednesday that he plans to meet with foreign ministers of the five permanent council nations - the U.S., Russia, China, Britain and France - on the sidelines of the General Assembly's ministerial session later this month to discuss Syria.   \n",
              "3                                                                                                                                           He expressed regret that divisions in the council and among the Syrian people and regional powers \"made this situation unsolvable.\"   \n",
              "4                                                                                                                              Ban urged the five permanent members to show the solidarity and unity they did in achieving an Iran nuclear deal in addressing the Syria crisis.   \n",
              "...                                                                                                                                                                                                                                                                         ...   \n",
              "1993                                                                                                                                                                                                                                                           Money is enough.   \n",
              "1994                                                                                                                                                                                                          Sometimes I'm ashamed to take my money from the cashier's office.   \n",
              "1995                                                                                                                                                     At the end of the office I will report everything I spent besides the cabinet employees' salaries and its maintenance.   \n",
              "1996                                                                                                                                                        One month I happened to collect 30,000 lei with the reimbursements for transport, accommodation and other expenses.   \n",
              "1997                                                                                                                                                                                  \"To say that an MP does not have enough money is pure hypocrisy\" concluded little Blăjuț.   \n",
              "\n",
              "                                                                                                                                                                                                                                                  Șeful ONU declară că nu există soluții militare în Siria  \n",
              "0                     Secretarul General Ban Ki-moon afirmă că răspunsul său la suportul militar al Rusiei pentru Siria este că „nu există o soluție militară” la conflictul care durează de aproape cinci ani iar mai multe arme nu ar face decât să agraveze violența și suferința a milioane de oameni.  \n",
              "1                                                                                                                                 Șeful ONU a solicitat din nou tuturor părților, inclusiv Consiliului de securitate ONU divizat să se unifice și să susțină negocierile pentru a găsi o soluție politică.  \n",
              "2     Ban a declarat miercuri în cadrul unei conferințe că intenționează să se întâlnească luna aceasta cu miniștrii de externe din cinci țări permanent prezente în consiliu - SUA, Rusia, China, Anglia și Franța - pe marginea sesiunii ministeriale a Adunării Generale pentru a discuta despre Siria.  \n",
              "3                                                                                                                                                            Ban și-a exprimat regretul că divizările în consiliu și între poporul sirian și puterile regionale „au făcut această situație de nerezolvat”.  \n",
              "4                                                                                    Ban le-a cerut celor cinci membri permanenți să dea dovadă de solidaritatea și unitatea arătate atunci când au reușit să încheie un acord referitor la armele nucleare ale Iranului, abordând astfel criza din Siria.  \n",
              "...                                                                                                                                                                                                                                                                                                    ...  \n",
              "1993                                                                                                                                                                                                                                                                                  Nu sunt bani puțini.  \n",
              "1994                                                                                                                                                                                                                                                     Uneori mi-e rușine să ridic banii de la casierie.  \n",
              "1995                                                                                                                                                             La sfârșitul mandatului voi face un raport cu tot ce am cheltuit, în afara salariilor angajaților de la cabinet și întreținerea acestuia.  \n",
              "1996                                                                                                                                                                                          S-a întâmplat să ridic într-o lună și 30.000 de lei, cu toate deconturile de transport, cazare și celelalte.  \n",
              "1997                                                                                                                                                                                                                    Să spună un parlamentar că nu-i ajung banii e ipocrizie curată, a încheiat Blăjuț.  \n",
              "\n",
              "[1998 rows x 2 columns]"
            ],
            "text/html": "<div>\n<style scoped>\n    .dataframe tbody tr th:only-of-type {\n        vertical-align: middle;\n    }\n\n    .dataframe tbody tr th {\n        vertical-align: top;\n    }\n\n    .dataframe thead th {\n        text-align: right;\n    }\n</style>\n<table border=\"1\" class=\"dataframe\">\n  <thead>\n    <tr style=\"text-align: right;\">\n      <th></th>\n      <th>UN Chief Says There Is No Military Solution in Syria</th>\n      <th>Șeful ONU declară că nu există soluții militare în Siria</th>\n    </tr>\n  </thead>\n  <tbody>\n    <tr>\n      <th>0</th>\n      <td>Secretary-General Ban Ki-moon says his response to Russia's stepped up military support for Syria is that \"there is no military solution\" to the nearly five-year conflict and more weapons will only worsen the violence and misery for millions of people.</td>\n      <td>Secretarul General Ban Ki-moon afirmă că răspunsul său la suportul militar al Rusiei pentru Siria este că „nu există o soluție militară” la conflictul care durează de aproape cinci ani iar mai multe arme nu ar face decât să agraveze violența și suferința a milioane de oameni.</td>\n    </tr>\n    <tr>\n      <th>1</th>\n      <td>The U.N. chief again urged all parties, including the divided U.N. Security Council, to unite and support inclusive negotiations to find a political solution.</td>\n      <td>Șeful ONU a solicitat din nou tuturor părților, inclusiv Consiliului de securitate ONU divizat să se unifice și să susțină negocierile pentru a găsi o soluție politică.</td>\n    </tr>\n    <tr>\n      <th>2</th>\n      <td>Ban told a news conference Wednesday that he plans to meet with foreign ministers of the five permanent council nations - the U.S., Russia, China, Britain and France - on the sidelines of the General Assembly's ministerial session later this month to discuss Syria.</td>\n      <td>Ban a declarat miercuri în cadrul unei conferințe că intenționează să se întâlnească luna aceasta cu miniștrii de externe din cinci țări permanent prezente în consiliu - SUA, Rusia, China, Anglia și Franța - pe marginea sesiunii ministeriale a Adunării Generale pentru a discuta despre Siria.</td>\n    </tr>\n    <tr>\n      <th>3</th>\n      <td>He expressed regret that divisions in the council and among the Syrian people and regional powers \"made this situation unsolvable.\"</td>\n      <td>Ban și-a exprimat regretul că divizările în consiliu și între poporul sirian și puterile regionale „au făcut această situație de nerezolvat”.</td>\n    </tr>\n    <tr>\n      <th>4</th>\n      <td>Ban urged the five permanent members to show the solidarity and unity they did in achieving an Iran nuclear deal in addressing the Syria crisis.</td>\n      <td>Ban le-a cerut celor cinci membri permanenți să dea dovadă de solidaritatea și unitatea arătate atunci când au reușit să încheie un acord referitor la armele nucleare ale Iranului, abordând astfel criza din Siria.</td>\n    </tr>\n    <tr>\n      <th>...</th>\n      <td>...</td>\n      <td>...</td>\n    </tr>\n    <tr>\n      <th>1993</th>\n      <td>Money is enough.</td>\n      <td>Nu sunt bani puțini.</td>\n    </tr>\n    <tr>\n      <th>1994</th>\n      <td>Sometimes I'm ashamed to take my money from the cashier's office.</td>\n      <td>Uneori mi-e rușine să ridic banii de la casierie.</td>\n    </tr>\n    <tr>\n      <th>1995</th>\n      <td>At the end of the office I will report everything I spent besides the cabinet employees' salaries and its maintenance.</td>\n      <td>La sfârșitul mandatului voi face un raport cu tot ce am cheltuit, în afara salariilor angajaților de la cabinet și întreținerea acestuia.</td>\n    </tr>\n    <tr>\n      <th>1996</th>\n      <td>One month I happened to collect 30,000 lei with the reimbursements for transport, accommodation and other expenses.</td>\n      <td>S-a întâmplat să ridic într-o lună și 30.000 de lei, cu toate deconturile de transport, cazare și celelalte.</td>\n    </tr>\n    <tr>\n      <th>1997</th>\n      <td>\"To say that an MP does not have enough money is pure hypocrisy\" concluded little Blăjuț.</td>\n      <td>Să spună un parlamentar că nu-i ajung banii e ipocrizie curată, a încheiat Blăjuț.</td>\n    </tr>\n  </tbody>\n</table>\n<p>1998 rows × 2 columns</p>\n</div>"
          },
          "metadata": {},
          "execution_count": 75
        }
      ],
      "source": [
        "pd.set_option('display.max_colwidth', None)\n",
        "newstest_both"
      ]
    },
    {
      "source": [
        "## Preprocess newstest2016 to try trained models on it"
      ],
      "cell_type": "markdown",
      "metadata": {}
    },
    {
      "cell_type": "code",
      "execution_count": 1,
      "metadata": {},
      "outputs": [
        {
          "output_type": "stream",
          "name": "stdout",
          "text": [
            "Requirement already satisfied: sacremoses in /home/bernadeta/python-venvs/ba-env/lib/python3.6/site-packages (0.0.45)\n",
            "Requirement already satisfied: regex in /home/bernadeta/python-venvs/ba-env/lib/python3.6/site-packages (from sacremoses) (2021.4.4)\n",
            "Requirement already satisfied: click in /home/bernadeta/python-venvs/ba-env/lib/python3.6/site-packages (from sacremoses) (8.0.1)\n",
            "Requirement already satisfied: joblib in /home/bernadeta/python-venvs/ba-env/lib/python3.6/site-packages (from sacremoses) (1.0.1)\n",
            "Requirement already satisfied: tqdm in /home/bernadeta/python-venvs/ba-env/lib/python3.6/site-packages (from sacremoses) (4.61.1)\n",
            "Requirement already satisfied: six in /home/bernadeta/python-venvs/ba-env/lib/python3.6/site-packages (from sacremoses) (1.16.0)\n",
            "Requirement already satisfied: importlib-metadata in /home/bernadeta/python-venvs/ba-env/lib/python3.6/site-packages (from click->sacremoses) (4.6.0)\n",
            "Requirement already satisfied: typing-extensions>=3.6.4 in /home/bernadeta/python-venvs/ba-env/lib/python3.6/site-packages (from importlib-metadata->click->sacremoses) (3.10.0.0)\n",
            "Requirement already satisfied: zipp>=0.5 in /home/bernadeta/python-venvs/ba-env/lib/python3.6/site-packages (from importlib-metadata->click->sacremoses) (3.4.1)\n",
            "100%|█████████████████████████████████████| 1999/1999 [00:01<00:00, 1490.71it/s]\n",
            "100%|█████████████████████████████████████| 1999/1999 [00:00<00:00, 2383.91it/s]\n"
          ]
        }
      ],
      "source": [
        "! pip install -U sacremoses\n",
        "\n",
        "! sacremoses -l \"en\" -j 8 tokenize < /home/bernadeta/BA_code/data/newstest_en.txt > tok_newstest.en\n",
        "! sacremoses -l \"ro\" -j 8 tokenize < /home/bernadeta/BA_code/data/newstest_ro.txt > tok_newstest.ro"
      ]
    },
    {
      "cell_type": "code",
      "execution_count": 2,
      "metadata": {},
      "outputs": [
        {
          "output_type": "stream",
          "name": "stdout",
          "text": [
            "/home/bernadeta/BA_code/data/02-preprocessed/02-02-bicleaner-preprocessed\n"
          ]
        }
      ],
      "source": [
        "%cd /home/bernadeta/BA_code/data/02-preprocessed/02-02-bicleaner-preprocessed"
      ]
    },
    {
      "cell_type": "code",
      "execution_count": 4,
      "metadata": {},
      "outputs": [],
      "source": [
        "! subword-nmt apply-bpe -c bpe.codes.30000 < /home/bernadeta/BA_code/data/tok_newstest.en > tok_newstest.bpe.en\n",
        "! subword-nmt apply-bpe -c bpe.codes.30000 < /home/bernadeta/BA_code/data/tok_newstest.ro > tok_newstest.bpe.ro"
      ]
    },
    {
      "cell_type": "code",
      "execution_count": 5,
      "metadata": {},
      "outputs": [
        {
          "output_type": "stream",
          "name": "stdout",
          "text": [
            "  1999 tok_newstest.bpe.en\n  1999 tok_newstest.bpe.ro\n  3998 insgesamt\n"
          ]
        }
      ],
      "source": [
        "!wc -l tok_newstest*"
      ]
    },
    {
      "cell_type": "code",
      "execution_count": 6,
      "metadata": {},
      "outputs": [
        {
          "output_type": "stream",
          "name": "stdout",
          "text": [
            "==> tok_newstest.bpe.en <==\nUN Chief S@@ ays There Is No Mili@@ tary S@@ olution in Syria\n&quot; Secretary-General Ban Ki-@@ mo@@ on says his response to Russia &apos;s stepped up military support for Syria is that &quot; &quot; there is no military solution &quot; &quot; to the nearly five-year conflict and more weapons will only wor@@ sen the violence and mis@@ ery for millions of people . &quot;\n&quot; The U@@ .@@ N. chief again urged all parties , including the divided U@@ .@@ N. Security Council , to unite and support inclusive negotiations to find a political solution . &quot;\n&quot; Ban told a news conference Wednesday that he plans to meet with foreign ministers of the five permanent counci@@ l nations - the U@@ .@@ S. , Russia , China , Bri@@ tain and France - on the si@@ de@@ lines of the General Assembly &apos;s ministerial session later this month to discuss Syria . &quot;\n&quot; He expressed regret that divisions in the counci@@ l and among the Syrian people and regional powers &quot; &quot; made this situation un@@ solv@@ able . &quot; &quot; &quot;\nBan urged the five permanent members to show the solidarity and unity they did in achieving an Iran nuclear deal in addressing the Syria crisis .\n8 Pol@@ l Num@@ bers That S@@ how Don@@ ald Tr@@ um@@ p Is For Re@@ al\nSome have tried to label him a f@@ lip@@ -@@ fl@@ op@@ per .\nO@@ thers have dismissed him as a jo@@ ke .\nAnd some are holding out for an im@@ plo@@ sion .\n\n==> tok_newstest.bpe.ro <==\nȘ@@ eful ONU declară că nu există soluții militare în Siria\nSecretarul General Ban Ki-@@ mo@@ on afirmă că răspunsul său la supor@@ tul militar al Rusiei pentru Siria este că „ nu există o soluție militară ” la conflictul care du@@ rează de aproape cinci ani iar mai multe arme nu ar face decât să ag@@ ra@@ veze violența și suferin@@ ța a milioane de oameni .\n&quot; Ș@@ eful ONU a solicitat din nou tuturor părților , inclusiv Consiliului de securitate ONU di@@ vizat să se uni@@ fice și să susțină negocierile pentru a găsi o soluție politică . &quot;\n&quot; Ban a declarat miercuri în cadrul unei conferințe că intenționează să se întâln@@ ească luna aceasta cu miniș@@ trii de externe din cinci țări permanent prezente în consiliu - SUA , Rusia , China , Ang@@ lia și Franța - pe marginea sesiunii ministeriale a Adunării Generale pentru a discuta despre Siria . &quot;\nBan și-a exprimat regretul că diviz@@ ările în consiliu și între poporul sirian și puterile regionale „ au făcut această situație de nerezol@@ v@@ at ” .\n&quot; Ban le-a cerut celor cinci membri perman@@ enți să dea dovadă de solidaritatea și unitatea ar@@ ătate atunci când au reușit să încheie un acord referitor la armele nucleare ale Iranului , abord@@ ând astfel criza din Siria . &quot;\n8 cifre din sond@@ aje care arată că Don@@ ald Tr@@ um@@ p are șanse reale\nUni@@ i au încercat să îl etiche@@ teze ca politici@@ an „ f@@ lip@@ -@@ f@@ lop ” .\nAl@@ ții l-au numit o g@@ lum@@ ă .\nI@@ ar alții așteaptă im@@ plo@@ zia .\n"
          ]
        }
      ],
      "source": [
        "!head tok_newstest*"
      ]
    },
    {
      "cell_type": "code",
      "execution_count": null,
      "metadata": {},
      "outputs": [],
      "source": []
    }
  ]
}