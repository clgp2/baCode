{
  "nbformat": 4,
  "nbformat_minor": 0,
  "metadata": {
    "colab": {
      "name": "prepare_dcep_new.ipynb",
      "provenance": []
    },
    "kernelspec": {
      "name": "python3",
      "display_name": "Python 3"
    },
    "language_info": {
      "name": "python"
    }
  },
  "cells": [
    {
      "cell_type": "code",
      "metadata": {
        "id": "V1nYIcKJbJRC"
      },
      "source": [
        "%cd /content/\n",
        "! git clone https://github.com/joeynmt/joeynmt.git"
      ],
      "execution_count": null,
      "outputs": []
    },
    {
      "cell_type": "code",
      "metadata": {
        "id": "m4lAdp55bOnF"
      },
      "source": [
        "% cd joeynmt/\n",
        "!pip3 install ."
      ],
      "execution_count": null,
      "outputs": []
    },
    {
      "cell_type": "code",
      "metadata": {
        "id": "_hTm6NeVbSUu"
      },
      "source": [
        "!pip install torch==1.8.0+cu111 torchvision==0.9.0+cu111 torchaudio==0.8.0 -f https://download.pytorch.org/whl/torch_stable.html"
      ],
      "execution_count": null,
      "outputs": []
    },
    {
      "cell_type": "code",
      "metadata": {
        "colab": {
          "base_uri": "https://localhost:8080/"
        },
        "id": "x5Gvg1yYdEyG",
        "outputId": "d668403b-eaef-43af-fc71-ea57781c1e78"
      },
      "source": [
        "#preprocessing the data into subword tokens\n",
        "%cd /content/drive/MyDrive/data_en_ro/dcep_training_files\n",
        "\n",
        "#learn bpe on the training data\n",
        "#! cat vocab.$src\n",
        "! subword-nmt learn-joint-bpe-and-vocab --input train.en train.ro -s 30000 -o bpe.codes.30000 --write-vocabulary vocab.en vocab.ro\n",
        "\n",
        "#apply BPE splits to the dev and test data\n",
        "! subword-nmt apply-bpe -c bpe.codes.30000 --vocabulary vocab.en < train.en > train.bpe.en\n",
        "! subword-nmt apply-bpe -c bpe.codes.30000 --vocabulary vocab.ro < train.ro > train.bpe.ro\n",
        "\n",
        "! subword-nmt apply-bpe -c bpe.codes.30000 --vocabulary vocab.en < val.en > val.bpe.en\n",
        "! subword-nmt apply-bpe -c bpe.codes.30000 --vocabulary vocab.ro < val.ro > val.bpe.ro\n",
        "\n",
        "! subword-nmt apply-bpe -c bpe.codes.30000 --vocabulary vocab.en < test.en > test.bpe.en\n",
        "! subword-nmt apply-bpe -c bpe.codes.30000 --vocabulary vocab.ro < test.ro > test.bpe.ro"
      ],
      "execution_count": null,
      "outputs": [
        {
          "output_type": "stream",
          "text": [
            "/content/drive/MyDrive/data_en_ro/dcep_training_files\n"
          ],
          "name": "stdout"
        }
      ]
    },
    {
      "cell_type": "code",
      "metadata": {
        "colab": {
          "base_uri": "https://localhost:8080/"
        },
        "id": "mqFAIGAGTD_v",
        "outputId": "3a3f6a76-554a-4b6f-de7b-e66c284fad7e"
      },
      "source": [
        "! pip install -U sacremoses\n",
        "\n",
        "! sacremoses -l \"en\" -j 8 tokenize < train.en > tok_train.en\n",
        "! sacremoses -l \"ro\" -j 8 tokenize < train.ro > tok_train.ro\n",
        "\n",
        "! sacremoses -l \"en\" -j 8 tokenize < val.en > tok_val.en\n",
        "! sacremoses -l \"ro\" -j 8 tokenize < val.ro > tok_val.ro\n",
        "\n",
        "! sacremoses -l \"en\" -j 8 tokenize < test.en > tok_test.en\n",
        "! sacremoses -l \"ro\" -j 8 tokenize < test.ro > tok_test.ro\n"
      ],
      "execution_count": null,
      "outputs": [
        {
          "output_type": "stream",
          "text": [
            "Requirement already up-to-date: sacremoses in /usr/local/lib/python3.7/dist-packages (0.0.45)\n",
            "Requirement already satisfied, skipping upgrade: joblib in /usr/local/lib/python3.7/dist-packages (from sacremoses) (1.0.1)\n",
            "Requirement already satisfied, skipping upgrade: regex in /usr/local/lib/python3.7/dist-packages (from sacremoses) (2019.12.20)\n",
            "Requirement already satisfied, skipping upgrade: tqdm in /usr/local/lib/python3.7/dist-packages (from sacremoses) (4.41.1)\n",
            "Requirement already satisfied, skipping upgrade: click in /usr/local/lib/python3.7/dist-packages (from sacremoses) (7.1.2)\n",
            "Requirement already satisfied, skipping upgrade: six in /usr/local/lib/python3.7/dist-packages (from sacremoses) (1.12.0)\n",
            "100% 783896/783896 [02:43<00:00, 4805.20it/s]\n",
            "100% 783896/783896 [02:04<00:00, 6292.90it/s]\n",
            "100% 2000/2000 [00:03<00:00, 608.97it/s]\n",
            "100% 2000/2000 [00:02<00:00, 768.00it/s]\n",
            "100% 2000/2000 [00:03<00:00, 617.02it/s]\n",
            "100% 2000/2000 [00:02<00:00, 844.84it/s]\n"
          ],
          "name": "stdout"
        }
      ]
    },
    {
      "cell_type": "code",
      "metadata": {
        "colab": {
          "base_uri": "https://localhost:8080/"
        },
        "id": "xNnmuetQWx4d",
        "outputId": "f11e2776-df3b-43e1-b924-3bcfa4f6b205"
      },
      "source": [
        "%cd /content/drive/MyDrive/data_en_ro/dcep_training_files/splitted_tokenization/\n",
        "\n",
        "! subword-nmt learn-joint-bpe-and-vocab --input tok_train.en tok_train.ro -s 30000 -o bpe.codes.30000 --write-vocabulary vocab.en vocab.ro\n",
        "\n",
        "#apply BPE splits to the dev and test data\n",
        "! subword-nmt apply-bpe -c bpe.codes.30000 --vocabulary vocab.en < tok_train.en > tok_train.bpe.en\n",
        "! subword-nmt apply-bpe -c bpe.codes.30000 --vocabulary vocab.ro < tok_train.ro > tok_train.bpe.ro\n",
        "\n",
        "! subword-nmt apply-bpe -c bpe.codes.30000 --vocabulary vocab.en < tok_val.en > tok_val.bpe.en\n",
        "! subword-nmt apply-bpe -c bpe.codes.30000 --vocabulary vocab.ro < tok_val.ro > tok_val.bpe.ro\n",
        "\n",
        "! subword-nmt apply-bpe -c bpe.codes.30000 --vocabulary vocab.en < tok_test.en > tok_test.bpe.en\n",
        "! subword-nmt apply-bpe -c bpe.codes.30000 --vocabulary vocab.ro < tok_test.ro > tok_test.bpe.ro"
      ],
      "execution_count": null,
      "outputs": [
        {
          "output_type": "stream",
          "text": [
            "/content/drive/MyDrive/data_en_ro/dcep_training_files/splitted_tokenization\n"
          ],
          "name": "stdout"
        }
      ]
    },
    {
      "cell_type": "code",
      "metadata": {
        "colab": {
          "base_uri": "https://localhost:8080/"
        },
        "id": "Uy7ECrsvZUCH",
        "outputId": "e27c9571-103e-4ad7-8f93-e585a731012b"
      },
      "source": [
        "%cd /content/drive/MyDrive/data_en_ro/dcep_training_files/splitted_BPE/\n",
        "!wc -l *"
      ],
      "execution_count": null,
      "outputs": [
        {
          "output_type": "stream",
          "text": [
            "/content/drive/MyDrive/data_en_ro/dcep_training_files/splitted_BPE\n",
            "    30001 bpe.codes.30000\n",
            "     2000 test.bpe.en\n",
            "     2000 test.bpe.ro\n",
            "   783896 train.bpe.en\n",
            "   783896 train.bpe.ro\n",
            "     2000 val.bpe.en\n",
            "     2000 val.bpe.ro\n",
            "    21712 vocab.en\n",
            "    30206 vocab.ro\n",
            "  1657711 total\n"
          ],
          "name": "stdout"
        }
      ]
    },
    {
      "cell_type": "code",
      "metadata": {
        "colab": {
          "base_uri": "https://localhost:8080/"
        },
        "id": "8lJX5XIMExbu",
        "outputId": "22300808-381f-43bd-a1cb-e1a5c9f599fa"
      },
      "source": [
        "!head /content/drive/MyDrive/data_en_ro/dcep_full/clean_vocab.txt"
      ],
      "execution_count": null,
      "outputs": [
        {
          "output_type": "stream",
          "text": [
            ",\n",
            "&quot;\n",
            "the\n",
            "de\n",
            "of\n",
            "a\n",
            "and\n",
            ".\n",
            "to\n",
            "în\n"
          ],
          "name": "stdout"
        }
      ]
    },
    {
      "cell_type": "code",
      "metadata": {
        "colab": {
          "base_uri": "https://localhost:8080/"
        },
        "id": "yJCkrxLYeRr8",
        "outputId": "99797b5b-141f-4c67-a088-536a9c6dae84"
      },
      "source": [
        "!wc -l /content/drive/MyDrive/data_en_ro/dcep_full/*.bpe.*"
      ],
      "execution_count": null,
      "outputs": [
        {
          "output_type": "stream",
          "text": [
            "    10000 /content/drive/MyDrive/data_en_ro/dcep_full/clean_dev.bpe.en\n",
            "    10000 /content/drive/MyDrive/data_en_ro/dcep_full/clean_dev.bpe.ro\n",
            "   157580 /content/drive/MyDrive/data_en_ro/dcep_full/clean_test.bpe.en\n",
            "   157580 /content/drive/MyDrive/data_en_ro/dcep_full/clean_test.bpe.ro\n",
            "   620316 /content/drive/MyDrive/data_en_ro/dcep_full/clean_train.bpe.en\n",
            "   620316 /content/drive/MyDrive/data_en_ro/dcep_full/clean_train.bpe.ro\n",
            "  1575792 total\n"
          ],
          "name": "stdout"
        }
      ]
    },
    {
      "cell_type": "code",
      "metadata": {
        "colab": {
          "base_uri": "https://localhost:8080/"
        },
        "id": "k8_VVRytgBya",
        "outputId": "6d93e71b-4623-49c9-e3dc-81d55072db5b"
      },
      "source": [
        "%cd /content/drive/MyDrive/data_en_ro/dcep_training_files/splitted_BPE"
      ],
      "execution_count": null,
      "outputs": [
        {
          "output_type": "stream",
          "text": [
            "/content/drive/MyDrive/data_en_ro/dcep_training_files/splitted_BPE\n"
          ],
          "name": "stdout"
        }
      ]
    },
    {
      "cell_type": "code",
      "metadata": {
        "colab": {
          "base_uri": "https://localhost:8080/"
        },
        "id": "m9SWFHa0eZky",
        "outputId": "4cebc0e6-81cc-421d-84ce-d7d35e441e53"
      },
      "source": [
        "! sudo chmod 777 /content/joeynmt/scripts/build_vocab.py\n",
        "! /content/joeynmt/scripts/build_vocab.py train.bpe.en train.bpe.ro --output_path vocab.txt\n",
        "\n",
        "\n",
        "#some output\n",
        "! echo \"BPE Sentences english\"\n",
        "! head -n 5 /content/drive/MyDrive/data_en_ro/dcep_training_files/splitted_BPE/test.bpe.en\n",
        "\n",
        "! echo \"BPE Sentences ro\"\n",
        "! head -n 5 /content/drive/MyDrive/data_en_ro/dcep_training_files/splitted_BPE/test.bpe.ro\n",
        "\n",
        "! echo \"Combined BPE Vocab\"\n",
        "! head -n 10 /content/drive/MyDrive/data_en_ro/dcep_training_files/splitted_BPE/vocab.txt"
      ],
      "execution_count": null,
      "outputs": [
        {
          "output_type": "stream",
          "text": [
            "BPE Sentences english\n",
            "Considers the Agency to be a source of important environmental information for all EU institutions and policy-@@ mak@@ ing; notes with satisfaction that the Agency has been able to trans@@ form some complic@@ ated data into clear conclusions and to communicate them to the public, such as the Agency's environmental statement 2006 and specific reports on bi@@ o energy and greenhouse gas emission trends and pro@@ jec@@ tions in Europe;\n",
            "00@@ 02@@ /2009 )\n",
            "Urges all the institutions to cooperate construc@@ tively with the Ombudsman at all stages of the procedure, to ab@@ ide by am@@ ic@@ able sett@@ lement@@ s, to follow up his critical remarks and to apply his draft recommend@@ ations;\n",
            "having regard to its resolution of 14 December 2006 on A European strategy for sustainable, competitive and secure energy − Green paper Texts adopted, P6_TA(2006)0@@ 60@@ 3 .\n",
            "These pap@@ ers began to be submitted to ACP parliaments at the end of 2007 and it is important for the Committee on Development and the JPA to monitor the situation to ensure that this instrument of parliamentary control works effectiv@@ ely.\n",
            "BPE Sentences ro\n",
            "33@@ . consideră că agenția este o sursă importantă de informații privind mediul pentru toate instituțiile UE și pentru procesul decizion@@ al; observă cu satisfacție că agenția a reușit să trans@@ forme informații complic@@ ate în concluzii clare și să le comunice public@@ ului; printre acestea se afl@@ ă: declarația de mediu a agenției din 2006 și anumite rapoarte privind bio@@ energia și tend@@ ințele și estimările referitoare la emisiile de gaze cu efect de seră în Europa;\n",
            "00@@ 02@@ /2009 )\n",
            "îndeamnă toate instituţiile să coopereze în mod constructiv cu Ombudsmanul în toate etapele proced@@ urii, să accepte solu@@ ţiile ami@@ abile, să dea curs observ@@ aţiilor critice şi să pună în aplicare proiectele de recomand@@ are;\n",
            "având în vedere Rezoluţia sa din 14 decembrie 2006 privind strategia europeană pentru energia durabilă, competitivă şi sigură – Cartea verde Texte adoptate, P6_TA(2006)0@@ 60@@ 3 .\n",
            "C@@ es documents commen@@ cent à être so@@ um@@ is aux par@@ lements ACP depu@@ is fin 2007 et il est important qu'@@ un su@@ iv@@ i so@@ it effect@@ u@@ é par la commission du développement et l'@@ APP pour s'@@ assu@@ rer du bon fon@@ c@@ tion@@ n@@ ement de ce@@ t instrument de contr@@ ôle par@@ lement@@ ai@@ re.\n",
            "Combined BPE Vocab\n",
            "the\n",
            "de\n",
            "of\n",
            "a\n",
            "and\n",
            "to\n",
            "în\n",
            "in\n",
            "și\n",
            "la\n"
          ],
          "name": "stdout"
        }
      ]
    },
    {
      "cell_type": "code",
      "metadata": {
        "colab": {
          "base_uri": "https://localhost:8080/"
        },
        "id": "Wy1kxQGWdAzN",
        "outputId": "2c6860ad-a855-463b-b496-fce2b140ad45"
      },
      "source": [
        "%cd /content/drive/MyDrive/data_en_ro/dcep_full/"
      ],
      "execution_count": null,
      "outputs": [
        {
          "output_type": "stream",
          "text": [
            "/content/drive/MyDrive/data_en_ro/dcep_full\n"
          ],
          "name": "stdout"
        }
      ]
    },
    {
      "cell_type": "code",
      "metadata": {
        "colab": {
          "base_uri": "https://localhost:8080/"
        },
        "id": "0IT5MRVrgQnr",
        "outputId": "aa89d21a-771c-43d9-d25b-0dbd41b6fd09"
      },
      "source": [
        "!wc -l /home/bernadeta/BA_code/data/00-raw/EN-RO-bisentences.txt"
      ],
      "execution_count": null,
      "outputs": [
        {
          "output_type": "stream",
          "text": [
            "25055 clean_vocab.txt\n"
          ],
          "name": "stdout"
        }
      ]
    },
    {
      "cell_type": "code",
      "metadata": {
        "id": "ZVXUGh2GdJp_"
      },
      "source": [],
      "execution_count": null,
      "outputs": []
    }
  ]
}