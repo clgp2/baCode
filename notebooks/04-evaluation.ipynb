{
 "metadata": {
  "language_info": {
   "codemirror_mode": {
    "name": "ipython",
    "version": 3
   },
   "file_extension": ".py",
   "mimetype": "text/x-python",
   "name": "python",
   "nbconvert_exporter": "python",
   "pygments_lexer": "ipython3",
   "version": "3.6.8"
  },
  "orig_nbformat": 4,
  "kernelspec": {
   "name": "python3",
   "display_name": "Python 3.6.8 64-bit ('ba-env': venv)"
  },
  "interpreter": {
   "hash": "3a49f9c478bb8acf79e8d4394dd772c4b6effd3dc1bcc10da60d89375c51c795"
  }
 },
 "nbformat": 4,
 "nbformat_minor": 2,
 "cells": [
  {
   "cell_type": "code",
   "execution_count": 1,
   "metadata": {
    "tags": []
   },
   "outputs": [],
   "source": [
    "#reverse bpe \n",
    "\n",
    "!sed -r 's/(@@ )|(@@ ?$)//g' /home/bernadeta/BA_code/models/opennmt/pred_10000.txt > /home/bernadeta/BA_code/models/opennmt/pred_10000_un_bpe.txt"
   ]
  },
  {
   "cell_type": "code",
   "execution_count": 2,
   "metadata": {},
   "outputs": [
    {
     "output_type": "stream",
     "name": "stdout",
     "text": [
      "Collecting sacremoses\n",
      "  Using cached sacremoses-0.0.45-py3-none-any.whl (895 kB)\n",
      "Collecting regex\n",
      "  Downloading regex-2021.7.1-cp36-cp36m-manylinux2014_x86_64.whl (722 kB)\n",
      "\u001b[K     |████████████████████████████████| 722 kB 6.0 MB/s \n",
      "\u001b[?25hCollecting click\n",
      "  Using cached click-8.0.1-py3-none-any.whl (97 kB)\n",
      "Requirement already satisfied: six in /home/bernadeta/python-venvs/test/lib/python3.6/site-packages (from sacremoses) (1.16.0)\n",
      "Collecting tqdm\n",
      "  Using cached tqdm-4.61.1-py2.py3-none-any.whl (75 kB)\n",
      "Collecting joblib\n",
      "  Using cached joblib-1.0.1-py3-none-any.whl (303 kB)\n",
      "Requirement already satisfied: importlib-metadata in /home/bernadeta/python-venvs/test/lib/python3.6/site-packages (from click->sacremoses) (4.6.0)\n",
      "Requirement already satisfied: zipp>=0.5 in /home/bernadeta/python-venvs/test/lib/python3.6/site-packages (from importlib-metadata->click->sacremoses) (3.4.1)\n",
      "Requirement already satisfied: typing-extensions>=3.6.4 in /home/bernadeta/python-venvs/test/lib/python3.6/site-packages (from importlib-metadata->click->sacremoses) (3.10.0.0)\n",
      "Installing collected packages: tqdm, regex, joblib, click, sacremoses\n",
      "Successfully installed click-8.0.1 joblib-1.0.1 regex-2021.7.1 sacremoses-0.0.45 tqdm-4.61.1\n"
     ]
    }
   ],
   "source": [
    "!pip install sacremoses"
   ]
  },
  {
   "cell_type": "code",
   "execution_count": 1,
   "metadata": {},
   "outputs": [],
   "source": [
    "!sacremoses -l en -j 1 detokenize < /home/bernadeta/BA_code/models/opennmt/pred_10000_un_bpe.txt > /home/bernadeta/BA_code/models/opennmt/pred_10000_un_bpe_undetok.txt"
   ]
  },
  {
   "cell_type": "code",
   "execution_count": 2,
   "metadata": {},
   "outputs": [],
   "source": [
    "!sacremoses -l en -j 1 detokenize <  /home/bernadeta/BA_code/data/02-preprocessed/02-02-bicleaner-preprocessed/test.ro > /home/bernadeta/BA_code/models/opennmt/test_un_bpe_undetok.txt"
   ]
  },
  {
   "cell_type": "code",
   "execution_count": 4,
   "metadata": {},
   "outputs": [
    {
     "output_type": "stream",
     "name": "stdout",
     "text": [
      "BLEU+case.mixed+lang.en-ro+numrefs.1+smooth.exp+tok.13a+version.1.5.1 = 52.4 73.9/58.4/48.1/40.4 (BP = 0.973 ratio = 0.974 hyp_len = 45323 ref_len = 46549)\n"
     ]
    }
   ],
   "source": [
    "!cat /home/bernadeta/BA_code/models/opennmt/pred_10000_un_bpe_undetok.txt | sacrebleu /home/bernadeta/BA_code/models/opennmt/test_un_bpe_undetok.txt -l en-ro"
   ]
  },
  {
   "cell_type": "code",
   "execution_count": null,
   "metadata": {},
   "outputs": [],
   "source": []
  }
 ]
}