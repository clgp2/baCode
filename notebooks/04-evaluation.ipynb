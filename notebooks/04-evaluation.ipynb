{
 "metadata": {
  "language_info": {
   "codemirror_mode": {
    "name": "ipython",
    "version": 3
   },
   "file_extension": ".py",
   "mimetype": "text/x-python",
   "name": "python",
   "nbconvert_exporter": "python",
   "pygments_lexer": "ipython3",
   "version": "3.6.8"
  },
  "orig_nbformat": 4,
  "kernelspec": {
   "name": "python3",
   "display_name": "Python 3.6.8 64-bit ('ba-env': venv)"
  },
  "interpreter": {
   "hash": "a4916cd12ee39cb2350b6989a6656d6368d271ce25ea714d6ddb0152fb90db1c"
  }
 },
 "nbformat": 4,
 "nbformat_minor": 2,
 "cells": [
  {
   "cell_type": "code",
   "execution_count": 1,
   "metadata": {
    "tags": []
   },
   "outputs": [],
   "source": [
    "#reverse bpe \n",
    "\n",
    "!sed -r 's/(@@ )|(@@ ?$)//g' /home/bernadeta/BA_code/models/opennmt/pred_10000.txt > /home/bernadeta/BA_code/models/opennmt/pred_10000_un_bpe.txt"
   ]
  },
  {
   "cell_type": "code",
   "execution_count": 1,
   "metadata": {},
   "outputs": [
    {
     "output_type": "stream",
     "name": "stdout",
     "text": [
      "Requirement already satisfied: sacremoses in /home/bernadeta/python-venvs/ba-env/lib/python3.6/site-packages (0.0.45)\n",
      "Requirement already satisfied: regex in /home/bernadeta/python-venvs/ba-env/lib/python3.6/site-packages (from sacremoses) (2021.4.4)\n",
      "Requirement already satisfied: tqdm in /home/bernadeta/python-venvs/ba-env/lib/python3.6/site-packages (from sacremoses) (4.61.1)\n",
      "Requirement already satisfied: joblib in /home/bernadeta/python-venvs/ba-env/lib/python3.6/site-packages (from sacremoses) (1.0.1)\n",
      "Requirement already satisfied: click in /home/bernadeta/python-venvs/ba-env/lib/python3.6/site-packages (from sacremoses) (8.0.1)\n",
      "Requirement already satisfied: six in /home/bernadeta/python-venvs/ba-env/lib/python3.6/site-packages (from sacremoses) (1.16.0)\n",
      "Requirement already satisfied: importlib-metadata in /home/bernadeta/python-venvs/ba-env/lib/python3.6/site-packages (from click->sacremoses) (4.6.0)\n",
      "Requirement already satisfied: zipp>=0.5 in /home/bernadeta/python-venvs/ba-env/lib/python3.6/site-packages (from importlib-metadata->click->sacremoses) (3.4.1)\n",
      "Requirement already satisfied: typing-extensions>=3.6.4 in /home/bernadeta/python-venvs/ba-env/lib/python3.6/site-packages (from importlib-metadata->click->sacremoses) (3.10.0.0)\n"
     ]
    }
   ],
   "source": [
    "!pip install sacremoses"
   ]
  },
  {
   "cell_type": "code",
   "execution_count": 3,
   "metadata": {},
   "outputs": [],
   "source": [
    "#produced with bicleaner cleaned model\n",
    "!sacremoses -l ro detokenize < /home/bernadeta/BA_code/scripts/slurm/config_files/out > out.detok.txt"
   ]
  },
  {
   "cell_type": "code",
   "execution_count": 1,
   "metadata": {},
   "outputs": [],
   "source": [
    "#produced with base cleaned model\n",
    "!sacremoses -l ro detokenize < /home/bernadeta/BA_code/scripts/slurm/config_files/out.base.wmt16.tok > out.wmt16.base.detok.txt"
   ]
  },
  {
   "cell_type": "code",
   "execution_count": 2,
   "metadata": {},
   "outputs": [],
   "source": [
    "#produced with intermediate (less) cleaned model\n",
    "!sacremoses -l ro detokenize < /home/bernadeta/BA_code/scripts/slurm/config_files/out.less.wmt16.tok > out.wmt16.less.detok.txt"
   ]
  },
  {
   "cell_type": "code",
   "execution_count": 6,
   "metadata": {},
   "outputs": [],
   "source": [
    "#detokenize output of base model\n",
    "!sacremoses -l ro detokenize < /home/bernadeta/BA_code/models/basic_cleaned_13.7.21_len300/basic_cleaned_13.7.21_len300.dev > dev.out.base300.detok.txt"
   ]
  },
  {
   "cell_type": "code",
   "execution_count": 7,
   "metadata": {},
   "outputs": [],
   "source": [
    "#detokenize output of bicleaner model\n",
    "!sacremoses -l ro detokenize < /home/bernadeta/BA_code/models/bicleaner_cleaned_13.7.21_len300/bicleaner_cleaned_13.7.21_len300.dev > dev.out.bicleaner300.detok.txt"
   ]
  },
  {
   "cell_type": "code",
   "execution_count": 3,
   "metadata": {},
   "outputs": [],
   "source": [
    "!sacremoses -l ro detokenize < /home/bernadeta/BA_code/scripts/slurm/config_files/out.biclean300.wmt16.dev > out.biclean300.wmt16.dev.detok.txt\n"
   ]
  },
  {
   "source": [
    "### here are the evaluations of the dev set wmt16"
   ],
   "cell_type": "markdown",
   "metadata": {}
  },
  {
   "cell_type": "code",
   "execution_count": 8,
   "metadata": {},
   "outputs": [
    {
     "output_type": "stream",
     "name": "stdout",
     "text": [
      "BLEU+case.mixed+numrefs.1+smooth.exp+tok.13a+version.1.5.1 = 42.0 63.6/47.4/38.0/31.4 (BP = 0.965 ratio = 0.966 hyp_len = 63232 ref_len = 65491)\n"
     ]
    }
   ],
   "source": [
    "!cat dev.out.base300.detok.txt | sacrebleu /home/bernadeta/BA_code/data/02-preprocessed/bicleaner_cleaned/bicleaner_target_dev.txt"
   ]
  },
  {
   "cell_type": "code",
   "execution_count": 9,
   "metadata": {},
   "outputs": [
    {
     "output_type": "stream",
     "name": "stdout",
     "text": [
      "BLEU+case.mixed+numrefs.1+smooth.exp+tok.13a+version.1.5.1 = 49.4 72.1/55.0/44.3/36.8 (BP = 0.979 ratio = 0.979 hyp_len = 64112 ref_len = 65491)\n"
     ]
    }
   ],
   "source": [
    "!cat dev.out.bicleaner300.detok.txt | sacrebleu /home/bernadeta/BA_code/data/02-preprocessed/bicleaner_cleaned/bicleaner_target_dev.txt"
   ]
  },
  {
   "cell_type": "code",
   "execution_count": 7,
   "metadata": {},
   "outputs": [
    {
     "output_type": "stream",
     "name": "stdout",
     "text": [
      "BLEU+case.mixed+numrefs.1+smooth.exp+tok.13a+version.1.5.1 = 20.3 53.1/27.9/15.7/9.5 (BP = 0.938 ratio = 0.940 hyp_len = 51042 ref_len = 54327)\n"
     ]
    }
   ],
   "source": [
    "#system output and references are tokenized internally\n",
    "!cat out.biclean300.wmt16.dev.detok.txt | sacrebleu /home/bernadeta/BA_code/data/02-preprocessed/newsdev2016/newsdev_ro.txt"
   ]
  },
  {
   "cell_type": "code",
   "execution_count": 4,
   "metadata": {},
   "outputs": [
    {
     "output_type": "stream",
     "name": "stdout",
     "text": [
      "BLEU+case.mixed+numrefs.1+smooth.exp+tok.13a+version.1.5.1 = 11.9 44.1/18.3/7.9/3.9 (BP = 0.946 ratio = 0.947 hyp_len = 51462 ref_len = 54327)\n"
     ]
    }
   ],
   "source": [
    "!cat dev.out.wmt16.bicleaner.detok.txt | sacrebleu /home/bernadeta/BA_code/data/02-preprocessed/newsdev2016/newsdev_ro.txt"
   ]
  },
  {
   "cell_type": "code",
   "execution_count": 8,
   "metadata": {},
   "outputs": [
    {
     "output_type": "stream",
     "name": "stdout",
     "text": [
      "BLEU+case.mixed+numrefs.1+smooth.exp+tok.13a+version.1.5.1 = 20.0 53.1/27.6/15.5/9.2 (BP = 0.936 ratio = 0.938 hyp_len = 50957 ref_len = 54327)\n"
     ]
    }
   ],
   "source": [
    "##compute bleu also with less cleaned model on dev set!\n",
    "!cat dev.out.wmt16.less.detok.txt | sacrebleu /home/bernadeta/BA_code/data/02-preprocessed/newsdev2016/newsdev_ro.txt"
   ]
  },
  {
   "source": [
    "### here are the evaluations of the wmt16 test"
   ],
   "cell_type": "markdown",
   "metadata": {}
  },
  {
   "cell_type": "code",
   "execution_count": 16,
   "metadata": {},
   "outputs": [
    {
     "output_type": "stream",
     "name": "stdout",
     "text": [
      "BLEU+case.mixed+lang.en-ro+numrefs.1+smooth.exp+test.wmt16/dev+tok.13a+version.1.5.1 = 18.7 48.2/23.9/13.6/7.9 (BP = 0.993 ratio = 0.993 hyp_len = 50957 ref_len = 51300)\n"
     ]
    }
   ],
   "source": [
    "#L3\n",
    "!cat /home/bernadeta/BA_code/notebooks/dev.out.wmt16.less.detok.txt | sacrebleu -t wmt16/dev -l en-ro"
   ]
  },
  {
   "cell_type": "code",
   "execution_count": 10,
   "metadata": {},
   "outputs": [
    {
     "output_type": "stream",
     "name": "stdout",
     "text": [
      "BLEU+case.mixed+numrefs.1+smooth.exp+tok.13a+version.1.5.1 = 14.1 40.3/19.4/10.1/5.9 (BP = 0.959 ratio = 0.960 hyp_len = 52150 ref_len = 54327)\n"
     ]
    }
   ],
   "source": [
    "#L1\n",
    "!cat /home/bernadeta/BA_code/notebooks/out.basic300.wmt16.dev.detok.txt | sacrebleu /home/bernadeta/BA_code/data/02-preprocessed/newsdev2016/newsdev_ro.txt"
   ]
  },
  {
   "cell_type": "code",
   "execution_count": 11,
   "metadata": {},
   "outputs": [
    {
     "output_type": "stream",
     "name": "stdout",
     "text": [
      "BLEU+case.mixed+numrefs.1+smooth.exp+tok.13a+version.1.5.1 = 20.3 53.1/27.9/15.7/9.5 (BP = 0.938 ratio = 0.940 hyp_len = 51042 ref_len = 54327)\n"
     ]
    }
   ],
   "source": [
    "#L2\n",
    "!cat /home/bernadeta/BA_code/notebooks/out.biclean300.wmt16.dev.detok.txt | sacrebleu /home/bernadeta/BA_code/data/02-preprocessed/newsdev2016/newsdev_ro.txt"
   ]
  },
  {
   "cell_type": "code",
   "execution_count": null,
   "metadata": {},
   "outputs": [],
   "source": []
  }
 ]
}