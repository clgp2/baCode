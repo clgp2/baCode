{
 "metadata": {
  "language_info": {
   "codemirror_mode": {
    "name": "ipython",
    "version": 3
   },
   "file_extension": ".py",
   "mimetype": "text/x-python",
   "name": "python",
   "nbconvert_exporter": "python",
   "pygments_lexer": "ipython3",
   "version": 3
  },
  "orig_nbformat": 4
 },
 "nbformat": 4,
 "nbformat_minor": 2,
 "cells": [
  {
   "source": [
    "## Preprocess newstest2016 to try trained models on it"
   ],
   "cell_type": "markdown",
   "metadata": {}
  },
  {
   "cell_type": "code",
   "execution_count": null,
   "metadata": {},
   "outputs": [],
   "source": [
    "from bs4 import BeautifulSoup\n",
    "\n",
    "with open(\"/home/bernadeta/BA_code/data/newstest2016-enro-ref.ro.sgm\") as new1_ro, open(\"newstest_ro_strip.txt\", \"w\") as new_ro:\n",
    "    soup=BeautifulSoup(new1_ro, 'html.parser')\n",
    "    new_ro.write(soup.get_text())\n",
    "\n",
    "with open(\"/home/bernadeta/BA_code/data/newstest2016-enro-src.en.sgm\") as new1_en, open(\"newstest_en_strip.txt\", \"w\") as new_en:\n",
    "    soup=BeautifulSoup(new1_en, 'html.parser')\n",
    "    new_en.write(soup.get_text())"
   ]
  },
  {
   "cell_type": "code",
   "execution_count": null,
   "metadata": {},
   "outputs": [],
   "source": [
    "import pandas as pd\n",
    "\n",
    "df_ro=pd.read_csv(\"newstest_ro_strip.txt\", sep=\"\\n\")\n",
    "df_ro.to_csv(\"newstest_ro.txt\", index=False)\n",
    "\n",
    "df_en=pd.read_csv(\"newstest_en_strip.txt\", sep=\"\\n+\", skip_blank_lines=True)\n",
    "df_en.to_csv(\"newstest_en.txt\", index=False)"
   ]
  },
  {
   "cell_type": "code",
   "execution_count": null,
   "metadata": {},
   "outputs": [],
   "source": [
    "newstest_both=pd.concat([df_en, df_ro], axis=1)"
   ]
  },
  {
   "cell_type": "code",
   "execution_count": null,
   "metadata": {},
   "outputs": [],
   "source": [
    "pd.set_option('display.max_colwidth', None)\n",
    "newstest_both"
   ]
  },
  {
   "cell_type": "code",
   "execution_count": null,
   "metadata": {},
   "outputs": [],
   "source": [
    "! pip install -U sacremoses\n",
    "\n",
    "! sacremoses -l \"en\" -j 8 tokenize < /home/bernadeta/BA_code/data/newstest_en.txt > tok_newstest.en\n",
    "! sacremoses -l \"ro\" -j 8 tokenize < /home/bernadeta/BA_code/data/newstest_ro.txt > tok_newstest.ro"
   ]
  },
  {
   "cell_type": "code",
   "execution_count": null,
   "metadata": {},
   "outputs": [],
   "source": [
    "%cd /home/bernadeta/BA_code/data/02-preprocessed/02-02-bicleaner-preprocessed"
   ]
  },
  {
   "cell_type": "code",
   "execution_count": null,
   "metadata": {},
   "outputs": [],
   "source": [
    "! subword-nmt apply-bpe -c bpe.codes.30000 < /home/bernadeta/BA_code/data/tok_newstest.en > tok_newstest.bpe.en\n",
    "! subword-nmt apply-bpe -c bpe.codes.30000 < /home/bernadeta/BA_code/data/tok_newstest.ro > tok_newstest.bpe.ro"
   ]
  },
  {
   "cell_type": "code",
   "execution_count": null,
   "metadata": {},
   "outputs": [],
   "source": [
    "!wc -l tok_newstest*"
   ]
  },
  {
   "cell_type": "code",
   "execution_count": null,
   "metadata": {},
   "outputs": [],
   "source": [
    "!head tok_newstest*"
   ]
  }
 ]
}