{
  "nbformat": 4,
  "nbformat_minor": 0,
  "metadata": {
    "colab": {
      "name": "clean_dcep_new.ipynb",
      "provenance": [],
      "collapsed_sections": []
    },
    "kernelspec": {
      "name": "python3",
      "display_name": "Python 3.6.8 64-bit ('BA_code': venv)"
    },
    "language_info": {
      "name": "python",
      "version": "3.6.8"
    },
    "interpreter": {
      "hash": "44468eac195bcf43b0c38b1782e5694ed936aa947860d6254cef4cb969b1ef9b"
    }
  },
  "cells": [
    {
      "cell_type": "code",
      "metadata": {
        "id": "Wo1PI4iT4GUC"
      },
      "source": [
        "import pandas as pd\n",
        "import numpy as np\n",
        "import csv\n",
        "import sys\n",
        "import os\n",
        "from pathlib import Path"
      ],
      "execution_count": 1,
      "outputs": []
    },
    {
      "cell_type": "code",
      "metadata": {
        "id": "xeTIeEdZS5Xz"
      },
      "source": [
        "path_ENRO_bisents = os.path.join(os.pardir, \"data/00-raw/EN-RO-bisentences.txt\")\n",
        "\n",
        "df=pd.read_csv(path_ENRO_bisents, sep='\\t', names=['english', 'romanian'])"
      ],
      "execution_count": 2,
      "outputs": []
    },
    {
      "cell_type": "code",
      "metadata": {
        "colab": {
          "base_uri": "https://localhost:8080/"
        },
        "id": "Z7zIc0FsVSYM",
        "outputId": "64cf894d-b596-40df-9797-fa08c6989b5d"
      },
      "source": [
        "df.shape"
      ],
      "execution_count": 3,
      "outputs": [
        {
          "output_type": "execute_result",
          "data": {
            "text/plain": [
              "(2630979, 2)"
            ]
          },
          "metadata": {},
          "execution_count": 3
        }
      ]
    },
    {
      "cell_type": "code",
      "metadata": {
        "colab": {
          "base_uri": "https://localhost:8080/"
        },
        "id": "ZKT-DNS-mLU7",
        "outputId": "de1f4741-6589-4f84-a177-ae676937ad0f"
      },
      "source": [
        "f= open(path_ENRO_bisents)\n",
        "full_list=[]\n",
        "for i, line in enumerate(f):\n",
        "  data = line.rstrip().split('\\t')\n",
        "  if len(data) != 2:\n",
        "    print(data, i, len(data))\n",
        "  else:\n",
        "    full_list.append(data)\n"
      ],
      "execution_count": 4,
      "outputs": [
        {
          "output_type": "stream",
          "name": "stdout",
          "text": [
            "[''] 833378 1\n"
          ]
        }
      ]
    },
    {
      "cell_type": "code",
      "metadata": {
        "colab": {
          "base_uri": "https://localhost:8080/"
        },
        "id": "ODBDVArhTkHE",
        "outputId": "3c0592a6-a66b-48ca-d2e5-798e5a0b73ec"
      },
      "source": [
        "len(full_list)"
      ],
      "execution_count": 11,
      "outputs": [
        {
          "output_type": "execute_result",
          "data": {
            "text/plain": [
              "2668811"
            ]
          },
          "metadata": {},
          "execution_count": 11
        }
      ]
    },
    {
      "cell_type": "code",
      "metadata": {
        "colab": {
          "base_uri": "https://localhost:8080/"
        },
        "id": "gP9B_XQL-fh_",
        "outputId": "124b6ea3-9ad0-4548-d1a6-0e93db83820e"
      },
      "source": [
        "full_list[39640]"
      ],
      "execution_count": 12,
      "outputs": [
        {
          "output_type": "execute_result",
          "data": {
            "text/plain": [
              "['Power stations pump dust particles into the air',\n",
              " 'Este aerul pe care îl inspirǎm curat?']"
            ]
          },
          "metadata": {},
          "execution_count": 12
        }
      ]
    },
    {
      "cell_type": "code",
      "metadata": {
        "id": "jNA_iQ9eCbkz",
        "colab": {
          "base_uri": "https://localhost:8080/",
          "height": 167
        },
        "outputId": "0b7dd0b7-986c-4f9a-8181-c4a9c59ac50a"
      },
      "source": [
        "df=pd.DataFrame(full_list, columns=['english', 'romanian'])"
      ],
      "execution_count": 13,
      "outputs": []
    },
    {
      "cell_type": "code",
      "metadata": {
        "colab": {
          "base_uri": "https://localhost:8080/"
        },
        "id": "B-elT0T1VoiU",
        "outputId": "434402ae-e133-48d4-85e3-551cd16a1221"
      },
      "source": [
        "df.shape"
      ],
      "execution_count": 14,
      "outputs": [
        {
          "output_type": "execute_result",
          "data": {
            "text/plain": [
              "(2668811, 2)"
            ]
          },
          "metadata": {},
          "execution_count": 14
        }
      ]
    },
    {
      "cell_type": "code",
      "metadata": {
        "colab": {
          "base_uri": "https://localhost:8080/",
          "height": 387
        },
        "id": "uHn1KCP9YVVL",
        "outputId": "d879b082-fa25-4015-f447-cb1a4e970b13"
      },
      "source": [
        "pd.set_option('display.max_colwidth', None)\n",
        "df.iloc[:8]"
      ],
      "execution_count": null,
      "outputs": [
        {
          "output_type": "execute_result",
          "data": {
            "text/html": [
              "<div>\n",
              "<style scoped>\n",
              "    .dataframe tbody tr th:only-of-type {\n",
              "        vertical-align: middle;\n",
              "    }\n",
              "\n",
              "    .dataframe tbody tr th {\n",
              "        vertical-align: top;\n",
              "    }\n",
              "\n",
              "    .dataframe thead th {\n",
              "        text-align: right;\n",
              "    }\n",
              "</style>\n",
              "<table border=\"1\" class=\"dataframe\">\n",
              "  <thead>\n",
              "    <tr style=\"text-align: right;\">\n",
              "      <th></th>\n",
              "      <th>english</th>\n",
              "      <th>romanian</th>\n",
              "    </tr>\n",
              "  </thead>\n",
              "  <tbody>\n",
              "    <tr>\n",
              "      <th>0</th>\n",
              "      <td>ORAL QUESTION H-0336/07</td>\n",
              "      <td>ÎNTREBARE ORALĂ H-0336/07</td>\n",
              "    </tr>\n",
              "    <tr>\n",
              "      <th>1</th>\n",
              "      <td>for Question Time at the part-session in May 2007</td>\n",
              "      <td>pentru timpul afectat întrebărilor din perioada de sesiune mai 2007</td>\n",
              "    </tr>\n",
              "    <tr>\n",
              "      <th>2</th>\n",
              "      <td>pursuant to Rule 109 of the Rules of Procedure</td>\n",
              "      <td>în conformitate cu articolul 109 din Regulamentul de procedură</td>\n",
              "    </tr>\n",
              "    <tr>\n",
              "      <th>3</th>\n",
              "      <td>by</td>\n",
              "      <td>de</td>\n",
              "    </tr>\n",
              "    <tr>\n",
              "      <th>4</th>\n",
              "      <td>Roberta Alma Anastase</td>\n",
              "      <td>Roberta Alma Anastase</td>\n",
              "    </tr>\n",
              "    <tr>\n",
              "      <th>5</th>\n",
              "      <td>to the Council</td>\n",
              "      <td>Consiliului</td>\n",
              "    </tr>\n",
              "    <tr>\n",
              "      <th>6</th>\n",
              "      <td>Subject: More active EU involvement in settling unresolved conflicts and measures proposed for 2007</td>\n",
              "      <td>Subiect: Implicarea mai activă a UE în soluţionarea conflictelor îngheţate şi măsurile prevăzute pentru 2007</td>\n",
              "    </tr>\n",
              "    <tr>\n",
              "      <th>7</th>\n",
              "      <td>In the context of the recent exchange of views, held at the March part-session, with High Representative Javier Solana on the priorities for the Union's common foreign and defence policies, a large number of Members stressed, as a major priority for 2007, the need to deal with the problems of security and stability in the Union's eastern neighbourhood, especially via a more active involvement in settling unresolved conflicts and eliminating their consequences.</td>\n",
              "      <td>În cadrul recentului schimb de opinii cu Înaltul Reprezentant Javier Solana cu privire la priorităţile Politicii Externe şi de Apărare Comune a UE pentru anul 2007, care a avut loc la şedinţa plenară din martie, necesitatea de a aborda problema securităţii şi stabilităţii în vecinătatea de est a UE, mai ales prin implicarea mai activă în soluţionarea conflictelor îngheţate şi eliminarea consecinţelor acestora, a fost subliniată de către mai mulţi deputaţi ca prioritate majoră pentru 2007.</td>\n",
              "    </tr>\n",
              "  </tbody>\n",
              "</table>\n",
              "</div>"
            ],
            "text/plain": [
              "                                                                                                                                                                                                                                                                                                                                                                                                                                                                            english                                                                                                                                                                                                                                                                                                                                                                                                                                                                                                       romanian\n",
              "0                                                                                                                                                                                                                                                                                                                                                                                                                                                           ORAL QUESTION H-0336/07                                                                                                                                                                                                                                                                                                                                                                                                                                                                                      ÎNTREBARE ORALĂ H-0336/07\n",
              "1                                                                                                                                                                                                                                                                                                                                                                                                                                 for Question Time at the part-session in May 2007                                                                                                                                                                                                                                                                                                                                                                                                                                            pentru timpul afectat întrebărilor din perioada de sesiune mai 2007\n",
              "2                                                                                                                                                                                                                                                                                                                                                                                                                                    pursuant to Rule 109 of the Rules of Procedure                                                                                                                                                                                                                                                                                                                                                                                                                                                 în conformitate cu articolul 109 din Regulamentul de procedură\n",
              "3                                                                                                                                                                                                                                                                                                                                                                                                                                                                                by                                                                                                                                                                                                                                                                                                                                                                                                                                                                                                             de\n",
              "4                                                                                                                                                                                                                                                                                                                                                                                                                                                             Roberta Alma Anastase                                                                                                                                                                                                                                                                                                                                                                                                                                                                                          Roberta Alma Anastase\n",
              "5                                                                                                                                                                                                                                                                                                                                                                                                                                                                    to the Council                                                                                                                                                                                                                                                                                                                                                                                                                                                                                                    Consiliului\n",
              "6                                                                                                                                                                                                                                                                                                                                                                               Subject: More active EU involvement in settling unresolved conflicts and measures proposed for 2007                                                                                                                                                                                                                                                                                                                                                                                                   Subiect: Implicarea mai activă a UE în soluţionarea conflictelor îngheţate şi măsurile prevăzute pentru 2007\n",
              "7  In the context of the recent exchange of views, held at the March part-session, with High Representative Javier Solana on the priorities for the Union's common foreign and defence policies, a large number of Members stressed, as a major priority for 2007, the need to deal with the problems of security and stability in the Union's eastern neighbourhood, especially via a more active involvement in settling unresolved conflicts and eliminating their consequences.  În cadrul recentului schimb de opinii cu Înaltul Reprezentant Javier Solana cu privire la priorităţile Politicii Externe şi de Apărare Comune a UE pentru anul 2007, care a avut loc la şedinţa plenară din martie, necesitatea de a aborda problema securităţii şi stabilităţii în vecinătatea de est a UE, mai ales prin implicarea mai activă în soluţionarea conflictelor îngheţate şi eliminarea consecinţelor acestora, a fost subliniată de către mai mulţi deputaţi ca prioritate majoră pentru 2007."
            ]
          },
          "metadata": {
            "tags": []
          },
          "execution_count": 7
        }
      ]
    },
    {
      "cell_type": "code",
      "metadata": {
        "id": "-OmT5Fy1EMrw"
      },
      "source": [
        "contain_values = df[df['romanian'].str.contains('Pursuant to this differentiation the Conference')]"
      ],
      "execution_count": 15,
      "outputs": []
    },
    {
      "cell_type": "code",
      "metadata": {
        "colab": {
          "base_uri": "https://localhost:8080/",
          "height": 115
        },
        "id": "Ol1JabO1E8vQ",
        "outputId": "55470439-801d-4e07-afd7-b259f978ce08"
      },
      "source": [
        "pd.set_option('display.max_colwidth', None)\n",
        "contain_values"
      ],
      "execution_count": 16,
      "outputs": [
        {
          "output_type": "execute_result",
          "data": {
            "text/plain": [
              "                                                                                                                                                                                                english  \\\n",
              "1458024  Pursuant to this differentiation the Conference of Presidents also decided to refer to the Committee on Constitutional Affairs new items requiring changes to Parliament's Rules of Procedure.   \n",
              "\n",
              "                                                                                                                                                                                                          romanian  \n",
              "1458024  Pursuant to this differentiation the Conference of Presidents also decided to refer to the Committee on Constitutional Affairs new items requiring changes to Regulamentul de procedură al Parlamentului.  "
            ],
            "text/html": "<div>\n<style scoped>\n    .dataframe tbody tr th:only-of-type {\n        vertical-align: middle;\n    }\n\n    .dataframe tbody tr th {\n        vertical-align: top;\n    }\n\n    .dataframe thead th {\n        text-align: right;\n    }\n</style>\n<table border=\"1\" class=\"dataframe\">\n  <thead>\n    <tr style=\"text-align: right;\">\n      <th></th>\n      <th>english</th>\n      <th>romanian</th>\n    </tr>\n  </thead>\n  <tbody>\n    <tr>\n      <th>1458024</th>\n      <td>Pursuant to this differentiation the Conference of Presidents also decided to refer to the Committee on Constitutional Affairs new items requiring changes to Parliament's Rules of Procedure.</td>\n      <td>Pursuant to this differentiation the Conference of Presidents also decided to refer to the Committee on Constitutional Affairs new items requiring changes to Regulamentul de procedură al Parlamentului.</td>\n    </tr>\n  </tbody>\n</table>\n</div>"
          },
          "metadata": {},
          "execution_count": 16
        }
      ]
    },
    {
      "cell_type": "code",
      "metadata": {
        "colab": {
          "base_uri": "https://localhost:8080/"
        },
        "id": "Fdyhy0Mrswdy",
        "outputId": "cec67da2-1c29-40b2-b4bd-438f56b5843d"
      },
      "source": [
        "df.shape"
      ],
      "execution_count": 17,
      "outputs": [
        {
          "output_type": "execute_result",
          "data": {
            "text/plain": [
              "(2668811, 2)"
            ]
          },
          "metadata": {},
          "execution_count": 17
        }
      ]
    },
    {
      "cell_type": "code",
      "metadata": {
        "colab": {
          "base_uri": "https://localhost:8080/"
        },
        "id": "cTnYo9jECw4g",
        "outputId": "c33f6b3b-1b08-4bd2-fdd6-95c2e2340512"
      },
      "source": [
        "len(df.index)"
      ],
      "execution_count": 18,
      "outputs": [
        {
          "output_type": "execute_result",
          "data": {
            "text/plain": [
              "2668811"
            ]
          },
          "metadata": {},
          "execution_count": 18
        }
      ]
    },
    {
      "cell_type": "code",
      "metadata": {
        "colab": {
          "base_uri": "https://localhost:8080/",
          "height": 300
        },
        "id": "m9CBN3TmFAEM",
        "outputId": "4227be56-d8a1-4f9f-f45a-6ff8c77029bf"
      },
      "source": [
        "df_duplcates_sorted=df.groupby(df.columns.tolist(),as_index=False).size().sort_values(by='size',ascending=[False])[:8]\n",
        "#print(df_duplcates_sorted.to_latex(index=False))\n",
        "df_duplcates_sorted"
      ],
      "execution_count": 19,
      "outputs": [
        {
          "output_type": "execute_result",
          "data": {
            "text/plain": [
              "                                english                  romanian   size\n",
              "174855                        Amendment              Amendamentul  59392\n",
              "872246                                –                         –  33074\n",
              "55777                                 ,                         ,  31713\n",
              "596112  Text proposed by the Commission  Textul propus de Comisie  24069\n",
              "433287                    Justification               Justificare  18142\n",
              "93126                                1.                        1.  14492\n",
              "561626                             Rule                 Articolul  11383\n",
              "528327        Proposal for a regulation   Propunere de regulament  11349"
            ],
            "text/html": "<div>\n<style scoped>\n    .dataframe tbody tr th:only-of-type {\n        vertical-align: middle;\n    }\n\n    .dataframe tbody tr th {\n        vertical-align: top;\n    }\n\n    .dataframe thead th {\n        text-align: right;\n    }\n</style>\n<table border=\"1\" class=\"dataframe\">\n  <thead>\n    <tr style=\"text-align: right;\">\n      <th></th>\n      <th>english</th>\n      <th>romanian</th>\n      <th>size</th>\n    </tr>\n  </thead>\n  <tbody>\n    <tr>\n      <th>174855</th>\n      <td>Amendment</td>\n      <td>Amendamentul</td>\n      <td>59392</td>\n    </tr>\n    <tr>\n      <th>872246</th>\n      <td>–</td>\n      <td>–</td>\n      <td>33074</td>\n    </tr>\n    <tr>\n      <th>55777</th>\n      <td>,</td>\n      <td>,</td>\n      <td>31713</td>\n    </tr>\n    <tr>\n      <th>596112</th>\n      <td>Text proposed by the Commission</td>\n      <td>Textul propus de Comisie</td>\n      <td>24069</td>\n    </tr>\n    <tr>\n      <th>433287</th>\n      <td>Justification</td>\n      <td>Justificare</td>\n      <td>18142</td>\n    </tr>\n    <tr>\n      <th>93126</th>\n      <td>1.</td>\n      <td>1.</td>\n      <td>14492</td>\n    </tr>\n    <tr>\n      <th>561626</th>\n      <td>Rule</td>\n      <td>Articolul</td>\n      <td>11383</td>\n    </tr>\n    <tr>\n      <th>528327</th>\n      <td>Proposal for a regulation</td>\n      <td>Propunere de regulament</td>\n      <td>11349</td>\n    </tr>\n  </tbody>\n</table>\n</div>"
          },
          "metadata": {},
          "execution_count": 19
        }
      ]
    },
    {
      "cell_type": "code",
      "metadata": {
        "colab": {
          "base_uri": "https://localhost:8080/"
        },
        "id": "d8UFRfdYMBwm",
        "outputId": "6ac6e4b8-2d39-4fc3-952a-e7a19e9ccae0"
      },
      "source": [
        "df_without_duplicates = df.drop_duplicates()\n",
        "len(df_without_duplicates.index)"
      ],
      "execution_count": 20,
      "outputs": [
        {
          "output_type": "execute_result",
          "data": {
            "text/plain": [
              "902308"
            ]
          },
          "metadata": {},
          "execution_count": 20
        }
      ]
    },
    {
      "cell_type": "code",
      "metadata": {
        "colab": {
          "base_uri": "https://localhost:8080/"
        },
        "id": "_GI8zVt1xDMO",
        "outputId": "ac406bd5-a7a4-4f26-a93e-7e940f89ecdb"
      },
      "source": [
        "test=df_without_duplicates.drop_duplicates(subset='english')\n",
        "len(test.index)"
      ],
      "execution_count": 21,
      "outputs": [
        {
          "output_type": "execute_result",
          "data": {
            "text/plain": [
              "820439"
            ]
          },
          "metadata": {},
          "execution_count": 21
        }
      ]
    },
    {
      "cell_type": "code",
      "metadata": {
        "colab": {
          "base_uri": "https://localhost:8080/"
        },
        "id": "iU4IV6oUMe8S",
        "outputId": "1358282e-44ee-44b2-d93e-35bf1887869a"
      },
      "source": [
        "test2=test.drop_duplicates(subset='romanian')\n",
        "len(test2.index)"
      ],
      "execution_count": 22,
      "outputs": [
        {
          "output_type": "execute_result",
          "data": {
            "text/plain": [
              "787896"
            ]
          },
          "metadata": {},
          "execution_count": 22
        }
      ]
    },
    {
      "cell_type": "code",
      "metadata": {
        "colab": {
          "base_uri": "https://localhost:8080/"
        },
        "id": "it6kfEQ2NJDs",
        "outputId": "2d37e72b-3651-4189-a9af-16591f263439"
      },
      "source": [
        "df_new=test2\n",
        "df_new.shape"
      ],
      "execution_count": 23,
      "outputs": [
        {
          "output_type": "execute_result",
          "data": {
            "text/plain": [
              "(787896, 2)"
            ]
          },
          "metadata": {},
          "execution_count": 23
        }
      ]
    },
    {
      "cell_type": "code",
      "metadata": {
        "colab": {
          "base_uri": "https://localhost:8080/"
        },
        "id": "odG2qB6kNbT9",
        "outputId": "2527abd2-2318-476d-c3e6-f1d86977f9e6"
      },
      "source": [
        "source_dataset=df_new.iloc[:,0]\n",
        "target_dataset=df_new.iloc[:,1]\n",
        "\n",
        "print(source_dataset.size==target_dataset.size, source_dataset.size)"
      ],
      "execution_count": 25,
      "outputs": [
        {
          "output_type": "stream",
          "name": "stdout",
          "text": [
            "True 787896\n"
          ]
        }
      ]
    },
    {
      "cell_type": "code",
      "metadata": {
        "colab": {
          "base_uri": "https://localhost:8080/",
          "height": 1000
        },
        "id": "1GjtsDWZDJf6",
        "outputId": "2cca299d-109a-4e0d-9dee-6583d1ece92a"
      },
      "source": [
        "df_new.iloc[24000:24050]"
      ],
      "execution_count": null,
      "outputs": [
        {
          "output_type": "execute_result",
          "data": {
            "text/html": [
              "<div>\n",
              "<style scoped>\n",
              "    .dataframe tbody tr th:only-of-type {\n",
              "        vertical-align: middle;\n",
              "    }\n",
              "\n",
              "    .dataframe tbody tr th {\n",
              "        vertical-align: top;\n",
              "    }\n",
              "\n",
              "    .dataframe thead th {\n",
              "        text-align: right;\n",
              "    }\n",
              "</style>\n",
              "<table border=\"1\" class=\"dataframe\">\n",
              "  <thead>\n",
              "    <tr style=\"text-align: right;\">\n",
              "      <th></th>\n",
              "      <th>english</th>\n",
              "      <th>romanian</th>\n",
              "    </tr>\n",
              "  </thead>\n",
              "  <tbody>\n",
              "    <tr>\n",
              "      <th>60260</th>\n",
              "      <td>Erna Hennicot-Schoepges and</td>\n",
              "      <td>Erna Hennicot-Schoepges şi</td>\n",
              "    </tr>\n",
              "    <tr>\n",
              "      <th>60264</th>\n",
              "      <td>Item 9.3 ,</td>\n",
              "      <td>punctul 9.3 ,</td>\n",
              "    </tr>\n",
              "    <tr>\n",
              "      <th>60265</th>\n",
              "      <td>Item 9.4 and</td>\n",
              "      <td>punctul 9.4 şi</td>\n",
              "    </tr>\n",
              "    <tr>\n",
              "      <th>60266</th>\n",
              "      <td>Minutes of 18.01.2007, Item 9.5 .</td>\n",
              "      <td>punctul 9.5 al PV din 18.01.2007 .</td>\n",
              "    </tr>\n",
              "    <tr>\n",
              "      <th>60269</th>\n",
              "      <td>Report on the European Road Safety Action Programme - mid-term review ( 2006/2112(INI) ) - Committee on Transport and Tourism.</td>\n",
              "      <td>Raport privind programul european de acţiune pentru siguranţa rutieră - Bilanţ la jumătatea perioadei ( 2006/2112(INI) ) - Comisia pentru transport şi turism.</td>\n",
              "    </tr>\n",
              "    <tr>\n",
              "      <th>60270</th>\n",
              "      <td>Rapporteur: Ewa Hedkvist Petersen ( A6-0449/2006 )</td>\n",
              "      <td>Raportoare: Ewa Hedkvist Petersen ( A6-0449/2006 )</td>\n",
              "    </tr>\n",
              "    <tr>\n",
              "      <th>60271</th>\n",
              "      <td>Ewa Hedkvist Petersen introduced the report.</td>\n",
              "      <td>Ewa Hedkvist Petersen şi-a prezentat raportul.</td>\n",
              "    </tr>\n",
              "    <tr>\n",
              "      <th>60273</th>\n",
              "      <td>Dieter-Lebrecht Koch , on behalf of the PPE-DE Group,</td>\n",
              "      <td>Dieter-Lebrecht Koch , în numele Grupului PPE-DE,</td>\n",
              "    </tr>\n",
              "    <tr>\n",
              "      <th>60274</th>\n",
              "      <td>Gary Titley , on behalf of the PSE Group,</td>\n",
              "      <td>Gary Titley , în numele Grupului PSE,</td>\n",
              "    </tr>\n",
              "    <tr>\n",
              "      <th>60275</th>\n",
              "      <td>Arūnas Degutis , on behalf of the ALDE Group,</td>\n",
              "      <td>Arūnas Degutis , în numele Grupului ALDE,</td>\n",
              "    </tr>\n",
              "    <tr>\n",
              "      <th>60276</th>\n",
              "      <td>Seán Ó Neachtain , on behalf of the UEN Group,</td>\n",
              "      <td>Seán Ó Neachtain , în numele Grupului UEN,</td>\n",
              "    </tr>\n",
              "    <tr>\n",
              "      <th>60277</th>\n",
              "      <td>Margrete Auken , on behalf of the Verts/ALE Group,</td>\n",
              "      <td>Margrete Auken , în numele Grupului Verts/ALE,</td>\n",
              "    </tr>\n",
              "    <tr>\n",
              "      <th>60279</th>\n",
              "      <td>Kathy Sinnott , on behalf of the IND/DEM Group,</td>\n",
              "      <td>Kathy Sinnott , în numele Grupului IND/DEM,</td>\n",
              "    </tr>\n",
              "    <tr>\n",
              "      <th>60281</th>\n",
              "      <td>Zita Gurmai ,</td>\n",
              "      <td>Zita Gurmai ,</td>\n",
              "    </tr>\n",
              "    <tr>\n",
              "      <th>60283</th>\n",
              "      <td>Janusz Wojciechowski ,</td>\n",
              "      <td>Janusz Wojciechowski ,</td>\n",
              "    </tr>\n",
              "    <tr>\n",
              "      <th>60284</th>\n",
              "      <td>Renate Sommer and</td>\n",
              "      <td>Renate Sommer şi</td>\n",
              "    </tr>\n",
              "    <tr>\n",
              "      <th>60285</th>\n",
              "      <td>Emanuel Jardim Fernandes .</td>\n",
              "      <td>Emanuel Jardim Fernandes .</td>\n",
              "    </tr>\n",
              "    <tr>\n",
              "      <th>60286</th>\n",
              "      <td>IN THE CHAIR: Mechtild ROTHE Vice-President</td>\n",
              "      <td>PREZIDEAZĂ: Mechtild ROTHE Vicepreşedintă</td>\n",
              "    </tr>\n",
              "    <tr>\n",
              "      <th>60289</th>\n",
              "      <td>Ryszard Czarnecki ,</td>\n",
              "      <td>Ryszard Czarnecki ,</td>\n",
              "    </tr>\n",
              "    <tr>\n",
              "      <th>60290</th>\n",
              "      <td>Luis de Grandes Pascual ,</td>\n",
              "      <td>Luis de Grandes Pascual ,</td>\n",
              "    </tr>\n",
              "    <tr>\n",
              "      <th>60295</th>\n",
              "      <td>Proinsias De Rossa ,</td>\n",
              "      <td>Proinsias De Rossa ,</td>\n",
              "    </tr>\n",
              "    <tr>\n",
              "      <th>60296</th>\n",
              "      <td>Jim Higgins and</td>\n",
              "      <td>Jim Higgins şi</td>\n",
              "    </tr>\n",
              "    <tr>\n",
              "      <th>60300</th>\n",
              "      <td>Minutes of 18.01.2007, Item 9.9 .</td>\n",
              "      <td>punctul 9.9 al PV din 18.01.2007 .</td>\n",
              "    </tr>\n",
              "    <tr>\n",
              "      <th>60303</th>\n",
              "      <td>Recommendation on the proposal for a Council decision concerning the conclusion of the Agreement amending the Partnership Agreement between the members of the African, Caribbean and Pacific Group of States, of the one part, and the European Community and its Member States, of the other part, signed in Cotonou on 23 June 2000 (06987/2006 - C6-0124/2006 - 2005/0071(AVC) ) - Committee on Development.</td>\n",
              "      <td>Recomandare referitoare la propunerea de decizie a Consiliului privind încheierea Acordului de modificare a Acordului de parteneriat între membrii grupului statelor din Africa, Caraibe şi Pacific, pe de o parte, şi Comunitatea Europeană şi statele membre ale acesteia, pe de altă parte, semnat la Cotonou la 23 iunie 2000 (06987/2006 - C6-0124/2006 - 2005/0071(AVC) ) - Comisia pentru dezvoltare.</td>\n",
              "    </tr>\n",
              "    <tr>\n",
              "      <th>60304</th>\n",
              "      <td>Rapporteur: José Ribeiro e Castro ( A6-0469/2006 )</td>\n",
              "      <td>Raportor: José Ribeiro e Castro ( A6-0469/2006 )</td>\n",
              "    </tr>\n",
              "    <tr>\n",
              "      <th>60305</th>\n",
              "      <td>José Ribeiro e Castro introduced the recommendation.</td>\n",
              "      <td>José Ribeiro e Castro a prezentat recomandarea.</td>\n",
              "    </tr>\n",
              "    <tr>\n",
              "      <th>60307</th>\n",
              "      <td>Marie-Arlette Carlotti , on behalf of the PSE Group,</td>\n",
              "      <td>Marie-Arlette Carlotti , în numele Grupului PSE,</td>\n",
              "    </tr>\n",
              "    <tr>\n",
              "      <th>60308</th>\n",
              "      <td>Fiona Hall , on behalf of the ALDE Group,</td>\n",
              "      <td>Fiona Hall , în numele Grupului ALDE,</td>\n",
              "    </tr>\n",
              "    <tr>\n",
              "      <th>60309</th>\n",
              "      <td>Jean-Claude Martinez , on behalf of the ITS Group,</td>\n",
              "      <td>Jean-Claude Martinez , în numele Grupului ITS,</td>\n",
              "    </tr>\n",
              "    <tr>\n",
              "      <th>60310</th>\n",
              "      <td>Margrietus van den Berg ,</td>\n",
              "      <td>Margrietus van den Berg ,</td>\n",
              "    </tr>\n",
              "    <tr>\n",
              "      <th>60311</th>\n",
              "      <td>Glenys Kinnock ,</td>\n",
              "      <td>Glenys Kinnock ,</td>\n",
              "    </tr>\n",
              "    <tr>\n",
              "      <th>60312</th>\n",
              "      <td>Pierre Schapira ,</td>\n",
              "      <td>Pierre Schapira ,</td>\n",
              "    </tr>\n",
              "    <tr>\n",
              "      <th>60314</th>\n",
              "      <td>Kader Arif and</td>\n",
              "      <td>Kader Arif şi</td>\n",
              "    </tr>\n",
              "    <tr>\n",
              "      <th>60318</th>\n",
              "      <td>Minutes of 18.01.2007, Item 9.2 .</td>\n",
              "      <td>punctul 9.2 al PV din 18.01.2007 .</td>\n",
              "    </tr>\n",
              "    <tr>\n",
              "      <th>60319</th>\n",
              "      <td>14 Agenda for next sitting</td>\n",
              "      <td>14 Ordinea de zi a următoarei şedinţe</td>\n",
              "    </tr>\n",
              "    <tr>\n",
              "      <th>60320</th>\n",
              "      <td>The agenda for the next sitting had been established ('Agenda' PE 382.948/OJJE).</td>\n",
              "      <td>A fost stabilită ordinea de zi a şedinţei de a doua zi (documentul „Ordine de zi” PE 382.948/OJJE).</td>\n",
              "    </tr>\n",
              "    <tr>\n",
              "      <th>60321</th>\n",
              "      <td>15 Closure of sitting</td>\n",
              "      <td>15 Ridicarea şedinţei</td>\n",
              "    </tr>\n",
              "    <tr>\n",
              "      <th>60322</th>\n",
              "      <td>The sitting closed at 23.25.</td>\n",
              "      <td>Şedinţa s-a ridicat la 23.25.</td>\n",
              "    </tr>\n",
              "    <tr>\n",
              "      <th>60357</th>\n",
              "      <td>Baco</td>\n",
              "      <td>Baco</td>\n",
              "    </tr>\n",
              "    <tr>\n",
              "      <th>60396</th>\n",
              "      <td>Bowis</td>\n",
              "      <td>Bowis</td>\n",
              "    </tr>\n",
              "    <tr>\n",
              "      <th>60436</th>\n",
              "      <td>Cavada</td>\n",
              "      <td>Cavada</td>\n",
              "    </tr>\n",
              "    <tr>\n",
              "      <th>60550</th>\n",
              "      <td>Garriga Polledo</td>\n",
              "      <td>Garriga Polledo</td>\n",
              "    </tr>\n",
              "    <tr>\n",
              "      <th>60587</th>\n",
              "      <td>Guerreiro</td>\n",
              "      <td>Guerreiro</td>\n",
              "    </tr>\n",
              "    <tr>\n",
              "      <th>60602</th>\n",
              "      <td>Hasse Ferreira</td>\n",
              "      <td>Hasse Ferreira</td>\n",
              "    </tr>\n",
              "    <tr>\n",
              "      <th>60769</th>\n",
              "      <td>Meyer Pleite</td>\n",
              "      <td>Meyer Pleite</td>\n",
              "    </tr>\n",
              "    <tr>\n",
              "      <th>60834</th>\n",
              "      <td>Peillon</td>\n",
              "      <td>Peillon</td>\n",
              "    </tr>\n",
              "    <tr>\n",
              "      <th>60876</th>\n",
              "      <td>Ribeiro e Castro</td>\n",
              "      <td>Ribeiro e Castro</td>\n",
              "    </tr>\n",
              "    <tr>\n",
              "      <th>60879</th>\n",
              "      <td>Riis-Jørgensen</td>\n",
              "      <td>Riis-Jørgensen</td>\n",
              "    </tr>\n",
              "    <tr>\n",
              "      <th>60989</th>\n",
              "      <td>Toussas</td>\n",
              "      <td>Toussas</td>\n",
              "    </tr>\n",
              "    <tr>\n",
              "      <th>61010</th>\n",
              "      <td>Ventre</td>\n",
              "      <td>Ventre</td>\n",
              "    </tr>\n",
              "  </tbody>\n",
              "</table>\n",
              "</div>"
            ],
            "text/plain": [
              "                                                                                                                                                                                                                                                                                                                                                                                                                english                                                                                                                                                                                                                                                                                                                                                                                                      romanian\n",
              "60260                                                                                                                                                                                                                                                                                                                                                                                       Erna Hennicot-Schoepges and                                                                                                                                                                                                                                                                                                                                                                                    Erna Hennicot-Schoepges şi\n",
              "60264                                                                                                                                                                                                                                                                                                                                                                                                        Item 9.3 ,                                                                                                                                                                                                                                                                                                                                                                                                 punctul 9.3 ,\n",
              "60265                                                                                                                                                                                                                                                                                                                                                                                                      Item 9.4 and                                                                                                                                                                                                                                                                                                                                                                                                punctul 9.4 şi\n",
              "60266                                                                                                                                                                                                                                                                                                                                                                                 Minutes of 18.01.2007, Item 9.5 .                                                                                                                                                                                                                                                                                                                                                                            punctul 9.5 al PV din 18.01.2007 .\n",
              "60269                                                                                                                                                                                                                                                                                    Report on the European Road Safety Action Programme - mid-term review ( 2006/2112(INI) ) - Committee on Transport and Tourism.                                                                                                                                                                                                                                                Raport privind programul european de acţiune pentru siguranţa rutieră - Bilanţ la jumătatea perioadei ( 2006/2112(INI) ) - Comisia pentru transport şi turism.\n",
              "60270                                                                                                                                                                                                                                                                                                                                                                Rapporteur: Ewa Hedkvist Petersen ( A6-0449/2006 )                                                                                                                                                                                                                                                                                                                                                            Raportoare: Ewa Hedkvist Petersen ( A6-0449/2006 )\n",
              "60271                                                                                                                                                                                                                                                                                                                                                                      Ewa Hedkvist Petersen introduced the report.                                                                                                                                                                                                                                                                                                                                                                Ewa Hedkvist Petersen şi-a prezentat raportul.\n",
              "60273                                                                                                                                                                                                                                                                                                                                                             Dieter-Lebrecht Koch , on behalf of the PPE-DE Group,                                                                                                                                                                                                                                                                                                                                                             Dieter-Lebrecht Koch , în numele Grupului PPE-DE,\n",
              "60274                                                                                                                                                                                                                                                                                                                                                                         Gary Titley , on behalf of the PSE Group,                                                                                                                                                                                                                                                                                                                                                                         Gary Titley , în numele Grupului PSE,\n",
              "60275                                                                                                                                                                                                                                                                                                                                                                     Arūnas Degutis , on behalf of the ALDE Group,                                                                                                                                                                                                                                                                                                                                                                     Arūnas Degutis , în numele Grupului ALDE,\n",
              "60276                                                                                                                                                                                                                                                                                                                                                                    Seán Ó Neachtain , on behalf of the UEN Group,                                                                                                                                                                                                                                                                                                                                                                    Seán Ó Neachtain , în numele Grupului UEN,\n",
              "60277                                                                                                                                                                                                                                                                                                                                                                Margrete Auken , on behalf of the Verts/ALE Group,                                                                                                                                                                                                                                                                                                                                                                Margrete Auken , în numele Grupului Verts/ALE,\n",
              "60279                                                                                                                                                                                                                                                                                                                                                                   Kathy Sinnott , on behalf of the IND/DEM Group,                                                                                                                                                                                                                                                                                                                                                                   Kathy Sinnott , în numele Grupului IND/DEM,\n",
              "60281                                                                                                                                                                                                                                                                                                                                                                                                     Zita Gurmai ,                                                                                                                                                                                                                                                                                                                                                                                                 Zita Gurmai ,\n",
              "60283                                                                                                                                                                                                                                                                                                                                                                                            Janusz Wojciechowski ,                                                                                                                                                                                                                                                                                                                                                                                        Janusz Wojciechowski ,\n",
              "60284                                                                                                                                                                                                                                                                                                                                                                                                 Renate Sommer and                                                                                                                                                                                                                                                                                                                                                                                              Renate Sommer şi\n",
              "60285                                                                                                                                                                                                                                                                                                                                                                                        Emanuel Jardim Fernandes .                                                                                                                                                                                                                                                                                                                                                                                    Emanuel Jardim Fernandes .\n",
              "60286                                                                                                                                                                                                                                                                                                                                                                       IN THE CHAIR: Mechtild ROTHE Vice-President                                                                                                                                                                                                                                                                                                                                                                     PREZIDEAZĂ: Mechtild ROTHE Vicepreşedintă\n",
              "60289                                                                                                                                                                                                                                                                                                                                                                                               Ryszard Czarnecki ,                                                                                                                                                                                                                                                                                                                                                                                           Ryszard Czarnecki ,\n",
              "60290                                                                                                                                                                                                                                                                                                                                                                                         Luis de Grandes Pascual ,                                                                                                                                                                                                                                                                                                                                                                                     Luis de Grandes Pascual ,\n",
              "60295                                                                                                                                                                                                                                                                                                                                                                                              Proinsias De Rossa ,                                                                                                                                                                                                                                                                                                                                                                                          Proinsias De Rossa ,\n",
              "60296                                                                                                                                                                                                                                                                                                                                                                                                   Jim Higgins and                                                                                                                                                                                                                                                                                                                                                                                                Jim Higgins şi\n",
              "60300                                                                                                                                                                                                                                                                                                                                                                                 Minutes of 18.01.2007, Item 9.9 .                                                                                                                                                                                                                                                                                                                                                                            punctul 9.9 al PV din 18.01.2007 .\n",
              "60303  Recommendation on the proposal for a Council decision concerning the conclusion of the Agreement amending the Partnership Agreement between the members of the African, Caribbean and Pacific Group of States, of the one part, and the European Community and its Member States, of the other part, signed in Cotonou on 23 June 2000 (06987/2006 - C6-0124/2006 - 2005/0071(AVC) ) - Committee on Development.  Recomandare referitoare la propunerea de decizie a Consiliului privind încheierea Acordului de modificare a Acordului de parteneriat între membrii grupului statelor din Africa, Caraibe şi Pacific, pe de o parte, şi Comunitatea Europeană şi statele membre ale acesteia, pe de altă parte, semnat la Cotonou la 23 iunie 2000 (06987/2006 - C6-0124/2006 - 2005/0071(AVC) ) - Comisia pentru dezvoltare.\n",
              "60304                                                                                                                                                                                                                                                                                                                                                                Rapporteur: José Ribeiro e Castro ( A6-0469/2006 )                                                                                                                                                                                                                                                                                                                                                              Raportor: José Ribeiro e Castro ( A6-0469/2006 )\n",
              "60305                                                                                                                                                                                                                                                                                                                                                              José Ribeiro e Castro introduced the recommendation.                                                                                                                                                                                                                                                                                                                                                               José Ribeiro e Castro a prezentat recomandarea.\n",
              "60307                                                                                                                                                                                                                                                                                                                                                              Marie-Arlette Carlotti , on behalf of the PSE Group,                                                                                                                                                                                                                                                                                                                                                              Marie-Arlette Carlotti , în numele Grupului PSE,\n",
              "60308                                                                                                                                                                                                                                                                                                                                                                         Fiona Hall , on behalf of the ALDE Group,                                                                                                                                                                                                                                                                                                                                                                         Fiona Hall , în numele Grupului ALDE,\n",
              "60309                                                                                                                                                                                                                                                                                                                                                                Jean-Claude Martinez , on behalf of the ITS Group,                                                                                                                                                                                                                                                                                                                                                                Jean-Claude Martinez , în numele Grupului ITS,\n",
              "60310                                                                                                                                                                                                                                                                                                                                                                                         Margrietus van den Berg ,                                                                                                                                                                                                                                                                                                                                                                                     Margrietus van den Berg ,\n",
              "60311                                                                                                                                                                                                                                                                                                                                                                                                  Glenys Kinnock ,                                                                                                                                                                                                                                                                                                                                                                                              Glenys Kinnock ,\n",
              "60312                                                                                                                                                                                                                                                                                                                                                                                                 Pierre Schapira ,                                                                                                                                                                                                                                                                                                                                                                                             Pierre Schapira ,\n",
              "60314                                                                                                                                                                                                                                                                                                                                                                                                    Kader Arif and                                                                                                                                                                                                                                                                                                                                                                                                 Kader Arif şi\n",
              "60318                                                                                                                                                                                                                                                                                                                                                                                 Minutes of 18.01.2007, Item 9.2 .                                                                                                                                                                                                                                                                                                                                                                            punctul 9.2 al PV din 18.01.2007 .\n",
              "60319                                                                                                                                                                                                                                                                                                                                                                                        14 Agenda for next sitting                                                                                                                                                                                                                                                                                                                                                                         14 Ordinea de zi a următoarei şedinţe\n",
              "60320                                                                                                                                                                                                                                                                                                                                  The agenda for the next sitting had been established ('Agenda' PE 382.948/OJJE).                                                                                                                                                                                                                                                                                                           A fost stabilită ordinea de zi a şedinţei de a doua zi (documentul „Ordine de zi” PE 382.948/OJJE).\n",
              "60321                                                                                                                                                                                                                                                                                                                                                                                             15 Closure of sitting                                                                                                                                                                                                                                                                                                                                                                                         15 Ridicarea şedinţei\n",
              "60322                                                                                                                                                                                                                                                                                                                                                                                      The sitting closed at 23.25.                                                                                                                                                                                                                                                                                                                                                                                 Şedinţa s-a ridicat la 23.25.\n",
              "60357                                                                                                                                                                                                                                                                                                                                                                                                              Baco                                                                                                                                                                                                                                                                                                                                                                                                          Baco\n",
              "60396                                                                                                                                                                                                                                                                                                                                                                                                             Bowis                                                                                                                                                                                                                                                                                                                                                                                                         Bowis\n",
              "60436                                                                                                                                                                                                                                                                                                                                                                                                            Cavada                                                                                                                                                                                                                                                                                                                                                                                                        Cavada\n",
              "60550                                                                                                                                                                                                                                                                                                                                                                                                   Garriga Polledo                                                                                                                                                                                                                                                                                                                                                                                               Garriga Polledo\n",
              "60587                                                                                                                                                                                                                                                                                                                                                                                                         Guerreiro                                                                                                                                                                                                                                                                                                                                                                                                     Guerreiro\n",
              "60602                                                                                                                                                                                                                                                                                                                                                                                                    Hasse Ferreira                                                                                                                                                                                                                                                                                                                                                                                                Hasse Ferreira\n",
              "60769                                                                                                                                                                                                                                                                                                                                                                                                      Meyer Pleite                                                                                                                                                                                                                                                                                                                                                                                                  Meyer Pleite\n",
              "60834                                                                                                                                                                                                                                                                                                                                                                                                           Peillon                                                                                                                                                                                                                                                                                                                                                                                                       Peillon\n",
              "60876                                                                                                                                                                                                                                                                                                                                                                                                  Ribeiro e Castro                                                                                                                                                                                                                                                                                                                                                                                              Ribeiro e Castro\n",
              "60879                                                                                                                                                                                                                                                                                                                                                                                                    Riis-Jørgensen                                                                                                                                                                                                                                                                                                                                                                                                Riis-Jørgensen\n",
              "60989                                                                                                                                                                                                                                                                                                                                                                                                           Toussas                                                                                                                                                                                                                                                                                                                                                                                                       Toussas\n",
              "61010                                                                                                                                                                                                                                                                                                                                                                                                            Ventre                                                                                                                                                                                                                                                                                                                                                                                                        Ventre"
            ]
          },
          "metadata": {
            "tags": []
          },
          "execution_count": 14
        }
      ]
    },
    {
      "cell_type": "code",
      "metadata": {
        "colab": {
          "base_uri": "https://localhost:8080/"
        },
        "id": "A-GR39w4bkBg",
        "outputId": "eae919ec-8a49-488c-92f6-c5cf2ec9174d"
      },
      "source": [
        "!pip install langdetect\n",
        "from langdetect import detect"
      ],
      "execution_count": 26,
      "outputs": [
        {
          "output_type": "stream",
          "name": "stdout",
          "text": [
            "Collecting langdetect\n",
            "\u001b[?25l  Downloading https://files.pythonhosted.org/packages/0e/72/a3add0e4eec4eb9e2569554f7c70f4a3c27712f40e3284d483e88094cc0e/langdetect-1.0.9.tar.gz (981kB)\n",
            "\u001b[K    100% |████████████████████████████████| 983kB 975kB/s \n",
            "\u001b[?25hRequirement already satisfied: six in /home/mi/bernadeta/venv/BA_code/lib/python3.7/site-packages (from langdetect) (1.12.0)\n",
            "Building wheels for collected packages: langdetect\n",
            "  Running setup.py bdist_wheel for langdetect ... \u001b[?25ldone\n",
            "\u001b[?25h  Stored in directory: /home/mi/bernadeta/.cache/pip/wheels/7e/18/13/038c34057808931c7ddc6c92d3aa015cf1a498df5a70268996\n",
            "Successfully built langdetect\n",
            "Installing collected packages: langdetect\n",
            "Successfully installed langdetect-1.0.9\n"
          ]
        }
      ]
    },
    {
      "cell_type": "code",
      "metadata": {
        "id": "tuUfw4ZZlMhX",
        "colab": {
          "base_uri": "https://localhost:8080/"
        },
        "outputId": "0b7dd2bf-b87e-4874-993f-714c04238f14"
      },
      "source": [
        "df_new['romanian'].str.replace(r'[^\\w\\s]+', '')"
      ],
      "execution_count": 27,
      "outputs": [
        {
          "output_type": "stream",
          "name": "stderr",
          "text": [
            "ipykernel_launcher:1: FutureWarning: The default value of regex will change from True to False in a future version.\n"
          ]
        },
        {
          "output_type": "execute_result",
          "data": {
            "text/plain": [
              "0                                                                                                                                                                                                   ÎNTREBARE ORALĂ H033607\n",
              "1                                                                                                                                                       pentru timpul afectat întrebărilor din perioada de sesiune mai 2007\n",
              "2                                                                                                                                                            în conformitate cu articolul 109 din Regulamentul de procedură\n",
              "3                                                                                                                                                                                                                        de\n",
              "4                                                                                                                                                                                                     Roberta Alma Anastase\n",
              "                                                                                                                 ...                                                                                                       \n",
              "2668799                                                                           invită Comisia să ia în considerare rezultatele studiilor disponibile referitoare la efectele acestui program asupra dezvoltării copiilor\n",
              "2668801    încredințează Președintelui sarcina de a transmite prezenta declarație însoțită de numele semnatarilor Lista semnatarilor este publicată în anexa 3 la procesulverbal din 15 martie 2012  P7_PVPROV20120315ANN3 \n",
              "2668802                                                                                                                                                                           Comisiei și parlamentelor statelor membre\n",
              "2668803                                                                                                                                                                                                Săptămâna  01012004s\n",
              "2668807                                                                                                                                                                                                Săptămâna  01012005s\n",
              "Name: romanian, Length: 787896, dtype: object"
            ]
          },
          "metadata": {},
          "execution_count": 27
        }
      ]
    },
    {
      "cell_type": "code",
      "metadata": {
        "colab": {
          "base_uri": "https://localhost:8080/"
        },
        "id": "RBuHSUeqlxOI",
        "outputId": "ebe31f97-b214-46e7-e377-d2a8df570840"
      },
      "source": [
        "df_new.dropna()\n",
        "df_new.shape"
      ],
      "execution_count": 28,
      "outputs": [
        {
          "output_type": "execute_result",
          "data": {
            "text/plain": [
              "(787896, 2)"
            ]
          },
          "metadata": {},
          "execution_count": 28
        }
      ]
    },
    {
      "cell_type": "code",
      "metadata": {
        "id": "kzhfCJf5guV5"
      },
      "source": [
        "#ro_column= df_new['romanian']\n",
        "\n",
        "texl70 = df['romanian']\n",
        "langdet = []                                                    \n",
        "\n",
        "for i in range(len(texl70)):                                         \n",
        "  try:                                                          \n",
        "      lang=detect(texl70[i])                                      \n",
        "  except:                                                       \n",
        "      lang='no'                                                  \n",
        "      print(\"This row throws error:\", texl70[i], i)                 \n",
        "  langdet.append(lang)                "
      ],
      "execution_count": null,
      "outputs": []
    },
    {
      "cell_type": "code",
      "metadata": {
        "id": "amAfWtRmFYNb"
      },
      "source": [
        "for i in range(len(df_new)):\n",
        "  try:\n",
        "    df_new['language'] = df_new['romanian'].apply(detect)\n",
        "  except:\n",
        "    print(\"didnt work\", i)\n"
      ],
      "execution_count": null,
      "outputs": []
    },
    {
      "cell_type": "code",
      "metadata": {
        "colab": {
          "base_uri": "https://localhost:8080/"
        },
        "id": "nKzqDZwg5Mq3",
        "outputId": "f52311bb-2522-4c47-a397-cca16f6da486"
      },
      "source": [
        "pd.set_option('display.max_colwidth', None)\n",
        "\n",
        "df.iloc[12]"
      ],
      "execution_count": null,
      "outputs": [
        {
          "output_type": "execute_result",
          "data": {
            "text/plain": [
              "english                     pursuant to Rule 109 of the Rules of Procedure\n",
              "romanian    în conformitate cu articolul 109 din Regulamentul de procedură\n",
              "Name: 12, dtype: object"
            ]
          },
          "metadata": {
            "tags": []
          },
          "execution_count": 82
        }
      ]
    },
    {
      "cell_type": "code",
      "metadata": {
        "colab": {
          "base_uri": "https://localhost:8080/",
          "height": 520
        },
        "id": "bYQglG-MpB1m",
        "outputId": "4af16572-e467-4aee-bcc5-570cbe0a5549"
      },
      "source": [
        "n=13\n",
        "\n",
        "df_new.reindex(range(15)).ffill()\n",
        "df_new.iloc[:15]\n"
      ],
      "execution_count": null,
      "outputs": [
        {
          "output_type": "execute_result",
          "data": {
            "text/html": [
              "<div>\n",
              "<style scoped>\n",
              "    .dataframe tbody tr th:only-of-type {\n",
              "        vertical-align: middle;\n",
              "    }\n",
              "\n",
              "    .dataframe tbody tr th {\n",
              "        vertical-align: top;\n",
              "    }\n",
              "\n",
              "    .dataframe thead th {\n",
              "        text-align: right;\n",
              "    }\n",
              "</style>\n",
              "<table border=\"1\" class=\"dataframe\">\n",
              "  <thead>\n",
              "    <tr style=\"text-align: right;\">\n",
              "      <th></th>\n",
              "      <th>english</th>\n",
              "      <th>romanian</th>\n",
              "    </tr>\n",
              "  </thead>\n",
              "  <tbody>\n",
              "    <tr>\n",
              "      <th>0</th>\n",
              "      <td>ORAL QUESTION H-0336/07</td>\n",
              "      <td>ÎNTREBARE ORALĂ H-0336/07</td>\n",
              "    </tr>\n",
              "    <tr>\n",
              "      <th>1</th>\n",
              "      <td>for Question Time at the part-session in May 2007</td>\n",
              "      <td>pentru timpul afectat întrebărilor din perioad...</td>\n",
              "    </tr>\n",
              "    <tr>\n",
              "      <th>2</th>\n",
              "      <td>pursuant to Rule 109 of the Rules of Procedure</td>\n",
              "      <td>în conformitate cu articolul 109 din Regulamen...</td>\n",
              "    </tr>\n",
              "    <tr>\n",
              "      <th>3</th>\n",
              "      <td>by</td>\n",
              "      <td>de</td>\n",
              "    </tr>\n",
              "    <tr>\n",
              "      <th>4</th>\n",
              "      <td>Roberta Alma Anastase</td>\n",
              "      <td>Roberta Alma Anastase</td>\n",
              "    </tr>\n",
              "    <tr>\n",
              "      <th>5</th>\n",
              "      <td>to the Council</td>\n",
              "      <td>Consiliului</td>\n",
              "    </tr>\n",
              "    <tr>\n",
              "      <th>6</th>\n",
              "      <td>Subject: More active EU involvement in settlin...</td>\n",
              "      <td>Subiect: Implicarea mai activă a UE în soluţio...</td>\n",
              "    </tr>\n",
              "    <tr>\n",
              "      <th>7</th>\n",
              "      <td>In the context of the recent exchange of views...</td>\n",
              "      <td>În cadrul recentului schimb de opinii cu Înalt...</td>\n",
              "    </tr>\n",
              "    <tr>\n",
              "      <th>8</th>\n",
              "      <td>What concrete measures will the Council take f...</td>\n",
              "      <td>Care sunt măsurile concrete pe care Consiliul ...</td>\n",
              "    </tr>\n",
              "    <tr>\n",
              "      <th>9</th>\n",
              "      <td>In this connection, how will the Council take ...</td>\n",
              "      <td>În acelaşi sens, cum intenţionează Consiliul s...</td>\n",
              "    </tr>\n",
              "    <tr>\n",
              "      <th>10</th>\n",
              "      <td>ORAL QUESTION H-0431/07</td>\n",
              "      <td>ÎNTREBARE ORALĂ H-0431/07</td>\n",
              "    </tr>\n",
              "    <tr>\n",
              "      <th>11</th>\n",
              "      <td>for Question Time at the part-session in June ...</td>\n",
              "      <td>pentru timpul afectat întrebărilor din perioad...</td>\n",
              "    </tr>\n",
              "    <tr>\n",
              "      <th>14</th>\n",
              "      <td>Silvia Ciornei</td>\n",
              "      <td>Silvia Ciornei</td>\n",
              "    </tr>\n",
              "    <tr>\n",
              "      <th>15</th>\n",
              "      <td>to the Commission</td>\n",
              "      <td>Comisiei</td>\n",
              "    </tr>\n",
              "    <tr>\n",
              "      <th>16</th>\n",
              "      <td>Subject: Cutting red tape in the EU</td>\n",
              "      <td>Subiect: Reducerea birocraţiei în Uniunea Euro...</td>\n",
              "    </tr>\n",
              "  </tbody>\n",
              "</table>\n",
              "</div>"
            ],
            "text/plain": [
              "                                              english                                           romanian\n",
              "0                             ORAL QUESTION H-0336/07                          ÎNTREBARE ORALĂ H-0336/07\n",
              "1   for Question Time at the part-session in May 2007  pentru timpul afectat întrebărilor din perioad...\n",
              "2      pursuant to Rule 109 of the Rules of Procedure  în conformitate cu articolul 109 din Regulamen...\n",
              "3                                                  by                                                 de\n",
              "4                               Roberta Alma Anastase                              Roberta Alma Anastase\n",
              "5                                      to the Council                                        Consiliului\n",
              "6   Subject: More active EU involvement in settlin...  Subiect: Implicarea mai activă a UE în soluţio...\n",
              "7   In the context of the recent exchange of views...  În cadrul recentului schimb de opinii cu Înalt...\n",
              "8   What concrete measures will the Council take f...  Care sunt măsurile concrete pe care Consiliul ...\n",
              "9   In this connection, how will the Council take ...  În acelaşi sens, cum intenţionează Consiliul s...\n",
              "10                            ORAL QUESTION H-0431/07                          ÎNTREBARE ORALĂ H-0431/07\n",
              "11  for Question Time at the part-session in June ...  pentru timpul afectat întrebărilor din perioad...\n",
              "14                                     Silvia Ciornei                                     Silvia Ciornei\n",
              "15                                  to the Commission                                           Comisiei\n",
              "16                Subject: Cutting red tape in the EU  Subiect: Reducerea birocraţiei în Uniunea Euro..."
            ]
          },
          "metadata": {
            "tags": []
          },
          "execution_count": 56
        }
      ]
    },
    {
      "cell_type": "code",
      "metadata": {
        "colab": {
          "base_uri": "https://localhost:8080/",
          "height": 98
        },
        "id": "6ioPd4bbJeoY",
        "outputId": "a65eb256-2780-4d13-8b50-7375de88f0f4"
      },
      "source": [
        "df_new__=df_new[df_new.iloc[:, 1].str.contains('joc de cuvinte')]\n",
        "#contain_values = df_clean_dev_en[df_clean_dev_en.iloc[:,0].str.contains('Clear European')]\n",
        "df_new__"
      ],
      "execution_count": null,
      "outputs": [
        {
          "output_type": "execute_result",
          "data": {
            "text/html": [
              "<div>\n",
              "<style scoped>\n",
              "    .dataframe tbody tr th:only-of-type {\n",
              "        vertical-align: middle;\n",
              "    }\n",
              "\n",
              "    .dataframe tbody tr th {\n",
              "        vertical-align: top;\n",
              "    }\n",
              "\n",
              "    .dataframe thead th {\n",
              "        text-align: right;\n",
              "    }\n",
              "</style>\n",
              "<table border=\"1\" class=\"dataframe\">\n",
              "  <thead>\n",
              "    <tr style=\"text-align: right;\">\n",
              "      <th></th>\n",
              "      <th>english</th>\n",
              "      <th>romanian</th>\n",
              "    </tr>\n",
              "  </thead>\n",
              "  <tbody>\n",
              "    <tr>\n",
              "      <th>322678</th>\n",
              "      <td>We \"pass\" arguments among ourselves, exchange views and experience in order to achieve a common \"goal\".</td>\n",
              "      <td>Ne «pasăm» argumentele de la unul la altul, facem schimburi de opinii şi de experienţe pentru a obţine un «obiectiv» [joc de cuvinte în limba engleză, «goal» însemnând în acelaşi timp «obiectiv» şi «gol» n.r.].</td>\n",
              "    </tr>\n",
              "  </tbody>\n",
              "</table>\n",
              "</div>"
            ],
            "text/plain": [
              "                                                                                                        english                                                                                                                                                                                                            romanian\n",
              "322678  We \"pass\" arguments among ourselves, exchange views and experience in order to achieve a common \"goal\".  Ne «pasăm» argumentele de la unul la altul, facem schimburi de opinii şi de experienţe pentru a obţine un «obiectiv» [joc de cuvinte în limba engleză, «goal» însemnând în acelaşi timp «obiectiv» şi «gol» n.r.]."
            ]
          },
          "metadata": {
            "tags": []
          },
          "execution_count": 55
        }
      ]
    },
    {
      "cell_type": "code",
      "metadata": {
        "colab": {
          "base_uri": "https://localhost:8080/"
        },
        "id": "gmd3j5YqoYoD",
        "outputId": "390ea7cc-428e-4dc1-b727-6cff01fbae69"
      },
      "source": [
        "from collections import Counter\n",
        "\n",
        "print(Counter(langdet).keys() )\n",
        "print(Counter(langdet).values()) # counts the elements' frequency"
      ],
      "execution_count": null,
      "outputs": [
        {
          "output_type": "stream",
          "text": [
            "dict_keys(['ro', 'es', 'pt', 'it', 'fi', 'et', 'id', 'ca', 'no'])\n",
            "dict_values([121, 13, 1, 3, 3, 1, 1, 1, 1])\n"
          ],
          "name": "stdout"
        }
      ]
    },
    {
      "cell_type": "code",
      "metadata": {
        "colab": {
          "base_uri": "https://localhost:8080/"
        },
        "id": "7jKCuG6ejcHH",
        "outputId": "dc454b5d-e340-4e4f-bc89-23c7d8cf2371"
      },
      "source": [
        "df_new.applymap(type).eq(str).all()"
      ],
      "execution_count": null,
      "outputs": [
        {
          "output_type": "execute_result",
          "data": {
            "text/plain": [
              "english     True\n",
              "romanian    True\n",
              "dtype: bool"
            ]
          },
          "metadata": {
            "tags": []
          },
          "execution_count": 13
        }
      ]
    },
    {
      "cell_type": "code",
      "metadata": {
        "id": "lE4N0mnPOK3T"
      },
      "source": [
        "source_dataset.to_csv (r'/content/drive/MyDrive/data_en_ro/dcep_full/clean_dcep.ro-en.en.txt' , index = None, header = False)\n",
        "target_dataset.to_csv (r'/content/drive/MyDrive/data_en_ro/dcep_full/clean_dcep.ro-en.ro.txt' , index = None, header = False)"
      ],
      "execution_count": null,
      "outputs": []
    },
    {
      "cell_type": "code",
      "metadata": {
        "colab": {
          "base_uri": "https://localhost:8080/"
        },
        "id": "l_ZZ6IawOgMq",
        "outputId": "b8e12007-6dac-4485-eb8c-995832ac9eeb"
      },
      "source": [
        "!wc -l /content/drive/MyDrive/data_en_ro/dcep_full/clean_dcep.ro-en.en.txt\n",
        "!wc -l /content/drive/MyDrive/data_en_ro/dcep_full/clean_dcep.ro-en.ro.txt\n"
      ],
      "execution_count": null,
      "outputs": [
        {
          "output_type": "stream",
          "text": [
            "787896 /content/drive/MyDrive/data_en_ro/dcep_full/clean_dcep.ro-en.en.txt\n",
            "787896 /content/drive/MyDrive/data_en_ro/dcep_full/clean_dcep.ro-en.ro.txt\n"
          ],
          "name": "stdout"
        }
      ]
    },
    {
      "cell_type": "code",
      "metadata": {
        "colab": {
          "base_uri": "https://localhost:8080/"
        },
        "id": "6N-5Dp-BOuyX",
        "outputId": "4d279423-7896-4d35-955c-82b058de679e"
      },
      "source": [
        "! pip install -U sacremoses"
      ],
      "execution_count": null,
      "outputs": [
        {
          "output_type": "stream",
          "text": [
            "Collecting sacremoses\n",
            "\u001b[?25l  Downloading https://files.pythonhosted.org/packages/75/ee/67241dc87f266093c533a2d4d3d69438e57d7a90abb216fa076e7d475d4a/sacremoses-0.0.45-py3-none-any.whl (895kB)\n",
            "\r\u001b[K     |▍                               | 10kB 17.1MB/s eta 0:00:01\r\u001b[K     |▊                               | 20kB 22.1MB/s eta 0:00:01\r\u001b[K     |█                               | 30kB 24.3MB/s eta 0:00:01\r\u001b[K     |█▌                              | 40kB 27.3MB/s eta 0:00:01\r\u001b[K     |█▉                              | 51kB 30.0MB/s eta 0:00:01\r\u001b[K     |██▏                             | 61kB 30.5MB/s eta 0:00:01\r\u001b[K     |██▋                             | 71kB 31.2MB/s eta 0:00:01\r\u001b[K     |███                             | 81kB 31.8MB/s eta 0:00:01\r\u001b[K     |███▎                            | 92kB 33.0MB/s eta 0:00:01\r\u001b[K     |███▋                            | 102kB 33.3MB/s eta 0:00:01\r\u001b[K     |████                            | 112kB 33.3MB/s eta 0:00:01\r\u001b[K     |████▍                           | 122kB 33.3MB/s eta 0:00:01\r\u001b[K     |████▊                           | 133kB 33.3MB/s eta 0:00:01\r\u001b[K     |█████▏                          | 143kB 33.3MB/s eta 0:00:01\r\u001b[K     |█████▌                          | 153kB 33.3MB/s eta 0:00:01\r\u001b[K     |█████▉                          | 163kB 33.3MB/s eta 0:00:01\r\u001b[K     |██████▎                         | 174kB 33.3MB/s eta 0:00:01\r\u001b[K     |██████▋                         | 184kB 33.3MB/s eta 0:00:01\r\u001b[K     |███████                         | 194kB 33.3MB/s eta 0:00:01\r\u001b[K     |███████▎                        | 204kB 33.3MB/s eta 0:00:01\r\u001b[K     |███████▊                        | 215kB 33.3MB/s eta 0:00:01\r\u001b[K     |████████                        | 225kB 33.3MB/s eta 0:00:01\r\u001b[K     |████████▍                       | 235kB 33.3MB/s eta 0:00:01\r\u001b[K     |████████▉                       | 245kB 33.3MB/s eta 0:00:01\r\u001b[K     |█████████▏                      | 256kB 33.3MB/s eta 0:00:01\r\u001b[K     |█████████▌                      | 266kB 33.3MB/s eta 0:00:01\r\u001b[K     |█████████▉                      | 276kB 33.3MB/s eta 0:00:01\r\u001b[K     |██████████▎                     | 286kB 33.3MB/s eta 0:00:01\r\u001b[K     |██████████▋                     | 296kB 33.3MB/s eta 0:00:01\r\u001b[K     |███████████                     | 307kB 33.3MB/s eta 0:00:01\r\u001b[K     |███████████▍                    | 317kB 33.3MB/s eta 0:00:01\r\u001b[K     |███████████▊                    | 327kB 33.3MB/s eta 0:00:01\r\u001b[K     |████████████                    | 337kB 33.3MB/s eta 0:00:01\r\u001b[K     |████████████▌                   | 348kB 33.3MB/s eta 0:00:01\r\u001b[K     |████████████▉                   | 358kB 33.3MB/s eta 0:00:01\r\u001b[K     |█████████████▏                  | 368kB 33.3MB/s eta 0:00:01\r\u001b[K     |█████████████▌                  | 378kB 33.3MB/s eta 0:00:01\r\u001b[K     |██████████████                  | 389kB 33.3MB/s eta 0:00:01\r\u001b[K     |██████████████▎                 | 399kB 33.3MB/s eta 0:00:01\r\u001b[K     |██████████████▋                 | 409kB 33.3MB/s eta 0:00:01\r\u001b[K     |███████████████                 | 419kB 33.3MB/s eta 0:00:01\r\u001b[K     |███████████████▍                | 430kB 33.3MB/s eta 0:00:01\r\u001b[K     |███████████████▊                | 440kB 33.3MB/s eta 0:00:01\r\u001b[K     |████████████████                | 450kB 33.3MB/s eta 0:00:01\r\u001b[K     |████████████████▌               | 460kB 33.3MB/s eta 0:00:01\r\u001b[K     |████████████████▉               | 471kB 33.3MB/s eta 0:00:01\r\u001b[K     |█████████████████▏              | 481kB 33.3MB/s eta 0:00:01\r\u001b[K     |█████████████████▋              | 491kB 33.3MB/s eta 0:00:01\r\u001b[K     |██████████████████              | 501kB 33.3MB/s eta 0:00:01\r\u001b[K     |██████████████████▎             | 512kB 33.3MB/s eta 0:00:01\r\u001b[K     |██████████████████▊             | 522kB 33.3MB/s eta 0:00:01\r\u001b[K     |███████████████████             | 532kB 33.3MB/s eta 0:00:01\r\u001b[K     |███████████████████▍            | 542kB 33.3MB/s eta 0:00:01\r\u001b[K     |███████████████████▊            | 552kB 33.3MB/s eta 0:00:01\r\u001b[K     |████████████████████▏           | 563kB 33.3MB/s eta 0:00:01\r\u001b[K     |████████████████████▌           | 573kB 33.3MB/s eta 0:00:01\r\u001b[K     |████████████████████▉           | 583kB 33.3MB/s eta 0:00:01\r\u001b[K     |█████████████████████▎          | 593kB 33.3MB/s eta 0:00:01\r\u001b[K     |█████████████████████▋          | 604kB 33.3MB/s eta 0:00:01\r\u001b[K     |██████████████████████          | 614kB 33.3MB/s eta 0:00:01\r\u001b[K     |██████████████████████▎         | 624kB 33.3MB/s eta 0:00:01\r\u001b[K     |██████████████████████▊         | 634kB 33.3MB/s eta 0:00:01\r\u001b[K     |███████████████████████         | 645kB 33.3MB/s eta 0:00:01\r\u001b[K     |███████████████████████▍        | 655kB 33.3MB/s eta 0:00:01\r\u001b[K     |███████████████████████▉        | 665kB 33.3MB/s eta 0:00:01\r\u001b[K     |████████████████████████▏       | 675kB 33.3MB/s eta 0:00:01\r\u001b[K     |████████████████████████▌       | 686kB 33.3MB/s eta 0:00:01\r\u001b[K     |█████████████████████████       | 696kB 33.3MB/s eta 0:00:01\r\u001b[K     |█████████████████████████▎      | 706kB 33.3MB/s eta 0:00:01\r\u001b[K     |█████████████████████████▋      | 716kB 33.3MB/s eta 0:00:01\r\u001b[K     |██████████████████████████      | 727kB 33.3MB/s eta 0:00:01\r\u001b[K     |██████████████████████████▍     | 737kB 33.3MB/s eta 0:00:01\r\u001b[K     |██████████████████████████▊     | 747kB 33.3MB/s eta 0:00:01\r\u001b[K     |███████████████████████████     | 757kB 33.3MB/s eta 0:00:01\r\u001b[K     |███████████████████████████▌    | 768kB 33.3MB/s eta 0:00:01\r\u001b[K     |███████████████████████████▉    | 778kB 33.3MB/s eta 0:00:01\r\u001b[K     |████████████████████████████▏   | 788kB 33.3MB/s eta 0:00:01\r\u001b[K     |████████████████████████████▌   | 798kB 33.3MB/s eta 0:00:01\r\u001b[K     |█████████████████████████████   | 808kB 33.3MB/s eta 0:00:01\r\u001b[K     |█████████████████████████████▎  | 819kB 33.3MB/s eta 0:00:01\r\u001b[K     |█████████████████████████████▋  | 829kB 33.3MB/s eta 0:00:01\r\u001b[K     |██████████████████████████████  | 839kB 33.3MB/s eta 0:00:01\r\u001b[K     |██████████████████████████████▍ | 849kB 33.3MB/s eta 0:00:01\r\u001b[K     |██████████████████████████████▊ | 860kB 33.3MB/s eta 0:00:01\r\u001b[K     |███████████████████████████████▏| 870kB 33.3MB/s eta 0:00:01\r\u001b[K     |███████████████████████████████▌| 880kB 33.3MB/s eta 0:00:01\r\u001b[K     |███████████████████████████████▉| 890kB 33.3MB/s eta 0:00:01\r\u001b[K     |████████████████████████████████| 901kB 33.3MB/s \n",
            "\u001b[?25hRequirement already satisfied, skipping upgrade: six in /usr/local/lib/python3.7/dist-packages (from sacremoses) (1.15.0)\n",
            "Requirement already satisfied, skipping upgrade: regex in /usr/local/lib/python3.7/dist-packages (from sacremoses) (2019.12.20)\n",
            "Requirement already satisfied, skipping upgrade: click in /usr/local/lib/python3.7/dist-packages (from sacremoses) (8.0.0)\n",
            "Requirement already satisfied, skipping upgrade: tqdm in /usr/local/lib/python3.7/dist-packages (from sacremoses) (4.41.1)\n",
            "Requirement already satisfied, skipping upgrade: joblib in /usr/local/lib/python3.7/dist-packages (from sacremoses) (1.0.1)\n",
            "Installing collected packages: sacremoses\n",
            "Successfully installed sacremoses-0.0.45\n"
          ],
          "name": "stdout"
        }
      ]
    },
    {
      "cell_type": "code",
      "metadata": {
        "id": "Hpydst6JO92f"
      },
      "source": [
        "source_file= \"/content/drive/MyDrive/data_en_ro/dcep_full/clean_dcep.ro-en.en.txt\"\n",
        "target_file= \"/content/drive/MyDrive/data_en_ro/dcep_full/clean_dcep.ro-en.ro.txt\"\n",
        "tok_source_file = source_file+\".tok\"\n",
        "tok_target_file=target_file+\".tok\"\n",
        "\n",
        "#try spacy tokenizer?\n",
        "! sacremoses -l \"en\" -j 8 tokenize < $source_file > $tok_source_file\n",
        "! sacremoses -l \"ro\" -j 8 tokenize < $target_file > $tok_target_file\n",
        "\n",
        "! head $source_file*\n",
        "! head $target_file*\n",
        "\n",
        "! wc -l $source_file*\n",
        "! wc -l $target_file*"
      ],
      "execution_count": null,
      "outputs": []
    },
    {
      "cell_type": "code",
      "metadata": {
        "id": "2fXm6AMeReXy"
      },
      "source": [
        "import pandas as pd\n",
        "\n",
        "source_file= \"/content/drive/MyDrive/data_en_ro/dcep_full/clean_dcep.ro-en.en.txt.tok\"\n",
        "target_file= \"/content/drive/MyDrive/data_en_ro/dcep_full/clean_dcep.ro-en.ro.txt.tok\"\n",
        "\n",
        "source=[]\n",
        "target=[]\n",
        "\n",
        "source_test=[]\n",
        "target_test=[]\n",
        "skip_lines=[] #collect the line numbers of the source portion to skip the same lines for the taret portion\n",
        "\n",
        "# a manual alternative to train_test_split from scikit-learn\n",
        "with open(source_file) as f:\n",
        "  for i, line in enumerate(f):\n",
        "    #splitting 20% of training into test\n",
        "    if i % 5 == 0:\n",
        "      print(i)\n",
        "      source_test.append(line.strip())\n",
        "      skip_lines.append(i)\n",
        "    else:\n",
        "      print(i)\n",
        "      source.append(line.strip())\n",
        "\n",
        "with open(target_file) as f:\n",
        "  for j, line in enumerate(f):\n",
        "    if j not in skip_lines:\n",
        "      print(j)\n",
        "      target.append(line.strip())\n",
        "    else:\n",
        "      print(j)\n",
        "      target_test.append(line.strip())\n",
        "\n",
        "print('Loaded data and skipped {}/{} lines since contained in test set. '.format(len(skip_lines), i))"
      ],
      "execution_count": null,
      "outputs": []
    },
    {
      "cell_type": "code",
      "metadata": {
        "colab": {
          "base_uri": "https://localhost:8080/"
        },
        "id": "PWqDtTecSgkj",
        "outputId": "0623aa61-e6fc-4eac-ce95-d5e70fd7d410"
      },
      "source": [
        "df= pd.DataFrame(zip(source, target), columns=['english', 'romanian'])\n",
        "test= pd.DataFrame(zip(source_test, target_test), columns=['english', 'romanian'])\n",
        "\n",
        "print(\"train...\")\n",
        "print(df.head(5))\n",
        "\n",
        "print(\"test...\")\n",
        "print(test.head(5))"
      ],
      "execution_count": null,
      "outputs": [
        {
          "output_type": "stream",
          "text": [
            "train...\n",
            "                                                                                                english                                                                                                       romanian\n",
            "0                                                     for Question Time at the part-session in May 2007                                            pentru timpul afectat întrebărilor din perioada de sesiune mai 2007\n",
            "1                                                        pursuant to Rule 109 of the Rules of Procedure                                                 în conformitate cu articolul 109 din Regulamentul de procedură\n",
            "2                                                                                                    by                                                                                                             de\n",
            "3                                                                                 Roberta Alma Anastase                                                                                          Roberta Alma Anastase\n",
            "4  Subject : More active EU involvement in settling unresolved conflicts and measures proposed for 2007  Subiect : Implicarea mai activă a UE în soluţionarea conflictelor îngheţate şi măsurile prevăzute pentru 2007\n",
            "test...\n",
            "                                                                                                                  english                                                                                                                                          romanian\n",
            "0                                                                                               ORAL QUESTION H-0336 / 07                                                                                                                       ÎNTREBARE ORALĂ H-0336 / 07\n",
            "1                                                                                                          to the Council                                                                                                                                       Consiliului\n",
            "2                                                                                               ORAL QUESTION H-0431 / 07                                                                                                                       ÎNTREBARE ORALĂ H-0431 / 07\n",
            "3  The Commission has set the objective of cutting back on the pointless red tape imposed on business by EU legislation .  Comisia Europeană şi-a stabilit ca obiectiv reducerea obligaţiilor administrative inutile impuse prin legislaţia UE asupra mediului de afaceri .\n",
            "4                                                                                               ORAL QUESTION H-0513 / 07                                                                                                                       ÎNTREBARE ORALĂ H-0513 / 07\n"
          ],
          "name": "stdout"
        }
      ]
    },
    {
      "cell_type": "code",
      "metadata": {
        "colab": {
          "base_uri": "https://localhost:8080/",
          "height": 432
        },
        "id": "JpOGCLEeUlrX",
        "outputId": "9bb2a3db-249d-4562-8721-cc6e082289f9"
      },
      "source": [
        "seed=42\n",
        "\n",
        "df=df.sample(frac=1, random_state=seed).reset_index(drop=True)\n",
        "df.head()"
      ],
      "execution_count": null,
      "outputs": [
        {
          "output_type": "execute_result",
          "data": {
            "text/html": [
              "<div>\n",
              "<style scoped>\n",
              "    .dataframe tbody tr th:only-of-type {\n",
              "        vertical-align: middle;\n",
              "    }\n",
              "\n",
              "    .dataframe tbody tr th {\n",
              "        vertical-align: top;\n",
              "    }\n",
              "\n",
              "    .dataframe thead th {\n",
              "        text-align: right;\n",
              "    }\n",
              "</style>\n",
              "<table border=\"1\" class=\"dataframe\">\n",
              "  <thead>\n",
              "    <tr style=\"text-align: right;\">\n",
              "      <th></th>\n",
              "      <th>english</th>\n",
              "      <th>romanian</th>\n",
              "    </tr>\n",
              "  </thead>\n",
              "  <tbody>\n",
              "    <tr>\n",
              "      <th>0</th>\n",
              "      <td>&amp;quot; H. whereas better synergy in future European energy technology research can only stimulate sustainable economic growth , contribute to the comparative advantages of the European economy , improve employment and thus help achieve the objectives of the Lisbon strategy and combat climate change , &amp;quot;</td>\n",
              "      <td>&amp;quot; H. întrucât o mai bună sinergie în privința cercetării europene în domeniul tehnologiilor energetice ale viitorului nu poate decât să încurajeze creșterea economică durabilă , să contribuie la avantajul comparativ al economiei europene , să amelioreze ocuparea forței de muncă și să permită , astfel , atingerea obiectivelor strategiei de la Lisabona și combaterea schimbărilor climatice ; &amp;quot;</td>\n",
              "    </tr>\n",
              "    <tr>\n",
              "      <th>1</th>\n",
              "      <td>&amp;quot; – a proposal to be put forward by 2013 on the &amp;apos; Blue Belt &amp;apos; , to facilitate the formalities for ships operating between EU ports and to develop the potential of motorways of the sea by establishing a genuine single market for intra-EU maritime transport in accordance with existing environmental and nature conservation legislation ; &amp;quot;</td>\n",
              "      <td>&amp;quot; – o propunere , prezentată până în 2013 , referitoare la așa-numita „ centură albastră ” , pentru simplificarea formalităților pentru navele care operează între porturile din UE și pentru dezvoltarea potențialului autostrăzilor maritime prin realizarea unei piețe unice reale pentru transportul maritim în interiorul UE în conformitate cu legislația existentă în domeniul mediului și al conservării naturii ; &amp;quot;</td>\n",
              "    </tr>\n",
              "    <tr>\n",
              "      <th>2</th>\n",
              "      <td>Report on the future European international investment policy &amp;#91; 2010 / 2203 ( INI ) &amp;#93; - Committee on International Trade .</td>\n",
              "      <td>Raport referitor la viitoarea politică europeană în domeniul investițiilor internaționale &amp;#91; 2010 / 2203 ( INI ) &amp;#93; - Comisia pentru comerţ internaţional .</td>\n",
              "    </tr>\n",
              "    <tr>\n",
              "      <th>3</th>\n",
              "      <td>&amp;quot; Expresses its strong concern about the EU-Morocco agreement ; points out that , while European markets have opened up almost completely to imports from Morocco , some agricultural products are still subject to quotas on exports from the EU , including important products such as pomaceous fruits ; &amp;quot;</td>\n",
              "      <td>&amp;quot; îşi exprimă profunda îngrijorare cu privire la acordul UE-Maroc ; subliniază că , în timp ce pieţele europene sunt acum aproape complet deschise importurilor din Maroc , unele produse agricole , printre care se numără şi unele produse importante precum fructele pomacee , încă sunt supuse contingentelor pentru exporturi din UE ; &amp;quot;</td>\n",
              "    </tr>\n",
              "    <tr>\n",
              "      <th>4</th>\n",
              "      <td>&amp;quot; We &amp;quot; &amp;quot; pass &amp;quot; &amp;quot; arguments among ourselves , exchange views and experience in order to achieve a common &amp;quot; &amp;quot; goal &amp;quot; &amp;quot; . &amp;quot;</td>\n",
              "      <td>&amp;quot; Ne « pasăm » argumentele de la unul la altul , facem schimburi de opinii şi de experienţe pentru a obţine un « obiectiv » &amp;#91; joc de cuvinte în limba engleză , « goal » însemnând în acelaşi timp « obiectiv » şi « gol » n.r. &amp;#93; . &amp;quot;</td>\n",
              "    </tr>\n",
              "  </tbody>\n",
              "</table>\n",
              "</div>"
            ],
            "text/plain": [
              "                                                                                                                                                                                                                                                                                                                                                                 english                                                                                                                                                                                                                                                                                                                                                                                                                                romanian\n",
              "0                                                   &quot; H. whereas better synergy in future European energy technology research can only stimulate sustainable economic growth , contribute to the comparative advantages of the European economy , improve employment and thus help achieve the objectives of the Lisbon strategy and combat climate change , &quot;                     &quot; H. întrucât o mai bună sinergie în privința cercetării europene în domeniul tehnologiilor energetice ale viitorului nu poate decât să încurajeze creșterea economică durabilă , să contribuie la avantajul comparativ al economiei europene , să amelioreze ocuparea forței de muncă și să permită , astfel , atingerea obiectivelor strategiei de la Lisabona și combaterea schimbărilor climatice ; &quot;\n",
              "1  &quot; – a proposal to be put forward by 2013 on the &apos; Blue Belt &apos; , to facilitate the formalities for ships operating between EU ports and to develop the potential of motorways of the sea by establishing a genuine single market for intra-EU maritime transport in accordance with existing environmental and nature conservation legislation ; &quot;  &quot; – o propunere , prezentată până în 2013 , referitoare la așa-numita „ centură albastră ” , pentru simplificarea formalităților pentru navele care operează între porturile din UE și pentru dezvoltarea potențialului autostrăzilor maritime prin realizarea unei piețe unice reale pentru transportul maritim în interiorul UE în conformitate cu legislația existentă în domeniul mediului și al conservării naturii ; &quot;\n",
              "2                                                                                                                                                                                                                                     Report on the future European international investment policy &#91; 2010 / 2203 ( INI ) &#93; - Committee on International Trade .                                                                                                                                                                                                                                                                       Raport referitor la viitoarea politică europeană în domeniul investițiilor internaționale &#91; 2010 / 2203 ( INI ) &#93; - Comisia pentru comerţ internaţional .\n",
              "3                                                &quot; Expresses its strong concern about the EU-Morocco agreement ; points out that , while European markets have opened up almost completely to imports from Morocco , some agricultural products are still subject to quotas on exports from the EU , including important products such as pomaceous fruits ; &quot;                                                                                 &quot; îşi exprimă profunda îngrijorare cu privire la acordul UE-Maroc ; subliniază că , în timp ce pieţele europene sunt acum aproape complet deschise importurilor din Maroc , unele produse agricole , printre care se numără şi unele produse importante precum fructele pomacee , încă sunt supuse contingentelor pentru exporturi din UE ; &quot;\n",
              "4                                                                                                                                                                                            &quot; We &quot; &quot; pass &quot; &quot; arguments among ourselves , exchange views and experience in order to achieve a common &quot; &quot; goal &quot; &quot; . &quot;                                                                                                                                                                                 &quot; Ne « pasăm » argumentele de la unul la altul , facem schimburi de opinii şi de experienţe pentru a obţine un « obiectiv » &#91; joc de cuvinte în limba engleză , « goal » însemnând în acelaşi timp « obiectiv » şi « gol » n.r. &#93; . &quot;"
            ]
          },
          "metadata": {
            "tags": []
          },
          "execution_count": 46
        }
      ]
    },
    {
      "cell_type": "code",
      "metadata": {
        "colab": {
          "base_uri": "https://localhost:8080/",
          "height": 133
        },
        "id": "59QqNCmhUsqi",
        "outputId": "ece0f6c2-ef29-4d38-d3d8-6a6d644198ed"
      },
      "source": [
        "pd.set_option('display.max_colwidth', None)\n",
        "df.iloc[3:4]"
      ],
      "execution_count": null,
      "outputs": [
        {
          "output_type": "execute_result",
          "data": {
            "text/html": [
              "<div>\n",
              "<style scoped>\n",
              "    .dataframe tbody tr th:only-of-type {\n",
              "        vertical-align: middle;\n",
              "    }\n",
              "\n",
              "    .dataframe tbody tr th {\n",
              "        vertical-align: top;\n",
              "    }\n",
              "\n",
              "    .dataframe thead th {\n",
              "        text-align: right;\n",
              "    }\n",
              "</style>\n",
              "<table border=\"1\" class=\"dataframe\">\n",
              "  <thead>\n",
              "    <tr style=\"text-align: right;\">\n",
              "      <th></th>\n",
              "      <th>english</th>\n",
              "      <th>romanian</th>\n",
              "    </tr>\n",
              "  </thead>\n",
              "  <tbody>\n",
              "    <tr>\n",
              "      <th>3</th>\n",
              "      <td>&amp;quot; Expresses its strong concern about the EU-Morocco agreement ; points out that , while European markets have opened up almost completely to imports from Morocco , some agricultural products are still subject to quotas on exports from the EU , including important products such as pomaceous fruits ; &amp;quot;</td>\n",
              "      <td>&amp;quot; îşi exprimă profunda îngrijorare cu privire la acordul UE-Maroc ; subliniază că , în timp ce pieţele europene sunt acum aproape complet deschise importurilor din Maroc , unele produse agricole , printre care se numără şi unele produse importante precum fructele pomacee , încă sunt supuse contingentelor pentru exporturi din UE ; &amp;quot;</td>\n",
              "    </tr>\n",
              "  </tbody>\n",
              "</table>\n",
              "</div>"
            ],
            "text/plain": [
              "                                                                                                                                                                                                                                                                                                                   english                                                                                                                                                                                                                                                                                                                                                 romanian\n",
              "3  &quot; Expresses its strong concern about the EU-Morocco agreement ; points out that , while European markets have opened up almost completely to imports from Morocco , some agricultural products are still subject to quotas on exports from the EU , including important products such as pomaceous fruits ; &quot;  &quot; îşi exprimă profunda îngrijorare cu privire la acordul UE-Maroc ; subliniază că , în timp ce pieţele europene sunt acum aproape complet deschise importurilor din Maroc , unele produse agricole , printre care se numără şi unele produse importante precum fructele pomacee , încă sunt supuse contingentelor pentru exporturi din UE ; &quot;"
            ]
          },
          "metadata": {
            "tags": []
          },
          "execution_count": 47
        }
      ]
    },
    {
      "cell_type": "code",
      "metadata": {
        "colab": {
          "base_uri": "https://localhost:8080/"
        },
        "id": "1zKtZgmvU2PO",
        "outputId": "16d6d72c-fe2f-4b57-9bb9-4224d4957531"
      },
      "source": [
        "print(len(df.index),len(test.index))"
      ],
      "execution_count": null,
      "outputs": [
        {
          "output_type": "stream",
          "text": [
            "630316 157580\n"
          ],
          "name": "stdout"
        }
      ]
    },
    {
      "cell_type": "code",
      "metadata": {
        "colab": {
          "base_uri": "https://localhost:8080/"
        },
        "id": "fxX2pWYWVpFV",
        "outputId": "2e0781c1-a2a1-4f34-eda9-8e13bcfd0e5c"
      },
      "source": [
        "%cd /content/drive/MyDrive/data_en_ro/dcep_full"
      ],
      "execution_count": null,
      "outputs": [
        {
          "output_type": "stream",
          "text": [
            "/content/drive/MyDrive/data_en_ro/dcep_full\n"
          ],
          "name": "stdout"
        }
      ]
    },
    {
      "cell_type": "code",
      "metadata": {
        "id": "pwuL_hinU_WH"
      },
      "source": [
        "#split btw train and dev\n",
        "import csv\n",
        "lc=False \n",
        "num_dev_patterns= 10000\n",
        "\n",
        "if lc:\n",
        "  df['english']=df['english'].str.lower()\n",
        "  df['romanian']=df['romanian'].str.lower()\n",
        "  test['romanian']=test['romanian'].str.lower()\n",
        "  test['english']=test['english'].str.lower()\n",
        "\n",
        "#dev set\n",
        "dev= df.tail(num_dev_patterns)\n",
        "#training set\n",
        "stripped=df.drop(df.tail(num_dev_patterns).index)\n",
        "\n",
        "with open(\"clean_train.en\", \"w\") as src_file, open(\"clean_train.ro\", \"w\") as trg_file:\n",
        "  for index, row in stripped.iterrows():\n",
        "    src_file.write(str(row[\"english\"])+\"\\n\")\n",
        "    trg_file.write(str(row[\"romanian\"])+\"\\n\")\n",
        "\n",
        "with open(\"clean_dev.en\", \"w\") as src_file, open(\"clean_dev.ro\", \"w\") as trg_file:\n",
        "  for index, row in dev.iterrows():\n",
        "    src_file.write(row[\"english\"]+\"\\n\")\n",
        "    trg_file.write(row[\"romanian\"]+\"\\n\")\n",
        "\n",
        "with open(\"clean_test.en\", \"w\") as src_file, open(\"clean_test.ro\", \"w\") as trg_file:\n",
        "  for index, row in test.iterrows():\n",
        "    src_file.write(row[\"english\"]+\"\\n\")\n",
        "    trg_file.write(row[\"romanian\"]+\"\\n\")"
      ],
      "execution_count": null,
      "outputs": []
    },
    {
      "cell_type": "code",
      "metadata": {
        "colab": {
          "base_uri": "https://localhost:8080/"
        },
        "id": "X8eXjrDCiCZX",
        "outputId": "5778ee86-8099-47bf-97da-db26fee33889"
      },
      "source": [
        "! head -10 /content/drive/MyDrive/data_en_ro/dcep_full/clean_test.ro"
      ],
      "execution_count": null,
      "outputs": [
        {
          "output_type": "stream",
          "text": [
            "ÎNTREBARE ORALĂ H-0336 / 07\n",
            "Consiliului\n",
            "ÎNTREBARE ORALĂ H-0431 / 07\n",
            "Comisia Europeană şi-a stabilit ca obiectiv reducerea obligaţiilor administrative inutile impuse prin legislaţia UE asupra mediului de afaceri .\n",
            "ÎNTREBARE ORALĂ H-0513 / 07\n",
            "Comisia Europeană a aprobat în 2004 o listă de 30 de proiecte prioritare pentru Reţeaua Europeană de Transport în care şi noile state membre sunt incluse .\n",
            "Subiect : Abandonul şcolar\n",
            "&quot; În contextul creşterii productivităţii muncii , este nevoie însă ca forţa de muncă să fie tot mai bine pregătită . &quot;\n",
            "&quot; Având în vedere poziţia adoptată de unele state din regiune privind prioritatea acordată de acestea proiectului Nabucco , aş dori să întreb Consiliul Uniunii Europene care sunt măsurile pe care le are în vedere pentru accelerarea realizării acestui proiect deosebit de important atât pentru statele tranzitate , cât şi pentru aprovizionarea cu gaz a Uniunii Europene şi care sunt termenele de realizare avute în vedere ? &quot;\n",
            "Ce îşi propune Comisia Europeană să întreprindă pentru a stopa acest fenomen ?\n"
          ],
          "name": "stdout"
        }
      ]
    },
    {
      "cell_type": "code",
      "metadata": {
        "id": "hmHo1s8khG7-"
      },
      "source": [
        "df_clean_test_ro = pd.read_csv(\"/content/drive/MyDrive/data_en_ro/dcep_full/clean_test.ro\", sep='\\n', header=None)\n",
        "df_clean_test_en = pd.read_csv(\"/content/drive/MyDrive/data_en_ro/dcep_full/clean_test.en\", sep='\\n', header=None)\n",
        "\n",
        "\n",
        "contain_values = df_clean_test_ro[df_clean_test_ro.iloc[:,0].str.contains('Pursuant to this differentiation the Conference')]"
      ],
      "execution_count": null,
      "outputs": []
    },
    {
      "cell_type": "code",
      "metadata": {
        "colab": {
          "base_uri": "https://localhost:8080/"
        },
        "id": "P7sFUDaX-hXi",
        "outputId": "2b754a79-df9c-4c98-9aae-7a209a5b0f8f"
      },
      "source": [
        "print(contain_values)"
      ],
      "execution_count": null,
      "outputs": [
        {
          "output_type": "stream",
          "text": [
            "                                                       0\n",
            "65096  Pursuant to this differentiation the Conferenc...\n"
          ],
          "name": "stdout"
        }
      ]
    },
    {
      "cell_type": "code",
      "metadata": {
        "colab": {
          "base_uri": "https://localhost:8080/"
        },
        "id": "0givemyJ94v_",
        "outputId": "df159e7e-ca3f-48c0-cf39-c8e706b447ff"
      },
      "source": [
        "pd.set_option('display.max_colwidth', None)\n",
        "\n",
        "print(df_clean_test_ro.iloc[65096])\n",
        "print(df_clean_test_en.iloc[65096])"
      ],
      "execution_count": null,
      "outputs": [
        {
          "output_type": "stream",
          "text": [
            "0    Pursuant to this differentiation the Conference of Presidents also decided to refer to the Committee on Constitutional Affairs new items requiring changes to Regulamentul de procedură al Parlamentului .\n",
            "Name: 65096, dtype: object\n",
            "0    Pursuant to this differentiation the Conference of Presidents also decided to refer to the Committee on Constitutional Affairs new items requiring changes to Parliament &apos;s Rules of Procedure .\n",
            "Name: 65096, dtype: object\n"
          ],
          "name": "stdout"
        }
      ]
    },
    {
      "cell_type": "code",
      "metadata": {
        "colab": {
          "base_uri": "https://localhost:8080/"
        },
        "id": "-I2bHEDTiant",
        "outputId": "10fb3a2c-33a4-44c4-87a9-f6f34fc49381"
      },
      "source": [
        "df_clean_train_en = pd.read_csv(\"/content/drive/MyDrive/data_en_ro/dcep_full/clean_train.en\", sep='\\n', header=None)\n",
        "\n",
        "contain_values = df_clean_dev_en[df_clean_dev_en.iloc[:,0].str.contains('Clear European')]\n",
        "print(df_clean_train_en.iloc[:20])"
      ],
      "execution_count": null,
      "outputs": [
        {
          "output_type": "stream",
          "text": [
            "                                                                                                                                                                                                                                                                                                                                                                        0\n",
            "0                                                    &quot; H. whereas better synergy in future European energy technology research can only stimulate sustainable economic growth , contribute to the comparative advantages of the European economy , improve employment and thus help achieve the objectives of the Lisbon strategy and combat climate change , &quot;\n",
            "1   &quot; – a proposal to be put forward by 2013 on the &apos; Blue Belt &apos; , to facilitate the formalities for ships operating between EU ports and to develop the potential of motorways of the sea by establishing a genuine single market for intra-EU maritime transport in accordance with existing environmental and nature conservation legislation ; &quot;\n",
            "2                                                                                                                                                                                                                                      Report on the future European international investment policy &#91; 2010 / 2203 ( INI ) &#93; - Committee on International Trade .\n",
            "3                                                 &quot; Expresses its strong concern about the EU-Morocco agreement ; points out that , while European markets have opened up almost completely to imports from Morocco , some agricultural products are still subject to quotas on exports from the EU , including important products such as pomaceous fruits ; &quot;\n",
            "4                                                                                                                                                                                             &quot; We &quot; &quot; pass &quot; &quot; arguments among ourselves , exchange views and experience in order to achieve a common &quot; &quot; goal &quot; &quot; . &quot;\n",
            "5     &quot; whereas the current period of financial instability is creating uncertainty and could aggravate a slowdown in growth and whereas the slight revision of the autumn forecasts by the Commission could also mark a turning point in the economic cycle unless market transparency and appropriate action by policy-makers restore consumer confidence , &quot;\n",
            "6                                                                                                                                                                                                                                                                                                                 This should be taken into consideration in the recast .\n",
            "7                                            &quot; Points out that the relationship between manufacturers , on the one hand , and dealers , service providers and other relevant economic actors in the automotive supply chain , on the other hand , has to be carefully analysed , taking into consideration their unequal economic power as trading partners ; &quot;\n",
            "8                                                                                                                                                                                                                                                                                                                                                               undertake\n",
            "9                                                                                                                                                                                                      &quot; Since this is the best means to find out about the results of the assistance , your rapporteur proposes an amendment to include the necessary text . &quot;\n",
            "10                                                                                                                       &quot; N. whereas alcohol consumption influences considerably the metabolism of various nutrients ; whereas alcohol consumption exerts an influence on the action of various medicines because of the existing interaction between them , &quot;\n",
            "11                                                                                                                                                                                                                                                                                                                                   Detention and readmission agreements\n",
            "12                                                                                                                                                                                                                                                                                                                                                            PYMETROZINE\n",
            "13                                                                                                                                                                                                                                                                                                                               &quot; OJ L 212 , 17.8.1994 , p . &quot;\n",
            "14                                                                                                                                &quot; G. whereas Roma face structural discrimination in the labour market and with regard to housing , leading to poverty and social exclusion , and in some EU Member States face serious social security benefit reductions , &quot;\n",
            "15                                                                                                                                                                                                                                                                                &quot; , who moved an oral amendment to amendment 7 on behalf of the PSE Group . &quot;\n",
            "16                                                                                                                                                                                                                                                                                                                                                          50 % decrease\n",
            "17                                              &quot; The concepts of multiple discrimination and discrimination by association need to be introduced in order to deal effectively with cases where two or more forms of discrimination occur , placing the victim in an even more vulnerable position and creating major difficulties as regards legal redress . &quot;\n",
            "18                                                                                                                                                                                                                                                             1. and by the security regulations of the Council set out in the Annex to Council Decision 2011 / 292 / EU\n",
            "19                                                                                                                                                                                                                                                             Welcomes the efforts of the Commission to intensify its actions promoting equality between women and men ;\n"
          ],
          "name": "stdout"
        }
      ]
    },
    {
      "cell_type": "code",
      "metadata": {
        "colab": {
          "base_uri": "https://localhost:8080/"
        },
        "id": "HG7J7ZIZBwzD",
        "outputId": "71c9dd41-cfda-43ed-8b7d-c3cc47e713f5"
      },
      "source": [
        "df_clean_train_ro = pd.read_csv(\"/content/drive/MyDrive/data_en_ro/dcep_full/clean_train.ro\", sep='\\n', header=None)\n",
        "\n",
        "contain_values = df_clean_train_ro[df_clean_train_ro.iloc[:,0].str.contains('european clar')]\n",
        "print(contain_values)\n",
        "print(df_clean_train_ro.iloc[:20])"
      ],
      "execution_count": null,
      "outputs": [
        {
          "output_type": "stream",
          "text": [
            "                                                                                 0\n",
            "401777  – un cadru legislativ european clar care să protejeze serviciile publice ;\n",
            "                                                                                                                                                                                                                                                                                                                                                                                                                                                                     0\n",
            "0                                                  &quot; H. întrucât o mai bună sinergie în privința cercetării europene în domeniul tehnologiilor energetice ale viitorului nu poate decât să încurajeze creșterea economică durabilă , să contribuie la avantajul comparativ al economiei europene , să amelioreze ocuparea forței de muncă și să permită , astfel , atingerea obiectivelor strategiei de la Lisabona și combaterea schimbărilor climatice ; &quot;\n",
            "1                               &quot; – o propunere , prezentată până în 2013 , referitoare la așa-numita „ centură albastră ” , pentru simplificarea formalităților pentru navele care operează între porturile din UE și pentru dezvoltarea potențialului autostrăzilor maritime prin realizarea unei piețe unice reale pentru transportul maritim în interiorul UE în conformitate cu legislația existentă în domeniul mediului și al conservării naturii ; &quot;\n",
            "2                                                                                                                                                                                                                                                                                                    Raport referitor la viitoarea politică europeană în domeniul investițiilor internaționale &#91; 2010 / 2203 ( INI ) &#93; - Comisia pentru comerţ internaţional .\n",
            "3                                                                                                              &quot; îşi exprimă profunda îngrijorare cu privire la acordul UE-Maroc ; subliniază că , în timp ce pieţele europene sunt acum aproape complet deschise importurilor din Maroc , unele produse agricole , printre care se numără şi unele produse importante precum fructele pomacee , încă sunt supuse contingentelor pentru exporturi din UE ; &quot;\n",
            "4                                                                                                                                                                                                              &quot; Ne « pasăm » argumentele de la unul la altul , facem schimburi de opinii şi de experienţe pentru a obţine un « obiectiv » &#91; joc de cuvinte în limba engleză , « goal » însemnând în acelaşi timp « obiectiv » şi « gol » n.r. &#93; . &quot;\n",
            "5   &quot; întrucât actuala perioadă de tulburări financiare dau naștere la incertitudine și ar putea încetini și mai mult procesul de creștere și întrucât ușoara revizuire a previziunilor din toamnă ale Comisiei ar putea marca , de asemenea , un moment de cotitură pentru ciclul economic , dacă încrederea consumatorilor nu este restabilită prin garantarea transparenței pieței și prin reacții adecvate din partea factorilor de decizie politică ; &quot;\n",
            "6                                                                                                                                                                                                                                                                                                                                                                                                                  Acest lucru ar trebui avut în vedere la reformare .\n",
            "7                                                                                                     &quot; subliniază faptul că relaţiile dintre producători , pe de o parte , şi dealeri , furnizori de servicii şi alţi actori economici relevanţi din lanţul de aprovizionare a sectorului autovehiculelor , pe de altă parte , trebuie să fie analizate cu atenţie , luând în considerare forţa economică inegală a acestora ca şi parteneri comerciali ; &quot;\n",
            "8                                                                                                                                                                                                                                                                                                                                                                                                                                                                   să\n",
            "9                                                                                                                                                                                                                                                                                &quot; Deoarece evaluarea reprezintă cel mai potrivit mijloc pentru a şti care sunt rezultatele ajutorului , raportorul propune un amendament care să includă textul necesar . &quot;\n",
            "10                                                                                                                                                                                                                               &quot; N. întrucât consumul de alcool influenţează considerabil metabolismul diferitelor substanţe nutritive , întrucât consumul de alcool influenţează acţiunea diverselor medicamente , din cauza interacţiunii dintre ele , &quot;\n",
            "11                                                                                                                                                                                                                                                                                                                                                                                                                                 Detenţia şi acordurile de readmisie\n",
            "12                                                                                                                                                                                                                                                                                                                                                                                                                                                         PYMETROZINE\n",
            "13                                                                                                                                                                                                                                                                                                                                                                                                                            &quot; JO L 212 , 17.8.1994 , p . &quot;\n",
            "14                                                                                                                                                                  &quot; G. întrucât romii fac obiectul unei discriminări structurale pe piaţa muncii şi în ceea ce priveşte locuinţele , ceea ce conduce la sărăcie şi excludere socială , iar în unele state membre aceştia se confruntă cu reduceri semnificative ale prestaţiilor de securitate socială ; &quot;\n",
            "15                                                                                                                                                                                                                                                                                                                                                                            &quot; , a propus , în numele Grupului PSE , un amendament oral la amendamentul 7 &quot;\n",
            "16                                                                                                                                                                                                                                                                                                                                                                                                                                                       50 % decrease\n",
            "17                                                                                                                                           &quot; Trebuie introduse noțiunile de discriminare multiplă și discriminare prin asociere pentru a putea trata în mod eficient cazurile în care cele două forme de discriminare , sau chiar mai multe , se suprapun punând victima într-o poziție mai vulnerabilă și mai dificilă pentru căile de atac judiciare . &quot;\n",
            "18                                                                                                                                                                                                                                                                                                                                                          1. și de normele de securitate ale Consiliului prevăzute în anexa la Decizia 2011 / 292 / UE a Consiliului\n",
            "19                                                                                                                                                                                                                                                                                                                                                    1. salută eforturile Comisiei de a intensifica acţiunile sale de promovare a egalităţii între femei şi bărbaţi ;\n"
          ],
          "name": "stdout"
        }
      ]
    },
    {
      "cell_type": "code",
      "metadata": {
        "colab": {
          "base_uri": "https://localhost:8080/",
          "height": 115
        },
        "id": "JjBzjbEsGOJx",
        "outputId": "a8c6bd36-b1ab-4ecf-b62e-03b4ab996593"
      },
      "source": [
        "#print(df_clean_train_en.iloc[4])\n",
        "#print(df_clean_train_ro.iloc[4])\n",
        "\n",
        "zipped_example=pd.DataFrame(zip(df_clean_train_en.iloc[4], df_clean_train_ro.iloc[4]), columns=['english', 'romanian'])\n",
        "zipped_example"
      ],
      "execution_count": null,
      "outputs": [
        {
          "output_type": "execute_result",
          "data": {
            "text/html": [
              "<div>\n",
              "<style scoped>\n",
              "    .dataframe tbody tr th:only-of-type {\n",
              "        vertical-align: middle;\n",
              "    }\n",
              "\n",
              "    .dataframe tbody tr th {\n",
              "        vertical-align: top;\n",
              "    }\n",
              "\n",
              "    .dataframe thead th {\n",
              "        text-align: right;\n",
              "    }\n",
              "</style>\n",
              "<table border=\"1\" class=\"dataframe\">\n",
              "  <thead>\n",
              "    <tr style=\"text-align: right;\">\n",
              "      <th></th>\n",
              "      <th>english</th>\n",
              "      <th>romanian</th>\n",
              "    </tr>\n",
              "  </thead>\n",
              "  <tbody>\n",
              "    <tr>\n",
              "      <th>0</th>\n",
              "      <td>&amp;quot; We &amp;quot; &amp;quot; pass &amp;quot; &amp;quot; arguments among ourselves , exchange views and experience in order to achieve a common &amp;quot; &amp;quot; goal &amp;quot; &amp;quot; . &amp;quot;</td>\n",
              "      <td>&amp;quot; Ne « pasăm » argumentele de la unul la altul , facem schimburi de opinii şi de experienţe pentru a obţine un « obiectiv » &amp;#91; joc de cuvinte în limba engleză , « goal » însemnând în acelaşi timp « obiectiv » şi « gol » n.r. &amp;#93; . &amp;quot;</td>\n",
              "    </tr>\n",
              "  </tbody>\n",
              "</table>\n",
              "</div>"
            ],
            "text/plain": [
              "                                                                                                                                                                       english                                                                                                                                                                                                                                                 romanian\n",
              "0  &quot; We &quot; &quot; pass &quot; &quot; arguments among ourselves , exchange views and experience in order to achieve a common &quot; &quot; goal &quot; &quot; . &quot;  &quot; Ne « pasăm » argumentele de la unul la altul , facem schimburi de opinii şi de experienţe pentru a obţine un « obiectiv » &#91; joc de cuvinte în limba engleză , « goal » însemnând în acelaşi timp « obiectiv » şi « gol » n.r. &#93; . &quot;"
            ]
          },
          "metadata": {
            "tags": []
          },
          "execution_count": 52
        }
      ]
    },
    {
      "cell_type": "code",
      "metadata": {
        "colab": {
          "base_uri": "https://localhost:8080/"
        },
        "id": "okb6uloUWqD4",
        "outputId": "80ada1e0-16d0-4406-af4e-166940728a26"
      },
      "source": [
        "!wc -l clean*"
      ],
      "execution_count": null,
      "outputs": [
        {
          "output_type": "stream",
          "text": [
            "   787896 clean_dcep.ro-en.en.txt\n",
            "   787896 clean_dcep.ro-en.en.txt.tok\n",
            "   787896 clean_dcep.ro-en.ro.txt\n",
            "   787896 clean_dcep.ro-en.ro.txt.tok\n",
            "    10000 clean_dev.en\n",
            "    10000 clean_dev.ro\n",
            "   157580 clean_test.en\n",
            "   157580 clean_test.ro\n",
            "   620316 clean_train.en\n",
            "   620316 clean_train.ro\n",
            "  4727376 total\n"
          ],
          "name": "stdout"
        }
      ]
    },
    {
      "cell_type": "code",
      "metadata": {
        "colab": {
          "base_uri": "https://localhost:8080/"
        },
        "id": "B2FkWt02Wu6v",
        "outputId": "85f6c9b2-57aa-4d4d-dfa1-3268d0e3a436"
      },
      "source": [
        "%cd /content/drive/MyDrive/data_en_ro/dcep_training_files/splitted_BPE/"
      ],
      "execution_count": null,
      "outputs": [
        {
          "output_type": "stream",
          "text": [
            "/content/drive/MyDrive/data_en_ro/dcep_training_files/splitted_BPE\n"
          ],
          "name": "stdout"
        }
      ]
    },
    {
      "cell_type": "code",
      "metadata": {
        "colab": {
          "base_uri": "https://localhost:8080/"
        },
        "id": "CFHPOS7rmoEJ",
        "outputId": "395fc61e-1b44-4a81-804c-13b13d2560f0"
      },
      "source": [
        "!wc -l *"
      ],
      "execution_count": null,
      "outputs": [
        {
          "output_type": "stream",
          "text": [
            "    30001 bpe.codes.30000\n",
            "     2000 test.bpe.en\n",
            "     2000 test.bpe.ro\n",
            "   783896 train.bpe.en\n",
            "   783896 train.bpe.ro\n",
            "     2000 val.bpe.en\n",
            "     2000 val.bpe.ro\n",
            "    21712 vocab.en\n",
            "    30206 vocab.ro\n",
            "    30411 vocab.txt\n",
            "  1688122 total\n"
          ],
          "name": "stdout"
        }
      ]
    },
    {
      "cell_type": "code",
      "metadata": {
        "id": "N7eWu4KSmqLf"
      },
      "source": [],
      "execution_count": null,
      "outputs": []
    }
  ]
}