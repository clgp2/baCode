{
  "nbformat": 4,
  "nbformat_minor": 0,
  "metadata": {
    "colab": {
      "name": "clean_dcep_new.ipynb",
      "provenance": [],
      "collapsed_sections": []
    },
    "kernelspec": {
      "name": "python3",
      "display_name": "Python 3.6.8 64-bit ('ba-env': venv)"
    },
    "language_info": {
      "name": "python",
      "version": "3.6.8"
    },
    "interpreter": {
      "hash": "3a49f9c478bb8acf79e8d4394dd772c4b6effd3dc1bcc10da60d89375c51c795"
    }
  },
  "cells": [
    {
      "cell_type": "code",
      "metadata": {
        "id": "Wo1PI4iT4GUC"
      },
      "source": [
        "import pandas as pd\n",
        "import numpy as np\n",
        "import csv\n",
        "import sys\n",
        "import os\n",
        "from pathlib import Path"
      ],
      "execution_count": 18,
      "outputs": []
    },
    {
      "cell_type": "code",
      "metadata": {
        "id": "xeTIeEdZS5Xz"
      },
      "source": [
        "path_ENRO_bisents = os.path.join(os.pardir, \"data/00-raw/EN-RO-bisentences.txt\")\n",
        "#quoting is to correctly include quote in quote strings as one field when reading the file\n",
        "df=pd.read_csv(path_ENRO_bisents, sep='\\t', names=['english', 'romanian'], quoting=csv.QUOTE_NONE)"
      ],
      "execution_count": 35,
      "outputs": []
    },
    {
      "source": [
        "The raw file (df.shape=(2668811, 2)) contains lots of duplicates. Here are some of them:"
      ],
      "cell_type": "markdown",
      "metadata": {}
    },
    {
      "cell_type": "code",
      "metadata": {
        "colab": {
          "base_uri": "https://localhost:8080/",
          "height": 300
        },
        "id": "m9CBN3TmFAEM",
        "outputId": "4227be56-d8a1-4f9f-f45a-6ff8c77029bf"
      },
      "source": [
        "df_duplcates_sorted=df.groupby(df.columns.tolist(),as_index=False).size().sort_values(by='size',ascending=[False])[:8]\n",
        "df_duplcates_sorted"
      ],
      "execution_count": 36,
      "outputs": [
        {
          "output_type": "execute_result",
          "data": {
            "text/plain": [
              "                                english                  romanian   size\n",
              "174855                        Amendment              Amendamentul  59392\n",
              "872241                                –                         –  33074\n",
              "55777                                 ,                         ,  31713\n",
              "596108  Text proposed by the Commission  Textul propus de Comisie  24069\n",
              "433286                    Justification               Justificare  18142\n",
              "93126                                1.                        1.  14492\n",
              "561622                             Rule                 Articolul  11383\n",
              "528323        Proposal for a regulation   Propunere de regulament  11349"
            ],
            "text/html": "<div>\n<style scoped>\n    .dataframe tbody tr th:only-of-type {\n        vertical-align: middle;\n    }\n\n    .dataframe tbody tr th {\n        vertical-align: top;\n    }\n\n    .dataframe thead th {\n        text-align: right;\n    }\n</style>\n<table border=\"1\" class=\"dataframe\">\n  <thead>\n    <tr style=\"text-align: right;\">\n      <th></th>\n      <th>english</th>\n      <th>romanian</th>\n      <th>size</th>\n    </tr>\n  </thead>\n  <tbody>\n    <tr>\n      <th>174855</th>\n      <td>Amendment</td>\n      <td>Amendamentul</td>\n      <td>59392</td>\n    </tr>\n    <tr>\n      <th>872241</th>\n      <td>–</td>\n      <td>–</td>\n      <td>33074</td>\n    </tr>\n    <tr>\n      <th>55777</th>\n      <td>,</td>\n      <td>,</td>\n      <td>31713</td>\n    </tr>\n    <tr>\n      <th>596108</th>\n      <td>Text proposed by the Commission</td>\n      <td>Textul propus de Comisie</td>\n      <td>24069</td>\n    </tr>\n    <tr>\n      <th>433286</th>\n      <td>Justification</td>\n      <td>Justificare</td>\n      <td>18142</td>\n    </tr>\n    <tr>\n      <th>93126</th>\n      <td>1.</td>\n      <td>1.</td>\n      <td>14492</td>\n    </tr>\n    <tr>\n      <th>561622</th>\n      <td>Rule</td>\n      <td>Articolul</td>\n      <td>11383</td>\n    </tr>\n    <tr>\n      <th>528323</th>\n      <td>Proposal for a regulation</td>\n      <td>Propunere de regulament</td>\n      <td>11349</td>\n    </tr>\n  </tbody>\n</table>\n</div>"
          },
          "metadata": {},
          "execution_count": 36
        }
      ]
    },
    {
      "source": [
        "Removing suplicates and NaN values"
      ],
      "cell_type": "markdown",
      "metadata": {}
    },
    {
      "cell_type": "code",
      "execution_count": 37,
      "metadata": {},
      "outputs": [
        {
          "output_type": "execute_result",
          "data": {
            "text/plain": [
              "(902303, 2)"
            ]
          },
          "metadata": {},
          "execution_count": 37
        }
      ],
      "source": [
        "df=df.dropna()\n",
        "df=df.drop_duplicates()\n",
        "df.shape"
      ]
    },
    {
      "cell_type": "code",
      "execution_count": 38,
      "metadata": {},
      "outputs": [
        {
          "output_type": "execute_result",
          "data": {
            "text/plain": [
              "                                                                                                                                               english  \\\n",
              "1970266                                                                                  This recommendation is one of the key elements of the report.   \n",
              "1970267                                             Particular attention should be paid to the dangers of illegal, unreported and unregulated fishing.   \n",
              "1970268                                          Both EU and non-EU countries in the Black Sea basin should take strict measures to fight IUU fishing.   \n",
              "1970269                             This could only be achieved through the active cooperation of the European Commission and the Black Sea countries.   \n",
              "1970270  The Committee on Fisheries has repeatedly stressed the importance of taking into account regional specificities when shaping future policies.   \n",
              "\n",
              "                                                                                                                                                         romanian  \n",
              "1970266                                                                                 Această recomandare este unul dintre elementele esenţiale ale raportului.  \n",
              "1970267                                                       Ar trebui acordată o atenţie deosebită pericolelor pescuitului ilegal, nedeclarat şi nereglementat.  \n",
              "1970268                      Atât ţările membre UE, cât şi ţările terţe din bazinul Mării Negre ar trebui să ia măsuri stricte pentru combaterea pescuitului INN.  \n",
              "1970269                                      Acest lucru nu poate fi realizat decât prin cooperarea activă dintre Comisia Europeană şi ţările de la Marea Neagră.  \n",
              "1970270  Comisia pentru pescuit a subliniat în repetate rânduri importanţa luării în considerare a specificităţilor regionale la formularea politicilor viitoare.  "
            ],
            "text/html": "<div>\n<style scoped>\n    .dataframe tbody tr th:only-of-type {\n        vertical-align: middle;\n    }\n\n    .dataframe tbody tr th {\n        vertical-align: top;\n    }\n\n    .dataframe thead th {\n        text-align: right;\n    }\n</style>\n<table border=\"1\" class=\"dataframe\">\n  <thead>\n    <tr style=\"text-align: right;\">\n      <th></th>\n      <th>english</th>\n      <th>romanian</th>\n    </tr>\n  </thead>\n  <tbody>\n    <tr>\n      <th>1970266</th>\n      <td>This recommendation is one of the key elements of the report.</td>\n      <td>Această recomandare este unul dintre elementele esenţiale ale raportului.</td>\n    </tr>\n    <tr>\n      <th>1970267</th>\n      <td>Particular attention should be paid to the dangers of illegal, unreported and unregulated fishing.</td>\n      <td>Ar trebui acordată o atenţie deosebită pericolelor pescuitului ilegal, nedeclarat şi nereglementat.</td>\n    </tr>\n    <tr>\n      <th>1970268</th>\n      <td>Both EU and non-EU countries in the Black Sea basin should take strict measures to fight IUU fishing.</td>\n      <td>Atât ţările membre UE, cât şi ţările terţe din bazinul Mării Negre ar trebui să ia măsuri stricte pentru combaterea pescuitului INN.</td>\n    </tr>\n    <tr>\n      <th>1970269</th>\n      <td>This could only be achieved through the active cooperation of the European Commission and the Black Sea countries.</td>\n      <td>Acest lucru nu poate fi realizat decât prin cooperarea activă dintre Comisia Europeană şi ţările de la Marea Neagră.</td>\n    </tr>\n    <tr>\n      <th>1970270</th>\n      <td>The Committee on Fisheries has repeatedly stressed the importance of taking into account regional specificities when shaping future policies.</td>\n      <td>Comisia pentru pescuit a subliniat în repetate rânduri importanţa luării în considerare a specificităţilor regionale la formularea politicilor viitoare.</td>\n    </tr>\n  </tbody>\n</table>\n</div>"
          },
          "metadata": {},
          "execution_count": 38
        }
      ],
      "source": [
        "pd.set_option('display.max_colwidth', None)\n",
        "df.iloc[591524:591529]"
      ]
    },
    {
      "source": [
        "Found untranslated sentence:"
      ],
      "cell_type": "markdown",
      "metadata": {}
    },
    {
      "cell_type": "code",
      "metadata": {
        "id": "-OmT5Fy1EMrw"
      },
      "source": [
        "contains_untranslated = df[df['romanian'].str.contains('Pursuant to this differentiation the Conference')]\n",
        "contains_untranslated"
      ],
      "execution_count": 39,
      "outputs": [
        {
          "output_type": "execute_result",
          "data": {
            "text/plain": [
              "                                                                                                                                                                                                english  \\\n",
              "1458024  Pursuant to this differentiation the Conference of Presidents also decided to refer to the Committee on Constitutional Affairs new items requiring changes to Parliament's Rules of Procedure.   \n",
              "\n",
              "                                                                                                                                                                                                          romanian  \n",
              "1458024  Pursuant to this differentiation the Conference of Presidents also decided to refer to the Committee on Constitutional Affairs new items requiring changes to Regulamentul de procedură al Parlamentului.  "
            ],
            "text/html": "<div>\n<style scoped>\n    .dataframe tbody tr th:only-of-type {\n        vertical-align: middle;\n    }\n\n    .dataframe tbody tr th {\n        vertical-align: top;\n    }\n\n    .dataframe thead th {\n        text-align: right;\n    }\n</style>\n<table border=\"1\" class=\"dataframe\">\n  <thead>\n    <tr style=\"text-align: right;\">\n      <th></th>\n      <th>english</th>\n      <th>romanian</th>\n    </tr>\n  </thead>\n  <tbody>\n    <tr>\n      <th>1458024</th>\n      <td>Pursuant to this differentiation the Conference of Presidents also decided to refer to the Committee on Constitutional Affairs new items requiring changes to Parliament's Rules of Procedure.</td>\n      <td>Pursuant to this differentiation the Conference of Presidents also decided to refer to the Committee on Constitutional Affairs new items requiring changes to Regulamentul de procedură al Parlamentului.</td>\n    </tr>\n  </tbody>\n</table>\n</div>"
          },
          "metadata": {},
          "execution_count": 39
        }
      ]
    },
    {
      "source": [
        "If we remove also alternative translations we are left with 787896 sentence pairs"
      ],
      "cell_type": "markdown",
      "metadata": {}
    },
    {
      "cell_type": "code",
      "metadata": {
        "colab": {
          "base_uri": "https://localhost:8080/"
        },
        "id": "_GI8zVt1xDMO",
        "outputId": "ac406bd5-a7a4-4f26-a93e-7e940f89ecdb"
      },
      "source": [
        "df_no_ro_alternative=df.drop_duplicates(subset='english')\n",
        "df_no_ro_alternative.shape"
      ],
      "execution_count": 41,
      "outputs": [
        {
          "output_type": "execute_result",
          "data": {
            "text/plain": [
              "(820436, 2)"
            ]
          },
          "metadata": {},
          "execution_count": 41
        }
      ]
    },
    {
      "cell_type": "code",
      "metadata": {
        "colab": {
          "base_uri": "https://localhost:8080/"
        },
        "id": "iU4IV6oUMe8S",
        "outputId": "1358282e-44ee-44b2-d93e-35bf1887869a"
      },
      "source": [
        "df_no_en_alternative=df.drop_duplicates(subset='romanian')\n",
        "df_no_en_alternative.shape\n",
        "\n",
        "df_no_alternatives=df_no_ro_alternative.drop_duplicates(subset='romanian')\n",
        "df_no_alternatives.shape"
      ],
      "execution_count": 44,
      "outputs": [
        {
          "output_type": "execute_result",
          "data": {
            "text/plain": [
              "(787895, 2)"
            ]
          },
          "metadata": {},
          "execution_count": 44
        }
      ]
    },
    {
      "cell_type": "code",
      "execution_count": 45,
      "metadata": {},
      "outputs": [
        {
          "output_type": "execute_result",
          "data": {
            "text/plain": [
              "(787895, 2)"
            ]
          },
          "metadata": {},
          "execution_count": 45
        }
      ],
      "source": [
        "df=df_no_alternatives\n",
        "df.shape"
      ]
    },
    {
      "cell_type": "code",
      "metadata": {
        "colab": {
          "base_uri": "https://localhost:8080/"
        },
        "id": "odG2qB6kNbT9",
        "outputId": "2527abd2-2318-476d-c3e6-f1d86977f9e6"
      },
      "source": [
        "source_dataset=df.iloc[:,0]\n",
        "target_dataset=df.iloc[:,1]\n",
        "\n",
        "print(source_dataset.size==target_dataset.size, source_dataset.size)"
      ],
      "execution_count": 46,
      "outputs": [
        {
          "output_type": "stream",
          "name": "stdout",
          "text": [
            "True 787895\n"
          ]
        }
      ]
    },
    {
      "cell_type": "code",
      "execution_count": null,
      "metadata": {},
      "outputs": [],
      "source": [
        "Example of freely translated sentence:"
      ]
    },
    {
      "cell_type": "code",
      "metadata": {
        "colab": {
          "base_uri": "https://localhost:8080/",
          "height": 98
        },
        "id": "6ioPd4bbJeoY",
        "outputId": "a65eb256-2780-4d13-8b50-7375de88f0f4"
      },
      "source": [
        "contains_freely=df[df.iloc[:, 1].str.contains('joc de cuvinte')]\n",
        "contains_freely"
      ],
      "execution_count": 50,
      "outputs": [
        {
          "output_type": "execute_result",
          "data": {
            "text/plain": [
              "                                                                                                        english  \\\n",
              "322678  We \"pass\" arguments among ourselves, exchange views and experience in order to achieve a common \"goal\".   \n",
              "\n",
              "                                                                                                                                                                                                                  romanian  \n",
              "322678  Ne «pasăm» argumentele de la unul la altul, facem schimburi de opinii şi de experienţe pentru a obţine un «obiectiv» [joc de cuvinte în limba engleză, «goal» însemnând în acelaşi timp «obiectiv» şi «gol» n.r.].  "
            ],
            "text/html": "<div>\n<style scoped>\n    .dataframe tbody tr th:only-of-type {\n        vertical-align: middle;\n    }\n\n    .dataframe tbody tr th {\n        vertical-align: top;\n    }\n\n    .dataframe thead th {\n        text-align: right;\n    }\n</style>\n<table border=\"1\" class=\"dataframe\">\n  <thead>\n    <tr style=\"text-align: right;\">\n      <th></th>\n      <th>english</th>\n      <th>romanian</th>\n    </tr>\n  </thead>\n  <tbody>\n    <tr>\n      <th>322678</th>\n      <td>We \"pass\" arguments among ourselves, exchange views and experience in order to achieve a common \"goal\".</td>\n      <td>Ne «pasăm» argumentele de la unul la altul, facem schimburi de opinii şi de experienţe pentru a obţine un «obiectiv» [joc de cuvinte în limba engleză, «goal» însemnând în acelaşi timp «obiectiv» şi «gol» n.r.].</td>\n    </tr>\n  </tbody>\n</table>\n</div>"
          },
          "metadata": {},
          "execution_count": 50
        }
      ]
    },
    {
      "cell_type": "code",
      "metadata": {
        "id": "lE4N0mnPOK3T"
      },
      "source": [
        "path_source_raw= (base_path / \"../data/01-intermediate/01-01-fulldata/EN_raw.txt\").resolve()\n",
        "path_target_raw= (base_path / \"../data/01-intermediate/01-01-fulldata/RO_raw.txt\").resolve()\n",
        "\n",
        "source_dataset.to_csv (path_source_raw , index = None, header = False)\n",
        "target_dataset.to_csv (path_target_raw , index = None, header = False)\n"
      ],
      "execution_count": null,
      "outputs": []
    },
    {
      "cell_type": "code",
      "metadata": {
        "colab": {
          "base_uri": "https://localhost:8080/"
        },
        "id": "6N-5Dp-BOuyX",
        "outputId": "4d279423-7896-4d35-955c-82b058de679e"
      },
      "source": [
        "! pip install -U sacremoses"
      ],
      "execution_count": null,
      "outputs": [
        {
          "output_type": "stream",
          "text": [
            "Collecting sacremoses\n",
            "\u001b[?25l  Downloading https://files.pythonhosted.org/packages/75/ee/67241dc87f266093c533a2d4d3d69438e57d7a90abb216fa076e7d475d4a/sacremoses-0.0.45-py3-none-any.whl (895kB)\n",
            "\r\u001b[K     |▍                               | 10kB 17.1MB/s eta 0:00:01\r\u001b[K     |▊                               | 20kB 22.1MB/s eta 0:00:01\r\u001b[K     |█                               | 30kB 24.3MB/s eta 0:00:01\r\u001b[K     |█▌                              | 40kB 27.3MB/s eta 0:00:01\r\u001b[K     |█▉                              | 51kB 30.0MB/s eta 0:00:01\r\u001b[K     |██▏                             | 61kB 30.5MB/s eta 0:00:01\r\u001b[K     |██▋                             | 71kB 31.2MB/s eta 0:00:01\r\u001b[K     |███                             | 81kB 31.8MB/s eta 0:00:01\r\u001b[K     |███▎                            | 92kB 33.0MB/s eta 0:00:01\r\u001b[K     |███▋                            | 102kB 33.3MB/s eta 0:00:01\r\u001b[K     |████                            | 112kB 33.3MB/s eta 0:00:01\r\u001b[K     |████▍                           | 122kB 33.3MB/s eta 0:00:01\r\u001b[K     |████▊                           | 133kB 33.3MB/s eta 0:00:01\r\u001b[K     |█████▏                          | 143kB 33.3MB/s eta 0:00:01\r\u001b[K     |█████▌                          | 153kB 33.3MB/s eta 0:00:01\r\u001b[K     |█████▉                          | 163kB 33.3MB/s eta 0:00:01\r\u001b[K     |██████▎                         | 174kB 33.3MB/s eta 0:00:01\r\u001b[K     |██████▋                         | 184kB 33.3MB/s eta 0:00:01\r\u001b[K     |███████                         | 194kB 33.3MB/s eta 0:00:01\r\u001b[K     |███████▎                        | 204kB 33.3MB/s eta 0:00:01\r\u001b[K     |███████▊                        | 215kB 33.3MB/s eta 0:00:01\r\u001b[K     |████████                        | 225kB 33.3MB/s eta 0:00:01\r\u001b[K     |████████▍                       | 235kB 33.3MB/s eta 0:00:01\r\u001b[K     |████████▉                       | 245kB 33.3MB/s eta 0:00:01\r\u001b[K     |█████████▏                      | 256kB 33.3MB/s eta 0:00:01\r\u001b[K     |█████████▌                      | 266kB 33.3MB/s eta 0:00:01\r\u001b[K     |█████████▉                      | 276kB 33.3MB/s eta 0:00:01\r\u001b[K     |██████████▎                     | 286kB 33.3MB/s eta 0:00:01\r\u001b[K     |██████████▋                     | 296kB 33.3MB/s eta 0:00:01\r\u001b[K     |███████████                     | 307kB 33.3MB/s eta 0:00:01\r\u001b[K     |███████████▍                    | 317kB 33.3MB/s eta 0:00:01\r\u001b[K     |███████████▊                    | 327kB 33.3MB/s eta 0:00:01\r\u001b[K     |████████████                    | 337kB 33.3MB/s eta 0:00:01\r\u001b[K     |████████████▌                   | 348kB 33.3MB/s eta 0:00:01\r\u001b[K     |████████████▉                   | 358kB 33.3MB/s eta 0:00:01\r\u001b[K     |█████████████▏                  | 368kB 33.3MB/s eta 0:00:01\r\u001b[K     |█████████████▌                  | 378kB 33.3MB/s eta 0:00:01\r\u001b[K     |██████████████                  | 389kB 33.3MB/s eta 0:00:01\r\u001b[K     |██████████████▎                 | 399kB 33.3MB/s eta 0:00:01\r\u001b[K     |██████████████▋                 | 409kB 33.3MB/s eta 0:00:01\r\u001b[K     |███████████████                 | 419kB 33.3MB/s eta 0:00:01\r\u001b[K     |███████████████▍                | 430kB 33.3MB/s eta 0:00:01\r\u001b[K     |███████████████▊                | 440kB 33.3MB/s eta 0:00:01\r\u001b[K     |████████████████                | 450kB 33.3MB/s eta 0:00:01\r\u001b[K     |████████████████▌               | 460kB 33.3MB/s eta 0:00:01\r\u001b[K     |████████████████▉               | 471kB 33.3MB/s eta 0:00:01\r\u001b[K     |█████████████████▏              | 481kB 33.3MB/s eta 0:00:01\r\u001b[K     |█████████████████▋              | 491kB 33.3MB/s eta 0:00:01\r\u001b[K     |██████████████████              | 501kB 33.3MB/s eta 0:00:01\r\u001b[K     |██████████████████▎             | 512kB 33.3MB/s eta 0:00:01\r\u001b[K     |██████████████████▊             | 522kB 33.3MB/s eta 0:00:01\r\u001b[K     |███████████████████             | 532kB 33.3MB/s eta 0:00:01\r\u001b[K     |███████████████████▍            | 542kB 33.3MB/s eta 0:00:01\r\u001b[K     |███████████████████▊            | 552kB 33.3MB/s eta 0:00:01\r\u001b[K     |████████████████████▏           | 563kB 33.3MB/s eta 0:00:01\r\u001b[K     |████████████████████▌           | 573kB 33.3MB/s eta 0:00:01\r\u001b[K     |████████████████████▉           | 583kB 33.3MB/s eta 0:00:01\r\u001b[K     |█████████████████████▎          | 593kB 33.3MB/s eta 0:00:01\r\u001b[K     |█████████████████████▋          | 604kB 33.3MB/s eta 0:00:01\r\u001b[K     |██████████████████████          | 614kB 33.3MB/s eta 0:00:01\r\u001b[K     |██████████████████████▎         | 624kB 33.3MB/s eta 0:00:01\r\u001b[K     |██████████████████████▊         | 634kB 33.3MB/s eta 0:00:01\r\u001b[K     |███████████████████████         | 645kB 33.3MB/s eta 0:00:01\r\u001b[K     |███████████████████████▍        | 655kB 33.3MB/s eta 0:00:01\r\u001b[K     |███████████████████████▉        | 665kB 33.3MB/s eta 0:00:01\r\u001b[K     |████████████████████████▏       | 675kB 33.3MB/s eta 0:00:01\r\u001b[K     |████████████████████████▌       | 686kB 33.3MB/s eta 0:00:01\r\u001b[K     |█████████████████████████       | 696kB 33.3MB/s eta 0:00:01\r\u001b[K     |█████████████████████████▎      | 706kB 33.3MB/s eta 0:00:01\r\u001b[K     |█████████████████████████▋      | 716kB 33.3MB/s eta 0:00:01\r\u001b[K     |██████████████████████████      | 727kB 33.3MB/s eta 0:00:01\r\u001b[K     |██████████████████████████▍     | 737kB 33.3MB/s eta 0:00:01\r\u001b[K     |██████████████████████████▊     | 747kB 33.3MB/s eta 0:00:01\r\u001b[K     |███████████████████████████     | 757kB 33.3MB/s eta 0:00:01\r\u001b[K     |███████████████████████████▌    | 768kB 33.3MB/s eta 0:00:01\r\u001b[K     |███████████████████████████▉    | 778kB 33.3MB/s eta 0:00:01\r\u001b[K     |████████████████████████████▏   | 788kB 33.3MB/s eta 0:00:01\r\u001b[K     |████████████████████████████▌   | 798kB 33.3MB/s eta 0:00:01\r\u001b[K     |█████████████████████████████   | 808kB 33.3MB/s eta 0:00:01\r\u001b[K     |█████████████████████████████▎  | 819kB 33.3MB/s eta 0:00:01\r\u001b[K     |█████████████████████████████▋  | 829kB 33.3MB/s eta 0:00:01\r\u001b[K     |██████████████████████████████  | 839kB 33.3MB/s eta 0:00:01\r\u001b[K     |██████████████████████████████▍ | 849kB 33.3MB/s eta 0:00:01\r\u001b[K     |██████████████████████████████▊ | 860kB 33.3MB/s eta 0:00:01\r\u001b[K     |███████████████████████████████▏| 870kB 33.3MB/s eta 0:00:01\r\u001b[K     |███████████████████████████████▌| 880kB 33.3MB/s eta 0:00:01\r\u001b[K     |███████████████████████████████▉| 890kB 33.3MB/s eta 0:00:01\r\u001b[K     |████████████████████████████████| 901kB 33.3MB/s \n",
            "\u001b[?25hRequirement already satisfied, skipping upgrade: six in /usr/local/lib/python3.7/dist-packages (from sacremoses) (1.15.0)\n",
            "Requirement already satisfied, skipping upgrade: regex in /usr/local/lib/python3.7/dist-packages (from sacremoses) (2019.12.20)\n",
            "Requirement already satisfied, skipping upgrade: click in /usr/local/lib/python3.7/dist-packages (from sacremoses) (8.0.0)\n",
            "Requirement already satisfied, skipping upgrade: tqdm in /usr/local/lib/python3.7/dist-packages (from sacremoses) (4.41.1)\n",
            "Requirement already satisfied, skipping upgrade: joblib in /usr/local/lib/python3.7/dist-packages (from sacremoses) (1.0.1)\n",
            "Installing collected packages: sacremoses\n",
            "Successfully installed sacremoses-0.0.45\n"
          ],
          "name": "stdout"
        }
      ]
    },
    {
      "cell_type": "code",
      "metadata": {
        "id": "Hpydst6JO92f"
      },
      "source": [
        "source_file= \"/content/drive/MyDrive/data_en_ro/dcep_full/clean_dcep.ro-en.en.txt\"\n",
        "target_file= \"/content/drive/MyDrive/data_en_ro/dcep_full/clean_dcep.ro-en.ro.txt\"\n",
        "tok_source_file = source_file+\".tok\"\n",
        "tok_target_file=target_file+\".tok\"\n",
        "\n",
        "#try spacy tokenizer?\n",
        "! sacremoses -l \"en\" -j 8 tokenize < $source_file > $tok_source_file\n",
        "! sacremoses -l \"ro\" -j 8 tokenize < $target_file > $tok_target_file\n",
        "\n",
        "! head $source_file*\n",
        "! head $target_file*\n",
        "\n",
        "! wc -l $source_file*\n",
        "! wc -l $target_file*"
      ],
      "execution_count": null,
      "outputs": []
    },
    {
      "cell_type": "code",
      "metadata": {
        "id": "2fXm6AMeReXy"
      },
      "source": [
        "import pandas as pd\n",
        "\n",
        "source_file= \"/content/drive/MyDrive/data_en_ro/dcep_full/clean_dcep.ro-en.en.txt.tok\"\n",
        "target_file= \"/content/drive/MyDrive/data_en_ro/dcep_full/clean_dcep.ro-en.ro.txt.tok\"\n",
        "\n",
        "source=[]\n",
        "target=[]\n",
        "\n",
        "source_test=[]\n",
        "target_test=[]\n",
        "skip_lines=[] #collect the line numbers of the source portion to skip the same lines for the taret portion\n",
        "\n",
        "# a manual alternative to train_test_split from scikit-learn\n",
        "with open(source_file) as f:\n",
        "  for i, line in enumerate(f):\n",
        "    #splitting 20% of training into test\n",
        "    if i % 5 == 0:\n",
        "      print(i)\n",
        "      source_test.append(line.strip())\n",
        "      skip_lines.append(i)\n",
        "    else:\n",
        "      print(i)\n",
        "      source.append(line.strip())\n",
        "\n",
        "with open(target_file) as f:\n",
        "  for j, line in enumerate(f):\n",
        "    if j not in skip_lines:\n",
        "      print(j)\n",
        "      target.append(line.strip())\n",
        "    else:\n",
        "      print(j)\n",
        "      target_test.append(line.strip())\n",
        "\n",
        "print('Loaded data and skipped {}/{} lines since contained in test set. '.format(len(skip_lines), i))"
      ],
      "execution_count": null,
      "outputs": []
    },
    {
      "cell_type": "code",
      "metadata": {
        "colab": {
          "base_uri": "https://localhost:8080/"
        },
        "id": "PWqDtTecSgkj",
        "outputId": "0623aa61-e6fc-4eac-ce95-d5e70fd7d410"
      },
      "source": [
        "df= pd.DataFrame(zip(source, target), columns=['english', 'romanian'])\n",
        "test= pd.DataFrame(zip(source_test, target_test), columns=['english', 'romanian'])\n",
        "\n",
        "print(\"train...\")\n",
        "print(df.head(5))\n",
        "\n",
        "print(\"test...\")\n",
        "print(test.head(5))"
      ],
      "execution_count": null,
      "outputs": [
        {
          "output_type": "stream",
          "text": [
            "train...\n",
            "                                                                                                english                                                                                                       romanian\n",
            "0                                                     for Question Time at the part-session in May 2007                                            pentru timpul afectat întrebărilor din perioada de sesiune mai 2007\n",
            "1                                                        pursuant to Rule 109 of the Rules of Procedure                                                 în conformitate cu articolul 109 din Regulamentul de procedură\n",
            "2                                                                                                    by                                                                                                             de\n",
            "3                                                                                 Roberta Alma Anastase                                                                                          Roberta Alma Anastase\n",
            "4  Subject : More active EU involvement in settling unresolved conflicts and measures proposed for 2007  Subiect : Implicarea mai activă a UE în soluţionarea conflictelor îngheţate şi măsurile prevăzute pentru 2007\n",
            "test...\n",
            "                                                                                                                  english                                                                                                                                          romanian\n",
            "0                                                                                               ORAL QUESTION H-0336 / 07                                                                                                                       ÎNTREBARE ORALĂ H-0336 / 07\n",
            "1                                                                                                          to the Council                                                                                                                                       Consiliului\n",
            "2                                                                                               ORAL QUESTION H-0431 / 07                                                                                                                       ÎNTREBARE ORALĂ H-0431 / 07\n",
            "3  The Commission has set the objective of cutting back on the pointless red tape imposed on business by EU legislation .  Comisia Europeană şi-a stabilit ca obiectiv reducerea obligaţiilor administrative inutile impuse prin legislaţia UE asupra mediului de afaceri .\n",
            "4                                                                                               ORAL QUESTION H-0513 / 07                                                                                                                       ÎNTREBARE ORALĂ H-0513 / 07\n"
          ],
          "name": "stdout"
        }
      ]
    },
    {
      "cell_type": "code",
      "metadata": {
        "colab": {
          "base_uri": "https://localhost:8080/",
          "height": 432
        },
        "id": "JpOGCLEeUlrX",
        "outputId": "9bb2a3db-249d-4562-8721-cc6e082289f9"
      },
      "source": [
        "seed=42\n",
        "\n",
        "df=df.sample(frac=1, random_state=seed).reset_index(drop=True)\n",
        "df.head()"
      ],
      "execution_count": null,
      "outputs": [
        {
          "output_type": "execute_result",
          "data": {
            "text/html": [
              "<div>\n",
              "<style scoped>\n",
              "    .dataframe tbody tr th:only-of-type {\n",
              "        vertical-align: middle;\n",
              "    }\n",
              "\n",
              "    .dataframe tbody tr th {\n",
              "        vertical-align: top;\n",
              "    }\n",
              "\n",
              "    .dataframe thead th {\n",
              "        text-align: right;\n",
              "    }\n",
              "</style>\n",
              "<table border=\"1\" class=\"dataframe\">\n",
              "  <thead>\n",
              "    <tr style=\"text-align: right;\">\n",
              "      <th></th>\n",
              "      <th>english</th>\n",
              "      <th>romanian</th>\n",
              "    </tr>\n",
              "  </thead>\n",
              "  <tbody>\n",
              "    <tr>\n",
              "      <th>0</th>\n",
              "      <td>&amp;quot; H. whereas better synergy in future European energy technology research can only stimulate sustainable economic growth , contribute to the comparative advantages of the European economy , improve employment and thus help achieve the objectives of the Lisbon strategy and combat climate change , &amp;quot;</td>\n",
              "      <td>&amp;quot; H. întrucât o mai bună sinergie în privința cercetării europene în domeniul tehnologiilor energetice ale viitorului nu poate decât să încurajeze creșterea economică durabilă , să contribuie la avantajul comparativ al economiei europene , să amelioreze ocuparea forței de muncă și să permită , astfel , atingerea obiectivelor strategiei de la Lisabona și combaterea schimbărilor climatice ; &amp;quot;</td>\n",
              "    </tr>\n",
              "    <tr>\n",
              "      <th>1</th>\n",
              "      <td>&amp;quot; – a proposal to be put forward by 2013 on the &amp;apos; Blue Belt &amp;apos; , to facilitate the formalities for ships operating between EU ports and to develop the potential of motorways of the sea by establishing a genuine single market for intra-EU maritime transport in accordance with existing environmental and nature conservation legislation ; &amp;quot;</td>\n",
              "      <td>&amp;quot; – o propunere , prezentată până în 2013 , referitoare la așa-numita „ centură albastră ” , pentru simplificarea formalităților pentru navele care operează între porturile din UE și pentru dezvoltarea potențialului autostrăzilor maritime prin realizarea unei piețe unice reale pentru transportul maritim în interiorul UE în conformitate cu legislația existentă în domeniul mediului și al conservării naturii ; &amp;quot;</td>\n",
              "    </tr>\n",
              "    <tr>\n",
              "      <th>2</th>\n",
              "      <td>Report on the future European international investment policy &amp;#91; 2010 / 2203 ( INI ) &amp;#93; - Committee on International Trade .</td>\n",
              "      <td>Raport referitor la viitoarea politică europeană în domeniul investițiilor internaționale &amp;#91; 2010 / 2203 ( INI ) &amp;#93; - Comisia pentru comerţ internaţional .</td>\n",
              "    </tr>\n",
              "    <tr>\n",
              "      <th>3</th>\n",
              "      <td>&amp;quot; Expresses its strong concern about the EU-Morocco agreement ; points out that , while European markets have opened up almost completely to imports from Morocco , some agricultural products are still subject to quotas on exports from the EU , including important products such as pomaceous fruits ; &amp;quot;</td>\n",
              "      <td>&amp;quot; îşi exprimă profunda îngrijorare cu privire la acordul UE-Maroc ; subliniază că , în timp ce pieţele europene sunt acum aproape complet deschise importurilor din Maroc , unele produse agricole , printre care se numără şi unele produse importante precum fructele pomacee , încă sunt supuse contingentelor pentru exporturi din UE ; &amp;quot;</td>\n",
              "    </tr>\n",
              "    <tr>\n",
              "      <th>4</th>\n",
              "      <td>&amp;quot; We &amp;quot; &amp;quot; pass &amp;quot; &amp;quot; arguments among ourselves , exchange views and experience in order to achieve a common &amp;quot; &amp;quot; goal &amp;quot; &amp;quot; . &amp;quot;</td>\n",
              "      <td>&amp;quot; Ne « pasăm » argumentele de la unul la altul , facem schimburi de opinii şi de experienţe pentru a obţine un « obiectiv » &amp;#91; joc de cuvinte în limba engleză , « goal » însemnând în acelaşi timp « obiectiv » şi « gol » n.r. &amp;#93; . &amp;quot;</td>\n",
              "    </tr>\n",
              "  </tbody>\n",
              "</table>\n",
              "</div>"
            ],
            "text/plain": [
              "                                                                                                                                                                                                                                                                                                                                                                 english                                                                                                                                                                                                                                                                                                                                                                                                                                romanian\n",
              "0                                                   &quot; H. whereas better synergy in future European energy technology research can only stimulate sustainable economic growth , contribute to the comparative advantages of the European economy , improve employment and thus help achieve the objectives of the Lisbon strategy and combat climate change , &quot;                     &quot; H. întrucât o mai bună sinergie în privința cercetării europene în domeniul tehnologiilor energetice ale viitorului nu poate decât să încurajeze creșterea economică durabilă , să contribuie la avantajul comparativ al economiei europene , să amelioreze ocuparea forței de muncă și să permită , astfel , atingerea obiectivelor strategiei de la Lisabona și combaterea schimbărilor climatice ; &quot;\n",
              "1  &quot; – a proposal to be put forward by 2013 on the &apos; Blue Belt &apos; , to facilitate the formalities for ships operating between EU ports and to develop the potential of motorways of the sea by establishing a genuine single market for intra-EU maritime transport in accordance with existing environmental and nature conservation legislation ; &quot;  &quot; – o propunere , prezentată până în 2013 , referitoare la așa-numita „ centură albastră ” , pentru simplificarea formalităților pentru navele care operează între porturile din UE și pentru dezvoltarea potențialului autostrăzilor maritime prin realizarea unei piețe unice reale pentru transportul maritim în interiorul UE în conformitate cu legislația existentă în domeniul mediului și al conservării naturii ; &quot;\n",
              "2                                                                                                                                                                                                                                     Report on the future European international investment policy &#91; 2010 / 2203 ( INI ) &#93; - Committee on International Trade .                                                                                                                                                                                                                                                                       Raport referitor la viitoarea politică europeană în domeniul investițiilor internaționale &#91; 2010 / 2203 ( INI ) &#93; - Comisia pentru comerţ internaţional .\n",
              "3                                                &quot; Expresses its strong concern about the EU-Morocco agreement ; points out that , while European markets have opened up almost completely to imports from Morocco , some agricultural products are still subject to quotas on exports from the EU , including important products such as pomaceous fruits ; &quot;                                                                                 &quot; îşi exprimă profunda îngrijorare cu privire la acordul UE-Maroc ; subliniază că , în timp ce pieţele europene sunt acum aproape complet deschise importurilor din Maroc , unele produse agricole , printre care se numără şi unele produse importante precum fructele pomacee , încă sunt supuse contingentelor pentru exporturi din UE ; &quot;\n",
              "4                                                                                                                                                                                            &quot; We &quot; &quot; pass &quot; &quot; arguments among ourselves , exchange views and experience in order to achieve a common &quot; &quot; goal &quot; &quot; . &quot;                                                                                                                                                                                 &quot; Ne « pasăm » argumentele de la unul la altul , facem schimburi de opinii şi de experienţe pentru a obţine un « obiectiv » &#91; joc de cuvinte în limba engleză , « goal » însemnând în acelaşi timp « obiectiv » şi « gol » n.r. &#93; . &quot;"
            ]
          },
          "metadata": {
            "tags": []
          },
          "execution_count": 46
        }
      ]
    },
    {
      "cell_type": "code",
      "metadata": {
        "colab": {
          "base_uri": "https://localhost:8080/",
          "height": 133
        },
        "id": "59QqNCmhUsqi",
        "outputId": "ece0f6c2-ef29-4d38-d3d8-6a6d644198ed"
      },
      "source": [
        "pd.set_option('display.max_colwidth', None)\n",
        "df.iloc[3:4]"
      ],
      "execution_count": null,
      "outputs": [
        {
          "output_type": "execute_result",
          "data": {
            "text/html": [
              "<div>\n",
              "<style scoped>\n",
              "    .dataframe tbody tr th:only-of-type {\n",
              "        vertical-align: middle;\n",
              "    }\n",
              "\n",
              "    .dataframe tbody tr th {\n",
              "        vertical-align: top;\n",
              "    }\n",
              "\n",
              "    .dataframe thead th {\n",
              "        text-align: right;\n",
              "    }\n",
              "</style>\n",
              "<table border=\"1\" class=\"dataframe\">\n",
              "  <thead>\n",
              "    <tr style=\"text-align: right;\">\n",
              "      <th></th>\n",
              "      <th>english</th>\n",
              "      <th>romanian</th>\n",
              "    </tr>\n",
              "  </thead>\n",
              "  <tbody>\n",
              "    <tr>\n",
              "      <th>3</th>\n",
              "      <td>&amp;quot; Expresses its strong concern about the EU-Morocco agreement ; points out that , while European markets have opened up almost completely to imports from Morocco , some agricultural products are still subject to quotas on exports from the EU , including important products such as pomaceous fruits ; &amp;quot;</td>\n",
              "      <td>&amp;quot; îşi exprimă profunda îngrijorare cu privire la acordul UE-Maroc ; subliniază că , în timp ce pieţele europene sunt acum aproape complet deschise importurilor din Maroc , unele produse agricole , printre care se numără şi unele produse importante precum fructele pomacee , încă sunt supuse contingentelor pentru exporturi din UE ; &amp;quot;</td>\n",
              "    </tr>\n",
              "  </tbody>\n",
              "</table>\n",
              "</div>"
            ],
            "text/plain": [
              "                                                                                                                                                                                                                                                                                                                   english                                                                                                                                                                                                                                                                                                                                                 romanian\n",
              "3  &quot; Expresses its strong concern about the EU-Morocco agreement ; points out that , while European markets have opened up almost completely to imports from Morocco , some agricultural products are still subject to quotas on exports from the EU , including important products such as pomaceous fruits ; &quot;  &quot; îşi exprimă profunda îngrijorare cu privire la acordul UE-Maroc ; subliniază că , în timp ce pieţele europene sunt acum aproape complet deschise importurilor din Maroc , unele produse agricole , printre care se numără şi unele produse importante precum fructele pomacee , încă sunt supuse contingentelor pentru exporturi din UE ; &quot;"
            ]
          },
          "metadata": {
            "tags": []
          },
          "execution_count": 47
        }
      ]
    },
    {
      "cell_type": "code",
      "metadata": {
        "colab": {
          "base_uri": "https://localhost:8080/"
        },
        "id": "1zKtZgmvU2PO",
        "outputId": "16d6d72c-fe2f-4b57-9bb9-4224d4957531"
      },
      "source": [
        "print(len(df.index),len(test.index))"
      ],
      "execution_count": null,
      "outputs": [
        {
          "output_type": "stream",
          "text": [
            "630316 157580\n"
          ],
          "name": "stdout"
        }
      ]
    },
    {
      "cell_type": "code",
      "metadata": {
        "colab": {
          "base_uri": "https://localhost:8080/"
        },
        "id": "fxX2pWYWVpFV",
        "outputId": "2e0781c1-a2a1-4f34-eda9-8e13bcfd0e5c"
      },
      "source": [
        "%cd /content/drive/MyDrive/data_en_ro/dcep_full"
      ],
      "execution_count": null,
      "outputs": [
        {
          "output_type": "stream",
          "text": [
            "/content/drive/MyDrive/data_en_ro/dcep_full\n"
          ],
          "name": "stdout"
        }
      ]
    },
    {
      "cell_type": "code",
      "metadata": {
        "id": "pwuL_hinU_WH"
      },
      "source": [
        "#split btw train and dev\n",
        "import csv\n",
        "lc=False \n",
        "num_dev_patterns= 10000\n",
        "\n",
        "if lc:\n",
        "  df['english']=df['english'].str.lower()\n",
        "  df['romanian']=df['romanian'].str.lower()\n",
        "  test['romanian']=test['romanian'].str.lower()\n",
        "  test['english']=test['english'].str.lower()\n",
        "\n",
        "#dev set\n",
        "dev= df.tail(num_dev_patterns)\n",
        "#training set\n",
        "stripped=df.drop(df.tail(num_dev_patterns).index)\n",
        "\n",
        "with open(\"clean_train.en\", \"w\") as src_file, open(\"clean_train.ro\", \"w\") as trg_file:\n",
        "  for index, row in stripped.iterrows():\n",
        "    src_file.write(str(row[\"english\"])+\"\\n\")\n",
        "    trg_file.write(str(row[\"romanian\"])+\"\\n\")\n",
        "\n",
        "with open(\"clean_dev.en\", \"w\") as src_file, open(\"clean_dev.ro\", \"w\") as trg_file:\n",
        "  for index, row in dev.iterrows():\n",
        "    src_file.write(row[\"english\"]+\"\\n\")\n",
        "    trg_file.write(row[\"romanian\"]+\"\\n\")\n",
        "\n",
        "with open(\"clean_test.en\", \"w\") as src_file, open(\"clean_test.ro\", \"w\") as trg_file:\n",
        "  for index, row in test.iterrows():\n",
        "    src_file.write(row[\"english\"]+\"\\n\")\n",
        "    trg_file.write(row[\"romanian\"]+\"\\n\")"
      ],
      "execution_count": null,
      "outputs": []
    },
    {
      "cell_type": "code",
      "metadata": {
        "colab": {
          "base_uri": "https://localhost:8080/"
        },
        "id": "X8eXjrDCiCZX",
        "outputId": "5778ee86-8099-47bf-97da-db26fee33889"
      },
      "source": [
        "! head -10 /content/drive/MyDrive/data_en_ro/dcep_full/clean_test.ro"
      ],
      "execution_count": null,
      "outputs": [
        {
          "output_type": "stream",
          "text": [
            "ÎNTREBARE ORALĂ H-0336 / 07\n",
            "Consiliului\n",
            "ÎNTREBARE ORALĂ H-0431 / 07\n",
            "Comisia Europeană şi-a stabilit ca obiectiv reducerea obligaţiilor administrative inutile impuse prin legislaţia UE asupra mediului de afaceri .\n",
            "ÎNTREBARE ORALĂ H-0513 / 07\n",
            "Comisia Europeană a aprobat în 2004 o listă de 30 de proiecte prioritare pentru Reţeaua Europeană de Transport în care şi noile state membre sunt incluse .\n",
            "Subiect : Abandonul şcolar\n",
            "&quot; În contextul creşterii productivităţii muncii , este nevoie însă ca forţa de muncă să fie tot mai bine pregătită . &quot;\n",
            "&quot; Având în vedere poziţia adoptată de unele state din regiune privind prioritatea acordată de acestea proiectului Nabucco , aş dori să întreb Consiliul Uniunii Europene care sunt măsurile pe care le are în vedere pentru accelerarea realizării acestui proiect deosebit de important atât pentru statele tranzitate , cât şi pentru aprovizionarea cu gaz a Uniunii Europene şi care sunt termenele de realizare avute în vedere ? &quot;\n",
            "Ce îşi propune Comisia Europeană să întreprindă pentru a stopa acest fenomen ?\n"
          ],
          "name": "stdout"
        }
      ]
    },
    {
      "cell_type": "code",
      "metadata": {
        "id": "hmHo1s8khG7-"
      },
      "source": [
        "df_clean_test_ro = pd.read_csv(\"/content/drive/MyDrive/data_en_ro/dcep_full/clean_test.ro\", sep='\\n', header=None)\n",
        "df_clean_test_en = pd.read_csv(\"/content/drive/MyDrive/data_en_ro/dcep_full/clean_test.en\", sep='\\n', header=None)\n",
        "\n",
        "\n",
        "contain_values = df_clean_test_ro[df_clean_test_ro.iloc[:,0].str.contains('Pursuant to this differentiation the Conference')]"
      ],
      "execution_count": null,
      "outputs": []
    },
    {
      "cell_type": "code",
      "metadata": {
        "colab": {
          "base_uri": "https://localhost:8080/"
        },
        "id": "P7sFUDaX-hXi",
        "outputId": "2b754a79-df9c-4c98-9aae-7a209a5b0f8f"
      },
      "source": [
        "print(contain_values)"
      ],
      "execution_count": null,
      "outputs": [
        {
          "output_type": "stream",
          "text": [
            "                                                       0\n",
            "65096  Pursuant to this differentiation the Conferenc...\n"
          ],
          "name": "stdout"
        }
      ]
    },
    {
      "cell_type": "code",
      "metadata": {
        "colab": {
          "base_uri": "https://localhost:8080/"
        },
        "id": "0givemyJ94v_",
        "outputId": "df159e7e-ca3f-48c0-cf39-c8e706b447ff"
      },
      "source": [
        "pd.set_option('display.max_colwidth', None)\n",
        "\n",
        "print(df_clean_test_ro.iloc[65096])\n",
        "print(df_clean_test_en.iloc[65096])"
      ],
      "execution_count": null,
      "outputs": [
        {
          "output_type": "stream",
          "text": [
            "0    Pursuant to this differentiation the Conference of Presidents also decided to refer to the Committee on Constitutional Affairs new items requiring changes to Regulamentul de procedură al Parlamentului .\n",
            "Name: 65096, dtype: object\n",
            "0    Pursuant to this differentiation the Conference of Presidents also decided to refer to the Committee on Constitutional Affairs new items requiring changes to Parliament &apos;s Rules of Procedure .\n",
            "Name: 65096, dtype: object\n"
          ],
          "name": "stdout"
        }
      ]
    },
    {
      "cell_type": "code",
      "metadata": {
        "colab": {
          "base_uri": "https://localhost:8080/"
        },
        "id": "-I2bHEDTiant",
        "outputId": "10fb3a2c-33a4-44c4-87a9-f6f34fc49381"
      },
      "source": [
        "df_clean_train_en = pd.read_csv(\"/content/drive/MyDrive/data_en_ro/dcep_full/clean_train.en\", sep='\\n', header=None)\n",
        "\n",
        "contain_values = df_clean_dev_en[df_clean_dev_en.iloc[:,0].str.contains('Clear European')]\n",
        "print(df_clean_train_en.iloc[:20])"
      ],
      "execution_count": null,
      "outputs": [
        {
          "output_type": "stream",
          "text": [
            "                                                                                                                                                                                                                                                                                                                                                                        0\n",
            "0                                                    &quot; H. whereas better synergy in future European energy technology research can only stimulate sustainable economic growth , contribute to the comparative advantages of the European economy , improve employment and thus help achieve the objectives of the Lisbon strategy and combat climate change , &quot;\n",
            "1   &quot; – a proposal to be put forward by 2013 on the &apos; Blue Belt &apos; , to facilitate the formalities for ships operating between EU ports and to develop the potential of motorways of the sea by establishing a genuine single market for intra-EU maritime transport in accordance with existing environmental and nature conservation legislation ; &quot;\n",
            "2                                                                                                                                                                                                                                      Report on the future European international investment policy &#91; 2010 / 2203 ( INI ) &#93; - Committee on International Trade .\n",
            "3                                                 &quot; Expresses its strong concern about the EU-Morocco agreement ; points out that , while European markets have opened up almost completely to imports from Morocco , some agricultural products are still subject to quotas on exports from the EU , including important products such as pomaceous fruits ; &quot;\n",
            "4                                                                                                                                                                                             &quot; We &quot; &quot; pass &quot; &quot; arguments among ourselves , exchange views and experience in order to achieve a common &quot; &quot; goal &quot; &quot; . &quot;\n",
            "5     &quot; whereas the current period of financial instability is creating uncertainty and could aggravate a slowdown in growth and whereas the slight revision of the autumn forecasts by the Commission could also mark a turning point in the economic cycle unless market transparency and appropriate action by policy-makers restore consumer confidence , &quot;\n",
            "6                                                                                                                                                                                                                                                                                                                 This should be taken into consideration in the recast .\n",
            "7                                            &quot; Points out that the relationship between manufacturers , on the one hand , and dealers , service providers and other relevant economic actors in the automotive supply chain , on the other hand , has to be carefully analysed , taking into consideration their unequal economic power as trading partners ; &quot;\n",
            "8                                                                                                                                                                                                                                                                                                                                                               undertake\n",
            "9                                                                                                                                                                                                      &quot; Since this is the best means to find out about the results of the assistance , your rapporteur proposes an amendment to include the necessary text . &quot;\n",
            "10                                                                                                                       &quot; N. whereas alcohol consumption influences considerably the metabolism of various nutrients ; whereas alcohol consumption exerts an influence on the action of various medicines because of the existing interaction between them , &quot;\n",
            "11                                                                                                                                                                                                                                                                                                                                   Detention and readmission agreements\n",
            "12                                                                                                                                                                                                                                                                                                                                                            PYMETROZINE\n",
            "13                                                                                                                                                                                                                                                                                                                               &quot; OJ L 212 , 17.8.1994 , p . &quot;\n",
            "14                                                                                                                                &quot; G. whereas Roma face structural discrimination in the labour market and with regard to housing , leading to poverty and social exclusion , and in some EU Member States face serious social security benefit reductions , &quot;\n",
            "15                                                                                                                                                                                                                                                                                &quot; , who moved an oral amendment to amendment 7 on behalf of the PSE Group . &quot;\n",
            "16                                                                                                                                                                                                                                                                                                                                                          50 % decrease\n",
            "17                                              &quot; The concepts of multiple discrimination and discrimination by association need to be introduced in order to deal effectively with cases where two or more forms of discrimination occur , placing the victim in an even more vulnerable position and creating major difficulties as regards legal redress . &quot;\n",
            "18                                                                                                                                                                                                                                                             1. and by the security regulations of the Council set out in the Annex to Council Decision 2011 / 292 / EU\n",
            "19                                                                                                                                                                                                                                                             Welcomes the efforts of the Commission to intensify its actions promoting equality between women and men ;\n"
          ],
          "name": "stdout"
        }
      ]
    },
    {
      "cell_type": "code",
      "metadata": {
        "colab": {
          "base_uri": "https://localhost:8080/"
        },
        "id": "HG7J7ZIZBwzD",
        "outputId": "71c9dd41-cfda-43ed-8b7d-c3cc47e713f5"
      },
      "source": [
        "df_clean_train_ro = pd.read_csv(\"/content/drive/MyDrive/data_en_ro/dcep_full/clean_train.ro\", sep='\\n', header=None)\n",
        "\n",
        "contain_values = df_clean_train_ro[df_clean_train_ro.iloc[:,0].str.contains('european clar')]\n",
        "print(contain_values)\n",
        "print(df_clean_train_ro.iloc[:20])"
      ],
      "execution_count": null,
      "outputs": [
        {
          "output_type": "stream",
          "text": [
            "                                                                                 0\n",
            "401777  – un cadru legislativ european clar care să protejeze serviciile publice ;\n",
            "                                                                                                                                                                                                                                                                                                                                                                                                                                                                     0\n",
            "0                                                  &quot; H. întrucât o mai bună sinergie în privința cercetării europene în domeniul tehnologiilor energetice ale viitorului nu poate decât să încurajeze creșterea economică durabilă , să contribuie la avantajul comparativ al economiei europene , să amelioreze ocuparea forței de muncă și să permită , astfel , atingerea obiectivelor strategiei de la Lisabona și combaterea schimbărilor climatice ; &quot;\n",
            "1                               &quot; – o propunere , prezentată până în 2013 , referitoare la așa-numita „ centură albastră ” , pentru simplificarea formalităților pentru navele care operează între porturile din UE și pentru dezvoltarea potențialului autostrăzilor maritime prin realizarea unei piețe unice reale pentru transportul maritim în interiorul UE în conformitate cu legislația existentă în domeniul mediului și al conservării naturii ; &quot;\n",
            "2                                                                                                                                                                                                                                                                                                    Raport referitor la viitoarea politică europeană în domeniul investițiilor internaționale &#91; 2010 / 2203 ( INI ) &#93; - Comisia pentru comerţ internaţional .\n",
            "3                                                                                                              &quot; îşi exprimă profunda îngrijorare cu privire la acordul UE-Maroc ; subliniază că , în timp ce pieţele europene sunt acum aproape complet deschise importurilor din Maroc , unele produse agricole , printre care se numără şi unele produse importante precum fructele pomacee , încă sunt supuse contingentelor pentru exporturi din UE ; &quot;\n",
            "4                                                                                                                                                                                                              &quot; Ne « pasăm » argumentele de la unul la altul , facem schimburi de opinii şi de experienţe pentru a obţine un « obiectiv » &#91; joc de cuvinte în limba engleză , « goal » însemnând în acelaşi timp « obiectiv » şi « gol » n.r. &#93; . &quot;\n",
            "5   &quot; întrucât actuala perioadă de tulburări financiare dau naștere la incertitudine și ar putea încetini și mai mult procesul de creștere și întrucât ușoara revizuire a previziunilor din toamnă ale Comisiei ar putea marca , de asemenea , un moment de cotitură pentru ciclul economic , dacă încrederea consumatorilor nu este restabilită prin garantarea transparenței pieței și prin reacții adecvate din partea factorilor de decizie politică ; &quot;\n",
            "6                                                                                                                                                                                                                                                                                                                                                                                                                  Acest lucru ar trebui avut în vedere la reformare .\n",
            "7                                                                                                     &quot; subliniază faptul că relaţiile dintre producători , pe de o parte , şi dealeri , furnizori de servicii şi alţi actori economici relevanţi din lanţul de aprovizionare a sectorului autovehiculelor , pe de altă parte , trebuie să fie analizate cu atenţie , luând în considerare forţa economică inegală a acestora ca şi parteneri comerciali ; &quot;\n",
            "8                                                                                                                                                                                                                                                                                                                                                                                                                                                                   să\n",
            "9                                                                                                                                                                                                                                                                                &quot; Deoarece evaluarea reprezintă cel mai potrivit mijloc pentru a şti care sunt rezultatele ajutorului , raportorul propune un amendament care să includă textul necesar . &quot;\n",
            "10                                                                                                                                                                                                                               &quot; N. întrucât consumul de alcool influenţează considerabil metabolismul diferitelor substanţe nutritive , întrucât consumul de alcool influenţează acţiunea diverselor medicamente , din cauza interacţiunii dintre ele , &quot;\n",
            "11                                                                                                                                                                                                                                                                                                                                                                                                                                 Detenţia şi acordurile de readmisie\n",
            "12                                                                                                                                                                                                                                                                                                                                                                                                                                                         PYMETROZINE\n",
            "13                                                                                                                                                                                                                                                                                                                                                                                                                            &quot; JO L 212 , 17.8.1994 , p . &quot;\n",
            "14                                                                                                                                                                  &quot; G. întrucât romii fac obiectul unei discriminări structurale pe piaţa muncii şi în ceea ce priveşte locuinţele , ceea ce conduce la sărăcie şi excludere socială , iar în unele state membre aceştia se confruntă cu reduceri semnificative ale prestaţiilor de securitate socială ; &quot;\n",
            "15                                                                                                                                                                                                                                                                                                                                                                            &quot; , a propus , în numele Grupului PSE , un amendament oral la amendamentul 7 &quot;\n",
            "16                                                                                                                                                                                                                                                                                                                                                                                                                                                       50 % decrease\n",
            "17                                                                                                                                           &quot; Trebuie introduse noțiunile de discriminare multiplă și discriminare prin asociere pentru a putea trata în mod eficient cazurile în care cele două forme de discriminare , sau chiar mai multe , se suprapun punând victima într-o poziție mai vulnerabilă și mai dificilă pentru căile de atac judiciare . &quot;\n",
            "18                                                                                                                                                                                                                                                                                                                                                          1. și de normele de securitate ale Consiliului prevăzute în anexa la Decizia 2011 / 292 / UE a Consiliului\n",
            "19                                                                                                                                                                                                                                                                                                                                                    1. salută eforturile Comisiei de a intensifica acţiunile sale de promovare a egalităţii între femei şi bărbaţi ;\n"
          ],
          "name": "stdout"
        }
      ]
    }
  ]
}