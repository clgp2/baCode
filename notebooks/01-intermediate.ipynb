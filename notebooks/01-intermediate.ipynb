{
  "nbformat": 4,
  "nbformat_minor": 0,
  "metadata": {
    "colab": {
      "name": "clean_dcep_new.ipynb",
      "provenance": [],
      "collapsed_sections": []
    },
    "kernelspec": {
      "name": "python3",
      "display_name": "Python 3.6.8 64-bit ('ba-env': venv)"
    },
    "language_info": {
      "name": "python",
      "version": "3.6.8"
    },
    "interpreter": {
      "hash": "a4916cd12ee39cb2350b6989a6656d6368d271ce25ea714d6ddb0152fb90db1c"
    }
  },
  "cells": [
    {
      "source": [
        "## Here, we prepare the data:\n",
        "* do \"basic\" cleaning: drop empty values, drop duplicates, drop subset duplicates => results in df of size 787895 sentence pairs\n",
        "* run bicleaner-hardrules on 787895 sized df => results in df of size 574034 sentence pairs\n",
        "* create traindevtest split from bicleaner cleaned file\n",
        "* remove the sentence pairs from big df, which are contained in dev or test to avoid training on test/dev. Result is train set for basic cleaning model"
      ],
      "cell_type": "markdown",
      "metadata": {}
    },
    {
      "cell_type": "code",
      "metadata": {
        "id": "Wo1PI4iT4GUC"
      },
      "source": [
        "import pandas as pd\n",
        "import numpy as np\n",
        "import csv\n",
        "import sys\n",
        "import os\n",
        "from pathlib import Path"
      ],
      "execution_count": 2,
      "outputs": []
    },
    {
      "cell_type": "code",
      "metadata": {
        "id": "xeTIeEdZS5Xz"
      },
      "source": [
        "path_ENRO_bisents = os.path.join(os.pardir, \"data/00-raw/EN-RO-bisentences.txt\")\n",
        "#quoting is to correctly include quote in quote strings as one field when reading the file\n",
        "df=pd.read_csv(path_ENRO_bisents, sep='\\t', names=['english', 'romanian'], quoting=csv.QUOTE_NONE)"
      ],
      "execution_count": 7,
      "outputs": []
    },
    {
      "source": [
        "The raw file (df.shape=(2668811, 2)) contains lots of duplicates. Here are some of them:"
      ],
      "cell_type": "markdown",
      "metadata": {}
    },
    {
      "cell_type": "code",
      "metadata": {
        "colab": {
          "base_uri": "https://localhost:8080/",
          "height": 300
        },
        "id": "m9CBN3TmFAEM",
        "outputId": "4227be56-d8a1-4f9f-f45a-6ff8c77029bf"
      },
      "source": [
        "df_duplcates_sorted=df.groupby(df.columns.tolist(),as_index=False).size().sort_values(by='size',ascending=[False])[:8]\n",
        "df_duplcates_sorted"
      ],
      "execution_count": 8,
      "outputs": [
        {
          "output_type": "execute_result",
          "data": {
            "text/plain": [
              "                                english                  romanian   size\n",
              "174855                        Amendment              Amendamentul  59392\n",
              "872241                                –                         –  33074\n",
              "55777                                 ,                         ,  31713\n",
              "596108  Text proposed by the Commission  Textul propus de Comisie  24069\n",
              "433286                    Justification               Justificare  18142\n",
              "93126                                1.                        1.  14492\n",
              "561622                             Rule                 Articolul  11383\n",
              "528323        Proposal for a regulation   Propunere de regulament  11349"
            ],
            "text/html": "<div>\n<style scoped>\n    .dataframe tbody tr th:only-of-type {\n        vertical-align: middle;\n    }\n\n    .dataframe tbody tr th {\n        vertical-align: top;\n    }\n\n    .dataframe thead th {\n        text-align: right;\n    }\n</style>\n<table border=\"1\" class=\"dataframe\">\n  <thead>\n    <tr style=\"text-align: right;\">\n      <th></th>\n      <th>english</th>\n      <th>romanian</th>\n      <th>size</th>\n    </tr>\n  </thead>\n  <tbody>\n    <tr>\n      <th>174855</th>\n      <td>Amendment</td>\n      <td>Amendamentul</td>\n      <td>59392</td>\n    </tr>\n    <tr>\n      <th>872241</th>\n      <td>–</td>\n      <td>–</td>\n      <td>33074</td>\n    </tr>\n    <tr>\n      <th>55777</th>\n      <td>,</td>\n      <td>,</td>\n      <td>31713</td>\n    </tr>\n    <tr>\n      <th>596108</th>\n      <td>Text proposed by the Commission</td>\n      <td>Textul propus de Comisie</td>\n      <td>24069</td>\n    </tr>\n    <tr>\n      <th>433286</th>\n      <td>Justification</td>\n      <td>Justificare</td>\n      <td>18142</td>\n    </tr>\n    <tr>\n      <th>93126</th>\n      <td>1.</td>\n      <td>1.</td>\n      <td>14492</td>\n    </tr>\n    <tr>\n      <th>561622</th>\n      <td>Rule</td>\n      <td>Articolul</td>\n      <td>11383</td>\n    </tr>\n    <tr>\n      <th>528323</th>\n      <td>Proposal for a regulation</td>\n      <td>Propunere de regulament</td>\n      <td>11349</td>\n    </tr>\n  </tbody>\n</table>\n</div>"
          },
          "metadata": {},
          "execution_count": 8
        }
      ]
    },
    {
      "source": [
        "Removing duplicates and NaN values"
      ],
      "cell_type": "markdown",
      "metadata": {}
    },
    {
      "cell_type": "code",
      "execution_count": 6,
      "metadata": {},
      "outputs": [
        {
          "output_type": "stream",
          "name": "stdout",
          "text": [
            "(2668811, 2)\n",
            "(902307, 2)\n",
            "(902303, 2)\n"
          ]
        }
      ],
      "source": [
        "print(df.shape)\n",
        "df=df.drop_duplicates()\n",
        "print(df.shape)\n",
        "df=df.dropna()\n",
        "print(df.shape)"
      ]
    },
    {
      "cell_type": "code",
      "execution_count": 5,
      "metadata": {},
      "outputs": [
        {
          "output_type": "execute_result",
          "data": {
            "text/plain": [
              "                                                                                                                                               english  \\\n",
              "1970266                                                                                  This recommendation is one of the key elements of the report.   \n",
              "1970267                                             Particular attention should be paid to the dangers of illegal, unreported and unregulated fishing.   \n",
              "1970268                                          Both EU and non-EU countries in the Black Sea basin should take strict measures to fight IUU fishing.   \n",
              "1970269                             This could only be achieved through the active cooperation of the European Commission and the Black Sea countries.   \n",
              "1970270  The Committee on Fisheries has repeatedly stressed the importance of taking into account regional specificities when shaping future policies.   \n",
              "\n",
              "                                                                                                                                                         romanian  \n",
              "1970266                                                                                 Această recomandare este unul dintre elementele esenţiale ale raportului.  \n",
              "1970267                                                       Ar trebui acordată o atenţie deosebită pericolelor pescuitului ilegal, nedeclarat şi nereglementat.  \n",
              "1970268                      Atât ţările membre UE, cât şi ţările terţe din bazinul Mării Negre ar trebui să ia măsuri stricte pentru combaterea pescuitului INN.  \n",
              "1970269                                      Acest lucru nu poate fi realizat decât prin cooperarea activă dintre Comisia Europeană şi ţările de la Marea Neagră.  \n",
              "1970270  Comisia pentru pescuit a subliniat în repetate rânduri importanţa luării în considerare a specificităţilor regionale la formularea politicilor viitoare.  "
            ],
            "text/html": "<div>\n<style scoped>\n    .dataframe tbody tr th:only-of-type {\n        vertical-align: middle;\n    }\n\n    .dataframe tbody tr th {\n        vertical-align: top;\n    }\n\n    .dataframe thead th {\n        text-align: right;\n    }\n</style>\n<table border=\"1\" class=\"dataframe\">\n  <thead>\n    <tr style=\"text-align: right;\">\n      <th></th>\n      <th>english</th>\n      <th>romanian</th>\n    </tr>\n  </thead>\n  <tbody>\n    <tr>\n      <th>1970266</th>\n      <td>This recommendation is one of the key elements of the report.</td>\n      <td>Această recomandare este unul dintre elementele esenţiale ale raportului.</td>\n    </tr>\n    <tr>\n      <th>1970267</th>\n      <td>Particular attention should be paid to the dangers of illegal, unreported and unregulated fishing.</td>\n      <td>Ar trebui acordată o atenţie deosebită pericolelor pescuitului ilegal, nedeclarat şi nereglementat.</td>\n    </tr>\n    <tr>\n      <th>1970268</th>\n      <td>Both EU and non-EU countries in the Black Sea basin should take strict measures to fight IUU fishing.</td>\n      <td>Atât ţările membre UE, cât şi ţările terţe din bazinul Mării Negre ar trebui să ia măsuri stricte pentru combaterea pescuitului INN.</td>\n    </tr>\n    <tr>\n      <th>1970269</th>\n      <td>This could only be achieved through the active cooperation of the European Commission and the Black Sea countries.</td>\n      <td>Acest lucru nu poate fi realizat decât prin cooperarea activă dintre Comisia Europeană şi ţările de la Marea Neagră.</td>\n    </tr>\n    <tr>\n      <th>1970270</th>\n      <td>The Committee on Fisheries has repeatedly stressed the importance of taking into account regional specificities when shaping future policies.</td>\n      <td>Comisia pentru pescuit a subliniat în repetate rânduri importanţa luării în considerare a specificităţilor regionale la formularea politicilor viitoare.</td>\n    </tr>\n  </tbody>\n</table>\n</div>"
          },
          "metadata": {},
          "execution_count": 5
        }
      ],
      "source": [
        "pd.set_option('display.max_colwidth', None)\n",
        "df.iloc[591524:591529]"
      ]
    },
    {
      "source": [
        "Found untranslated sentence:"
      ],
      "cell_type": "markdown",
      "metadata": {}
    },
    {
      "source": [
        "contains_untranslated = df[df['romanian'].str.contains('Pursuant to this differentiation the Conference')]\n",
        "\n",
        "contains_small_difference = df[df['english'].str.contains('Recovery plan for bluefin tuna in the Eastern')]\n"
      ],
      "cell_type": "code",
      "metadata": {
        "id": "-OmT5Fy1EMrw"
      },
      "execution_count": 6,
      "outputs": []
    },
    {
      "source": [
        "Example of freely translated sentence:"
      ],
      "cell_type": "markdown",
      "metadata": {}
    },
    {
      "cell_type": "code",
      "metadata": {
        "colab": {
          "base_uri": "https://localhost:8080/",
          "height": 98
        },
        "id": "6ioPd4bbJeoY",
        "outputId": "a65eb256-2780-4d13-8b50-7375de88f0f4"
      },
      "source": [
        "contains_freely=train[train.iloc[:, 1].str.contains('joc de cuvinte')]\n",
        "contains_freely"
      ],
      "execution_count": 43,
      "outputs": [
        {
          "output_type": "execute_result",
          "data": {
            "text/plain": [
              "                                                                                                             english  \\\n",
              "71292  \"We \"\"pass\"\" arguments among ourselves, exchange views and experience in order to achieve a common \"\"goal\"\".\"   \n",
              "\n",
              "                                                                                                                                                                                                                 romanian  \n",
              "71292  Ne «pasăm» argumentele de la unul la altul, facem schimburi de opinii şi de experienţe pentru a obţine un «obiectiv» [joc de cuvinte în limba engleză, «goal» însemnând în acelaşi timp «obiectiv» şi «gol» n.r.].  "
            ],
            "text/html": "<div>\n<style scoped>\n    .dataframe tbody tr th:only-of-type {\n        vertical-align: middle;\n    }\n\n    .dataframe tbody tr th {\n        vertical-align: top;\n    }\n\n    .dataframe thead th {\n        text-align: right;\n    }\n</style>\n<table border=\"1\" class=\"dataframe\">\n  <thead>\n    <tr style=\"text-align: right;\">\n      <th></th>\n      <th>english</th>\n      <th>romanian</th>\n    </tr>\n  </thead>\n  <tbody>\n    <tr>\n      <th>71292</th>\n      <td>\"We \"\"pass\"\" arguments among ourselves, exchange views and experience in order to achieve a common \"\"goal\"\".\"</td>\n      <td>Ne «pasăm» argumentele de la unul la altul, facem schimburi de opinii şi de experienţe pentru a obţine un «obiectiv» [joc de cuvinte în limba engleză, «goal» însemnând în acelaşi timp «obiectiv» şi «gol» n.r.].</td>\n    </tr>\n  </tbody>\n</table>\n</div>"
          },
          "metadata": {},
          "execution_count": 43
        }
      ]
    },
    {
      "cell_type": "code",
      "execution_count": 7,
      "metadata": {},
      "outputs": [
        {
          "output_type": "execute_result",
          "data": {
            "text/plain": [
              "                                                                                    english  \\\n",
              "206974             Recovery plan for bluefin tuna in the Eastern Atlantic and Mediterranean   \n",
              "207329         Recovery plan for bluefin tuna in the Eastern Atlantic and the Mediterranean   \n",
              "207509  Recovery plan for bluefin tuna in the Eastern Atlantic and Mediterranean * (debate)   \n",
              "210136    Recovery plan for bluefin tuna in the Eastern Atlantic and Mediterranean * (vote)   \n",
              "212386       Recovery plan for bluefin tuna in the Eastern Atlantic and the Mediterranean *   \n",
              "\n",
              "                                                                                                   romanian  \n",
              "206974                Redresarea stocurilor de ton roşu din Oceanul Atlantic de Est şi din Marea Mediterană  \n",
              "207329                Redresarea stocurilor de ton roşu din Oceanul Atlantic de Est şi din Marea Mediterană  \n",
              "207509  Redresarea stocurilor de ton roşu din Oceanul Atlantic de Est şi din Marea Mediterană * (dezbatere)  \n",
              "210136        Redresarea stocurilor de ton roşu din Oceanul Atlantic de Est şi din Marea Mediterană * (vot)  \n",
              "212386              Redresarea stocurilor de ton roşu din Oceanul Atlantic de Est şi din Marea Mediterană *  "
            ],
            "text/html": "<div>\n<style scoped>\n    .dataframe tbody tr th:only-of-type {\n        vertical-align: middle;\n    }\n\n    .dataframe tbody tr th {\n        vertical-align: top;\n    }\n\n    .dataframe thead th {\n        text-align: right;\n    }\n</style>\n<table border=\"1\" class=\"dataframe\">\n  <thead>\n    <tr style=\"text-align: right;\">\n      <th></th>\n      <th>english</th>\n      <th>romanian</th>\n    </tr>\n  </thead>\n  <tbody>\n    <tr>\n      <th>206974</th>\n      <td>Recovery plan for bluefin tuna in the Eastern Atlantic and Mediterranean</td>\n      <td>Redresarea stocurilor de ton roşu din Oceanul Atlantic de Est şi din Marea Mediterană</td>\n    </tr>\n    <tr>\n      <th>207329</th>\n      <td>Recovery plan for bluefin tuna in the Eastern Atlantic and the Mediterranean</td>\n      <td>Redresarea stocurilor de ton roşu din Oceanul Atlantic de Est şi din Marea Mediterană</td>\n    </tr>\n    <tr>\n      <th>207509</th>\n      <td>Recovery plan for bluefin tuna in the Eastern Atlantic and Mediterranean * (debate)</td>\n      <td>Redresarea stocurilor de ton roşu din Oceanul Atlantic de Est şi din Marea Mediterană * (dezbatere)</td>\n    </tr>\n    <tr>\n      <th>210136</th>\n      <td>Recovery plan for bluefin tuna in the Eastern Atlantic and Mediterranean * (vote)</td>\n      <td>Redresarea stocurilor de ton roşu din Oceanul Atlantic de Est şi din Marea Mediterană * (vot)</td>\n    </tr>\n    <tr>\n      <th>212386</th>\n      <td>Recovery plan for bluefin tuna in the Eastern Atlantic and the Mediterranean *</td>\n      <td>Redresarea stocurilor de ton roşu din Oceanul Atlantic de Est şi din Marea Mediterană *</td>\n    </tr>\n  </tbody>\n</table>\n</div>"
          },
          "metadata": {},
          "execution_count": 7
        }
      ],
      "source": [
        "contains_small_difference"
      ]
    },
    {
      "source": [
        "If we remove also alternative translations we are left with 787895 sentence pairs"
      ],
      "cell_type": "markdown",
      "metadata": {}
    },
    {
      "cell_type": "code",
      "metadata": {
        "colab": {
          "base_uri": "https://localhost:8080/"
        },
        "id": "_GI8zVt1xDMO",
        "outputId": "ac406bd5-a7a4-4f26-a93e-7e940f89ecdb"
      },
      "source": [
        "df_no_ro_alternative=df.drop_duplicates(subset='english')\n",
        "\n",
        "see=df_no_ro_alternative[df_no_ro_alternative.duplicated(subset=\"romanian\", keep=False)]\n",
        "grouped=see.groupby(\"romanian\").size().reset_index(name=\"counts\").sort_values(['counts'], ascending=True)"
      ],
      "execution_count": 10,
      "outputs": []
    },
    {
      "cell_type": "code",
      "execution_count": 11,
      "metadata": {},
      "outputs": [
        {
          "output_type": "execute_result",
          "data": {
            "text/plain": [
              "                                                                                   english  \\\n",
              "250  2009 would be an extremely difficult year for the citizens and economies of eurozone.   \n",
              "251                                                                     Collective redress   \n",
              "252                                                           Seeking justice collectively   \n",
              "253                              Redirecting EU funds to help create jobs for young people   \n",
              "254        Plan to redirect regional funds to create jobs could undermine trust, MEPs warn   \n",
              "255               Recovery plan for bluefin tuna in the Eastern Atlantic and Mediterranean   \n",
              "256           Recovery plan for bluefin tuna in the Eastern Atlantic and the Mediterranean   \n",
              "257                                                                     Citation 1 a (new)   \n",
              "258                                                                      Citation 1a (new)   \n",
              "\n",
              "                                                                                                                                                                                                         romanian  \\\n",
              "250  Recunoscând succesul incontestabil al monedei unice, preşedintele Eurogroup a arătat că adevăratul test de coeziune urmează, 2009 fiind un an extrem de dificil pentru cetăţeni şi economiile din zona euro.   \n",
              "251                                                                                                                                                                                           Recursuri colective   \n",
              "252                                                                                                                                                                                           Recursuri colective   \n",
              "253                                                                                                                                 Redirecționarea fondurilor UE pentru crearea de locuri de muncă pentru tineri   \n",
              "254                                                                                                                                 Redirecționarea fondurilor UE pentru crearea de locuri de muncă pentru tineri   \n",
              "255                                                                                                                         Redresarea stocurilor de ton roşu din Oceanul Atlantic de Est şi din Marea Mediterană   \n",
              "256                                                                                                                         Redresarea stocurilor de ton roşu din Oceanul Atlantic de Est şi din Marea Mediterană   \n",
              "257                                                                                                                                                                                           Referirea 1a (nouă)   \n",
              "258                                                                                                                                                                                           Referirea 1a (nouă)   \n",
              "\n",
              "     counts  \n",
              "250       2  \n",
              "251       2  \n",
              "252       2  \n",
              "253       2  \n",
              "254       2  \n",
              "255       2  \n",
              "256       2  \n",
              "257       2  \n",
              "258       2  "
            ],
            "text/html": "<div>\n<style scoped>\n    .dataframe tbody tr th:only-of-type {\n        vertical-align: middle;\n    }\n\n    .dataframe tbody tr th {\n        vertical-align: top;\n    }\n\n    .dataframe thead th {\n        text-align: right;\n    }\n</style>\n<table border=\"1\" class=\"dataframe\">\n  <thead>\n    <tr style=\"text-align: right;\">\n      <th></th>\n      <th>english</th>\n      <th>romanian</th>\n      <th>counts</th>\n    </tr>\n  </thead>\n  <tbody>\n    <tr>\n      <th>250</th>\n      <td>2009 would be an extremely difficult year for the citizens and economies of eurozone.</td>\n      <td>Recunoscând succesul incontestabil al monedei unice, preşedintele Eurogroup a arătat că adevăratul test de coeziune urmează, 2009 fiind un an extrem de dificil pentru cetăţeni şi economiile din zona euro.</td>\n      <td>2</td>\n    </tr>\n    <tr>\n      <th>251</th>\n      <td>Collective redress</td>\n      <td>Recursuri colective</td>\n      <td>2</td>\n    </tr>\n    <tr>\n      <th>252</th>\n      <td>Seeking justice collectively</td>\n      <td>Recursuri colective</td>\n      <td>2</td>\n    </tr>\n    <tr>\n      <th>253</th>\n      <td>Redirecting EU funds to help create jobs for young people</td>\n      <td>Redirecționarea fondurilor UE pentru crearea de locuri de muncă pentru tineri</td>\n      <td>2</td>\n    </tr>\n    <tr>\n      <th>254</th>\n      <td>Plan to redirect regional funds to create jobs could undermine trust, MEPs warn</td>\n      <td>Redirecționarea fondurilor UE pentru crearea de locuri de muncă pentru tineri</td>\n      <td>2</td>\n    </tr>\n    <tr>\n      <th>255</th>\n      <td>Recovery plan for bluefin tuna in the Eastern Atlantic and Mediterranean</td>\n      <td>Redresarea stocurilor de ton roşu din Oceanul Atlantic de Est şi din Marea Mediterană</td>\n      <td>2</td>\n    </tr>\n    <tr>\n      <th>256</th>\n      <td>Recovery plan for bluefin tuna in the Eastern Atlantic and the Mediterranean</td>\n      <td>Redresarea stocurilor de ton roşu din Oceanul Atlantic de Est şi din Marea Mediterană</td>\n      <td>2</td>\n    </tr>\n    <tr>\n      <th>257</th>\n      <td>Citation 1 a (new)</td>\n      <td>Referirea 1a (nouă)</td>\n      <td>2</td>\n    </tr>\n    <tr>\n      <th>258</th>\n      <td>Citation 1a (new)</td>\n      <td>Referirea 1a (nouă)</td>\n      <td>2</td>\n    </tr>\n  </tbody>\n</table>\n</div>"
          },
          "metadata": {},
          "execution_count": 11
        }
      ],
      "source": [
        "#examples of romanian duplicate sentences\n",
        "df.merge(grouped, how=\"right\").iloc[250:259]"
      ]
    },
    {
      "cell_type": "code",
      "metadata": {
        "colab": {
          "base_uri": "https://localhost:8080/"
        },
        "id": "iU4IV6oUMe8S",
        "outputId": "1358282e-44ee-44b2-d93e-35bf1887869a"
      },
      "source": [
        "#df_no_en_alternative=df.drop_duplicates(subset='romanian')\n",
        "#df_no_en_alternative.shape\n",
        "\n",
        "df_no_alternatives=df_no_ro_alternative.drop_duplicates(subset='romanian')\n",
        "df_no_alternatives.shape"
      ],
      "execution_count": 12,
      "outputs": [
        {
          "output_type": "execute_result",
          "data": {
            "text/plain": [
              "(787895, 2)"
            ]
          },
          "metadata": {},
          "execution_count": 12
        }
      ]
    },
    {
      "cell_type": "code",
      "execution_count": 13,
      "metadata": {},
      "outputs": [],
      "source": [
        "df=df_no_alternatives\n",
        "#keep the index and add flag --scol and --tcol to bicleaner \n",
        "df.to_csv(os.path.join(os.pardir,\"/data/02-preprocessed/bisentences_787895.txt\"), header=False, sep=\"\\t\")"
      ]
    },
    {
      "source": [
        "## here, we use the bicleaner tool to apply some more rules on the just generated bisentences_787895.txt"
      ],
      "cell_type": "markdown",
      "metadata": {}
    },
    {
      "source": [
        "run <code> bicleaner-hardrules /path/to/bisentences_787895.txt -s en -t ro --annotated_output --disable_minimal_length --scol 2 --tcol 3 > annotated_bisentences_787895.txt </code> in terminal because it does not work from jupyter, because only build-in python kernel work and bicleaner needs another python"
      ],
      "cell_type": "markdown",
      "metadata": {}
    },
    {
      "cell_type": "code",
      "execution_count": 38,
      "metadata": {},
      "outputs": [
        {
          "output_type": "execute_result",
          "data": {
            "text/plain": [
              "                                                                                                                                                                                                                  english  \\\n",
              "0                                                                                                                                                                                                 ORAL QUESTION H-0336/07   \n",
              "1                                                                                                                                                                       for Question Time at the part-session in May 2007   \n",
              "2                                                                                                                                                                          pursuant to Rule 109 of the Rules of Procedure   \n",
              "3                                                                                                                                                                                                                      by   \n",
              "4                                                                                                                                                                                                   Roberta Alma Anastase   \n",
              "...                                                                                                                                                                                                                   ...   \n",
              "2668799                                                                         Calls on the Commission to take into consideration the results of any studies on the effects of this programme on children's development;   \n",
              "2668801  Instructs its President to forward this declaration, together with the names of the signatories The list of signatories is published in Annex 3 to the Minutes of 15 March 2012 ( P7_PV-PROV(2012)03-15(ANN3) ).   \n",
              "2668802                                                                                                                                                  , to the Commission and to the Parliaments of the Member States.   \n",
              "2668803                                                                                                                                                                                          The Week : 01-01-2004(s)   \n",
              "2668807                                                                                                                                                                                          The Week : 01-01-2005(s)   \n",
              "\n",
              "                                                                                                                                                                                                                            romanian  \\\n",
              "0                                                                                                                                                                                                          ÎNTREBARE ORALĂ H-0336/07   \n",
              "1                                                                                                                                                                pentru timpul afectat întrebărilor din perioada de sesiune mai 2007   \n",
              "2                                                                                                                                                                     în conformitate cu articolul 109 din Regulamentul de procedură   \n",
              "3                                                                                                                                                                                                                                 de   \n",
              "4                                                                                                                                                                                                              Roberta Alma Anastase   \n",
              "...                                                                                                                                                                                                                              ...   \n",
              "2668799                                                                                  invită Comisia să ia în considerare rezultatele studiilor disponibile, referitoare la efectele acestui program asupra dezvoltării copiilor;   \n",
              "2668801  încredințează Președintelui sarcina de a transmite prezenta declarație, însoțită de numele semnatarilor Lista semnatarilor este publicată în anexa 3 la procesul-verbal din 15 martie 2012 ( P7_PV-PROV(2012)03-15(ANN3) ).   \n",
              "2668802                                                                                                                                                                                 , Comisiei și parlamentelor statelor membre.   \n",
              "2668803                                                                                                                                                                                              \"\"\"Săptămâna\"\" : 01-01-2004(s)\"   \n",
              "2668807                                                                                                                                                                                              \"\"\"Săptămâna\"\" : 01-01-2005(s)\"   \n",
              "\n",
              "         yesno                  reason  \n",
              "0            1                    keep  \n",
              "1            1                    keep  \n",
              "2            1                    keep  \n",
              "3            1                    keep  \n",
              "4            0             c_identical  \n",
              "...        ...                     ...  \n",
              "2668799      1                    keep  \n",
              "2668801      1                    keep  \n",
              "2668802      1                    keep  \n",
              "2668803      0  c_majority_alpha(left)  \n",
              "2668807      0  c_majority_alpha(left)  \n",
              "\n",
              "[787895 rows x 4 columns]"
            ],
            "text/html": "<div>\n<style scoped>\n    .dataframe tbody tr th:only-of-type {\n        vertical-align: middle;\n    }\n\n    .dataframe tbody tr th {\n        vertical-align: top;\n    }\n\n    .dataframe thead th {\n        text-align: right;\n    }\n</style>\n<table border=\"1\" class=\"dataframe\">\n  <thead>\n    <tr style=\"text-align: right;\">\n      <th></th>\n      <th>english</th>\n      <th>romanian</th>\n      <th>yesno</th>\n      <th>reason</th>\n    </tr>\n  </thead>\n  <tbody>\n    <tr>\n      <th>0</th>\n      <td>ORAL QUESTION H-0336/07</td>\n      <td>ÎNTREBARE ORALĂ H-0336/07</td>\n      <td>1</td>\n      <td>keep</td>\n    </tr>\n    <tr>\n      <th>1</th>\n      <td>for Question Time at the part-session in May 2007</td>\n      <td>pentru timpul afectat întrebărilor din perioada de sesiune mai 2007</td>\n      <td>1</td>\n      <td>keep</td>\n    </tr>\n    <tr>\n      <th>2</th>\n      <td>pursuant to Rule 109 of the Rules of Procedure</td>\n      <td>în conformitate cu articolul 109 din Regulamentul de procedură</td>\n      <td>1</td>\n      <td>keep</td>\n    </tr>\n    <tr>\n      <th>3</th>\n      <td>by</td>\n      <td>de</td>\n      <td>1</td>\n      <td>keep</td>\n    </tr>\n    <tr>\n      <th>4</th>\n      <td>Roberta Alma Anastase</td>\n      <td>Roberta Alma Anastase</td>\n      <td>0</td>\n      <td>c_identical</td>\n    </tr>\n    <tr>\n      <th>...</th>\n      <td>...</td>\n      <td>...</td>\n      <td>...</td>\n      <td>...</td>\n    </tr>\n    <tr>\n      <th>2668799</th>\n      <td>Calls on the Commission to take into consideration the results of any studies on the effects of this programme on children's development;</td>\n      <td>invită Comisia să ia în considerare rezultatele studiilor disponibile, referitoare la efectele acestui program asupra dezvoltării copiilor;</td>\n      <td>1</td>\n      <td>keep</td>\n    </tr>\n    <tr>\n      <th>2668801</th>\n      <td>Instructs its President to forward this declaration, together with the names of the signatories The list of signatories is published in Annex 3 to the Minutes of 15 March 2012 ( P7_PV-PROV(2012)03-15(ANN3) ).</td>\n      <td>încredințează Președintelui sarcina de a transmite prezenta declarație, însoțită de numele semnatarilor Lista semnatarilor este publicată în anexa 3 la procesul-verbal din 15 martie 2012 ( P7_PV-PROV(2012)03-15(ANN3) ).</td>\n      <td>1</td>\n      <td>keep</td>\n    </tr>\n    <tr>\n      <th>2668802</th>\n      <td>, to the Commission and to the Parliaments of the Member States.</td>\n      <td>, Comisiei și parlamentelor statelor membre.</td>\n      <td>1</td>\n      <td>keep</td>\n    </tr>\n    <tr>\n      <th>2668803</th>\n      <td>The Week : 01-01-2004(s)</td>\n      <td>\"\"\"Săptămâna\"\" : 01-01-2004(s)\"</td>\n      <td>0</td>\n      <td>c_majority_alpha(left)</td>\n    </tr>\n    <tr>\n      <th>2668807</th>\n      <td>The Week : 01-01-2005(s)</td>\n      <td>\"\"\"Săptămâna\"\" : 01-01-2005(s)\"</td>\n      <td>0</td>\n      <td>c_majority_alpha(left)</td>\n    </tr>\n  </tbody>\n</table>\n<p>787895 rows × 4 columns</p>\n</div>"
          },
          "metadata": {},
          "execution_count": 38
        }
      ],
      "source": [
        "df_annotated=pd.read_csv(os.path.join(os.pardir,\"data/02-preprocessed/annotated_bisentences_787895.txt\"), sep=\"\\t\", names=['english', 'romanian', 'yesno', 'reason'], quoting=3)\n",
        "df_annotated"
      ]
    },
    {
      "cell_type": "code",
      "execution_count": 39,
      "metadata": {},
      "outputs": [
        {
          "output_type": "execute_result",
          "data": {
            "text/plain": [
              "    yesno  \\\n",
              "28      1   \n",
              "2       0   \n",
              "6       0   \n",
              "5       0   \n",
              "1       0   \n",
              "22      0   \n",
              "25      0   \n",
              "8       0   \n",
              "3       0   \n",
              "4       0   \n",
              "15      0   \n",
              "19      0   \n",
              "21      0   \n",
              "26      0   \n",
              "7       0   \n",
              "27      0   \n",
              "16      0   \n",
              "12      0   \n",
              "17      0   \n",
              "18      0   \n",
              "9       0   \n",
              "20      0   \n",
              "10      0   \n",
              "13      0   \n",
              "23      0   \n",
              "14      0   \n",
              "0       0   \n",
              "24      0   \n",
              "11      0   \n",
              "\n",
              "                                                                     reason  \\\n",
              "28                                                                     keep   \n",
              "2                                                               c_identical   \n",
              "6                                                    c_majority_alpha(left)   \n",
              "5                                                c_length or c_length_bytes   \n",
              "1                                                      c_different_language   \n",
              "22                              c_reliable_long_language(right, targetlang)   \n",
              "25                                       left.istitle() and right.istitle()   \n",
              "8                                                   c_no_breadcrumbs1(left)   \n",
              "3                                                     c_identical_wo_digits   \n",
              "4                                                      c_identical_wo_punct   \n",
              "15                                                         c_no_paren(left)   \n",
              "19                                                          c_no_urls(left)   \n",
              "21                               c_reliable_long_language(left, sourcelang)   \n",
              "26                                                        len(left) >= 1024   \n",
              "7                                                   c_majority_alpha(right)   \n",
              "27                                                       len(right) >= 1024   \n",
              "16                                                        c_no_paren(right)   \n",
              "12                                                   c_no_glued_words(left)   \n",
              "17                                                   c_no_space_noise(left)   \n",
              "18                                                  c_no_space_noise(right)   \n",
              "9                                                  c_no_breadcrumbs1(right)   \n",
              "20                                                         c_no_urls(right)   \n",
              "10                                                  c_no_breadcrumbs2(left)   \n",
              "13                                                  c_no_glued_words(right)   \n",
              "23                                                         c_unwanted(left)   \n",
              "14                                             c_no_literals(['Re:'], left)   \n",
              "0   args.source_lang in safe_noise_detection_langs and not c_no_noise(left)   \n",
              "24                                                        c_unwanted(right)   \n",
              "11                                                 c_no_breadcrumbs2(right)   \n",
              "\n",
              "     count  \n",
              "28  574034  \n",
              "2   131687  \n",
              "6    23505  \n",
              "5    14810  \n",
              "1    10774  \n",
              "22    7035  \n",
              "25    6746  \n",
              "8     4913  \n",
              "3     3644  \n",
              "4     1838  \n",
              "15    1647  \n",
              "19    1403  \n",
              "21    1347  \n",
              "26    1132  \n",
              "7     1020  \n",
              "27     689  \n",
              "16     387  \n",
              "12     382  \n",
              "17     296  \n",
              "18     257  \n",
              "9      224  \n",
              "20      80  \n",
              "10      16  \n",
              "13      12  \n",
              "23       6  \n",
              "14       4  \n",
              "0        3  \n",
              "24       2  \n",
              "11       2  "
            ],
            "text/html": "<div>\n<style scoped>\n    .dataframe tbody tr th:only-of-type {\n        vertical-align: middle;\n    }\n\n    .dataframe tbody tr th {\n        vertical-align: top;\n    }\n\n    .dataframe thead th {\n        text-align: right;\n    }\n</style>\n<table border=\"1\" class=\"dataframe\">\n  <thead>\n    <tr style=\"text-align: right;\">\n      <th></th>\n      <th>yesno</th>\n      <th>reason</th>\n      <th>count</th>\n    </tr>\n  </thead>\n  <tbody>\n    <tr>\n      <th>28</th>\n      <td>1</td>\n      <td>keep</td>\n      <td>574034</td>\n    </tr>\n    <tr>\n      <th>2</th>\n      <td>0</td>\n      <td>c_identical</td>\n      <td>131687</td>\n    </tr>\n    <tr>\n      <th>6</th>\n      <td>0</td>\n      <td>c_majority_alpha(left)</td>\n      <td>23505</td>\n    </tr>\n    <tr>\n      <th>5</th>\n      <td>0</td>\n      <td>c_length or c_length_bytes</td>\n      <td>14810</td>\n    </tr>\n    <tr>\n      <th>1</th>\n      <td>0</td>\n      <td>c_different_language</td>\n      <td>10774</td>\n    </tr>\n    <tr>\n      <th>22</th>\n      <td>0</td>\n      <td>c_reliable_long_language(right, targetlang)</td>\n      <td>7035</td>\n    </tr>\n    <tr>\n      <th>25</th>\n      <td>0</td>\n      <td>left.istitle() and right.istitle()</td>\n      <td>6746</td>\n    </tr>\n    <tr>\n      <th>8</th>\n      <td>0</td>\n      <td>c_no_breadcrumbs1(left)</td>\n      <td>4913</td>\n    </tr>\n    <tr>\n      <th>3</th>\n      <td>0</td>\n      <td>c_identical_wo_digits</td>\n      <td>3644</td>\n    </tr>\n    <tr>\n      <th>4</th>\n      <td>0</td>\n      <td>c_identical_wo_punct</td>\n      <td>1838</td>\n    </tr>\n    <tr>\n      <th>15</th>\n      <td>0</td>\n      <td>c_no_paren(left)</td>\n      <td>1647</td>\n    </tr>\n    <tr>\n      <th>19</th>\n      <td>0</td>\n      <td>c_no_urls(left)</td>\n      <td>1403</td>\n    </tr>\n    <tr>\n      <th>21</th>\n      <td>0</td>\n      <td>c_reliable_long_language(left, sourcelang)</td>\n      <td>1347</td>\n    </tr>\n    <tr>\n      <th>26</th>\n      <td>0</td>\n      <td>len(left) &gt;= 1024</td>\n      <td>1132</td>\n    </tr>\n    <tr>\n      <th>7</th>\n      <td>0</td>\n      <td>c_majority_alpha(right)</td>\n      <td>1020</td>\n    </tr>\n    <tr>\n      <th>27</th>\n      <td>0</td>\n      <td>len(right) &gt;= 1024</td>\n      <td>689</td>\n    </tr>\n    <tr>\n      <th>16</th>\n      <td>0</td>\n      <td>c_no_paren(right)</td>\n      <td>387</td>\n    </tr>\n    <tr>\n      <th>12</th>\n      <td>0</td>\n      <td>c_no_glued_words(left)</td>\n      <td>382</td>\n    </tr>\n    <tr>\n      <th>17</th>\n      <td>0</td>\n      <td>c_no_space_noise(left)</td>\n      <td>296</td>\n    </tr>\n    <tr>\n      <th>18</th>\n      <td>0</td>\n      <td>c_no_space_noise(right)</td>\n      <td>257</td>\n    </tr>\n    <tr>\n      <th>9</th>\n      <td>0</td>\n      <td>c_no_breadcrumbs1(right)</td>\n      <td>224</td>\n    </tr>\n    <tr>\n      <th>20</th>\n      <td>0</td>\n      <td>c_no_urls(right)</td>\n      <td>80</td>\n    </tr>\n    <tr>\n      <th>10</th>\n      <td>0</td>\n      <td>c_no_breadcrumbs2(left)</td>\n      <td>16</td>\n    </tr>\n    <tr>\n      <th>13</th>\n      <td>0</td>\n      <td>c_no_glued_words(right)</td>\n      <td>12</td>\n    </tr>\n    <tr>\n      <th>23</th>\n      <td>0</td>\n      <td>c_unwanted(left)</td>\n      <td>6</td>\n    </tr>\n    <tr>\n      <th>14</th>\n      <td>0</td>\n      <td>c_no_literals(['Re:'], left)</td>\n      <td>4</td>\n    </tr>\n    <tr>\n      <th>0</th>\n      <td>0</td>\n      <td>args.source_lang in safe_noise_detection_langs and not c_no_noise(left)</td>\n      <td>3</td>\n    </tr>\n    <tr>\n      <th>24</th>\n      <td>0</td>\n      <td>c_unwanted(right)</td>\n      <td>2</td>\n    </tr>\n    <tr>\n      <th>11</th>\n      <td>0</td>\n      <td>c_no_breadcrumbs2(right)</td>\n      <td>2</td>\n    </tr>\n  </tbody>\n</table>\n</div>"
          },
          "metadata": {},
          "execution_count": 39
        }
      ],
      "source": [
        "df_reason=df_annotated.groupby(['yesno', 'reason'])['english'].count().reset_index(name='count') \\\n",
        "                             .sort_values(['count'], ascending=False)\n",
        "\n",
        "df_reason"
      ]
    },
    {
      "cell_type": "code",
      "execution_count": 40,
      "metadata": {},
      "outputs": [
        {
          "output_type": "execute_result",
          "data": {
            "text/plain": [
              "                                                     english  \\\n",
              "1213208                                          Re: Content   \n",
              "2439866  Re: Financing of the European Microfinance Facility   \n",
              "\n",
              "                                                              romanian  yesno  \\\n",
              "1213208                                                    Re: Content      0   \n",
              "2439866  Subiect: Finanțarea instrumentului european de microfinanțare      0   \n",
              "\n",
              "                               reason  \n",
              "1213208  c_no_literals(['Re:'], left)  \n",
              "2439866  c_no_literals(['Re:'], left)  "
            ],
            "text/html": "<div>\n<style scoped>\n    .dataframe tbody tr th:only-of-type {\n        vertical-align: middle;\n    }\n\n    .dataframe tbody tr th {\n        vertical-align: top;\n    }\n\n    .dataframe thead th {\n        text-align: right;\n    }\n</style>\n<table border=\"1\" class=\"dataframe\">\n  <thead>\n    <tr style=\"text-align: right;\">\n      <th></th>\n      <th>english</th>\n      <th>romanian</th>\n      <th>yesno</th>\n      <th>reason</th>\n    </tr>\n  </thead>\n  <tbody>\n    <tr>\n      <th>1213208</th>\n      <td>Re: Content</td>\n      <td>Re: Content</td>\n      <td>0</td>\n      <td>c_no_literals(['Re:'], left)</td>\n    </tr>\n    <tr>\n      <th>2439866</th>\n      <td>Re: Financing of the European Microfinance Facility</td>\n      <td>Subiect: Finanțarea instrumentului european de microfinanțare</td>\n      <td>0</td>\n      <td>c_no_literals(['Re:'], left)</td>\n    </tr>\n  </tbody>\n</table>\n</div>"
          },
          "metadata": {},
          "execution_count": 40
        }
      ],
      "source": [
        "pd.set_option('display.max_colwidth', None)\n",
        "#replace the string with another reason string to sample examples of matched sentences\n",
        "samples=df_annotated.loc[df_annotated['reason']=='c_no_literals([\\'Re:\\'], left)']\n",
        "samples.sample(n=2)"
      ]
    },
    {
      "cell_type": "code",
      "execution_count": 87,
      "metadata": {},
      "outputs": [
        {
          "output_type": "execute_result",
          "data": {
            "text/plain": [
              "                                                                                                                                                                                                                                             english  \\\n",
              "56894                                                                                                - Report on gender mainstreaming in the work of the committees ( 2005/2149(INI) ) - FEMM Committee - Rapporteur: Anna Záborská ( A6-0478/2006 )   \n",
              "56896                                                                                   - Report on European Road Safety Action Programme - mid-term review ( 2006/2112(INI) ) - TRAN Committee - Rapporteur: Ewa Hedkvist Petersen ( A6-0449/2006 )   \n",
              "56897    - Report on the Council's Seventh and Eighth Annual Reports according to Operative Provision 8 of the European Union Code of Conduct on Arms Exports ( 2006/2068(INI) ) - AFET Committee - Rapporteur: Raül Romeva i Rueda ( A6-0439/2006 )   \n",
              "56898                                                                  - Report with recommendations to the Commission on the European private company statute ( 2006/2013(INI) ) - JURI Committee - Rapporteur: Klaus-Heiner Lehne ( A6-0434/2006 )   \n",
              "56906                                                                                                                                                                                          - Michał Tomasz Kamiński, on behalf of the UEN Group.   \n",
              "...                                                                                                                                                                                                                                              ...   \n",
              "1105420                                                                                                                                                                              - Quality management for European Statistics ( 2011/2289(INI) )   \n",
              "1105425                                                                                                                                                               - Women in Political Decision Making - quality and equality ( 2011/2295(INI) )   \n",
              "1105432                                                                                                                                              - The small scale and artisanal fisheries and the CFP reform ( 2011/2292(INI) ) (opinion: DEVE)   \n",
              "1105433                                                          - Reporting obligations under Regulation (EC) No 2371/2002 on the conservation and sustainable exploitation of fisheries resources under the CFP ( 2011/2291(INI) ) (opinion: ENVI)   \n",
              "1105434                                                                                                                 - The reform of the Common Fisheries Policy - Overarching Communication ( 2011/2290(INI) ) (opinion: DEVE, ENVI, EMPL, REGI)   \n",
              "\n",
              "                                                                                                                                                                                                                                                                                      romanian  \\\n",
              "56894                                                                                              - Acest titlu nu este încă disponibil în toate limbile: Report on gender mainstreaming in the work of the committees ( 2005/2149(INI) ) - FEMM - Raportoare: Anna Záborská ( A6-0478/2006 )   \n",
              "56896                                                                                 - Acest titlu nu este încă disponibil în toate limbile: Report on European Road Safety Action Programme - mid-term review ( 2006/2112(INI) ) - TRAN - Raportoare: Ewa Hedkvist Petersen ( A6-0449/2006 )   \n",
              "56897    - Acest titlu nu este încă disponibil în toate limbile: Report on the Council's Seventh and Eighth Annual Reports according to Operative Provision 8 of the European Union Code of Conduct on Arms Exports ( 2006/2068(INI) ) - AFET - Raportor: Raül Romeva i Rueda ( A6-0439/2006 )   \n",
              "56898                                                                  - Acest titlu nu este încă disponibil în toate limbile: Report with recommendations to the Commission on the European private company statute ( 2006/2013(INI) ) - JURI - Raportor: Klaus-Heiner Lehne ( A6-0434/2006 )   \n",
              "56906                                                                                                                                                                                  - Acest titlu nu este încă disponibil în toate limbile: Michał Tomasz Kamiński, în numele grupului UEN.   \n",
              "...                                                                                                                                                                                                                                                                                        ...   \n",
              "1105420                                                                                                                                                                   - Acest titlu nu este încă disponibil în toate limbile Quality management for European Statistics ( 2011/2289(INI) )   \n",
              "1105425                                                                                                                                                    - Acest titlu nu este încă disponibil în toate limbile Women in Political Decision Making - quality and equality ( 2011/2295(INI) )   \n",
              "1105432                                                                                                                                      - Acest titlu nu este încă disponibil în toate limbile The small scale and artisanal fisheries and the CFP reform ( 2011/2292(INI) ) (aviz: DEVE)   \n",
              "1105433                                                  - Acest titlu nu este încă disponibil în toate limbile Reporting obligations under Regulation (EC) No 2371/2002 on the conservation and sustainable exploitation of fisheries resources under the CFP ( 2011/2291(INI) ) (aviz: ENVI)   \n",
              "1105434                                                                                                         - Acest titlu nu este încă disponibil în toate limbile The reform of the Common Fisheries Policy - Overarching Communication ( 2011/2290(INI) ) (aviz: DEVE, ENVI, EMPL, REGI)   \n",
              "\n",
              "         yesno                reason  \n",
              "56894        0  c_different_language  \n",
              "56896        0  c_different_language  \n",
              "56897        0  c_different_language  \n",
              "56898        0  c_different_language  \n",
              "56906        1                  keep  \n",
              "...        ...                   ...  \n",
              "1105420      1                  keep  \n",
              "1105425      1                  keep  \n",
              "1105432      0  c_different_language  \n",
              "1105433      0  c_different_language  \n",
              "1105434      0  c_different_language  \n",
              "\n",
              "[218 rows x 4 columns]"
            ],
            "text/html": "<div>\n<style scoped>\n    .dataframe tbody tr th:only-of-type {\n        vertical-align: middle;\n    }\n\n    .dataframe tbody tr th {\n        vertical-align: top;\n    }\n\n    .dataframe thead th {\n        text-align: right;\n    }\n</style>\n<table border=\"1\" class=\"dataframe\">\n  <thead>\n    <tr style=\"text-align: right;\">\n      <th></th>\n      <th>english</th>\n      <th>romanian</th>\n      <th>yesno</th>\n      <th>reason</th>\n    </tr>\n  </thead>\n  <tbody>\n    <tr>\n      <th>56894</th>\n      <td>- Report on gender mainstreaming in the work of the committees ( 2005/2149(INI) ) - FEMM Committee - Rapporteur: Anna Záborská ( A6-0478/2006 )</td>\n      <td>- Acest titlu nu este încă disponibil în toate limbile: Report on gender mainstreaming in the work of the committees ( 2005/2149(INI) ) - FEMM - Raportoare: Anna Záborská ( A6-0478/2006 )</td>\n      <td>0</td>\n      <td>c_different_language</td>\n    </tr>\n    <tr>\n      <th>56896</th>\n      <td>- Report on European Road Safety Action Programme - mid-term review ( 2006/2112(INI) ) - TRAN Committee - Rapporteur: Ewa Hedkvist Petersen ( A6-0449/2006 )</td>\n      <td>- Acest titlu nu este încă disponibil în toate limbile: Report on European Road Safety Action Programme - mid-term review ( 2006/2112(INI) ) - TRAN - Raportoare: Ewa Hedkvist Petersen ( A6-0449/2006 )</td>\n      <td>0</td>\n      <td>c_different_language</td>\n    </tr>\n    <tr>\n      <th>56897</th>\n      <td>- Report on the Council's Seventh and Eighth Annual Reports according to Operative Provision 8 of the European Union Code of Conduct on Arms Exports ( 2006/2068(INI) ) - AFET Committee - Rapporteur: Raül Romeva i Rueda ( A6-0439/2006 )</td>\n      <td>- Acest titlu nu este încă disponibil în toate limbile: Report on the Council's Seventh and Eighth Annual Reports according to Operative Provision 8 of the European Union Code of Conduct on Arms Exports ( 2006/2068(INI) ) - AFET - Raportor: Raül Romeva i Rueda ( A6-0439/2006 )</td>\n      <td>0</td>\n      <td>c_different_language</td>\n    </tr>\n    <tr>\n      <th>56898</th>\n      <td>- Report with recommendations to the Commission on the European private company statute ( 2006/2013(INI) ) - JURI Committee - Rapporteur: Klaus-Heiner Lehne ( A6-0434/2006 )</td>\n      <td>- Acest titlu nu este încă disponibil în toate limbile: Report with recommendations to the Commission on the European private company statute ( 2006/2013(INI) ) - JURI - Raportor: Klaus-Heiner Lehne ( A6-0434/2006 )</td>\n      <td>0</td>\n      <td>c_different_language</td>\n    </tr>\n    <tr>\n      <th>56906</th>\n      <td>- Michał Tomasz Kamiński, on behalf of the UEN Group.</td>\n      <td>- Acest titlu nu este încă disponibil în toate limbile: Michał Tomasz Kamiński, în numele grupului UEN.</td>\n      <td>1</td>\n      <td>keep</td>\n    </tr>\n    <tr>\n      <th>...</th>\n      <td>...</td>\n      <td>...</td>\n      <td>...</td>\n      <td>...</td>\n    </tr>\n    <tr>\n      <th>1105420</th>\n      <td>- Quality management for European Statistics ( 2011/2289(INI) )</td>\n      <td>- Acest titlu nu este încă disponibil în toate limbile Quality management for European Statistics ( 2011/2289(INI) )</td>\n      <td>1</td>\n      <td>keep</td>\n    </tr>\n    <tr>\n      <th>1105425</th>\n      <td>- Women in Political Decision Making - quality and equality ( 2011/2295(INI) )</td>\n      <td>- Acest titlu nu este încă disponibil în toate limbile Women in Political Decision Making - quality and equality ( 2011/2295(INI) )</td>\n      <td>1</td>\n      <td>keep</td>\n    </tr>\n    <tr>\n      <th>1105432</th>\n      <td>- The small scale and artisanal fisheries and the CFP reform ( 2011/2292(INI) ) (opinion: DEVE)</td>\n      <td>- Acest titlu nu este încă disponibil în toate limbile The small scale and artisanal fisheries and the CFP reform ( 2011/2292(INI) ) (aviz: DEVE)</td>\n      <td>0</td>\n      <td>c_different_language</td>\n    </tr>\n    <tr>\n      <th>1105433</th>\n      <td>- Reporting obligations under Regulation (EC) No 2371/2002 on the conservation and sustainable exploitation of fisheries resources under the CFP ( 2011/2291(INI) ) (opinion: ENVI)</td>\n      <td>- Acest titlu nu este încă disponibil în toate limbile Reporting obligations under Regulation (EC) No 2371/2002 on the conservation and sustainable exploitation of fisheries resources under the CFP ( 2011/2291(INI) ) (aviz: ENVI)</td>\n      <td>0</td>\n      <td>c_different_language</td>\n    </tr>\n    <tr>\n      <th>1105434</th>\n      <td>- The reform of the Common Fisheries Policy - Overarching Communication ( 2011/2290(INI) ) (opinion: DEVE, ENVI, EMPL, REGI)</td>\n      <td>- Acest titlu nu este încă disponibil în toate limbile The reform of the Common Fisheries Policy - Overarching Communication ( 2011/2290(INI) ) (aviz: DEVE, ENVI, EMPL, REGI)</td>\n      <td>0</td>\n      <td>c_different_language</td>\n    </tr>\n  </tbody>\n</table>\n<p>218 rows × 4 columns</p>\n</div>"
          },
          "metadata": {},
          "execution_count": 87
        }
      ],
      "source": [
        "title_not_available=df_annotated[df_annotated.iloc[:, 1].str.contains('Acest titlu nu este încă disponibil în toate limbile')]\n",
        "title_not_available"
      ]
    },
    {
      "cell_type": "code",
      "execution_count": 41,
      "metadata": {},
      "outputs": [
        {
          "output_type": "execute_result",
          "data": {
            "text/plain": [
              "                                                                                                                                                                                                                  english  \\\n",
              "0                                                                                                                                                                                                 ORAL QUESTION H-0336/07   \n",
              "1                                                                                                                                                                       for Question Time at the part-session in May 2007   \n",
              "2                                                                                                                                                                          pursuant to Rule 109 of the Rules of Procedure   \n",
              "3                                                                                                                                                                                                                      by   \n",
              "5                                                                                                                                                                                                          to the Council   \n",
              "...                                                                                                                                                                                                                   ...   \n",
              "2668795                                                   Calls on the Commission and the Member States to encourage the introduction of the programme ‘Chess in School’ in the educational systems of the Member States;   \n",
              "2668797                    Calls on the Commission, in its forthcoming communication on sport, to pay the necessary attention to the program ‘Chess in School’ and to ensure sufficient funding for it from 2012 onwards;   \n",
              "2668799                                                                         Calls on the Commission to take into consideration the results of any studies on the effects of this programme on children's development;   \n",
              "2668801  Instructs its President to forward this declaration, together with the names of the signatories The list of signatories is published in Annex 3 to the Minutes of 15 March 2012 ( P7_PV-PROV(2012)03-15(ANN3) ).   \n",
              "2668802                                                                                                                                                  , to the Commission and to the Parliaments of the Member States.   \n",
              "\n",
              "                                                                                                                                                                                                                            romanian  \\\n",
              "0                                                                                                                                                                                                          ÎNTREBARE ORALĂ H-0336/07   \n",
              "1                                                                                                                                                                pentru timpul afectat întrebărilor din perioada de sesiune mai 2007   \n",
              "2                                                                                                                                                                     în conformitate cu articolul 109 din Regulamentul de procedură   \n",
              "3                                                                                                                                                                                                                                 de   \n",
              "5                                                                                                                                                                                                                        Consiliului   \n",
              "...                                                                                                                                                                                                                              ...   \n",
              "2668795                                                                  invită Comisia și statele membre să încurajeze introducerea programului „șahul în instituțiile de învățământ” în sistemele educaționale din statele membre;   \n",
              "2668797                invită Comisia ca, în viitoarea sa comunicare privind sportul, să acorde atenția cuvenită programului „șahul în instituțiile de învățământ” și să asigure finanțarea suficientă a acestuia începând din 2012;   \n",
              "2668799                                                                                  invită Comisia să ia în considerare rezultatele studiilor disponibile, referitoare la efectele acestui program asupra dezvoltării copiilor;   \n",
              "2668801  încredințează Președintelui sarcina de a transmite prezenta declarație, însoțită de numele semnatarilor Lista semnatarilor este publicată în anexa 3 la procesul-verbal din 15 martie 2012 ( P7_PV-PROV(2012)03-15(ANN3) ).   \n",
              "2668802                                                                                                                                                                                 , Comisiei și parlamentelor statelor membre.   \n",
              "\n",
              "         yesno reason  \n",
              "0            1   keep  \n",
              "1            1   keep  \n",
              "2            1   keep  \n",
              "3            1   keep  \n",
              "5            1   keep  \n",
              "...        ...    ...  \n",
              "2668795      1   keep  \n",
              "2668797      1   keep  \n",
              "2668799      1   keep  \n",
              "2668801      1   keep  \n",
              "2668802      1   keep  \n",
              "\n",
              "[574034 rows x 4 columns]"
            ],
            "text/html": "<div>\n<style scoped>\n    .dataframe tbody tr th:only-of-type {\n        vertical-align: middle;\n    }\n\n    .dataframe tbody tr th {\n        vertical-align: top;\n    }\n\n    .dataframe thead th {\n        text-align: right;\n    }\n</style>\n<table border=\"1\" class=\"dataframe\">\n  <thead>\n    <tr style=\"text-align: right;\">\n      <th></th>\n      <th>english</th>\n      <th>romanian</th>\n      <th>yesno</th>\n      <th>reason</th>\n    </tr>\n  </thead>\n  <tbody>\n    <tr>\n      <th>0</th>\n      <td>ORAL QUESTION H-0336/07</td>\n      <td>ÎNTREBARE ORALĂ H-0336/07</td>\n      <td>1</td>\n      <td>keep</td>\n    </tr>\n    <tr>\n      <th>1</th>\n      <td>for Question Time at the part-session in May 2007</td>\n      <td>pentru timpul afectat întrebărilor din perioada de sesiune mai 2007</td>\n      <td>1</td>\n      <td>keep</td>\n    </tr>\n    <tr>\n      <th>2</th>\n      <td>pursuant to Rule 109 of the Rules of Procedure</td>\n      <td>în conformitate cu articolul 109 din Regulamentul de procedură</td>\n      <td>1</td>\n      <td>keep</td>\n    </tr>\n    <tr>\n      <th>3</th>\n      <td>by</td>\n      <td>de</td>\n      <td>1</td>\n      <td>keep</td>\n    </tr>\n    <tr>\n      <th>5</th>\n      <td>to the Council</td>\n      <td>Consiliului</td>\n      <td>1</td>\n      <td>keep</td>\n    </tr>\n    <tr>\n      <th>...</th>\n      <td>...</td>\n      <td>...</td>\n      <td>...</td>\n      <td>...</td>\n    </tr>\n    <tr>\n      <th>2668795</th>\n      <td>Calls on the Commission and the Member States to encourage the introduction of the programme ‘Chess in School’ in the educational systems of the Member States;</td>\n      <td>invită Comisia și statele membre să încurajeze introducerea programului „șahul în instituțiile de învățământ” în sistemele educaționale din statele membre;</td>\n      <td>1</td>\n      <td>keep</td>\n    </tr>\n    <tr>\n      <th>2668797</th>\n      <td>Calls on the Commission, in its forthcoming communication on sport, to pay the necessary attention to the program ‘Chess in School’ and to ensure sufficient funding for it from 2012 onwards;</td>\n      <td>invită Comisia ca, în viitoarea sa comunicare privind sportul, să acorde atenția cuvenită programului „șahul în instituțiile de învățământ” și să asigure finanțarea suficientă a acestuia începând din 2012;</td>\n      <td>1</td>\n      <td>keep</td>\n    </tr>\n    <tr>\n      <th>2668799</th>\n      <td>Calls on the Commission to take into consideration the results of any studies on the effects of this programme on children's development;</td>\n      <td>invită Comisia să ia în considerare rezultatele studiilor disponibile, referitoare la efectele acestui program asupra dezvoltării copiilor;</td>\n      <td>1</td>\n      <td>keep</td>\n    </tr>\n    <tr>\n      <th>2668801</th>\n      <td>Instructs its President to forward this declaration, together with the names of the signatories The list of signatories is published in Annex 3 to the Minutes of 15 March 2012 ( P7_PV-PROV(2012)03-15(ANN3) ).</td>\n      <td>încredințează Președintelui sarcina de a transmite prezenta declarație, însoțită de numele semnatarilor Lista semnatarilor este publicată în anexa 3 la procesul-verbal din 15 martie 2012 ( P7_PV-PROV(2012)03-15(ANN3) ).</td>\n      <td>1</td>\n      <td>keep</td>\n    </tr>\n    <tr>\n      <th>2668802</th>\n      <td>, to the Commission and to the Parliaments of the Member States.</td>\n      <td>, Comisiei și parlamentelor statelor membre.</td>\n      <td>1</td>\n      <td>keep</td>\n    </tr>\n  </tbody>\n</table>\n<p>574034 rows × 4 columns</p>\n</div>"
          },
          "metadata": {},
          "execution_count": 41
        }
      ],
      "source": [
        "df_keep=df_annotated.loc[df_annotated['reason']=='keep']\n",
        "df_keep"
      ]
    },
    {
      "cell_type": "code",
      "execution_count": 42,
      "metadata": {},
      "outputs": [
        {
          "output_type": "execute_result",
          "data": {
            "text/plain": [
              "                                                                                                                                                                                                                  english  \\\n",
              "0                                                                                                                                                                                                 ORAL QUESTION H-0336/07   \n",
              "1                                                                                                                                                                       for Question Time at the part-session in May 2007   \n",
              "2                                                                                                                                                                          pursuant to Rule 109 of the Rules of Procedure   \n",
              "3                                                                                                                                                                                                                      by   \n",
              "5                                                                                                                                                                                                          to the Council   \n",
              "...                                                                                                                                                                                                                   ...   \n",
              "2668795                                                   Calls on the Commission and the Member States to encourage the introduction of the programme ‘Chess in School’ in the educational systems of the Member States;   \n",
              "2668797                    Calls on the Commission, in its forthcoming communication on sport, to pay the necessary attention to the program ‘Chess in School’ and to ensure sufficient funding for it from 2012 onwards;   \n",
              "2668799                                                                         Calls on the Commission to take into consideration the results of any studies on the effects of this programme on children's development;   \n",
              "2668801  Instructs its President to forward this declaration, together with the names of the signatories The list of signatories is published in Annex 3 to the Minutes of 15 March 2012 ( P7_PV-PROV(2012)03-15(ANN3) ).   \n",
              "2668802                                                                                                                                                  , to the Commission and to the Parliaments of the Member States.   \n",
              "\n",
              "                                                                                                                                                                                                                            romanian  \n",
              "0                                                                                                                                                                                                          ÎNTREBARE ORALĂ H-0336/07  \n",
              "1                                                                                                                                                                pentru timpul afectat întrebărilor din perioada de sesiune mai 2007  \n",
              "2                                                                                                                                                                     în conformitate cu articolul 109 din Regulamentul de procedură  \n",
              "3                                                                                                                                                                                                                                 de  \n",
              "5                                                                                                                                                                                                                        Consiliului  \n",
              "...                                                                                                                                                                                                                              ...  \n",
              "2668795                                                                  invită Comisia și statele membre să încurajeze introducerea programului „șahul în instituțiile de învățământ” în sistemele educaționale din statele membre;  \n",
              "2668797                invită Comisia ca, în viitoarea sa comunicare privind sportul, să acorde atenția cuvenită programului „șahul în instituțiile de învățământ” și să asigure finanțarea suficientă a acestuia începând din 2012;  \n",
              "2668799                                                                                  invită Comisia să ia în considerare rezultatele studiilor disponibile, referitoare la efectele acestui program asupra dezvoltării copiilor;  \n",
              "2668801  încredințează Președintelui sarcina de a transmite prezenta declarație, însoțită de numele semnatarilor Lista semnatarilor este publicată în anexa 3 la procesul-verbal din 15 martie 2012 ( P7_PV-PROV(2012)03-15(ANN3) ).  \n",
              "2668802                                                                                                                                                                                 , Comisiei și parlamentelor statelor membre.  \n",
              "\n",
              "[574034 rows x 2 columns]"
            ],
            "text/html": "<div>\n<style scoped>\n    .dataframe tbody tr th:only-of-type {\n        vertical-align: middle;\n    }\n\n    .dataframe tbody tr th {\n        vertical-align: top;\n    }\n\n    .dataframe thead th {\n        text-align: right;\n    }\n</style>\n<table border=\"1\" class=\"dataframe\">\n  <thead>\n    <tr style=\"text-align: right;\">\n      <th></th>\n      <th>english</th>\n      <th>romanian</th>\n    </tr>\n  </thead>\n  <tbody>\n    <tr>\n      <th>0</th>\n      <td>ORAL QUESTION H-0336/07</td>\n      <td>ÎNTREBARE ORALĂ H-0336/07</td>\n    </tr>\n    <tr>\n      <th>1</th>\n      <td>for Question Time at the part-session in May 2007</td>\n      <td>pentru timpul afectat întrebărilor din perioada de sesiune mai 2007</td>\n    </tr>\n    <tr>\n      <th>2</th>\n      <td>pursuant to Rule 109 of the Rules of Procedure</td>\n      <td>în conformitate cu articolul 109 din Regulamentul de procedură</td>\n    </tr>\n    <tr>\n      <th>3</th>\n      <td>by</td>\n      <td>de</td>\n    </tr>\n    <tr>\n      <th>5</th>\n      <td>to the Council</td>\n      <td>Consiliului</td>\n    </tr>\n    <tr>\n      <th>...</th>\n      <td>...</td>\n      <td>...</td>\n    </tr>\n    <tr>\n      <th>2668795</th>\n      <td>Calls on the Commission and the Member States to encourage the introduction of the programme ‘Chess in School’ in the educational systems of the Member States;</td>\n      <td>invită Comisia și statele membre să încurajeze introducerea programului „șahul în instituțiile de învățământ” în sistemele educaționale din statele membre;</td>\n    </tr>\n    <tr>\n      <th>2668797</th>\n      <td>Calls on the Commission, in its forthcoming communication on sport, to pay the necessary attention to the program ‘Chess in School’ and to ensure sufficient funding for it from 2012 onwards;</td>\n      <td>invită Comisia ca, în viitoarea sa comunicare privind sportul, să acorde atenția cuvenită programului „șahul în instituțiile de învățământ” și să asigure finanțarea suficientă a acestuia începând din 2012;</td>\n    </tr>\n    <tr>\n      <th>2668799</th>\n      <td>Calls on the Commission to take into consideration the results of any studies on the effects of this programme on children's development;</td>\n      <td>invită Comisia să ia în considerare rezultatele studiilor disponibile, referitoare la efectele acestui program asupra dezvoltării copiilor;</td>\n    </tr>\n    <tr>\n      <th>2668801</th>\n      <td>Instructs its President to forward this declaration, together with the names of the signatories The list of signatories is published in Annex 3 to the Minutes of 15 March 2012 ( P7_PV-PROV(2012)03-15(ANN3) ).</td>\n      <td>încredințează Președintelui sarcina de a transmite prezenta declarație, însoțită de numele semnatarilor Lista semnatarilor este publicată în anexa 3 la procesul-verbal din 15 martie 2012 ( P7_PV-PROV(2012)03-15(ANN3) ).</td>\n    </tr>\n    <tr>\n      <th>2668802</th>\n      <td>, to the Commission and to the Parliaments of the Member States.</td>\n      <td>, Comisiei și parlamentelor statelor membre.</td>\n    </tr>\n  </tbody>\n</table>\n<p>574034 rows × 2 columns</p>\n</div>"
          },
          "metadata": {},
          "execution_count": 42
        }
      ],
      "source": [
        "df_keep=df_keep[[\"english\", \"romanian\"]]\n",
        "df_keep"
      ]
    },
    {
      "source": [
        "## Create a dev and a test set to use for both models"
      ],
      "cell_type": "markdown",
      "metadata": {}
    },
    {
      "cell_type": "code",
      "execution_count": 44,
      "metadata": {},
      "outputs": [],
      "source": [
        "#dev and test sets are created from the bicleaner cleaned set\n",
        "test=df_keep.sample(n=2000, random_state=42)\n",
        "temp_train=df_keep.drop(test.index)\n",
        "\n",
        "dev=temp_train.sample(n=2000, random_state=42)\n",
        "train=temp_train.drop(dev.index)"
      ]
    },
    {
      "cell_type": "code",
      "metadata": {
        "colab": {
          "base_uri": "https://localhost:8080/",
          "height": 432
        },
        "id": "JpOGCLEeUlrX",
        "outputId": "9bb2a3db-249d-4562-8721-cc6e082289f9"
      },
      "source": [
        "#checking some sample sentence pairs from dev and test\n",
        "checking=test.sample(n=10, random_state=42)\n",
        "checking"
      ],
      "execution_count": 45,
      "outputs": [
        {
          "output_type": "execute_result",
          "data": {
            "text/plain": [
              "                                                                                                                                                                                                                                                                                                                                         english  \\\n",
              "2013712                                                                                                                                                                              In a related field, DG TAXUD must be adequately staffed to be able to maintain a high level of ambition in the crucial fight against tax fraud and evasion.   \n",
              "1668135                                                                                                                                     Member States shall not provide incentives with regard to tyres below class C with respect to either fuel efficiency level or wet grip within the meaning of Annex I , Part s A and B respectively .   \n",
              "1779798                                                                                                                                                                                                                                                                                                              - the model of the EU logo,   \n",
              "2643878  Stresses that regional security is in the interests both of the EU and of the other actors in the area, namely the Russian Federation, China and the United States, which are all concerned about growing instability and radicalisation in the region as well as porous frontiers with Afghanistan and the resulting drug-trafficking;   \n",
              "2122792                                                                                                                                           What measures does the Commission intend to take to prevent discrimination against Romanians and ensure compliance by the Italian Government with Directive 2004/38/EC OJ L 158, 30.4.2004, p.   \n",
              "1741063                                                                                                                                                                                                        Since February 2008 she has been a Member of the CEAD Group (Coordination, Communication, Evaluation, Assurance and Development).   \n",
              "60065                                                                                                                                                                                                                                                                                                         Council and Commission statements:   \n",
              "1901989                                                                                                                                                                    (i) where applicable, the existence and the conditions of deposits or other financial guarantees to be paid or provided by the consumer at the request of the trader;   \n",
              "1908304                                                                                                                                                                                                                                                                                                                  Section 2Powers of ESMA   \n",
              "2548431                                                                                                                                           Welcomes the Agency's initiative to revise its budgetary procedures and associated financial circuits, to designate authorising officers and invest in staff training on financial management;   \n",
              "\n",
              "                                                                                                                                                                                                                                                                                                                   romanian  \n",
              "2013712                                                                                                                               În aceeași ordine de idei, DG TAXUD trebuie să dispună de personal suficient pentru a putea menține un nivel ridicat de motivație în lupta crucială împotriva fraudei și a evaziunii.  \n",
              "1668135                                                                              Statele membre nu oferă stimulente cu privire la pneurile aflate sub nivelul de eficiență a consumului de combustibil sau sub nivelul de aderență la teren umed specifice clasei C în sensul anexei I partea A și respectiv partea B .  \n",
              "1779798                                                                                                                                                                                                                                                                                          - modelul pentru sigla UE;  \n",
              "2643878  subliniază că securitatea regională este atât în interesul UE, cât și al altor actori din zonă, și anume, Federația Rusă, China și SUA, care sunt toate preocupate de creșterea instabilității și a radicalizării în regiune, precum și de frontierele nesigure cu Afganistanul și de traficul de droguri aferent;  \n",
              "2122792                                                                                                                                                                   Ce măsuri are în vedere Comisia pentru împiedicarea discriminării românilor și respectarea normelor Directivei 2004/38/CE JO L 158, 30.4.2004, p.  \n",
              "1741063                                                                                                                                                                                                        Din februarie 2008, este membră a grupului CEAD (coordonare, comunicare, evaluare, asigurare şi dezvoltare).  \n",
              "60065                                                                                                                                                                                                                                                                           Declaraţii ale Consiliului şi ale Comisiei:  \n",
              "1901989                                                                                                                                          (i) după caz, existența și condițiile aferente avansurilor sau altor garanții financiare care trebuie să fie plătite sau oferite de consumator la cererea comerciantului ;  \n",
              "1908304                                                                                                                                                                                                                                                                                       Secțiunea 2Competențele AEVMP  \n",
              "2548431                                                                                                             salută inițiativa Agenției de a-și revizui procedurile bugetare și circuitele financiare asociate, de a desemna ordonatori de credite și de a investi în formarea personalului în gestiunea financiară;  "
            ],
            "text/html": "<div>\n<style scoped>\n    .dataframe tbody tr th:only-of-type {\n        vertical-align: middle;\n    }\n\n    .dataframe tbody tr th {\n        vertical-align: top;\n    }\n\n    .dataframe thead th {\n        text-align: right;\n    }\n</style>\n<table border=\"1\" class=\"dataframe\">\n  <thead>\n    <tr style=\"text-align: right;\">\n      <th></th>\n      <th>english</th>\n      <th>romanian</th>\n    </tr>\n  </thead>\n  <tbody>\n    <tr>\n      <th>2013712</th>\n      <td>In a related field, DG TAXUD must be adequately staffed to be able to maintain a high level of ambition in the crucial fight against tax fraud and evasion.</td>\n      <td>În aceeași ordine de idei, DG TAXUD trebuie să dispună de personal suficient pentru a putea menține un nivel ridicat de motivație în lupta crucială împotriva fraudei și a evaziunii.</td>\n    </tr>\n    <tr>\n      <th>1668135</th>\n      <td>Member States shall not provide incentives with regard to tyres below class C with respect to either fuel efficiency level or wet grip within the meaning of Annex I , Part s A and B respectively .</td>\n      <td>Statele membre nu oferă stimulente cu privire la pneurile aflate sub nivelul de eficiență a consumului de combustibil sau sub nivelul de aderență la teren umed specifice clasei C în sensul anexei I partea A și respectiv partea B .</td>\n    </tr>\n    <tr>\n      <th>1779798</th>\n      <td>- the model of the EU logo,</td>\n      <td>- modelul pentru sigla UE;</td>\n    </tr>\n    <tr>\n      <th>2643878</th>\n      <td>Stresses that regional security is in the interests both of the EU and of the other actors in the area, namely the Russian Federation, China and the United States, which are all concerned about growing instability and radicalisation in the region as well as porous frontiers with Afghanistan and the resulting drug-trafficking;</td>\n      <td>subliniază că securitatea regională este atât în interesul UE, cât și al altor actori din zonă, și anume, Federația Rusă, China și SUA, care sunt toate preocupate de creșterea instabilității și a radicalizării în regiune, precum și de frontierele nesigure cu Afganistanul și de traficul de droguri aferent;</td>\n    </tr>\n    <tr>\n      <th>2122792</th>\n      <td>What measures does the Commission intend to take to prevent discrimination against Romanians and ensure compliance by the Italian Government with Directive 2004/38/EC OJ L 158, 30.4.2004, p.</td>\n      <td>Ce măsuri are în vedere Comisia pentru împiedicarea discriminării românilor și respectarea normelor Directivei 2004/38/CE JO L 158, 30.4.2004, p.</td>\n    </tr>\n    <tr>\n      <th>1741063</th>\n      <td>Since February 2008 she has been a Member of the CEAD Group (Coordination, Communication, Evaluation, Assurance and Development).</td>\n      <td>Din februarie 2008, este membră a grupului CEAD (coordonare, comunicare, evaluare, asigurare şi dezvoltare).</td>\n    </tr>\n    <tr>\n      <th>60065</th>\n      <td>Council and Commission statements:</td>\n      <td>Declaraţii ale Consiliului şi ale Comisiei:</td>\n    </tr>\n    <tr>\n      <th>1901989</th>\n      <td>(i) where applicable, the existence and the conditions of deposits or other financial guarantees to be paid or provided by the consumer at the request of the trader;</td>\n      <td>(i) după caz, existența și condițiile aferente avansurilor sau altor garanții financiare care trebuie să fie plătite sau oferite de consumator la cererea comerciantului ;</td>\n    </tr>\n    <tr>\n      <th>1908304</th>\n      <td>Section 2Powers of ESMA</td>\n      <td>Secțiunea 2Competențele AEVMP</td>\n    </tr>\n    <tr>\n      <th>2548431</th>\n      <td>Welcomes the Agency's initiative to revise its budgetary procedures and associated financial circuits, to designate authorising officers and invest in staff training on financial management;</td>\n      <td>salută inițiativa Agenției de a-și revizui procedurile bugetare și circuitele financiare asociate, de a desemna ordonatori de credite și de a investi în formarea personalului în gestiunea financiară;</td>\n    </tr>\n  </tbody>\n</table>\n</div>"
          },
          "metadata": {},
          "execution_count": 45
        }
      ]
    },
    {
      "cell_type": "code",
      "execution_count": 20,
      "metadata": {},
      "outputs": [],
      "source": [
        "#remove those entries from the bigger df which are now contained in dev or test\n",
        "basic_train=df.drop(test.index)\n",
        "basic_cleaning_train=basic_train.drop(dev.index)\n",
        "basic_cleaning_train.shape"
      ]
    },
    {
      "source": [
        "## Too strict!\n",
        "\n",
        "* By applying all possible rules from the bicleaner tool, filtering was too strict. Disable some rules in bicleaner_hardrules.py and run bicleaner again. \n",
        "* The output was bisentences_787895_less_rules.txt which contained 614480 keep sent pairs\n",
        "\n",
        "(remark: we disabled some rules instead of just selecting from df, because some sentences matched more than one rule)\n"
      ],
      "cell_type": "markdown",
      "metadata": {}
    },
    {
      "cell_type": "code",
      "execution_count": 5,
      "metadata": {},
      "outputs": [
        {
          "output_type": "execute_result",
          "data": {
            "text/plain": [
              "                                                   english  \\\n",
              "0                                  ORAL QUESTION H-0336/07   \n",
              "1        for Question Time at the part-session in May 2007   \n",
              "2           pursuant to Rule 109 of the Rules of Procedure   \n",
              "3                                                       by   \n",
              "5                                           to the Council   \n",
              "...                                                    ...   \n",
              "2668799  Calls on the Commission to take into considera...   \n",
              "2668801  Instructs its President to forward this declar...   \n",
              "2668802  , to the Commission and to the Parliaments of ...   \n",
              "2668803                           The Week : 01-01-2004(s)   \n",
              "2668807                           The Week : 01-01-2005(s)   \n",
              "\n",
              "                                                  romanian  yesno reason  \n",
              "0                                ÎNTREBARE ORALĂ H-0336/07      1   keep  \n",
              "1        pentru timpul afectat întrebărilor din perioad...      1   keep  \n",
              "2        în conformitate cu articolul 109 din Regulamen...      1   keep  \n",
              "3                                                       de      1   keep  \n",
              "5                                              Consiliului      1   keep  \n",
              "...                                                    ...    ...    ...  \n",
              "2668799  invită Comisia să ia în considerare rezultatel...      1   keep  \n",
              "2668801  încredințează Președintelui sarcina de a trans...      1   keep  \n",
              "2668802       , Comisiei și parlamentelor statelor membre.      1   keep  \n",
              "2668803                    \"\"\"Săptămâna\"\" : 01-01-2004(s)\"      1   keep  \n",
              "2668807                    \"\"\"Săptămâna\"\" : 01-01-2005(s)\"      1   keep  \n",
              "\n",
              "[614480 rows x 4 columns]"
            ],
            "text/html": "<div>\n<style scoped>\n    .dataframe tbody tr th:only-of-type {\n        vertical-align: middle;\n    }\n\n    .dataframe tbody tr th {\n        vertical-align: top;\n    }\n\n    .dataframe thead th {\n        text-align: right;\n    }\n</style>\n<table border=\"1\" class=\"dataframe\">\n  <thead>\n    <tr style=\"text-align: right;\">\n      <th></th>\n      <th>english</th>\n      <th>romanian</th>\n      <th>yesno</th>\n      <th>reason</th>\n    </tr>\n  </thead>\n  <tbody>\n    <tr>\n      <th>0</th>\n      <td>ORAL QUESTION H-0336/07</td>\n      <td>ÎNTREBARE ORALĂ H-0336/07</td>\n      <td>1</td>\n      <td>keep</td>\n    </tr>\n    <tr>\n      <th>1</th>\n      <td>for Question Time at the part-session in May 2007</td>\n      <td>pentru timpul afectat întrebărilor din perioad...</td>\n      <td>1</td>\n      <td>keep</td>\n    </tr>\n    <tr>\n      <th>2</th>\n      <td>pursuant to Rule 109 of the Rules of Procedure</td>\n      <td>în conformitate cu articolul 109 din Regulamen...</td>\n      <td>1</td>\n      <td>keep</td>\n    </tr>\n    <tr>\n      <th>3</th>\n      <td>by</td>\n      <td>de</td>\n      <td>1</td>\n      <td>keep</td>\n    </tr>\n    <tr>\n      <th>5</th>\n      <td>to the Council</td>\n      <td>Consiliului</td>\n      <td>1</td>\n      <td>keep</td>\n    </tr>\n    <tr>\n      <th>...</th>\n      <td>...</td>\n      <td>...</td>\n      <td>...</td>\n      <td>...</td>\n    </tr>\n    <tr>\n      <th>2668799</th>\n      <td>Calls on the Commission to take into considera...</td>\n      <td>invită Comisia să ia în considerare rezultatel...</td>\n      <td>1</td>\n      <td>keep</td>\n    </tr>\n    <tr>\n      <th>2668801</th>\n      <td>Instructs its President to forward this declar...</td>\n      <td>încredințează Președintelui sarcina de a trans...</td>\n      <td>1</td>\n      <td>keep</td>\n    </tr>\n    <tr>\n      <th>2668802</th>\n      <td>, to the Commission and to the Parliaments of ...</td>\n      <td>, Comisiei și parlamentelor statelor membre.</td>\n      <td>1</td>\n      <td>keep</td>\n    </tr>\n    <tr>\n      <th>2668803</th>\n      <td>The Week : 01-01-2004(s)</td>\n      <td>\"\"\"Săptămâna\"\" : 01-01-2004(s)\"</td>\n      <td>1</td>\n      <td>keep</td>\n    </tr>\n    <tr>\n      <th>2668807</th>\n      <td>The Week : 01-01-2005(s)</td>\n      <td>\"\"\"Săptămâna\"\" : 01-01-2005(s)\"</td>\n      <td>1</td>\n      <td>keep</td>\n    </tr>\n  </tbody>\n</table>\n<p>614480 rows × 4 columns</p>\n</div>"
          },
          "metadata": {},
          "execution_count": 5
        }
      ],
      "source": [
        "#here very long sentences are included >=1024 characters long\n",
        "df_ann_less_rules=pd.read_csv(os.path.join(os.pardir,\"/home/bernadeta/BA_code/annotated_bisentences_787895_less_rules.txt\"), sep=\"\\t\", names=['english', 'romanian', 'yesno', 'reason'], quoting=3)\n",
        "df_ann_less_keep=df_ann_less_rules.loc[df_ann_less_rules['reason']=='keep']\n",
        "df_ann_less_keep\n"
      ]
    },
    {
      "cell_type": "code",
      "execution_count": 6,
      "metadata": {},
      "outputs": [
        {
          "output_type": "execute_result",
          "data": {
            "text/plain": [
              "    yesno                                             reason   count\n",
              "16      1                                               keep  614480\n",
              "2       0                                        c_identical  131821\n",
              "4       0                         c_length or c_length_bytes   14859\n",
              "1       0                               c_different_language   11074\n",
              "13      0        c_reliable_long_language(right, targetlang)    7744\n",
              "3       0                              c_identical_wo_digits    3644\n",
              "12      0         c_reliable_long_language(left, sourcelang)    1485\n",
              "10      0                                    c_no_urls(left)    1478\n",
              "5       0                             c_no_glued_words(left)     385\n",
              "8       0                             c_no_space_noise(left)     314\n",
              "9       0                            c_no_space_noise(right)     264\n",
              "14      0                                   c_unwanted(left)     190\n",
              "11      0                                   c_no_urls(right)     113\n",
              "15      0                                  c_unwanted(right)      25\n",
              "6       0                            c_no_glued_words(right)      12\n",
              "7       0                       c_no_literals(['Re:'], left)       4\n",
              "0       0  args.source_lang in safe_noise_detection_langs...       3"
            ],
            "text/html": "<div>\n<style scoped>\n    .dataframe tbody tr th:only-of-type {\n        vertical-align: middle;\n    }\n\n    .dataframe tbody tr th {\n        vertical-align: top;\n    }\n\n    .dataframe thead th {\n        text-align: right;\n    }\n</style>\n<table border=\"1\" class=\"dataframe\">\n  <thead>\n    <tr style=\"text-align: right;\">\n      <th></th>\n      <th>yesno</th>\n      <th>reason</th>\n      <th>count</th>\n    </tr>\n  </thead>\n  <tbody>\n    <tr>\n      <th>16</th>\n      <td>1</td>\n      <td>keep</td>\n      <td>614480</td>\n    </tr>\n    <tr>\n      <th>2</th>\n      <td>0</td>\n      <td>c_identical</td>\n      <td>131821</td>\n    </tr>\n    <tr>\n      <th>4</th>\n      <td>0</td>\n      <td>c_length or c_length_bytes</td>\n      <td>14859</td>\n    </tr>\n    <tr>\n      <th>1</th>\n      <td>0</td>\n      <td>c_different_language</td>\n      <td>11074</td>\n    </tr>\n    <tr>\n      <th>13</th>\n      <td>0</td>\n      <td>c_reliable_long_language(right, targetlang)</td>\n      <td>7744</td>\n    </tr>\n    <tr>\n      <th>3</th>\n      <td>0</td>\n      <td>c_identical_wo_digits</td>\n      <td>3644</td>\n    </tr>\n    <tr>\n      <th>12</th>\n      <td>0</td>\n      <td>c_reliable_long_language(left, sourcelang)</td>\n      <td>1485</td>\n    </tr>\n    <tr>\n      <th>10</th>\n      <td>0</td>\n      <td>c_no_urls(left)</td>\n      <td>1478</td>\n    </tr>\n    <tr>\n      <th>5</th>\n      <td>0</td>\n      <td>c_no_glued_words(left)</td>\n      <td>385</td>\n    </tr>\n    <tr>\n      <th>8</th>\n      <td>0</td>\n      <td>c_no_space_noise(left)</td>\n      <td>314</td>\n    </tr>\n    <tr>\n      <th>9</th>\n      <td>0</td>\n      <td>c_no_space_noise(right)</td>\n      <td>264</td>\n    </tr>\n    <tr>\n      <th>14</th>\n      <td>0</td>\n      <td>c_unwanted(left)</td>\n      <td>190</td>\n    </tr>\n    <tr>\n      <th>11</th>\n      <td>0</td>\n      <td>c_no_urls(right)</td>\n      <td>113</td>\n    </tr>\n    <tr>\n      <th>15</th>\n      <td>0</td>\n      <td>c_unwanted(right)</td>\n      <td>25</td>\n    </tr>\n    <tr>\n      <th>6</th>\n      <td>0</td>\n      <td>c_no_glued_words(right)</td>\n      <td>12</td>\n    </tr>\n    <tr>\n      <th>7</th>\n      <td>0</td>\n      <td>c_no_literals(['Re:'], left)</td>\n      <td>4</td>\n    </tr>\n    <tr>\n      <th>0</th>\n      <td>0</td>\n      <td>args.source_lang in safe_noise_detection_langs...</td>\n      <td>3</td>\n    </tr>\n  </tbody>\n</table>\n</div>"
          },
          "metadata": {},
          "execution_count": 6
        }
      ],
      "source": [
        "df_less_rules_reason=df_ann_less_rules.groupby(['yesno', 'reason'])['english'].count().reset_index(name='count') \\\n",
        "                             .sort_values(['count'], ascending=False)\n",
        "\n",
        "df_less_rules_reason"
      ]
    },
    {
      "cell_type": "code",
      "execution_count": 37,
      "metadata": {},
      "outputs": [
        {
          "output_type": "execute_result",
          "data": {
            "text/plain": [
              "                                                                                                                                                                                                                                                                                                                                            english  \\\n",
              "89415                                                                                                                                                                                                                                               The Transport Committee is tabling two reports designed to raise standards of maritime safety .   \n",
              "2443371                                                                                                                                     Welcomes affirmations by the Commission that any ACTA agreement will be limited to the enforcement of existing IPRs, with no prejudice for the development of substantive IP law in the European Union;   \n",
              "494471                                                                                                                                                                                                                                                                                                                     Adopted by EP: 23.3.2006   \n",
              "2310439                                                                                                                                                                                                                                                                                         rules for ensuring compliance with the obligations;   \n",
              "2173782                                                                                                                                                                                      exercising its authority to conduct supplementary surveys to ensure that ships entitled to fly its flag in fact comply with mandatory IMO instruments;   \n",
              "1609862                                                                                                                                                                                                                                  It would be logical for the use of methyl bromide also to be prohibited in the context of this Regulation.   \n",
              "1680540                                                                                                                                                                                                                                                           The technical resources count for the accomplishment of effective nuclear safety.   \n",
              "2138288                                                                                                                                   A technical dossier contains all the necessary data, including toxicological studies, which must be provided by the notifier, who has the burden of proof to demonstrate acceptable use of its substance.   \n",
              "1984247  B) Whereas the Austrian authorities argue that the redundancies were caused by globalisation and major structural changes in the production of mobile phones and devices which was relocated to Asia, in particular China, and in consequence, the production of printed circuit boards (PCBs) followed the same trend (proximity factor);   \n",
              "2126188                                                                                                                                                                               All EU financed projects comply with the eligibility rules of the Instrument for Pre-accession Assistance (IPA) Regulation and related programming documents.   \n",
              "\n",
              "                                                                                                                                                                                                                                                                                                                                         romanian  \n",
              "89415                                                                                                                                                                                                                  Comisia pentru Transport va prezenta două rapoarte privind îmbunătăţirea standardelor de siguranţă în transportul maritim.  \n",
              "2443371                                                                                                                 salută declarațiile Comisiei conform cărora orice acord ACTA se va limita la aplicarea DPI existente, fără a prejudicia elaborarea normelor de drept material în domeniul proprietății intelectuale în Uniunea Europeană;  \n",
              "494471                                                                                                                                                                                                                                                                                                      Adoptarea de către PE: 2 aprilie 2009  \n",
              "2310439                                                                                                                                                                                                                                                                                       normele pentru garantarea respectării obligaţiilor;  \n",
              "2173782                                                                                                                                                           exercitarea puterii sale de a derula controale suplimentare pentru a se asigura că navele care au dreptul să îi arboreze pavilionul respectă instrumentele obligatorii ale OMI;  \n",
              "1609862                                                                                                                                                                                                                             Ar fi logic ca utilizarea bromurii de metil să fie de asemenea interzisă în contextul prezentului regulament.  \n",
              "1680540                                                                                                                                                                                                                                                        Resursele tehnice sunt importante pentru obținerea unei securități nucleare reale.  \n",
              "2138288                                                                                                                 Un dosar tehnic conține toate datele necesare, inclusiv studiile toxicologice, care trebuie să fie furnizate de către solicitant, căruia îi revine sarcina de a demonstra că utilizarea substanței sale este acceptabilă.  \n",
              "1984247  B) întrucât autoritățile austriece afirmă că aceste concedieri sunt rezultatul globalizării și al modificărilor structurale majore în producția de telefoane și dispozitive mobile, delocalizată în Asia, mai ales în China, și, prin urmare, producția de plăci cu circuite imprimate a urmat aceeași tendință (factor de proximitate);  \n",
              "2126188                                                                                                                                       Toate proiectele finanțate de UE sunt conforme cu normele de eligibilitate ale Regulamentului privind Instrumentul de asistență pentru preaderare (IPA) și ale documentelor de programare aferente.  "
            ],
            "text/html": "<div>\n<style scoped>\n    .dataframe tbody tr th:only-of-type {\n        vertical-align: middle;\n    }\n\n    .dataframe tbody tr th {\n        vertical-align: top;\n    }\n\n    .dataframe thead th {\n        text-align: right;\n    }\n</style>\n<table border=\"1\" class=\"dataframe\">\n  <thead>\n    <tr style=\"text-align: right;\">\n      <th></th>\n      <th>english</th>\n      <th>romanian</th>\n    </tr>\n  </thead>\n  <tbody>\n    <tr>\n      <th>89415</th>\n      <td>The Transport Committee is tabling two reports designed to raise standards of maritime safety .</td>\n      <td>Comisia pentru Transport va prezenta două rapoarte privind îmbunătăţirea standardelor de siguranţă în transportul maritim.</td>\n    </tr>\n    <tr>\n      <th>2443371</th>\n      <td>Welcomes affirmations by the Commission that any ACTA agreement will be limited to the enforcement of existing IPRs, with no prejudice for the development of substantive IP law in the European Union;</td>\n      <td>salută declarațiile Comisiei conform cărora orice acord ACTA se va limita la aplicarea DPI existente, fără a prejudicia elaborarea normelor de drept material în domeniul proprietății intelectuale în Uniunea Europeană;</td>\n    </tr>\n    <tr>\n      <th>494471</th>\n      <td>Adopted by EP: 23.3.2006</td>\n      <td>Adoptarea de către PE: 2 aprilie 2009</td>\n    </tr>\n    <tr>\n      <th>2310439</th>\n      <td>rules for ensuring compliance with the obligations;</td>\n      <td>normele pentru garantarea respectării obligaţiilor;</td>\n    </tr>\n    <tr>\n      <th>2173782</th>\n      <td>exercising its authority to conduct supplementary surveys to ensure that ships entitled to fly its flag in fact comply with mandatory IMO instruments;</td>\n      <td>exercitarea puterii sale de a derula controale suplimentare pentru a se asigura că navele care au dreptul să îi arboreze pavilionul respectă instrumentele obligatorii ale OMI;</td>\n    </tr>\n    <tr>\n      <th>1609862</th>\n      <td>It would be logical for the use of methyl bromide also to be prohibited in the context of this Regulation.</td>\n      <td>Ar fi logic ca utilizarea bromurii de metil să fie de asemenea interzisă în contextul prezentului regulament.</td>\n    </tr>\n    <tr>\n      <th>1680540</th>\n      <td>The technical resources count for the accomplishment of effective nuclear safety.</td>\n      <td>Resursele tehnice sunt importante pentru obținerea unei securități nucleare reale.</td>\n    </tr>\n    <tr>\n      <th>2138288</th>\n      <td>A technical dossier contains all the necessary data, including toxicological studies, which must be provided by the notifier, who has the burden of proof to demonstrate acceptable use of its substance.</td>\n      <td>Un dosar tehnic conține toate datele necesare, inclusiv studiile toxicologice, care trebuie să fie furnizate de către solicitant, căruia îi revine sarcina de a demonstra că utilizarea substanței sale este acceptabilă.</td>\n    </tr>\n    <tr>\n      <th>1984247</th>\n      <td>B) Whereas the Austrian authorities argue that the redundancies were caused by globalisation and major structural changes in the production of mobile phones and devices which was relocated to Asia, in particular China, and in consequence, the production of printed circuit boards (PCBs) followed the same trend (proximity factor);</td>\n      <td>B) întrucât autoritățile austriece afirmă că aceste concedieri sunt rezultatul globalizării și al modificărilor structurale majore în producția de telefoane și dispozitive mobile, delocalizată în Asia, mai ales în China, și, prin urmare, producția de plăci cu circuite imprimate a urmat aceeași tendință (factor de proximitate);</td>\n    </tr>\n    <tr>\n      <th>2126188</th>\n      <td>All EU financed projects comply with the eligibility rules of the Instrument for Pre-accession Assistance (IPA) Regulation and related programming documents.</td>\n      <td>Toate proiectele finanțate de UE sunt conforme cu normele de eligibilitate ale Regulamentului privind Instrumentul de asistență pentru preaderare (IPA) și ale documentelor de programare aferente.</td>\n    </tr>\n  </tbody>\n</table>\n</div>"
          },
          "metadata": {},
          "execution_count": 37
        }
      ],
      "source": [
        "df_ann_less_keep=df_ann_less_keep[[\"english\", \"romanian\"]]\n",
        "df_ann_less_keep.sample(n=10)"
      ]
    },
    {
      "cell_type": "code",
      "execution_count": 55,
      "metadata": {},
      "outputs": [
        {
          "output_type": "execute_result",
          "data": {
            "text/plain": [
              "(610480, 2)"
            ]
          },
          "metadata": {},
          "execution_count": 55
        }
      ],
      "source": [
        "#remove dev and test entries from df_ann_less_keep\n",
        "train_less_notest=df_ann_less_keep.drop(test.index)\n",
        "train_less_nodev=train_less_notest.drop(dev.index)\n",
        "train_less_nodev.shape"
      ]
    },
    {
      "source": [
        "## Write all df's to files"
      ],
      "cell_type": "markdown",
      "metadata": {}
    },
    {
      "cell_type": "code",
      "metadata": {
        "colab": {
          "base_uri": "https://localhost:8080/"
        },
        "id": "odG2qB6kNbT9",
        "outputId": "2527abd2-2318-476d-c3e6-f1d86977f9e6"
      },
      "source": [
        "#write bicleaner cleaned df's to files \n",
        "source_train=train.iloc[:,0]\n",
        "target_train=train.iloc[:,1]\n",
        "#size 570034\n",
        "source_train.to_csv (os.path.join(os.pardir,\"/data/02-preprocessed/bicleaner_cleaned/bicleaner_source_train.txt\") , index = None, header = False)\n",
        "target_train.to_csv (os.path.join(os.pardir,\"/data/02-preprocessed/bicleaner_cleaned/bicleaner_target_train.txt\") , index = None, header = False)\n",
        "\n",
        "source_test=test.iloc[:,0]\n",
        "target_test=test.iloc[:,1]\n",
        "\n",
        "source_test.to_csv (os.path.join(os.pardir,\"/data/02-preprocessed/bicleaner_cleaned/bicleaner_source_test.txt\") , index = None, header = False)\n",
        "target_test.to_csv (os.path.join(os.pardir,\"/data/02-preprocessed/bicleaner_cleaned/bicleaner_target_test.txt\") , index = None, header = False)\n",
        "\n",
        "source_dev=dev.iloc[:,0]\n",
        "target_dev=dev.iloc[:,1]\n",
        "\n",
        "source_dev.to_csv (os.path.join(os.pardir,\"/data/02-preprocessed/bicleaner_cleaned/bicleaner_source_dev.txt\") , index = None, header = False)\n",
        "target_dev.to_csv (os.path.join(os.pardir,\"/data/02-preprocessed/bicleaner_cleaned/bicleaner_target_dev.txt\") , index = None, header = False)"
      ],
      "execution_count": 33,
      "outputs": []
    },
    {
      "cell_type": "code",
      "execution_count": 39,
      "metadata": {},
      "outputs": [],
      "source": [
        "#write basic_cleaning df's to files size 783895\n",
        "source_train_basic=basic_cleaning_train.iloc[:,0]\n",
        "target_train_basic=basic_cleaning_train.iloc[:,1]\n",
        "\n",
        "source_train_basic.to_csv (os.path.join(os.pardir,\"/data/02-preprocessed/basic_cleaned/basic_source_train.txt\") , index = None, header = False)\n",
        "target_train_basic.to_csv (os.path.join(os.pardir,\"/data/02-preprocessed/basic_cleaned/basic_target_train.txt\") , index = None, header = False)"
      ]
    },
    {
      "cell_type": "code",
      "execution_count": 58,
      "metadata": {},
      "outputs": [],
      "source": [
        "#write less rules df's to files size 610480\n",
        "source_train_less_rules=train_less_nodev.iloc[:,0]\n",
        "target_train_less_rules=train_less_nodev.iloc[:,1]\n",
        "\n",
        "source_train_less_rules.to_csv (\"/home/bernadeta/BA_code/data/02-preprocessed/less_rules/less_source_train.txt\" , index = None, header = False)\n",
        "target_train_less_rules.to_csv (\"/home/bernadeta/BA_code/data/02-preprocessed/less_rules/less_target_train.txt\" , index = None, header = False)"
      ]
    },
    {
      "cell_type": "code",
      "execution_count": 59,
      "metadata": {},
      "outputs": [
        {
          "output_type": "stream",
          "name": "stdout",
          "text": [
            "   610480 /home/bernadeta/BA_code/data/02-preprocessed/less_rules/less_source_train.txt\n",
            "   610480 /home/bernadeta/BA_code/data/02-preprocessed/less_rules/less_target_train.txt\n",
            "  1220960 insgesamt\n"
          ]
        }
      ],
      "source": [
        "!wc -l /home/bernadeta/BA_code/data/02-preprocessed/less_rules/*"
      ]
    },
    {
      "cell_type": "code",
      "execution_count": null,
      "metadata": {},
      "outputs": [],
      "source": []
    }
  ]
}